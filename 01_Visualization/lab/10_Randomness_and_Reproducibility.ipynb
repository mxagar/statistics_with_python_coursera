{
 "cells": [
  {
   "cell_type": "markdown",
   "id": "8570fcd9-9595-4664-adea-fe13604104d5",
   "metadata": {},
   "source": [
    "# Randomness and Reproducibility"
   ]
  },
  {
   "cell_type": "markdown",
   "id": "6d6e4710-563f-4ee4-8a13-595cf7377d8d",
   "metadata": {},
   "source": [
    "In python we have a **pseudo-random number generator** (PRNG), which creates a sequence of (pseudo) random number given a random seed selected by the user. One given seed produces the same sequence of (pseudo) random numbers; hence, we can repoduce randomness."
   ]
  },
  {
   "cell_type": "code",
   "execution_count": 1,
   "id": "f022fecf-dd0e-4eb1-b1a8-2d0801ba1a0c",
   "metadata": {},
   "outputs": [],
   "source": [
    "import random"
   ]
  },
  {
   "cell_type": "code",
   "execution_count": 8,
   "id": "27f9e25f-be1d-47d9-a2e9-8d2a3943ad2a",
   "metadata": {},
   "outputs": [
    {
     "data": {
      "text/plain": [
       "0.9664535356921388"
      ]
     },
     "execution_count": 8,
     "metadata": {},
     "output_type": "execute_result"
    }
   ],
   "source": [
    "random.seed(1234)\n",
    "# First random number in sequence\n",
    "random.random()"
   ]
  },
  {
   "cell_type": "code",
   "execution_count": 9,
   "id": "5ee8ac17-0553-4a44-991b-4c9280a64cd5",
   "metadata": {},
   "outputs": [
    {
     "data": {
      "text/plain": [
       "0.4407325991753527"
      ]
     },
     "execution_count": 9,
     "metadata": {},
     "output_type": "execute_result"
    }
   ],
   "source": [
    "# Second random number in sequence\n",
    "random.random()"
   ]
  },
  {
   "cell_type": "code",
   "execution_count": 7,
   "id": "cc76e443-4267-4265-a60f-ac6b9bc105ed",
   "metadata": {},
   "outputs": [
    {
     "data": {
      "text/plain": [
       "0.9664535356921388"
      ]
     },
     "execution_count": 7,
     "metadata": {},
     "output_type": "execute_result"
    }
   ],
   "source": [
    "# When we re-define the same seed, the same sequence starts again!\n",
    "random.seed(1234)\n",
    "random.random()"
   ]
  },
  {
   "cell_type": "code",
   "execution_count": 14,
   "id": "e90dfde2-577d-4354-b16a-c5df5307dcda",
   "metadata": {},
   "outputs": [
    {
     "data": {
      "text/plain": [
       "27.223220749766558"
      ]
     },
     "execution_count": 14,
     "metadata": {},
     "output_type": "execute_result"
    }
   ],
   "source": [
    "# Uniform random number\n",
    "random.uniform(25,50)"
   ]
  },
  {
   "cell_type": "code",
   "execution_count": 15,
   "id": "0f9417c7-250f-417e-8b13-a21380427b4f",
   "metadata": {},
   "outputs": [
    {
     "data": {
      "text/plain": [
       "[0.5790026861873665,\n",
       " 0.26958550381944824,\n",
       " 0.5564325605562156,\n",
       " 0.6446342341782827,\n",
       " 0.48103637136651844,\n",
       " 0.35523914744298335,\n",
       " 0.249152121361209,\n",
       " 0.9335154980423467,\n",
       " 0.45338801947649354,\n",
       " 0.5301612069115903]"
      ]
     },
     "execution_count": 15,
     "metadata": {},
     "output_type": "execute_result"
    }
   ],
   "source": [
    "# List of uniformly distirbuted random number\n",
    "unifNumbers = [random.uniform(0,1) for _ in range(10)]\n",
    "unifNumbers"
   ]
  },
  {
   "cell_type": "code",
   "execution_count": 16,
   "id": "13474968-41d7-41b2-9ddd-71ab36621113",
   "metadata": {},
   "outputs": [
    {
     "data": {
      "text/plain": [
       "-1.676475241982295"
      ]
     },
     "execution_count": 16,
     "metadata": {},
     "output_type": "execute_result"
    }
   ],
   "source": [
    "# Normal random number\n",
    "mu = 0\n",
    "sigma = 1\n",
    "random.normalvariate(mu, sigma)"
   ]
  },
  {
   "cell_type": "markdown",
   "id": "1765a90e-c54f-4b3b-873c-665c5183f4df",
   "metadata": {},
   "source": [
    "### Random Sampling from a Population"
   ]
  },
  {
   "cell_type": "code",
   "execution_count": 34,
   "id": "bb0c305e-37a6-4875-b874-a681761ff78e",
   "metadata": {},
   "outputs": [],
   "source": [
    "import random\n",
    "import numpy as np"
   ]
  },
  {
   "cell_type": "code",
   "execution_count": 35,
   "id": "80ae7c50-8c1d-41d8-873e-91880aeccad2",
   "metadata": {},
   "outputs": [],
   "source": [
    "# We create a normally distribution of measurements for a population\n",
    "mu = 0\n",
    "sigma = 1\n",
    "population = [random.normalvariate(mu, sigma) for _ in range(10000)]"
   ]
  },
  {
   "cell_type": "code",
   "execution_count": 36,
   "id": "c744bf07-6a0d-423d-a94e-2a92fc99dbe6",
   "metadata": {},
   "outputs": [],
   "source": [
    "# We get two samples of 500 units/measurements each\n",
    "sampleA = random.sample(population, 500)\n",
    "sampleB = random.sample(population, 500)"
   ]
  },
  {
   "cell_type": "code",
   "execution_count": 37,
   "id": "9f79fd9c-8ad9-4085-8de7-221dcea241f2",
   "metadata": {},
   "outputs": [
    {
     "name": "stdout",
     "output_type": "stream",
     "text": [
      "-0.01887093025319796\n",
      "1.025757255228497\n",
      "-0.030655082826115447\n",
      "1.0389949856742682\n"
     ]
    }
   ],
   "source": [
    "# Sample means should be similar to the population mean,\n",
    "# as well as the standard deviation\n",
    "print(np.mean(sampleA))\n",
    "print(np.std(sampleA))\n",
    "print(np.mean(sampleB))\n",
    "print(np.std(sampleB))"
   ]
  },
  {
   "cell_type": "code",
   "execution_count": 38,
   "id": "8cedd45c-76fe-446e-8cdd-5513c4de81c9",
   "metadata": {},
   "outputs": [
    {
     "name": "stdout",
     "output_type": "stream",
     "text": [
      "-0.0025898174345457044\n",
      "0.998534878086858\n"
     ]
    }
   ],
   "source": [
    "# Sampling distirbution: pick 100 samples of 1000 units (sample size) each\n",
    "# Note that the mean of the standard deviations is computed, not the std of the means\n",
    "# The std of the means refers to the spread of the sampling distirbution\n",
    "means = [np.mean(random.sample(Population, 1000)) for _ in range(100)]\n",
    "stds = [np.std(random.sample(Population, 1000)) for _ in range(100)]\n",
    "# The mean of the sampling distirbution \n",
    "print(np.mean(means))\n",
    "print(np.mean(stds))"
   ]
  },
  {
   "cell_type": "code",
   "execution_count": 45,
   "id": "821c252e-b514-42f1-9070-39f29ea24b1c",
   "metadata": {},
   "outputs": [
    {
     "name": "stdout",
     "output_type": "stream",
     "text": [
      "[ 98.9143694  100.99734545 100.2829785 ]\n"
     ]
    }
   ],
   "source": [
    "# It is also possible to use numpy\n",
    "import numpy as np\n",
    "np.random.seed(123)\n",
    "mu = 100\n",
    "sigma = 1\n",
    "sample = np.random.normal(mu, sigma, 3)\n",
    "print(sample)"
   ]
  },
  {
   "cell_type": "code",
   "execution_count": 46,
   "id": "8bfd78e0-4c5c-4ee2-907b-088ead081681",
   "metadata": {},
   "outputs": [
    {
     "name": "stdout",
     "output_type": "stream",
     "text": [
      "[43, 44, 7, 21, 18, 72, 90, 32, 1, 56]\n",
      "[84 58 87 98 97 48 74 33 47 97]\n"
     ]
    }
   ],
   "source": [
    "# Sampling\n",
    "population = np.arange(1,101)\n",
    "#sample = np.random.choice(population,10)\n",
    "sample = random.sample(list(population),10)\n",
    "print(sample)\n",
    "sample = np.random.choice(population,10)\n",
    "print(sample)"
   ]
  },
  {
   "cell_type": "code",
   "execution_count": null,
   "id": "b0a3de96-3ca0-4bb4-9301-5d3a9fd41bed",
   "metadata": {},
   "outputs": [],
   "source": []
  }
 ],
 "metadata": {
  "kernelspec": {
   "display_name": "Python 3 (ipykernel)",
   "language": "python",
   "name": "python3"
  },
  "language_info": {
   "codemirror_mode": {
    "name": "ipython",
    "version": 3
   },
   "file_extension": ".py",
   "mimetype": "text/x-python",
   "name": "python",
   "nbconvert_exporter": "python",
   "pygments_lexer": "ipython3",
   "version": "3.7.11"
  }
 },
 "nbformat": 4,
 "nbformat_minor": 5
}
