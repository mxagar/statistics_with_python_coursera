{
 "cells": [
  {
   "cell_type": "markdown",
   "id": "814cc97d-7180-445d-81bf-64471689190c",
   "metadata": {},
   "source": [
    "# Sampling from a Biased Population"
   ]
  },
  {
   "cell_type": "code",
   "execution_count": null,
   "id": "877bd0f8-0b63-4d97-96d8-ce96a0f785f2",
   "metadata": {},
   "outputs": [],
   "source": []
  }
 ],
 "metadata": {
  "kernelspec": {
   "display_name": "Python 3 (ipykernel)",
   "language": "python",
   "name": "python3"
  },
  "language_info": {
   "codemirror_mode": {
    "name": "ipython",
    "version": 3
   },
   "file_extension": ".py",
   "mimetype": "text/x-python",
   "name": "python",
   "nbconvert_exporter": "python",
   "pygments_lexer": "ipython3",
   "version": "3.7.11"
  }
 },
 "nbformat": 4,
 "nbformat_minor": 5
}
