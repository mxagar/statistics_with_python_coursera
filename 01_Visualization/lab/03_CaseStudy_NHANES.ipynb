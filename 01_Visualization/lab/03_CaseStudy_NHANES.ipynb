{
 "cells": [
  {
   "cell_type": "markdown",
   "id": "e4256dfd-f080-4acc-931f-e9d1d5e6c126",
   "metadata": {},
   "source": [
    "# Case Study: NHANES Dataset"
   ]
  },
  {
   "cell_type": "markdown",
   "id": "d3a655a8-a797-4294-9040-1476729d3379",
   "metadata": {},
   "source": [
    "This notebook analyzes the NHANES dataset, focusing on **uninvariate analysis**.\n",
    "\n",
    "The [NHANES Dataset](https://wwwn.cdc.gov/nchs/nhanes/Default.aspx) contains the results of the National Health and Nutrition Examination Survey, from the CDC (USA). We have many variables in code in it.\n",
    "The codebooks for the 2015-2016 wave of NHANES can be found here:\n",
    "\n",
    "https://wwwn.cdc.gov/nchs/nhanes/continuousnhanes/default.aspx?BeginYear=2015\n",
    "\n",
    "And here:\n",
    "\n",
    "https://wwwn.cdc.gov/Nchs/Nhanes/2015-2016/DEMO_I.htm\n",
    "\n",
    "Direct links:\n",
    "\n",
    "- [Demographics code book](https://wwwn.cdc.gov/Nchs/Nhanes/2015-2016/DEMO_I.htm)\n",
    "- [Body measures code book](https://wwwn.cdc.gov/Nchs/Nhanes/2015-2016/BMX_I.htm)\n",
    "- [Blood pressure code book](https://wwwn.cdc.gov/Nchs/Nhanes/2015-2016/BPX_I.htm)\n",
    "- [Alcohol questionaire code book](https://wwwn.cdc.gov/Nchs/Nhanes/2015-2016/ALQ_I.htm)\n",
    "- [Smoking questionaire code book](https://wwwn.cdc.gov/Nchs/Nhanes/2015-2016/SMQ_I.htm)\n",
    "\n",
    "The commands in this file were written mainly while following a lab notebook on Coursera on the same topic.\n",
    "\n",
    "Overview:\n",
    "1. Categorical Data: Frequency Tables\n",
    "2. Quantitative Variables: Numerical Summaries\n",
    "3. Graphical Summaries: Histograms & Boxplots\n",
    "4. Stratification\n",
    "5. Practice exercises\n"
   ]
  },
  {
   "cell_type": "code",
   "execution_count": 242,
   "id": "96ae5de9-3c84-4371-b93a-eaf6c06ed5cf",
   "metadata": {},
   "outputs": [],
   "source": [
    "%matplotlib inline\n",
    "import matplotlib.pyplot as plt\n",
    "import seaborn as sns\n",
    "import pandas as pd\n",
    "import numpy as np"
   ]
  },
  {
   "cell_type": "code",
   "execution_count": 243,
   "id": "3ae8c220-7bec-4011-8de7-a1c1671e2ac4",
   "metadata": {},
   "outputs": [],
   "source": [
    "da = pd.read_csv(\"nhanes_2015_2016.csv\")"
   ]
  },
  {
   "cell_type": "markdown",
   "id": "03d91288-bf4b-4712-99c2-20bdb312a51b",
   "metadata": {},
   "source": [
    "### 1. Categorical Data: Frequency Tables\n",
    "\n",
    "Example variables:\n",
    "- [DMDEDUC2](https://wwwn.cdc.gov/Nchs/Nhanes/2015-2016/DEMO_I.htm#DMDEDUC2): education level in adults.\n",
    "- RIAGENDR: gender.\n",
    "- [DMDMARTL](https://wwwn.cdc.gov/Nchs/Nhanes/2015-2016/DEMO_I.htm#DMDMARTL): marital status.\n",
    "- [DMDHHSIZ]: total number of people in household."
   ]
  },
  {
   "cell_type": "code",
   "execution_count": 244,
   "id": "da869c07-c41d-493e-abf2-c7b997c1dca9",
   "metadata": {},
   "outputs": [
    {
     "data": {
      "text/plain": [
       "4.0    1621\n",
       "5.0    1366\n",
       "3.0    1186\n",
       "1.0     655\n",
       "2.0     643\n",
       "9.0       3\n",
       "Name: DMDEDUC2, dtype: int64"
      ]
     },
     "execution_count": 244,
     "metadata": {},
     "output_type": "execute_result"
    }
   ],
   "source": [
    "# Count number of category levels\n",
    "da.DMDEDUC2.value_counts()"
   ]
  },
  {
   "cell_type": "code",
   "execution_count": 245,
   "id": "2b3da3ca-77b6-45ad-b66f-b1005eaa3db5",
   "metadata": {},
   "outputs": [
    {
     "data": {
      "text/plain": [
       "5474"
      ]
     },
     "execution_count": 245,
     "metadata": {},
     "output_type": "execute_result"
    }
   ],
   "source": [
    "da.DMDEDUC2.value_counts().sum()"
   ]
  },
  {
   "cell_type": "code",
   "execution_count": 246,
   "id": "c718e122-743d-49c5-892c-ec25f2fb59fe",
   "metadata": {},
   "outputs": [
    {
     "data": {
      "text/plain": [
       "(5735,)"
      ]
     },
     "execution_count": 246,
     "metadata": {},
     "output_type": "execute_result"
    }
   ],
   "source": [
    "da.DMDEDUC2.shape"
   ]
  },
  {
   "cell_type": "markdown",
   "id": "1c8914b6-d492-4009-a186-1273298fd0f8",
   "metadata": {},
   "source": [
    "We see there is a discrepancy: missing values."
   ]
  },
  {
   "cell_type": "code",
   "execution_count": 247,
   "id": "a6949847-2b67-4d2f-a983-4dd345d0dfbf",
   "metadata": {},
   "outputs": [
    {
     "data": {
      "text/plain": [
       "261"
      ]
     },
     "execution_count": 247,
     "metadata": {},
     "output_type": "execute_result"
    }
   ],
   "source": [
    "pd.isnull(da.DMDEDUC2).sum()"
   ]
  },
  {
   "cell_type": "code",
   "execution_count": 248,
   "id": "36cdc6d3-6b8b-46da-92f0-232a2fe15600",
   "metadata": {},
   "outputs": [
    {
     "data": {
      "text/plain": [
       "0"
      ]
     },
     "execution_count": 248,
     "metadata": {},
     "output_type": "execute_result"
    }
   ],
   "source": [
    "# Check that numbers add up: total - null - nonull = 0\n",
    "da.DMDEDUC2.shape[0] - da.DMDEDUC2.value_counts().sum() - pd.isnull(da.DMDEDUC2).sum()"
   ]
  },
  {
   "cell_type": "code",
   "execution_count": 249,
   "id": "52658b4e-a251-4fcc-8f43-f8e10118ba96",
   "metadata": {},
   "outputs": [
    {
     "data": {
      "text/plain": [
       "Some college/AA    1621\n",
       "College            1366\n",
       "HS/GED             1186\n",
       "<9                  655\n",
       "9-11                643\n",
       "Don't know            3\n",
       "Name: DMDEDUC2x, dtype: int64"
      ]
     },
     "execution_count": 249,
     "metadata": {},
     "output_type": "execute_result"
    }
   ],
   "source": [
    "# We might want to create a new variable (e.g., var_x)\n",
    "# which contains human readable labels for the different category levels\n",
    "da[\"DMDEDUC2x\"] = da.DMDEDUC2.replace({1: \"<9\", 2: \"9-11\", 3: \"HS/GED\", 4: \"Some college/AA\", 5: \"College\", \n",
    "                                       7: \"Refused\", 9: \"Don't know\"})\n",
    "da.DMDEDUC2x.value_counts()"
   ]
  },
  {
   "cell_type": "code",
   "execution_count": 250,
   "id": "936d03a9-dad9-460b-8af0-d259983b48db",
   "metadata": {},
   "outputs": [],
   "source": [
    "# Similar for gender\n",
    "da[\"RIAGENDRx\"] = da.RIAGENDR.replace({1: \"Male\", 2: \"Female\"})"
   ]
  },
  {
   "cell_type": "code",
   "execution_count": 251,
   "id": "362e0783-6366-45f0-9bd9-12011c9d84e8",
   "metadata": {},
   "outputs": [
    {
     "data": {
      "text/plain": [
       "Some college/AA    0.296127\n",
       "College            0.249543\n",
       "HS/GED             0.216661\n",
       "<9                 0.119657\n",
       "9-11               0.117464\n",
       "Don't know         0.000548\n",
       "Name: DMDEDUC2x, dtype: float64"
      ]
     },
     "execution_count": 251,
     "metadata": {},
     "output_type": "execute_result"
    }
   ],
   "source": [
    "# Proportions\n",
    "x = da.DMDEDUC2x.value_counts()\n",
    "x / x.sum()"
   ]
  },
  {
   "cell_type": "code",
   "execution_count": 252,
   "id": "47158c8c-5e58-4841-b021-addb56386bf4",
   "metadata": {},
   "outputs": [
    {
     "data": {
      "text/plain": [
       "Some college/AA    0.282650\n",
       "College            0.238187\n",
       "HS/GED             0.206800\n",
       "<9                 0.114211\n",
       "9-11               0.112119\n",
       "Missing            0.045510\n",
       "Don't know         0.000523\n",
       "Name: DMDEDUC2x, dtype: float64"
      ]
     },
     "execution_count": 252,
     "metadata": {},
     "output_type": "execute_result"
    }
   ],
   "source": [
    "# Create a category-evel for missing cases (null)\n",
    "# Sometimes we want to do that instead of eliminating/ignoring those cases\n",
    "da[\"DMDEDUC2x\"] = da.DMDEDUC2x.fillna(\"Missing\")\n",
    "x = da.DMDEDUC2x.value_counts()\n",
    "x / x.sum()"
   ]
  },
  {
   "cell_type": "markdown",
   "id": "23ba9acc-328d-4273-bc94-50f474909960",
   "metadata": {},
   "source": [
    "### 2. Quantitative Variables: Numerical Summaries"
   ]
  },
  {
   "cell_type": "markdown",
   "id": "6e305275-cf63-45e1-9eaf-209b86d9a8cd",
   "metadata": {},
   "source": [
    "Example variables:\n",
    "- [BMXWT](https://wwwn.cdc.gov/Nchs/Nhanes/2015-2016/BMX_I.htm#BMXWT): weight (kg).\n",
    "- [BPXSY1](https://wwwn.cdc.gov/Nchs/Nhanes/2015-2016/BPX_I.htm#BPXSY1): systolic (SY) blood pressure (BPX), 1st measurement. A person is generally considered to have pre-hypertension when their systolic blood pressure is between 120 and 139, or their diastolic (DI instead of SY) blood pressure is between 80 and 89. Three measurements are taken because of the \"white coat anxiety\": blood pressure might be slightly elevated in the first measurement due to anxiety, but it decreases in following measurements.\n",
    "- RIDAGEYR: age (years).\n",
    "- BMXHT: height (cm)."
   ]
  },
  {
   "cell_type": "code",
   "execution_count": 253,
   "id": "7344b42f-e336-4877-b755-69a15e29c11b",
   "metadata": {},
   "outputs": [
    {
     "data": {
      "text/plain": [
       "count    5666.000000\n",
       "mean       81.342676\n",
       "std        21.764409\n",
       "min        32.400000\n",
       "25%        65.900000\n",
       "50%        78.200000\n",
       "75%        92.700000\n",
       "max       198.900000\n",
       "Name: BMXWT, dtype: float64"
      ]
     },
     "execution_count": 253,
     "metadata": {},
     "output_type": "execute_result"
    }
   ],
   "source": [
    "# describe() provides numerical summaries of quantitative data\n",
    "# Note: use dropna() before applying any describe()\n",
    "da.BMXWT.dropna().describe()"
   ]
  },
  {
   "cell_type": "code",
   "execution_count": 254,
   "id": "09f77bd7-8fcb-436d-afce-8be8feeadb17",
   "metadata": {},
   "outputs": [
    {
     "name": "stdout",
     "output_type": "stream",
     "text": [
      "81.34267560889509\n",
      "81.34267560889509\n",
      "78.2\n",
      "78.2\n",
      "92.7\n",
      "92.7\n"
     ]
    }
   ],
   "source": [
    "# Manual summaries\n",
    "x = da.BMXWT.dropna() # Extract all non-missing values of BMXWT into a variable called 'x'\n",
    "print(x.mean()) # Pandas method\n",
    "print(np.mean(x)) # Numpy function\n",
    "print(x.median())\n",
    "print(np.percentile(x, 50)) # 50th percentile, same as the median\n",
    "print(np.percentile(x, 75)) # 75th percentile\n",
    "print(x.quantile(0.75)) # Pandas method for quantiles, equivalent to 75th percentile"
   ]
  },
  {
   "cell_type": "code",
   "execution_count": 255,
   "id": "ce5cd2e3-9862-4483-8aa7-ed1f989d26bd",
   "metadata": {},
   "outputs": [
    {
     "data": {
      "text/plain": [
       "0.3741935483870968"
      ]
     },
     "execution_count": 255,
     "metadata": {},
     "output_type": "execute_result"
    }
   ],
   "source": [
    "# Number of people with pre-hypertension\n",
    "# Note we apply logic operators\n",
    "# and then we compute the mean of the True/1 values\n",
    "np.mean((da.BPXSY1 >= 120) & (da.BPXSY2 <= 139))"
   ]
  },
  {
   "cell_type": "code",
   "execution_count": 256,
   "id": "c6684808-6cbc-4d4e-b4e7-0781df36e34b",
   "metadata": {},
   "outputs": [
    {
     "data": {
      "text/plain": [
       "0.14803836094158676"
      ]
     },
     "execution_count": 256,
     "metadata": {},
     "output_type": "execute_result"
    }
   ],
   "source": [
    "np.mean((da.BPXDI1 >= 80) & (da.BPXDI2 <= 89))"
   ]
  },
  {
   "cell_type": "code",
   "execution_count": 257,
   "id": "0c293573-4dec-4f92-a70e-73d87cb74d04",
   "metadata": {},
   "outputs": [
    {
     "name": "stdout",
     "output_type": "stream",
     "text": [
      "0.43975588491717527\n"
     ]
    }
   ],
   "source": [
    "# Combined: hypertension according to SY or DI\n",
    "a = (da.BPXSY1 >= 120) & (da.BPXSY2 <= 139)\n",
    "b = (da.BPXDI1 >= 80) & (da.BPXDI2 <= 89)\n",
    "print(np.mean(a | b))"
   ]
  },
  {
   "cell_type": "code",
   "execution_count": 258,
   "id": "b15a9ecd-53ed-4fdd-bf4e-55f4449c4c94",
   "metadata": {},
   "outputs": [
    {
     "name": "stdout",
     "output_type": "stream",
     "text": [
      "125.08461396037771\n",
      "69.5163858544714\n",
      "0.6749860309182343\n",
      "0.3490407897187558\n"
     ]
    }
   ],
   "source": [
    "# Is the white coat anxiety?\n",
    "# Mean differences between 1st and 2nd measurements\n",
    "# The differences seem to be rather small\n",
    "print(np.mean(da.BPXSY1))\n",
    "print(np.mean(da.BPXDI1))\n",
    "print(np.mean(da.BPXSY1 - da.BPXSY2))\n",
    "print(np.mean(da.BPXDI1 - da.BPXDI2))"
   ]
  },
  {
   "cell_type": "markdown",
   "id": "d2f0bdc2-8263-4cbe-b7dc-016da6db2602",
   "metadata": {},
   "source": [
    "### 3. Graphical Summaries: Histograms & Boxplots"
   ]
  },
  {
   "cell_type": "code",
   "execution_count": 259,
   "id": "1cffc9c2-7759-4711-b61e-98899896507e",
   "metadata": {},
   "outputs": [
    {
     "data": {
      "text/plain": [
       "<AxesSubplot:xlabel='BMXWT', ylabel='Density'>"
      ]
     },
     "execution_count": 259,
     "metadata": {},
     "output_type": "execute_result"
    },
    {
     "data": {
      "image/png": "[encoded data removed]",
      "text/plain": [
       "<Figure size 432x288 with 1 Axes>"
      ]
     },
     "metadata": {
      "needs_background": "light"
     },
     "output_type": "display_data"
    }
   ],
   "source": [
    "# Weight: Histogram - use dropna()\n",
    "# Right skewed\n",
    "#sns.distplot(da.BMXWT.dropna()) # distplot is deprecated, use histplot\n",
    "sns.histplot(da.BMXWT.dropna(),kde=True,stat='density')"
   ]
  },
  {
   "cell_type": "code",
   "execution_count": 260,
   "id": "5733fd02-aa3d-40ba-a349-c6b26243b3ca",
   "metadata": {},
   "outputs": [
    {
     "data": {
      "text/plain": [
       "<AxesSubplot:xlabel='BPXSY1', ylabel='Density'>"
      ]
     },
     "execution_count": 260,
     "metadata": {},
     "output_type": "execute_result"
    },
    {
     "data": {
      "image/png": "[encoded data removed]",
      "text/plain": [
       "<Figure size 432x288 with 1 Axes>"
      ]
     },
     "metadata": {
      "needs_background": "light"
     },
     "output_type": "display_data"
    }
   ],
   "source": [
    "# Systolic blood pressure: Histogram\n",
    "# We see some bumps - are there some rouding tendencies? (e.g., nearest 5 or 10 units)\n",
    "sns.histplot(da.BPXSY1.dropna(),kde=True,stat='density')"
   ]
  },
  {
   "cell_type": "code",
   "execution_count": 261,
   "id": "6f63478a-e6b0-4702-a4a6-daf121bdfab4",
   "metadata": {},
   "outputs": [
    {
     "data": {
      "text/plain": [
       "Text(0, 0.5, 'Blood pressure in mm/Hg')"
      ]
     },
     "execution_count": 261,
     "metadata": {},
     "output_type": "execute_result"
    },
    {
     "data": {
      "image/png": "[encoded data removed]",
      "text/plain": [
       "<Figure size 432x288 with 1 Axes>"
      ]
     },
     "metadata": {
      "needs_background": "light"
     },
     "output_type": "display_data"
    }
   ],
   "source": [
    "# Boxplot: Systolic and Distolic, 1st and 2nd measurement\n",
    "# Note: it is different if we pass data or x & y\n",
    "# - data: we can pass several quantitative variables\n",
    "# - x & y: x quatitative variable is stratified/grouped according to qualitative/categorical y\n",
    "bp = sns.boxplot(data=da.loc[:, [\"BPXSY1\", \"BPXSY2\", \"BPXDI1\", \"BPXDI2\"]])\n",
    "# Same command as before:\n",
    "#bp = sns.boxplot(data=da[[\"BPXSY1\", \"BPXSY2\", \"BPXDI1\", \"BPXDI2\"]])\n",
    "bp.set_ylabel(\"Blood pressure in mm/Hg\")"
   ]
  },
  {
   "cell_type": "markdown",
   "id": "5b736fcf-fbee-45c0-b4c2-e2b77940c1ed",
   "metadata": {},
   "source": [
    "### 4. Stratification"
   ]
  },
  {
   "cell_type": "markdown",
   "id": "a86e11f3-2bb1-4f2d-8749-fa241b982133",
   "metadata": {},
   "source": [
    "We can get more insights from a dataset if we stratify the information in different strata that are more homogeneous. That is particularly true for human measurements; we can create groups according to age, gender, race, etc."
   ]
  },
  {
   "cell_type": "code",
   "execution_count": 262,
   "id": "bcf8f1c5-c587-438e-9488-3b209051dde1",
   "metadata": {},
   "outputs": [],
   "source": [
    "# Create age strata based on these cut points\n",
    "da[\"agegrp\"] = pd.cut(da.RIDAGEYR, [18, 30, 40, 50, 60, 70, 80])"
   ]
  },
  {
   "cell_type": "code",
   "execution_count": 263,
   "id": "88311eb1-64f0-4d3f-8902-3ce7b3d6ef2e",
   "metadata": {},
   "outputs": [
    {
     "data": {
      "text/plain": [
       "(18, 30]    1153\n",
       "(30, 40]     932\n",
       "(50, 60]     924\n",
       "(40, 50]     903\n",
       "(60, 70]     878\n",
       "(70, 80]     812\n",
       "Name: agegrp, dtype: int64"
      ]
     },
     "execution_count": 263,
     "metadata": {},
     "output_type": "execute_result"
    }
   ],
   "source": [
    "# Our new variable contains the age range/cut for each person/measurement\n",
    "da[\"agegrp\"].value_counts()"
   ]
  },
  {
   "cell_type": "code",
   "execution_count": 264,
   "id": "e9770aac-be5c-4c0e-95bf-be0cd6221d2c",
   "metadata": {},
   "outputs": [
    {
     "data": {
      "text/plain": [
       "<AxesSubplot:xlabel='agegrp', ylabel='BPXSY1'>"
      ]
     },
     "execution_count": 264,
     "metadata": {},
     "output_type": "execute_result"
    },
    {
     "data": {
      "image/png": "[encoded data removed]",
      "text/plain": [
       "<Figure size 864x360 with 1 Axes>"
      ]
     },
     "metadata": {
      "needs_background": "light"
     },
     "output_type": "display_data"
    }
   ],
   "source": [
    "plt.figure(figsize=(12, 5))\n",
    "# Make boxplot of BPXSY1 stratified by age group\n",
    "# The older, the higher the systolic blood pressure\n",
    "sns.boxplot(x=\"agegrp\", y=\"BPXSY1\", data=da)"
   ]
  },
  {
   "cell_type": "code",
   "execution_count": 265,
   "id": "c764f355-8468-45bd-b163-bce4799c8d16",
   "metadata": {},
   "outputs": [
    {
     "data": {
      "text/plain": [
       "<AxesSubplot:xlabel='agegrp', ylabel='BPXSY1'>"
      ]
     },
     "execution_count": 265,
     "metadata": {},
     "output_type": "execute_result"
    },
    {
     "data": {
      "image/png": "[encoded data removed]",
      "text/plain": [
       "<Figure size 864x360 with 1 Axes>"
      ]
     },
     "metadata": {
      "needs_background": "light"
     },
     "output_type": "display_data"
    }
   ],
   "source": [
    "# We further add a hue variable: gender\n",
    "# Women have a lower blood pressure, except at older ages\n",
    "# Maybe that is because male with high blood pressure die younger?\n",
    "da[\"agegrp\"] = pd.cut(da.RIDAGEYR, [18, 30, 40, 50, 60, 70, 80])\n",
    "plt.figure(figsize=(12, 5))\n",
    "sns.boxplot(x=\"agegrp\", y=\"BPXSY1\", hue=\"RIAGENDRx\", data=da)"
   ]
  },
  {
   "cell_type": "code",
   "execution_count": 266,
   "id": "02380f86-59b5-428a-9c81-6015147d46d2",
   "metadata": {},
   "outputs": [
    {
     "data": {
      "text/plain": [
       "<AxesSubplot:xlabel='RIAGENDRx', ylabel='BPXSY1'>"
      ]
     },
     "execution_count": 266,
     "metadata": {},
     "output_type": "execute_result"
    },
    {
     "data": {
      "image/png": "[encoded data removed]",
      "text/plain": [
       "<Figure size 864x360 with 1 Axes>"
      ]
     },
     "metadata": {
      "needs_background": "light"
     },
     "output_type": "display_data"
    }
   ],
   "source": [
    "# We can stratify the opposite way: instead of age & gender, gender & age\n",
    "# Just swap x & hue\n",
    "da[\"agegrp\"] = pd.cut(da.RIDAGEYR, [18, 30, 40, 50, 60, 70, 80])\n",
    "plt.figure(figsize=(12, 5))\n",
    "sns.boxplot(x=\"RIAGENDRx\", y=\"BPXSY1\", hue=\"agegrp\", data=da)"
   ]
  },
  {
   "cell_type": "markdown",
   "id": "63d4612a-53d2-4c7d-8c59-93cee1933ab6",
   "metadata": {},
   "source": [
    "#### Stratification for Categorical Variables"
   ]
  },
  {
   "cell_type": "code",
   "execution_count": 267,
   "id": "ce43b8e0-9609-439a-9ce5-60d02e0556a9",
   "metadata": {},
   "outputs": [
    {
     "data": {
      "text/plain": [
       "agegrp    DMDEDUC2x      \n",
       "(18, 30]  Some college/AA    364\n",
       "          College            278\n",
       "          HS/GED             237\n",
       "          Missing            128\n",
       "          9-11                99\n",
       "          <9                  47\n",
       "(30, 40]  Some college/AA    282\n",
       "          College            264\n",
       "          HS/GED             182\n",
       "          9-11               111\n",
       "          <9                  93\n",
       "(40, 50]  Some college/AA    262\n",
       "          College            260\n",
       "          HS/GED             171\n",
       "          9-11               112\n",
       "          <9                  98\n",
       "(50, 60]  Some college/AA    258\n",
       "          College            220\n",
       "          HS/GED             220\n",
       "          9-11               122\n",
       "          <9                 104\n",
       "(60, 70]  Some college/AA    238\n",
       "          HS/GED             192\n",
       "          College            188\n",
       "          <9                 149\n",
       "          9-11               111\n",
       "(70, 80]  Some college/AA    217\n",
       "          HS/GED             184\n",
       "          <9                 164\n",
       "          College            156\n",
       "          9-11                88\n",
       "          Don't know           3\n",
       "Name: DMDEDUC2x, dtype: int64"
      ]
     },
     "execution_count": 267,
     "metadata": {},
     "output_type": "execute_result"
    }
   ],
   "source": [
    "da.groupby(\"agegrp\")[\"DMDEDUC2x\"].value_counts()"
   ]
  },
  {
   "cell_type": "markdown",
   "id": "3b85a8e2-50aa-45ee-a7b4-83886ebba699",
   "metadata": {},
   "source": [
    "Note on **causality and confounding**. From the [Wikipedia](https://en.wikipedia.org/wiki/Confounding): \"a confounder\n",
    "is a variable that influences both the dependent variable and independent variable, causing a spurious association\". Thus it seems there is causality between the dependent and the independent variable, but in reality there is not!\n",
    "\n",
    "While age might cause higher blood pressure, age probably does not cause educational levels to vary as they do. That is so because we have a \"birth cohort effect\": people in their 20's now are more likely to go to college and the survey was done at the same point in time (cross sectional survey) for all ages."
   ]
  },
  {
   "cell_type": "markdown",
   "id": "1bf207a9-3f4f-46d9-87f0-d2bb4d8d350e",
   "metadata": {},
   "source": [
    "**Advanced stratified table**: percentage of education level stratified by age group and gender."
   ]
  },
  {
   "cell_type": "code",
   "execution_count": 268,
   "id": "323ed838-4a2e-4863-a01d-219f3dafa4f9",
   "metadata": {},
   "outputs": [
    {
     "name": "stdout",
     "output_type": "stream",
     "text": [
      "DMDEDUC2x           9-11    <9  College  HS/GED  Some college/AA\n",
      "agegrp   RIAGENDRx                                              \n",
      "(18, 30] Female    0.080 0.049    0.282   0.215            0.374\n",
      "         Male      0.117 0.042    0.258   0.250            0.333\n",
      "(30, 40] Female    0.089 0.097    0.314   0.165            0.335\n",
      "         Male      0.151 0.103    0.251   0.227            0.269\n",
      "(40, 50] Female    0.110 0.106    0.299   0.173            0.313\n",
      "         Male      0.142 0.112    0.274   0.209            0.262\n",
      "(50, 60] Female    0.117 0.102    0.245   0.234            0.302\n",
      "         Male      0.148 0.123    0.231   0.242            0.256\n",
      "(60, 70] Female    0.118 0.188    0.195   0.206            0.293\n",
      "         Male      0.135 0.151    0.233   0.231            0.249\n",
      "(70, 80] Female    0.105 0.225    0.149   0.240            0.281\n",
      "         Male      0.113 0.180    0.237   0.215            0.255\n"
     ]
    }
   ],
   "source": [
    "# Eliminate rare/missing values\n",
    "dx = da.loc[~da.DMDEDUC2x.isin([\"Don't know\", \"Missing\"]), :] \n",
    "dx = dx.groupby([\"agegrp\", \"RIAGENDRx\"])[\"DMDEDUC2x\"]\n",
    "dx = dx.value_counts()\n",
    "# Restructure the results from 'long' to 'wide'\n",
    "dx = dx.unstack()\n",
    "# Normalize within each stratum to get proportions\n",
    "dx = dx.apply(lambda x: x/x.sum(), axis=1)\n",
    "# Limit display to 3 decimal places\n",
    "print(dx.to_string(float_format=\"%.3f\"))"
   ]
  },
  {
   "cell_type": "markdown",
   "id": "498573d2-0395-4c9a-9f21-fe3ba5b35541",
   "metadata": {},
   "source": [
    "### 5. Practice Exercises\n",
    "\n",
    "These exercises consist basically in modifying the code above."
   ]
  },
  {
   "cell_type": "code",
   "execution_count": 269,
   "id": "6c279e77-15f6-44ff-a119-7b33635aedbc",
   "metadata": {},
   "outputs": [],
   "source": [
    "%matplotlib inline\n",
    "import matplotlib.pyplot as plt\n",
    "import seaborn as sns\n",
    "import pandas as pd\n",
    "import statsmodels.api as sm\n",
    "import numpy as np\n",
    "\n",
    "da = pd.read_csv(\"nhanes_2015_2016.csv\")"
   ]
  },
  {
   "cell_type": "code",
   "execution_count": 270,
   "id": "75f0e3e9-9893-465a-a9ec-cb7ff9fec3fd",
   "metadata": {},
   "outputs": [
    {
     "data": {
      "text/plain": [
       "Index(['SEQN', 'ALQ101', 'ALQ110', 'ALQ130', 'SMQ020', 'RIAGENDR', 'RIDAGEYR',\n",
       "       'RIDRETH1', 'DMDCITZN', 'DMDEDUC2', 'DMDMARTL', 'DMDHHSIZ', 'WTINT2YR',\n",
       "       'SDMVPSU', 'SDMVSTRA', 'INDFMPIR', 'BPXSY1', 'BPXDI1', 'BPXSY2',\n",
       "       'BPXDI2', 'BMXWT', 'BMXHT', 'BMXBMI', 'BMXLEG', 'BMXARML', 'BMXARMC',\n",
       "       'BMXWAIST', 'HIQ210'],\n",
       "      dtype='object')"
      ]
     },
     "execution_count": 270,
     "metadata": {},
     "output_type": "execute_result"
    }
   ],
   "source": [
    "da.columns"
   ]
  },
  {
   "cell_type": "markdown",
   "id": "9c4a2e51-c0ac-42c4-84f2-bc575878b3e6",
   "metadata": {},
   "source": [
    "#### Q1: Re-Label & Stratify\n",
    "Re-label marital status to have clear names: [DMDMARTL](https://wwwn.cdc.gov/Nchs/Nhanes/2015-2016/DEMO_I.htm#DMDMARTL)."
   ]
  },
  {
   "cell_type": "code",
   "execution_count": 271,
   "id": "724a6aaa-8ffe-4adf-b785-61df134b9348",
   "metadata": {},
   "outputs": [
    {
     "data": {
      "text/plain": [
       "array([ 1.,  3.,  6.,  4.,  5., nan,  2., 77.])"
      ]
     },
     "execution_count": 271,
     "metadata": {},
     "output_type": "execute_result"
    }
   ],
   "source": [
    "da[\"DMDMARTL\"].unique()"
   ]
  },
  {
   "cell_type": "code",
   "execution_count": 272,
   "id": "9cb0b5c2-15a2-417f-9cd8-85d253f7b8d8",
   "metadata": {},
   "outputs": [
    {
     "data": {
      "text/plain": [
       "1.0     2780\n",
       "5.0     1004\n",
       "3.0      579\n",
       "6.0      527\n",
       "2.0      396\n",
       "4.0      186\n",
       "77.0       2\n",
       "Name: DMDMARTL, dtype: int64"
      ]
     },
     "execution_count": 272,
     "metadata": {},
     "output_type": "execute_result"
    }
   ],
   "source": [
    "da[\"DMDMARTL\"].value_counts()"
   ]
  },
  {
   "cell_type": "code",
   "execution_count": 273,
   "id": "b80a64b2-d981-4e64-b1b2-fc4783e9fae1",
   "metadata": {},
   "outputs": [
    {
     "data": {
      "text/plain": [
       "261"
      ]
     },
     "execution_count": 273,
     "metadata": {},
     "output_type": "execute_result"
    }
   ],
   "source": [
    "# Check null values\n",
    "pd.isnull(da.DMDMARTL).sum()"
   ]
  },
  {
   "cell_type": "code",
   "execution_count": 274,
   "id": "4bda7d34-8df0-4201-9fd2-f9ac91c1daf6",
   "metadata": {},
   "outputs": [
    {
     "data": {
      "text/plain": [
       "0"
      ]
     },
     "execution_count": 274,
     "metadata": {},
     "output_type": "execute_result"
    }
   ],
   "source": [
    "# Check that all values sum up\n",
    "da.DMDMARTL.shape[0] - da.DMDMARTL.value_counts().sum() - pd.isnull(da.DMDMARTL).sum()"
   ]
  },
  {
   "cell_type": "code",
   "execution_count": 275,
   "id": "e7b8991c-a33c-4b6f-8ca9-3711e97f8b98",
   "metadata": {},
   "outputs": [
    {
     "data": {
      "text/plain": [
       "Married                2780\n",
       "Never Married          1004\n",
       "Divorced                579\n",
       "Living with partner     527\n",
       "Widowed                 396\n",
       "Separated               186\n",
       "Refused                   2\n",
       "Name: DMDMARTLx, dtype: int64"
      ]
     },
     "execution_count": 275,
     "metadata": {},
     "output_type": "execute_result"
    }
   ],
   "source": [
    "# Re-label to create a new variable (e.g., var_x)\n",
    "# which contains human readable labels for the different category levels\n",
    "# Note that dictionaries can contain values of different type,\n",
    "# but a pandas column/series can have a unique type!\n",
    "# In our case, there occurs no '.' category in DMDMARTL\n",
    "da[\"DMDMARTLx\"] = da.DMDMARTL.replace({1: \"Married\", 2: \"Widowed\", 3: \"Divorced\", 4: \"Separated\", 5: \"Never Married\", \n",
    "                                       6: \"Living with partner\", 77: \"Refused\", 99: \"Don't know\", \".\":\"Missing\"})\n",
    "da.DMDMARTLx.value_counts()"
   ]
  },
  {
   "cell_type": "markdown",
   "id": "630e356a-f796-421e-b95d-af44c7f08dd6",
   "metadata": {},
   "source": [
    "##### Q1a,b,c: Stratify in Gender & Age Group\n",
    "Comment differences:\n",
    "- Male & Female all ages: While there are roughly 13% more men married, the number of women divorced, widowed or separated is close to the double.\n",
    "- Male & Female in (30,40] age range: Similar numbers both for male and female, but: roughly double women divorced and around 30% of more male living with partner."
   ]
  },
  {
   "cell_type": "code",
   "execution_count": 276,
   "id": "9d26e687-77e7-475d-8490-49524559ed71",
   "metadata": {},
   "outputs": [],
   "source": [
    "# Create age strata based on these cut points\n",
    "da[\"agegrp\"] = pd.cut(da.RIDAGEYR, [18, 30, 40, 50, 60, 70, 80])"
   ]
  },
  {
   "cell_type": "code",
   "execution_count": 277,
   "id": "552ced8c-3f64-4fbb-aeb8-4dbb74684b91",
   "metadata": {},
   "outputs": [],
   "source": [
    "da[\"RIAGENDRx\"] = da.RIAGENDR.replace({1: \"Male\", 2: \"Female\"})"
   ]
  },
  {
   "cell_type": "code",
   "execution_count": 278,
   "id": "c980eb38-300e-4dab-81f1-8c74f4bb608a",
   "metadata": {},
   "outputs": [
    {
     "data": {
      "text/plain": [
       "RIAGENDRx  DMDMARTLx          \n",
       "Female     Married                1303\n",
       "           Never Married           520\n",
       "           Divorced                350\n",
       "           Widowed                 296\n",
       "           Living with partner     262\n",
       "           Separated               118\n",
       "           Refused                   1\n",
       "Male       Married                1477\n",
       "           Never Married           484\n",
       "           Living with partner     265\n",
       "           Divorced                229\n",
       "           Widowed                 100\n",
       "           Separated                68\n",
       "           Refused                   1\n",
       "Name: DMDMARTLx, dtype: int64"
      ]
     },
     "execution_count": 278,
     "metadata": {},
     "output_type": "execute_result"
    }
   ],
   "source": [
    "da.groupby(\"RIAGENDRx\")[\"DMDMARTLx\"].value_counts()"
   ]
  },
  {
   "cell_type": "code",
   "execution_count": 279,
   "id": "c2424153-2702-4800-bfe9-966917e663ec",
   "metadata": {},
   "outputs": [
    {
     "data": {
      "text/plain": [
       "agegrp    DMDMARTLx          \n",
       "(18, 30]  Never Married          521\n",
       "          Married                262\n",
       "          Living with partner    209\n",
       "          Separated               18\n",
       "          Divorced                13\n",
       "          Widowed                  2\n",
       "(30, 40]  Married                516\n",
       "          Never Married          186\n",
       "          Living with partner    129\n",
       "          Divorced                67\n",
       "          Separated               29\n",
       "          Widowed                  4\n",
       "          Refused                  1\n",
       "(40, 50]  Married                570\n",
       "          Divorced               103\n",
       "          Never Married          102\n",
       "          Living with partner     70\n",
       "          Separated               44\n",
       "          Widowed                 14\n",
       "(50, 60]  Married                553\n",
       "          Divorced               140\n",
       "          Never Married           89\n",
       "          Living with partner     66\n",
       "          Widowed                 38\n",
       "          Separated               37\n",
       "          Refused                  1\n",
       "(60, 70]  Married                503\n",
       "          Divorced               140\n",
       "          Widowed                 82\n",
       "          Never Married           76\n",
       "          Living with partner     41\n",
       "          Separated               36\n",
       "(70, 80]  Married                376\n",
       "          Widowed                256\n",
       "          Divorced               116\n",
       "          Never Married           30\n",
       "          Separated               22\n",
       "          Living with partner     12\n",
       "Name: DMDMARTLx, dtype: int64"
      ]
     },
     "execution_count": 279,
     "metadata": {},
     "output_type": "execute_result"
    }
   ],
   "source": [
    "da.groupby(\"agegrp\")[\"DMDMARTLx\"].value_counts()"
   ]
  },
  {
   "cell_type": "markdown",
   "id": "9134cdf3-621f-4b1c-902a-2c925a90e798",
   "metadata": {},
   "source": [
    "#### Q2: For Males / Females, Analyze Marital Status Fequency Tables by Age"
   ]
  },
  {
   "cell_type": "code",
   "execution_count": 280,
   "id": "aced33b6-5b50-4fe7-b6c2-04883936dc1d",
   "metadata": {},
   "outputs": [
    {
     "data": {
      "text/html": [
       "<div>\n",
       "<style scoped>\n",
       "    .dataframe tbody tr th:only-of-type {\n",
       "        vertical-align: middle;\n",
       "    }\n",
       "\n",
       "    .dataframe tbody tr th {\n",
       "        vertical-align: top;\n",
       "    }\n",
       "\n",
       "    .dataframe thead th {\n",
       "        text-align: right;\n",
       "    }\n",
       "</style>\n",
       "<table border=\"1\" class=\"dataframe\">\n",
       "  <thead>\n",
       "    <tr style=\"text-align: right;\">\n",
       "      <th>DMDMARTLx</th>\n",
       "      <th>Divorced</th>\n",
       "      <th>Living with partner</th>\n",
       "      <th>Married</th>\n",
       "      <th>Never Married</th>\n",
       "      <th>Refused</th>\n",
       "      <th>Separated</th>\n",
       "      <th>Widowed</th>\n",
       "    </tr>\n",
       "    <tr>\n",
       "      <th>agegrp</th>\n",
       "      <th></th>\n",
       "      <th></th>\n",
       "      <th></th>\n",
       "      <th></th>\n",
       "      <th></th>\n",
       "      <th></th>\n",
       "      <th></th>\n",
       "    </tr>\n",
       "  </thead>\n",
       "  <tbody>\n",
       "    <tr>\n",
       "      <th>(18, 30]</th>\n",
       "      <td>0.019892</td>\n",
       "      <td>0.206148</td>\n",
       "      <td>0.285714</td>\n",
       "      <td>0.468354</td>\n",
       "      <td>NaN</td>\n",
       "      <td>0.019892</td>\n",
       "      <td>NaN</td>\n",
       "    </tr>\n",
       "    <tr>\n",
       "      <th>(30, 40]</th>\n",
       "      <td>0.090717</td>\n",
       "      <td>0.120253</td>\n",
       "      <td>0.544304</td>\n",
       "      <td>0.204641</td>\n",
       "      <td>NaN</td>\n",
       "      <td>0.035865</td>\n",
       "      <td>0.004219</td>\n",
       "    </tr>\n",
       "    <tr>\n",
       "      <th>(40, 50]</th>\n",
       "      <td>0.137450</td>\n",
       "      <td>0.073705</td>\n",
       "      <td>0.573705</td>\n",
       "      <td>0.125498</td>\n",
       "      <td>NaN</td>\n",
       "      <td>0.065737</td>\n",
       "      <td>0.023904</td>\n",
       "    </tr>\n",
       "    <tr>\n",
       "      <th>(50, 60]</th>\n",
       "      <td>0.176596</td>\n",
       "      <td>0.068085</td>\n",
       "      <td>0.546809</td>\n",
       "      <td>0.089362</td>\n",
       "      <td>0.002128</td>\n",
       "      <td>0.057447</td>\n",
       "      <td>0.059574</td>\n",
       "    </tr>\n",
       "    <tr>\n",
       "      <th>(60, 70]</th>\n",
       "      <td>0.192744</td>\n",
       "      <td>0.043084</td>\n",
       "      <td>0.480726</td>\n",
       "      <td>0.086168</td>\n",
       "      <td>NaN</td>\n",
       "      <td>0.049887</td>\n",
       "      <td>0.147392</td>\n",
       "    </tr>\n",
       "    <tr>\n",
       "      <th>(70, 80]</th>\n",
       "      <td>0.143902</td>\n",
       "      <td>0.007317</td>\n",
       "      <td>0.317073</td>\n",
       "      <td>0.051220</td>\n",
       "      <td>NaN</td>\n",
       "      <td>0.019512</td>\n",
       "      <td>0.460976</td>\n",
       "    </tr>\n",
       "  </tbody>\n",
       "</table>\n",
       "</div>"
      ],
      "text/plain": [
       "DMDMARTLx  Divorced  Living with partner   Married  Never Married   Refused  \\\n",
       "agegrp                                                                        \n",
       "(18, 30]   0.019892             0.206148  0.285714       0.468354       NaN   \n",
       "(30, 40]   0.090717             0.120253  0.544304       0.204641       NaN   \n",
       "(40, 50]   0.137450             0.073705  0.573705       0.125498       NaN   \n",
       "(50, 60]   0.176596             0.068085  0.546809       0.089362  0.002128   \n",
       "(60, 70]   0.192744             0.043084  0.480726       0.086168       NaN   \n",
       "(70, 80]   0.143902             0.007317  0.317073       0.051220       NaN   \n",
       "\n",
       "DMDMARTLx  Separated   Widowed  \n",
       "agegrp                          \n",
       "(18, 30]    0.019892       NaN  \n",
       "(30, 40]    0.035865  0.004219  \n",
       "(40, 50]    0.065737  0.023904  \n",
       "(50, 60]    0.057447  0.059574  \n",
       "(60, 70]    0.049887  0.147392  \n",
       "(70, 80]    0.019512  0.460976  "
      ]
     },
     "execution_count": 280,
     "metadata": {},
     "output_type": "execute_result"
    }
   ],
   "source": [
    "# Females\n",
    "dx = da.loc[~da.RIAGENDRx.isin([\"Male\"]), :]\n",
    "dx = dx.groupby([\"agegrp\"])[\"DMDMARTLx\"].value_counts()\n",
    "dx = dx.unstack()\n",
    "dx = dx.apply(lambda x: x/x.sum(), axis=1)\n",
    "dx"
   ]
  },
  {
   "cell_type": "code",
   "execution_count": 281,
   "id": "339c852c-cfe5-48c1-9726-7889fc830d46",
   "metadata": {},
   "outputs": [
    {
     "data": {
      "text/html": [
       "<div>\n",
       "<style scoped>\n",
       "    .dataframe tbody tr th:only-of-type {\n",
       "        vertical-align: middle;\n",
       "    }\n",
       "\n",
       "    .dataframe tbody tr th {\n",
       "        vertical-align: top;\n",
       "    }\n",
       "\n",
       "    .dataframe thead th {\n",
       "        text-align: right;\n",
       "    }\n",
       "</style>\n",
       "<table border=\"1\" class=\"dataframe\">\n",
       "  <thead>\n",
       "    <tr style=\"text-align: right;\">\n",
       "      <th>DMDMARTLx</th>\n",
       "      <th>Divorced</th>\n",
       "      <th>Living with partner</th>\n",
       "      <th>Married</th>\n",
       "      <th>Never Married</th>\n",
       "      <th>Refused</th>\n",
       "      <th>Separated</th>\n",
       "      <th>Widowed</th>\n",
       "    </tr>\n",
       "    <tr>\n",
       "      <th>agegrp</th>\n",
       "      <th></th>\n",
       "      <th></th>\n",
       "      <th></th>\n",
       "      <th></th>\n",
       "      <th></th>\n",
       "      <th></th>\n",
       "      <th></th>\n",
       "    </tr>\n",
       "  </thead>\n",
       "  <tbody>\n",
       "    <tr>\n",
       "      <th>(18, 30]</th>\n",
       "      <td>0.004237</td>\n",
       "      <td>0.201271</td>\n",
       "      <td>0.220339</td>\n",
       "      <td>0.555085</td>\n",
       "      <td>NaN</td>\n",
       "      <td>0.014831</td>\n",
       "      <td>0.004237</td>\n",
       "    </tr>\n",
       "    <tr>\n",
       "      <th>(30, 40]</th>\n",
       "      <td>0.052402</td>\n",
       "      <td>0.157205</td>\n",
       "      <td>0.563319</td>\n",
       "      <td>0.194323</td>\n",
       "      <td>0.002183</td>\n",
       "      <td>0.026201</td>\n",
       "      <td>0.004367</td>\n",
       "    </tr>\n",
       "    <tr>\n",
       "      <th>(40, 50]</th>\n",
       "      <td>0.084788</td>\n",
       "      <td>0.082294</td>\n",
       "      <td>0.703242</td>\n",
       "      <td>0.097257</td>\n",
       "      <td>NaN</td>\n",
       "      <td>0.027431</td>\n",
       "      <td>0.004988</td>\n",
       "    </tr>\n",
       "    <tr>\n",
       "      <th>(50, 60]</th>\n",
       "      <td>0.125551</td>\n",
       "      <td>0.074890</td>\n",
       "      <td>0.651982</td>\n",
       "      <td>0.103524</td>\n",
       "      <td>NaN</td>\n",
       "      <td>0.022026</td>\n",
       "      <td>0.022026</td>\n",
       "    </tr>\n",
       "    <tr>\n",
       "      <th>(60, 70]</th>\n",
       "      <td>0.125858</td>\n",
       "      <td>0.050343</td>\n",
       "      <td>0.665904</td>\n",
       "      <td>0.086957</td>\n",
       "      <td>NaN</td>\n",
       "      <td>0.032037</td>\n",
       "      <td>0.038902</td>\n",
       "    </tr>\n",
       "    <tr>\n",
       "      <th>(70, 80]</th>\n",
       "      <td>0.141791</td>\n",
       "      <td>0.022388</td>\n",
       "      <td>0.611940</td>\n",
       "      <td>0.022388</td>\n",
       "      <td>NaN</td>\n",
       "      <td>0.034826</td>\n",
       "      <td>0.166667</td>\n",
       "    </tr>\n",
       "  </tbody>\n",
       "</table>\n",
       "</div>"
      ],
      "text/plain": [
       "DMDMARTLx  Divorced  Living with partner   Married  Never Married   Refused  \\\n",
       "agegrp                                                                        \n",
       "(18, 30]   0.004237             0.201271  0.220339       0.555085       NaN   \n",
       "(30, 40]   0.052402             0.157205  0.563319       0.194323  0.002183   \n",
       "(40, 50]   0.084788             0.082294  0.703242       0.097257       NaN   \n",
       "(50, 60]   0.125551             0.074890  0.651982       0.103524       NaN   \n",
       "(60, 70]   0.125858             0.050343  0.665904       0.086957       NaN   \n",
       "(70, 80]   0.141791             0.022388  0.611940       0.022388       NaN   \n",
       "\n",
       "DMDMARTLx  Separated   Widowed  \n",
       "agegrp                          \n",
       "(18, 30]    0.014831  0.004237  \n",
       "(30, 40]    0.026201  0.004367  \n",
       "(40, 50]    0.027431  0.004988  \n",
       "(50, 60]    0.022026  0.022026  \n",
       "(60, 70]    0.032037  0.038902  \n",
       "(70, 80]    0.034826  0.166667  "
      ]
     },
     "execution_count": 281,
     "metadata": {},
     "output_type": "execute_result"
    }
   ],
   "source": [
    "# Males\n",
    "dx = da.loc[~da.RIAGENDRx.isin([\"Female\"]), :]\n",
    "dx = dx.groupby([\"agegrp\"])[\"DMDMARTLx\"].value_counts()\n",
    "dx = dx.unstack()\n",
    "dx = dx.apply(lambda x: x/x.sum(), axis=1)\n",
    "dx"
   ]
  },
  {
   "cell_type": "markdown",
   "id": "c67b6a60-3fea-4223-84b9-c122bb91d50d",
   "metadata": {},
   "source": [
    "Comments:\n",
    "- Younger women in (18,30] divorce more often; then, at (30, 40], their divorce rate drops and starts increasing until (60, 70], age range in which the rate is similar to th eone in rage (18,30]. This is probably related to having children and creating a family: when young, there is no urge, when adult the probability of having a family is higher, which keeps marriages together, and when children are raised and leave home, couples divorce. At the oldest ages the divorce rate decreases again, probably due to defunctions.\n",
    "- In the case of males the divorce rate increases by age group. The rate is very low at age range (18,30], then there is a jump and it increases steadily."
   ]
  },
  {
   "cell_type": "markdown",
   "id": "c6b960b3-5bb4-4a15-972b-7827ea022771",
   "metadata": {},
   "source": [
    "#### Q3: Height Distributions and Boxplots Stratified by Gender\n",
    "\n",
    "Both distributions of height for women and men are unimodal, symmetric and normally distributed. Means are clearly different. Boxplots more clearly the outliers outside of the whiskers; note that female outliers define the lower bound of all outliers and male outliers the upper bound."
   ]
  },
  {
   "cell_type": "code",
   "execution_count": 282,
   "id": "fbb448a9-ffc3-4ed7-ad26-d2256e6e9f8e",
   "metadata": {},
   "outputs": [
    {
     "data": {
      "text/plain": [
       "<AxesSubplot:xlabel='BMXHT', ylabel='Count'>"
      ]
     },
     "execution_count": 282,
     "metadata": {},
     "output_type": "execute_result"
    },
    {
     "data": {
      "image/png": "[encoded data removed]",
      "text/plain": [
       "<Figure size 432x288 with 1 Axes>"
      ]
     },
     "metadata": {
      "needs_background": "light"
     },
     "output_type": "display_data"
    }
   ],
   "source": [
    "# Usually NA values need to be dropped\n",
    "sns.histplot(da[\"BMXHT\"].dropna())"
   ]
  },
  {
   "cell_type": "code",
   "execution_count": 283,
   "id": "54f67bdc-ac2f-4e78-b30b-ea718d3f8bc9",
   "metadata": {},
   "outputs": [
    {
     "data": {
      "text/plain": [
       "<AxesSubplot:xlabel='BMXHT', ylabel='Count'>"
      ]
     },
     "execution_count": 283,
     "metadata": {},
     "output_type": "execute_result"
    },
    {
     "data": {
      "image/png": "[encoded data removed]",
      "text/plain": [
       "<Figure size 432x288 with 1 Axes>"
      ]
     },
     "metadata": {
      "needs_background": "light"
     },
     "output_type": "display_data"
    }
   ],
   "source": [
    "# Try different bin values to see effects like rounding, etc.\n",
    "sns.histplot(da[\"BMXHT\"].dropna(),bins=100)"
   ]
  },
  {
   "cell_type": "code",
   "execution_count": 284,
   "id": "969d3a43-62b0-4862-9831-42d0c5edac9b",
   "metadata": {},
   "outputs": [
    {
     "data": {
      "image/png": "[encoded data removed]",
      "text/plain": [
       "<Figure size 432x288 with 1 Axes>"
      ]
     },
     "metadata": {
      "needs_background": "light"
     },
     "output_type": "display_data"
    }
   ],
   "source": [
    "sns.histplot(da[da[\"RIAGENDRx\"]==\"Male\"][\"BMXHT\"].dropna(),color='blue',alpha=0.5)\n",
    "sns.histplot(da[da[\"RIAGENDRx\"]==\"Female\"][\"BMXHT\"].dropna(),color='red',alpha=0.5)\n",
    "plt.xlabel('Height')\n",
    "plt.legend(['Male','Female'])\n",
    "plt.show()"
   ]
  },
  {
   "cell_type": "code",
   "execution_count": 285,
   "id": "0110afcd-40fb-48eb-b54d-d1cda4d807c1",
   "metadata": {},
   "outputs": [
    {
     "data": {
      "text/plain": [
       "<AxesSubplot:xlabel='BMXHT', ylabel='RIAGENDRx'>"
      ]
     },
     "execution_count": 285,
     "metadata": {},
     "output_type": "execute_result"
    },
    {
     "data": {
      "image/png": "[encoded data removed]",
      "text/plain": [
       "<Figure size 432x288 with 1 Axes>"
      ]
     },
     "metadata": {
      "needs_background": "light"
     },
     "output_type": "display_data"
    }
   ],
   "source": [
    "sns.boxplot(x = da[\"BMXHT\"].dropna(), y = da[\"RIAGENDRx\"])"
   ]
  },
  {
   "cell_type": "markdown",
   "id": "02bbada8-ab47-499a-9fc8-57082b8b6f2a",
   "metadata": {},
   "source": [
    "#### Q4: Boxplots of Blood Pressure"
   ]
  },
  {
   "cell_type": "code",
   "execution_count": 286,
   "id": "0d654de4-db24-4d3b-920f-414f0af5f7ed",
   "metadata": {},
   "outputs": [
    {
     "data": {
      "text/plain": [
       "<AxesSubplot:>"
      ]
     },
     "execution_count": 286,
     "metadata": {},
     "output_type": "execute_result"
    },
    {
     "data": {
      "image/png": "[encoded data removed]",
      "text/plain": [
       "<Figure size 432x288 with 1 Axes>"
      ]
     },
     "metadata": {
      "needs_background": "light"
     },
     "output_type": "display_data"
    }
   ],
   "source": [
    "# First and Second Systolic blood pressure\n",
    "# Note: it is different if we pass data or x & y\n",
    "# - data: we can pass several quantitative variables\n",
    "# - x & y: x quatitative variable is stratified/grouped according to qualitative/categorical y\n",
    "sns.boxplot(data = da[[\"BPXSY1\",\"BPXSY2\"]].dropna())"
   ]
  },
  {
   "cell_type": "code",
   "execution_count": 287,
   "id": "dc174b8c-3b40-4d53-87f6-773a3778997e",
   "metadata": {},
   "outputs": [
    {
     "data": {
      "text/plain": [
       "0.45874464518532315"
      ]
     },
     "execution_count": 287,
     "metadata": {},
     "output_type": "execute_result"
    }
   ],
   "source": [
    "# Proportion of samples with second measurement lower\n",
    "dx = da[\"BPXSY1\"]-da[\"BPXSY2\"]\n",
    "dx = dx.dropna()\n",
    "dx[dx>0].count()/dx.count()"
   ]
  },
  {
   "cell_type": "markdown",
   "id": "dbaface1-6bdd-4b06-98ae-419ddfc40b99",
   "metadata": {},
   "source": [
    "#### Q5: Grouping in Frequency Tables\n",
    "\n",
    "Grouping by\n",
    "- total number of people in household (DMDHHSIZ)\n",
    "- education attainment (DMDEDUC2)\n",
    "- age\n",
    "- gender"
   ]
  },
  {
   "cell_type": "code",
   "execution_count": 291,
   "id": "41e3078a-66ee-4e9c-8772-5fdbdabb874e",
   "metadata": {},
   "outputs": [
    {
     "data": {
      "text/plain": [
       "Some college/AA    1621\n",
       "College            1366\n",
       "HS/GED             1186\n",
       "<9                  655\n",
       "9-11                643\n",
       "Don't know            3\n",
       "Name: DMDEDUC2x, dtype: int64"
      ]
     },
     "execution_count": 291,
     "metadata": {},
     "output_type": "execute_result"
    }
   ],
   "source": [
    "da[\"DMDEDUC2x\"] = da.DMDEDUC2.replace({1: \"<9\", 2: \"9-11\", 3: \"HS/GED\", 4: \"Some college/AA\", 5: \"College\", \n",
    "                                       7: \"Refused\", 9: \"Don't know\"})\n",
    "da.DMDEDUC2x.value_counts()"
   ]
  },
  {
   "cell_type": "code",
   "execution_count": 292,
   "id": "a05b71e9-a9bc-4fcb-800b-13552a8a4f7c",
   "metadata": {},
   "outputs": [
    {
     "data": {
      "text/plain": [
       "DMDEDUC2x        DMDHHSIZ\n",
       "9-11             2           143\n",
       "                 3           105\n",
       "                 4            98\n",
       "                 5            94\n",
       "                 1            75\n",
       "                 6            73\n",
       "                 7            55\n",
       "<9               2           147\n",
       "                 5            97\n",
       "                 3            96\n",
       "                 4            87\n",
       "                 7            85\n",
       "                 1            72\n",
       "                 6            71\n",
       "College          2           475\n",
       "                 3           265\n",
       "                 4           226\n",
       "                 1           195\n",
       "                 5           130\n",
       "                 6            40\n",
       "                 7            35\n",
       "Don't know       2             2\n",
       "                 5             1\n",
       "HS/GED           2           321\n",
       "                 3           203\n",
       "                 4           192\n",
       "                 1           181\n",
       "                 5           130\n",
       "                 7            81\n",
       "                 6            78\n",
       "Some college/AA  2           436\n",
       "                 3           313\n",
       "                 4           274\n",
       "                 1           245\n",
       "                 5           198\n",
       "                 6            82\n",
       "                 7            73\n",
       "Name: DMDHHSIZ, dtype: int64"
      ]
     },
     "execution_count": 292,
     "metadata": {},
     "output_type": "execute_result"
    }
   ],
   "source": [
    "da.groupby(\"DMDEDUC2x\")[\"DMDHHSIZ\"].value_counts()"
   ]
  },
  {
   "cell_type": "code",
   "execution_count": 293,
   "id": "f7d8b697-2e36-4b8c-a6d8-ae67e570d03e",
   "metadata": {},
   "outputs": [
    {
     "data": {
      "text/html": [
       "<div>\n",
       "<style scoped>\n",
       "    .dataframe tbody tr th:only-of-type {\n",
       "        vertical-align: middle;\n",
       "    }\n",
       "\n",
       "    .dataframe tbody tr th {\n",
       "        vertical-align: top;\n",
       "    }\n",
       "\n",
       "    .dataframe thead th {\n",
       "        text-align: right;\n",
       "    }\n",
       "</style>\n",
       "<table border=\"1\" class=\"dataframe\">\n",
       "  <thead>\n",
       "    <tr style=\"text-align: right;\">\n",
       "      <th>DMDHHSIZ</th>\n",
       "      <th>1</th>\n",
       "      <th>2</th>\n",
       "      <th>3</th>\n",
       "      <th>4</th>\n",
       "      <th>5</th>\n",
       "      <th>6</th>\n",
       "      <th>7</th>\n",
       "    </tr>\n",
       "    <tr>\n",
       "      <th>DMDEDUC2x</th>\n",
       "      <th></th>\n",
       "      <th></th>\n",
       "      <th></th>\n",
       "      <th></th>\n",
       "      <th></th>\n",
       "      <th></th>\n",
       "      <th></th>\n",
       "    </tr>\n",
       "  </thead>\n",
       "  <tbody>\n",
       "    <tr>\n",
       "      <th>9-11</th>\n",
       "      <td>0.116641</td>\n",
       "      <td>0.222395</td>\n",
       "      <td>0.163297</td>\n",
       "      <td>0.152411</td>\n",
       "      <td>0.146190</td>\n",
       "      <td>0.113530</td>\n",
       "      <td>0.085537</td>\n",
       "    </tr>\n",
       "    <tr>\n",
       "      <th>&lt;9</th>\n",
       "      <td>0.109924</td>\n",
       "      <td>0.224427</td>\n",
       "      <td>0.146565</td>\n",
       "      <td>0.132824</td>\n",
       "      <td>0.148092</td>\n",
       "      <td>0.108397</td>\n",
       "      <td>0.129771</td>\n",
       "    </tr>\n",
       "    <tr>\n",
       "      <th>College</th>\n",
       "      <td>0.142753</td>\n",
       "      <td>0.347731</td>\n",
       "      <td>0.193997</td>\n",
       "      <td>0.165447</td>\n",
       "      <td>0.095168</td>\n",
       "      <td>0.029283</td>\n",
       "      <td>0.025622</td>\n",
       "    </tr>\n",
       "    <tr>\n",
       "      <th>Don't know</th>\n",
       "      <td>NaN</td>\n",
       "      <td>0.666667</td>\n",
       "      <td>NaN</td>\n",
       "      <td>NaN</td>\n",
       "      <td>0.333333</td>\n",
       "      <td>NaN</td>\n",
       "      <td>NaN</td>\n",
       "    </tr>\n",
       "    <tr>\n",
       "      <th>HS/GED</th>\n",
       "      <td>0.152614</td>\n",
       "      <td>0.270658</td>\n",
       "      <td>0.171164</td>\n",
       "      <td>0.161889</td>\n",
       "      <td>0.109612</td>\n",
       "      <td>0.065767</td>\n",
       "      <td>0.068297</td>\n",
       "    </tr>\n",
       "    <tr>\n",
       "      <th>Some college/AA</th>\n",
       "      <td>0.151141</td>\n",
       "      <td>0.268970</td>\n",
       "      <td>0.193091</td>\n",
       "      <td>0.169031</td>\n",
       "      <td>0.122147</td>\n",
       "      <td>0.050586</td>\n",
       "      <td>0.045034</td>\n",
       "    </tr>\n",
       "  </tbody>\n",
       "</table>\n",
       "</div>"
      ],
      "text/plain": [
       "DMDHHSIZ                1         2         3         4         5         6  \\\n",
       "DMDEDUC2x                                                                     \n",
       "9-11             0.116641  0.222395  0.163297  0.152411  0.146190  0.113530   \n",
       "<9               0.109924  0.224427  0.146565  0.132824  0.148092  0.108397   \n",
       "College          0.142753  0.347731  0.193997  0.165447  0.095168  0.029283   \n",
       "Don't know            NaN  0.666667       NaN       NaN  0.333333       NaN   \n",
       "HS/GED           0.152614  0.270658  0.171164  0.161889  0.109612  0.065767   \n",
       "Some college/AA  0.151141  0.268970  0.193091  0.169031  0.122147  0.050586   \n",
       "\n",
       "DMDHHSIZ                7  \n",
       "DMDEDUC2x                  \n",
       "9-11             0.085537  \n",
       "<9               0.129771  \n",
       "College          0.025622  \n",
       "Don't know            NaN  \n",
       "HS/GED           0.068297  \n",
       "Some college/AA  0.045034  "
      ]
     },
     "execution_count": 293,
     "metadata": {},
     "output_type": "execute_result"
    }
   ],
   "source": [
    "dx = da.groupby(\"DMDEDUC2x\")[\"DMDHHSIZ\"].value_counts()\n",
    "dx = dx.unstack()\n",
    "dx = dx.apply(lambda x: x/x.sum(), axis=1)\n",
    "dx"
   ]
  },
  {
   "cell_type": "markdown",
   "id": "c2bc2fbd-d536-4389-8f25-9d034df39113",
   "metadata": {},
   "source": [
    "People who live in a houshold of 2 or 3 people are the ones most likely to have a higher education level."
   ]
  },
  {
   "cell_type": "code",
   "execution_count": 360,
   "id": "a31a2c0e-e40c-4c35-a3e0-7bfdc85cd70e",
   "metadata": {},
   "outputs": [
    {
     "data": {
      "text/plain": [
       "RIAGENDRx  DMDEDUC2x      \n",
       "Female     9-11               5.0\n",
       "           <9                 5.0\n",
       "           College            4.0\n",
       "           HS/GED             5.0\n",
       "           Some college/AA    4.0\n",
       "Male       9-11               5.0\n",
       "           <9                 5.0\n",
       "           College            3.0\n",
       "           HS/GED             4.0\n",
       "           Some college/AA    4.0\n",
       "Name: DMDHHSIZ, dtype: float64"
      ]
     },
     "execution_count": 360,
     "metadata": {},
     "output_type": "execute_result"
    }
   ],
   "source": [
    "# Restrict the sample to people between 30 and 40 years of age.\n",
    "# Then calculate the median household size for women and men\n",
    "# within each level of educational attainment.\n",
    "dx = da[(da['RIDAGEYR']>30) & (da['RIDAGEYR']<=40)]\n",
    "dx = dx.groupby([\"RIAGENDRx\",\"DMDEDUC2x\"])[\"DMDHHSIZ\"].median()\n",
    "dx"
   ]
  },
  {
   "cell_type": "markdown",
   "id": "2dfa207b-83e1-44da-ad59-bcd6f2d4690f",
   "metadata": {},
   "source": [
    "#### Q6\n",
    "\n",
    "The participants can be clustered into \"masked variance units\" (MVU) based on every combination of the variables [SDMVSTRA](https://wwwn.cdc.gov/Nchs/Nhanes/2015-2016/DEMO_I.htm#SDMVSTRA) and [SDMVPSU](https://wwwn.cdc.gov/Nchs/Nhanes/2015-2016/DEMO_I.htm#SDMVPSU).  Calculate the mean age ([RIDAGEYR](https://wwwn.cdc.gov/Nchs/Nhanes/2015-2016/DEMO_I.htm#RIDAGEYR)), height ([BMXHT](https://wwwn.cdc.gov/Nchs/Nhanes/2015-2016/BMX_I.htm#BMXHT)), and BMI ([BMXBMI](https://wwwn.cdc.gov/Nchs/Nhanes/2015-2016/BMX_I.htm#BMXBMI)) for each gender ([RIAGENDR](https://wwwn.cdc.gov/Nchs/Nhanes/2015-2016/DEMO_I.htm#RIAGENDR)), within each MVU, and report the ratio between the largest and smallest mean (e.g. for height) across the MVUs."
   ]
  },
  {
   "cell_type": "code",
   "execution_count": 367,
   "id": "1ed6dd65-67ab-40e0-9c06-07f6ffef3911",
   "metadata": {},
   "outputs": [
    {
     "data": {
      "text/html": [
       "<div>\n",
       "<style scoped>\n",
       "    .dataframe tbody tr th:only-of-type {\n",
       "        vertical-align: middle;\n",
       "    }\n",
       "\n",
       "    .dataframe tbody tr th {\n",
       "        vertical-align: top;\n",
       "    }\n",
       "\n",
       "    .dataframe thead th {\n",
       "        text-align: right;\n",
       "    }\n",
       "</style>\n",
       "<table border=\"1\" class=\"dataframe\">\n",
       "  <thead>\n",
       "    <tr style=\"text-align: right;\">\n",
       "      <th></th>\n",
       "      <th></th>\n",
       "      <th></th>\n",
       "      <th>RIDAGEYR</th>\n",
       "      <th>BMXHT</th>\n",
       "      <th>BMXBMI</th>\n",
       "    </tr>\n",
       "    <tr>\n",
       "      <th>SDMVSTRA</th>\n",
       "      <th>SDMVPSU</th>\n",
       "      <th>RIAGENDRx</th>\n",
       "      <th></th>\n",
       "      <th></th>\n",
       "      <th></th>\n",
       "    </tr>\n",
       "  </thead>\n",
       "  <tbody>\n",
       "    <tr>\n",
       "      <th rowspan=\"4\" valign=\"top\">119</th>\n",
       "      <th rowspan=\"2\" valign=\"top\">1</th>\n",
       "      <th>Female</th>\n",
       "      <td>47.663265</td>\n",
       "      <td>159.570408</td>\n",
       "      <td>30.052041</td>\n",
       "    </tr>\n",
       "    <tr>\n",
       "      <th>Male</th>\n",
       "      <td>47.861111</td>\n",
       "      <td>172.741667</td>\n",
       "      <td>26.958333</td>\n",
       "    </tr>\n",
       "    <tr>\n",
       "      <th rowspan=\"2\" valign=\"top\">2</th>\n",
       "      <th>Female</th>\n",
       "      <td>52.987952</td>\n",
       "      <td>159.244578</td>\n",
       "      <td>27.849398</td>\n",
       "    </tr>\n",
       "    <tr>\n",
       "      <th>Male</th>\n",
       "      <td>54.363636</td>\n",
       "      <td>172.906818</td>\n",
       "      <td>27.160465</td>\n",
       "    </tr>\n",
       "    <tr>\n",
       "      <th rowspan=\"4\" valign=\"top\">120</th>\n",
       "      <th rowspan=\"2\" valign=\"top\">1</th>\n",
       "      <th>Female</th>\n",
       "      <td>43.636364</td>\n",
       "      <td>155.402041</td>\n",
       "      <td>32.419388</td>\n",
       "    </tr>\n",
       "    <tr>\n",
       "      <th>Male</th>\n",
       "      <td>43.130000</td>\n",
       "      <td>169.537755</td>\n",
       "      <td>30.939175</td>\n",
       "    </tr>\n",
       "    <tr>\n",
       "      <th rowspan=\"2\" valign=\"top\">2</th>\n",
       "      <th>Female</th>\n",
       "      <td>43.736111</td>\n",
       "      <td>159.218056</td>\n",
       "      <td>27.400000</td>\n",
       "    </tr>\n",
       "    <tr>\n",
       "      <th>Male</th>\n",
       "      <td>45.219178</td>\n",
       "      <td>173.075342</td>\n",
       "      <td>27.727397</td>\n",
       "    </tr>\n",
       "    <tr>\n",
       "      <th rowspan=\"4\" valign=\"top\">121</th>\n",
       "      <th rowspan=\"2\" valign=\"top\">1</th>\n",
       "      <th>Female</th>\n",
       "      <td>44.397959</td>\n",
       "      <td>158.871579</td>\n",
       "      <td>30.856842</td>\n",
       "    </tr>\n",
       "    <tr>\n",
       "      <th>Male</th>\n",
       "      <td>46.750000</td>\n",
       "      <td>172.177885</td>\n",
       "      <td>29.416505</td>\n",
       "    </tr>\n",
       "    <tr>\n",
       "      <th rowspan=\"2\" valign=\"top\">2</th>\n",
       "      <th>Female</th>\n",
       "      <td>44.376344</td>\n",
       "      <td>160.229032</td>\n",
       "      <td>26.470968</td>\n",
       "    </tr>\n",
       "    <tr>\n",
       "      <th>Male</th>\n",
       "      <td>42.063158</td>\n",
       "      <td>174.764516</td>\n",
       "      <td>26.273118</td>\n",
       "    </tr>\n",
       "    <tr>\n",
       "      <th rowspan=\"4\" valign=\"top\">122</th>\n",
       "      <th rowspan=\"2\" valign=\"top\">1</th>\n",
       "      <th>Female</th>\n",
       "      <td>42.897436</td>\n",
       "      <td>161.315385</td>\n",
       "      <td>29.447436</td>\n",
       "    </tr>\n",
       "    <tr>\n",
       "      <th>Male</th>\n",
       "      <td>44.653061</td>\n",
       "      <td>173.998969</td>\n",
       "      <td>28.528866</td>\n",
       "    </tr>\n",
       "    <tr>\n",
       "      <th rowspan=\"2\" valign=\"top\">2</th>\n",
       "      <th>Female</th>\n",
       "      <td>47.333333</td>\n",
       "      <td>157.231111</td>\n",
       "      <td>26.611111</td>\n",
       "    </tr>\n",
       "    <tr>\n",
       "      <th>Male</th>\n",
       "      <td>44.320000</td>\n",
       "      <td>170.332323</td>\n",
       "      <td>25.744444</td>\n",
       "    </tr>\n",
       "    <tr>\n",
       "      <th rowspan=\"4\" valign=\"top\">123</th>\n",
       "      <th rowspan=\"2\" valign=\"top\">1</th>\n",
       "      <th>Female</th>\n",
       "      <td>44.841121</td>\n",
       "      <td>162.059615</td>\n",
       "      <td>29.905769</td>\n",
       "    </tr>\n",
       "    <tr>\n",
       "      <th>Male</th>\n",
       "      <td>47.829787</td>\n",
       "      <td>174.315217</td>\n",
       "      <td>29.231522</td>\n",
       "    </tr>\n",
       "    <tr>\n",
       "      <th rowspan=\"2\" valign=\"top\">2</th>\n",
       "      <th>Female</th>\n",
       "      <td>46.457447</td>\n",
       "      <td>160.476596</td>\n",
       "      <td>30.641489</td>\n",
       "    </tr>\n",
       "    <tr>\n",
       "      <th>Male</th>\n",
       "      <td>52.126582</td>\n",
       "      <td>174.454430</td>\n",
       "      <td>28.811392</td>\n",
       "    </tr>\n",
       "    <tr>\n",
       "      <th rowspan=\"4\" valign=\"top\">124</th>\n",
       "      <th rowspan=\"2\" valign=\"top\">1</th>\n",
       "      <th>Female</th>\n",
       "      <td>51.664000</td>\n",
       "      <td>158.788710</td>\n",
       "      <td>29.533065</td>\n",
       "    </tr>\n",
       "    <tr>\n",
       "      <th>Male</th>\n",
       "      <td>50.750000</td>\n",
       "      <td>172.109009</td>\n",
       "      <td>28.614414</td>\n",
       "    </tr>\n",
       "    <tr>\n",
       "      <th rowspan=\"2\" valign=\"top\">2</th>\n",
       "      <th>Female</th>\n",
       "      <td>42.541667</td>\n",
       "      <td>162.853521</td>\n",
       "      <td>28.640845</td>\n",
       "    </tr>\n",
       "    <tr>\n",
       "      <th>Male</th>\n",
       "      <td>48.245614</td>\n",
       "      <td>174.291228</td>\n",
       "      <td>27.714035</td>\n",
       "    </tr>\n",
       "    <tr>\n",
       "      <th rowspan=\"4\" valign=\"top\">125</th>\n",
       "      <th rowspan=\"2\" valign=\"top\">1</th>\n",
       "      <th>Female</th>\n",
       "      <td>50.900901</td>\n",
       "      <td>160.762385</td>\n",
       "      <td>30.385321</td>\n",
       "    </tr>\n",
       "    <tr>\n",
       "      <th>Male</th>\n",
       "      <td>55.165289</td>\n",
       "      <td>173.631092</td>\n",
       "      <td>29.727731</td>\n",
       "    </tr>\n",
       "    <tr>\n",
       "      <th rowspan=\"2\" valign=\"top\">2</th>\n",
       "      <th>Female</th>\n",
       "      <td>51.660000</td>\n",
       "      <td>160.021429</td>\n",
       "      <td>28.564286</td>\n",
       "    </tr>\n",
       "    <tr>\n",
       "      <th>Male</th>\n",
       "      <td>49.705882</td>\n",
       "      <td>174.456863</td>\n",
       "      <td>29.143564</td>\n",
       "    </tr>\n",
       "    <tr>\n",
       "      <th rowspan=\"4\" valign=\"top\">126</th>\n",
       "      <th rowspan=\"2\" valign=\"top\">1</th>\n",
       "      <th>Female</th>\n",
       "      <td>46.229167</td>\n",
       "      <td>160.387500</td>\n",
       "      <td>31.262500</td>\n",
       "    </tr>\n",
       "    <tr>\n",
       "      <th>Male</th>\n",
       "      <td>48.416667</td>\n",
       "      <td>175.149398</td>\n",
       "      <td>29.033333</td>\n",
       "    </tr>\n",
       "    <tr>\n",
       "      <th rowspan=\"2\" valign=\"top\">2</th>\n",
       "      <th>Female</th>\n",
       "      <td>47.205882</td>\n",
       "      <td>160.892000</td>\n",
       "      <td>29.612121</td>\n",
       "    </tr>\n",
       "    <tr>\n",
       "      <th>Male</th>\n",
       "      <td>48.666667</td>\n",
       "      <td>174.713043</td>\n",
       "      <td>29.039130</td>\n",
       "    </tr>\n",
       "    <tr>\n",
       "      <th rowspan=\"4\" valign=\"top\">127</th>\n",
       "      <th rowspan=\"2\" valign=\"top\">1</th>\n",
       "      <th>Female</th>\n",
       "      <td>49.694444</td>\n",
       "      <td>157.422430</td>\n",
       "      <td>32.189720</td>\n",
       "    </tr>\n",
       "    <tr>\n",
       "      <th>Male</th>\n",
       "      <td>53.137931</td>\n",
       "      <td>171.545349</td>\n",
       "      <td>31.062353</td>\n",
       "    </tr>\n",
       "    <tr>\n",
       "      <th rowspan=\"2\" valign=\"top\">2</th>\n",
       "      <th>Female</th>\n",
       "      <td>51.486239</td>\n",
       "      <td>159.022936</td>\n",
       "      <td>30.770642</td>\n",
       "    </tr>\n",
       "    <tr>\n",
       "      <th>Male</th>\n",
       "      <td>54.070588</td>\n",
       "      <td>173.366667</td>\n",
       "      <td>30.557831</td>\n",
       "    </tr>\n",
       "    <tr>\n",
       "      <th rowspan=\"4\" valign=\"top\">128</th>\n",
       "      <th rowspan=\"2\" valign=\"top\">1</th>\n",
       "      <th>Female</th>\n",
       "      <td>55.638462</td>\n",
       "      <td>156.339063</td>\n",
       "      <td>32.303125</td>\n",
       "    </tr>\n",
       "    <tr>\n",
       "      <th>Male</th>\n",
       "      <td>53.673267</td>\n",
       "      <td>169.325000</td>\n",
       "      <td>31.749000</td>\n",
       "    </tr>\n",
       "    <tr>\n",
       "      <th rowspan=\"2\" valign=\"top\">2</th>\n",
       "      <th>Female</th>\n",
       "      <td>45.589744</td>\n",
       "      <td>160.437179</td>\n",
       "      <td>27.491026</td>\n",
       "    </tr>\n",
       "    <tr>\n",
       "      <th>Male</th>\n",
       "      <td>45.822785</td>\n",
       "      <td>172.400000</td>\n",
       "      <td>26.835443</td>\n",
       "    </tr>\n",
       "    <tr>\n",
       "      <th rowspan=\"4\" valign=\"top\">129</th>\n",
       "      <th rowspan=\"2\" valign=\"top\">1</th>\n",
       "      <th>Female</th>\n",
       "      <td>45.329787</td>\n",
       "      <td>156.900000</td>\n",
       "      <td>29.019149</td>\n",
       "    </tr>\n",
       "    <tr>\n",
       "      <th>Male</th>\n",
       "      <td>43.922222</td>\n",
       "      <td>171.094318</td>\n",
       "      <td>26.493182</td>\n",
       "    </tr>\n",
       "    <tr>\n",
       "      <th rowspan=\"2\" valign=\"top\">2</th>\n",
       "      <th>Female</th>\n",
       "      <td>43.500000</td>\n",
       "      <td>161.034259</td>\n",
       "      <td>29.429630</td>\n",
       "    </tr>\n",
       "    <tr>\n",
       "      <th>Male</th>\n",
       "      <td>45.775510</td>\n",
       "      <td>173.138298</td>\n",
       "      <td>28.961702</td>\n",
       "    </tr>\n",
       "    <tr>\n",
       "      <th rowspan=\"4\" valign=\"top\">130</th>\n",
       "      <th rowspan=\"2\" valign=\"top\">1</th>\n",
       "      <th>Female</th>\n",
       "      <td>47.810526</td>\n",
       "      <td>161.977895</td>\n",
       "      <td>30.700000</td>\n",
       "    </tr>\n",
       "    <tr>\n",
       "      <th>Male</th>\n",
       "      <td>50.516854</td>\n",
       "      <td>176.974157</td>\n",
       "      <td>30.337079</td>\n",
       "    </tr>\n",
       "    <tr>\n",
       "      <th rowspan=\"2\" valign=\"top\">2</th>\n",
       "      <th>Female</th>\n",
       "      <td>50.833333</td>\n",
       "      <td>160.060577</td>\n",
       "      <td>31.490385</td>\n",
       "    </tr>\n",
       "    <tr>\n",
       "      <th>Male</th>\n",
       "      <td>50.535354</td>\n",
       "      <td>175.061224</td>\n",
       "      <td>29.237755</td>\n",
       "    </tr>\n",
       "    <tr>\n",
       "      <th rowspan=\"4\" valign=\"top\">131</th>\n",
       "      <th rowspan=\"2\" valign=\"top\">1</th>\n",
       "      <th>Female</th>\n",
       "      <td>54.893617</td>\n",
       "      <td>161.989362</td>\n",
       "      <td>30.061702</td>\n",
       "    </tr>\n",
       "    <tr>\n",
       "      <th>Male</th>\n",
       "      <td>53.140187</td>\n",
       "      <td>175.610476</td>\n",
       "      <td>28.259615</td>\n",
       "    </tr>\n",
       "    <tr>\n",
       "      <th rowspan=\"2\" valign=\"top\">2</th>\n",
       "      <th>Female</th>\n",
       "      <td>45.000000</td>\n",
       "      <td>161.673810</td>\n",
       "      <td>32.984127</td>\n",
       "    </tr>\n",
       "    <tr>\n",
       "      <th>Male</th>\n",
       "      <td>46.778846</td>\n",
       "      <td>175.091346</td>\n",
       "      <td>30.077885</td>\n",
       "    </tr>\n",
       "    <tr>\n",
       "      <th rowspan=\"4\" valign=\"top\">132</th>\n",
       "      <th rowspan=\"2\" valign=\"top\">1</th>\n",
       "      <th>Female</th>\n",
       "      <td>43.210526</td>\n",
       "      <td>161.508421</td>\n",
       "      <td>29.848421</td>\n",
       "    </tr>\n",
       "    <tr>\n",
       "      <th>Male</th>\n",
       "      <td>42.380435</td>\n",
       "      <td>172.534066</td>\n",
       "      <td>28.546154</td>\n",
       "    </tr>\n",
       "    <tr>\n",
       "      <th rowspan=\"2\" valign=\"top\">2</th>\n",
       "      <th>Female</th>\n",
       "      <td>51.700000</td>\n",
       "      <td>159.138281</td>\n",
       "      <td>30.540625</td>\n",
       "    </tr>\n",
       "    <tr>\n",
       "      <th>Male</th>\n",
       "      <td>49.038760</td>\n",
       "      <td>172.809524</td>\n",
       "      <td>28.966667</td>\n",
       "    </tr>\n",
       "    <tr>\n",
       "      <th rowspan=\"4\" valign=\"top\">133</th>\n",
       "      <th rowspan=\"2\" valign=\"top\">1</th>\n",
       "      <th>Female</th>\n",
       "      <td>45.105882</td>\n",
       "      <td>158.295122</td>\n",
       "      <td>27.959259</td>\n",
       "    </tr>\n",
       "    <tr>\n",
       "      <th>Male</th>\n",
       "      <td>44.054795</td>\n",
       "      <td>171.509722</td>\n",
       "      <td>27.495833</td>\n",
       "    </tr>\n",
       "    <tr>\n",
       "      <th rowspan=\"2\" valign=\"top\">2</th>\n",
       "      <th>Female</th>\n",
       "      <td>47.063158</td>\n",
       "      <td>158.627368</td>\n",
       "      <td>29.000000</td>\n",
       "    </tr>\n",
       "    <tr>\n",
       "      <th>Male</th>\n",
       "      <td>47.489796</td>\n",
       "      <td>171.179167</td>\n",
       "      <td>27.966667</td>\n",
       "    </tr>\n",
       "  </tbody>\n",
       "</table>\n",
       "</div>"
      ],
      "text/plain": [
       "                             RIDAGEYR       BMXHT     BMXBMI\n",
       "SDMVSTRA SDMVPSU RIAGENDRx                                  \n",
       "119      1       Female     47.663265  159.570408  30.052041\n",
       "                 Male       47.861111  172.741667  26.958333\n",
       "         2       Female     52.987952  159.244578  27.849398\n",
       "                 Male       54.363636  172.906818  27.160465\n",
       "120      1       Female     43.636364  155.402041  32.419388\n",
       "                 Male       43.130000  169.537755  30.939175\n",
       "         2       Female     43.736111  159.218056  27.400000\n",
       "                 Male       45.219178  173.075342  27.727397\n",
       "121      1       Female     44.397959  158.871579  30.856842\n",
       "                 Male       46.750000  172.177885  29.416505\n",
       "         2       Female     44.376344  160.229032  26.470968\n",
       "                 Male       42.063158  174.764516  26.273118\n",
       "122      1       Female     42.897436  161.315385  29.447436\n",
       "                 Male       44.653061  173.998969  28.528866\n",
       "         2       Female     47.333333  157.231111  26.611111\n",
       "                 Male       44.320000  170.332323  25.744444\n",
       "123      1       Female     44.841121  162.059615  29.905769\n",
       "                 Male       47.829787  174.315217  29.231522\n",
       "         2       Female     46.457447  160.476596  30.641489\n",
       "                 Male       52.126582  174.454430  28.811392\n",
       "124      1       Female     51.664000  158.788710  29.533065\n",
       "                 Male       50.750000  172.109009  28.614414\n",
       "         2       Female     42.541667  162.853521  28.640845\n",
       "                 Male       48.245614  174.291228  27.714035\n",
       "125      1       Female     50.900901  160.762385  30.385321\n",
       "                 Male       55.165289  173.631092  29.727731\n",
       "         2       Female     51.660000  160.021429  28.564286\n",
       "                 Male       49.705882  174.456863  29.143564\n",
       "126      1       Female     46.229167  160.387500  31.262500\n",
       "                 Male       48.416667  175.149398  29.033333\n",
       "         2       Female     47.205882  160.892000  29.612121\n",
       "                 Male       48.666667  174.713043  29.039130\n",
       "127      1       Female     49.694444  157.422430  32.189720\n",
       "                 Male       53.137931  171.545349  31.062353\n",
       "         2       Female     51.486239  159.022936  30.770642\n",
       "                 Male       54.070588  173.366667  30.557831\n",
       "128      1       Female     55.638462  156.339063  32.303125\n",
       "                 Male       53.673267  169.325000  31.749000\n",
       "         2       Female     45.589744  160.437179  27.491026\n",
       "                 Male       45.822785  172.400000  26.835443\n",
       "129      1       Female     45.329787  156.900000  29.019149\n",
       "                 Male       43.922222  171.094318  26.493182\n",
       "         2       Female     43.500000  161.034259  29.429630\n",
       "                 Male       45.775510  173.138298  28.961702\n",
       "130      1       Female     47.810526  161.977895  30.700000\n",
       "                 Male       50.516854  176.974157  30.337079\n",
       "         2       Female     50.833333  160.060577  31.490385\n",
       "                 Male       50.535354  175.061224  29.237755\n",
       "131      1       Female     54.893617  161.989362  30.061702\n",
       "                 Male       53.140187  175.610476  28.259615\n",
       "         2       Female     45.000000  161.673810  32.984127\n",
       "                 Male       46.778846  175.091346  30.077885\n",
       "132      1       Female     43.210526  161.508421  29.848421\n",
       "                 Male       42.380435  172.534066  28.546154\n",
       "         2       Female     51.700000  159.138281  30.540625\n",
       "                 Male       49.038760  172.809524  28.966667\n",
       "133      1       Female     45.105882  158.295122  27.959259\n",
       "                 Male       44.054795  171.509722  27.495833\n",
       "         2       Female     47.063158  158.627368  29.000000\n",
       "                 Male       47.489796  171.179167  27.966667"
      ]
     },
     "execution_count": 367,
     "metadata": {},
     "output_type": "execute_result"
    }
   ],
   "source": [
    "dx = da.groupby([\"SDMVSTRA\",\"SDMVPSU\",\"RIAGENDRx\"])[[\"RIDAGEYR\",\"BMXHT\",\"BMXBMI\"]].mean()\n",
    "dx"
   ]
  },
  {
   "cell_type": "code",
   "execution_count": 380,
   "id": "39144884-db90-420a-9578-45a15e30d9e5",
   "metadata": {},
   "outputs": [],
   "source": [
    "# Inter-quartile range (IQR) for age, height, and BMI for each gender and each MVU.\n",
    "# Report the ratio between the largest and smalles IQR across the MVUs.\n",
    "dx1 = da.groupby([\"SDMVSTRA\",\"SDMVPSU\",\"RIAGENDRx\"])[[\"RIDAGEYR\",\"BMXHT\",\"BMXBMI\"]].quantile(0.25)\n",
    "dx2 = da.groupby([\"SDMVSTRA\",\"SDMVPSU\",\"RIAGENDRx\"])[[\"RIDAGEYR\",\"BMXHT\",\"BMXBMI\"]].quantile(0.75)"
   ]
  },
  {
   "cell_type": "code",
   "execution_count": 379,
   "id": "5b9042dc-95f4-45d8-be77-fc9d02f48e00",
   "metadata": {},
   "outputs": [
    {
     "data": {
      "text/html": [
       "<div>\n",
       "<style scoped>\n",
       "    .dataframe tbody tr th:only-of-type {\n",
       "        vertical-align: middle;\n",
       "    }\n",
       "\n",
       "    .dataframe tbody tr th {\n",
       "        vertical-align: top;\n",
       "    }\n",
       "\n",
       "    .dataframe thead th {\n",
       "        text-align: right;\n",
       "    }\n",
       "</style>\n",
       "<table border=\"1\" class=\"dataframe\">\n",
       "  <thead>\n",
       "    <tr style=\"text-align: right;\">\n",
       "      <th></th>\n",
       "      <th></th>\n",
       "      <th></th>\n",
       "      <th>RIDAGEYR</th>\n",
       "      <th>BMXHT</th>\n",
       "      <th>BMXBMI</th>\n",
       "    </tr>\n",
       "    <tr>\n",
       "      <th>SDMVSTRA</th>\n",
       "      <th>SDMVPSU</th>\n",
       "      <th>RIAGENDRx</th>\n",
       "      <th></th>\n",
       "      <th></th>\n",
       "      <th></th>\n",
       "    </tr>\n",
       "  </thead>\n",
       "  <tbody>\n",
       "    <tr>\n",
       "      <th rowspan=\"4\" valign=\"top\">119</th>\n",
       "      <th rowspan=\"2\" valign=\"top\">1</th>\n",
       "      <th>Female</th>\n",
       "      <td>31.25</td>\n",
       "      <td>9.325</td>\n",
       "      <td>9.750</td>\n",
       "    </tr>\n",
       "    <tr>\n",
       "      <th>Male</th>\n",
       "      <td>29.75</td>\n",
       "      <td>9.000</td>\n",
       "      <td>5.350</td>\n",
       "    </tr>\n",
       "    <tr>\n",
       "      <th rowspan=\"2\" valign=\"top\">2</th>\n",
       "      <th>Female</th>\n",
       "      <td>33.50</td>\n",
       "      <td>9.950</td>\n",
       "      <td>9.350</td>\n",
       "    </tr>\n",
       "    <tr>\n",
       "      <th>Male</th>\n",
       "      <td>29.00</td>\n",
       "      <td>11.225</td>\n",
       "      <td>5.300</td>\n",
       "    </tr>\n",
       "    <tr>\n",
       "      <th rowspan=\"4\" valign=\"top\">120</th>\n",
       "      <th rowspan=\"2\" valign=\"top\">1</th>\n",
       "      <th>Female</th>\n",
       "      <td>26.50</td>\n",
       "      <td>8.750</td>\n",
       "      <td>8.775</td>\n",
       "    </tr>\n",
       "    <tr>\n",
       "      <th>Male</th>\n",
       "      <td>23.75</td>\n",
       "      <td>12.125</td>\n",
       "      <td>9.400</td>\n",
       "    </tr>\n",
       "    <tr>\n",
       "      <th rowspan=\"2\" valign=\"top\">2</th>\n",
       "      <th>Female</th>\n",
       "      <td>25.75</td>\n",
       "      <td>10.550</td>\n",
       "      <td>7.750</td>\n",
       "    </tr>\n",
       "    <tr>\n",
       "      <th>Male</th>\n",
       "      <td>26.00</td>\n",
       "      <td>10.500</td>\n",
       "      <td>7.100</td>\n",
       "    </tr>\n",
       "    <tr>\n",
       "      <th rowspan=\"4\" valign=\"top\">121</th>\n",
       "      <th rowspan=\"2\" valign=\"top\">1</th>\n",
       "      <th>Female</th>\n",
       "      <td>26.25</td>\n",
       "      <td>9.150</td>\n",
       "      <td>9.000</td>\n",
       "    </tr>\n",
       "    <tr>\n",
       "      <th>Male</th>\n",
       "      <td>34.50</td>\n",
       "      <td>10.725</td>\n",
       "      <td>7.500</td>\n",
       "    </tr>\n",
       "    <tr>\n",
       "      <th rowspan=\"2\" valign=\"top\">2</th>\n",
       "      <th>Female</th>\n",
       "      <td>26.00</td>\n",
       "      <td>9.600</td>\n",
       "      <td>8.100</td>\n",
       "    </tr>\n",
       "    <tr>\n",
       "      <th>Male</th>\n",
       "      <td>25.50</td>\n",
       "      <td>8.600</td>\n",
       "      <td>5.700</td>\n",
       "    </tr>\n",
       "    <tr>\n",
       "      <th rowspan=\"4\" valign=\"top\">122</th>\n",
       "      <th rowspan=\"2\" valign=\"top\">1</th>\n",
       "      <th>Female</th>\n",
       "      <td>24.00</td>\n",
       "      <td>10.400</td>\n",
       "      <td>9.875</td>\n",
       "    </tr>\n",
       "    <tr>\n",
       "      <th>Male</th>\n",
       "      <td>29.50</td>\n",
       "      <td>9.400</td>\n",
       "      <td>7.700</td>\n",
       "    </tr>\n",
       "    <tr>\n",
       "      <th rowspan=\"2\" valign=\"top\">2</th>\n",
       "      <th>Female</th>\n",
       "      <td>25.00</td>\n",
       "      <td>7.575</td>\n",
       "      <td>8.475</td>\n",
       "    </tr>\n",
       "    <tr>\n",
       "      <th>Male</th>\n",
       "      <td>30.00</td>\n",
       "      <td>10.150</td>\n",
       "      <td>4.100</td>\n",
       "    </tr>\n",
       "    <tr>\n",
       "      <th rowspan=\"4\" valign=\"top\">123</th>\n",
       "      <th rowspan=\"2\" valign=\"top\">1</th>\n",
       "      <th>Female</th>\n",
       "      <td>30.50</td>\n",
       "      <td>9.675</td>\n",
       "      <td>10.450</td>\n",
       "    </tr>\n",
       "    <tr>\n",
       "      <th>Male</th>\n",
       "      <td>28.25</td>\n",
       "      <td>9.350</td>\n",
       "      <td>8.050</td>\n",
       "    </tr>\n",
       "    <tr>\n",
       "      <th rowspan=\"2\" valign=\"top\">2</th>\n",
       "      <th>Female</th>\n",
       "      <td>34.50</td>\n",
       "      <td>11.200</td>\n",
       "      <td>9.975</td>\n",
       "    </tr>\n",
       "    <tr>\n",
       "      <th>Male</th>\n",
       "      <td>31.50</td>\n",
       "      <td>9.900</td>\n",
       "      <td>8.100</td>\n",
       "    </tr>\n",
       "    <tr>\n",
       "      <th rowspan=\"4\" valign=\"top\">124</th>\n",
       "      <th rowspan=\"2\" valign=\"top\">1</th>\n",
       "      <th>Female</th>\n",
       "      <td>27.00</td>\n",
       "      <td>8.375</td>\n",
       "      <td>8.950</td>\n",
       "    </tr>\n",
       "    <tr>\n",
       "      <th>Male</th>\n",
       "      <td>32.00</td>\n",
       "      <td>9.800</td>\n",
       "      <td>6.100</td>\n",
       "    </tr>\n",
       "    <tr>\n",
       "      <th rowspan=\"2\" valign=\"top\">2</th>\n",
       "      <th>Female</th>\n",
       "      <td>23.50</td>\n",
       "      <td>8.650</td>\n",
       "      <td>9.000</td>\n",
       "    </tr>\n",
       "    <tr>\n",
       "      <th>Male</th>\n",
       "      <td>31.00</td>\n",
       "      <td>11.600</td>\n",
       "      <td>8.700</td>\n",
       "    </tr>\n",
       "    <tr>\n",
       "      <th rowspan=\"4\" valign=\"top\">125</th>\n",
       "      <th rowspan=\"2\" valign=\"top\">1</th>\n",
       "      <th>Female</th>\n",
       "      <td>31.00</td>\n",
       "      <td>9.100</td>\n",
       "      <td>8.000</td>\n",
       "    </tr>\n",
       "    <tr>\n",
       "      <th>Male</th>\n",
       "      <td>29.00</td>\n",
       "      <td>10.350</td>\n",
       "      <td>8.300</td>\n",
       "    </tr>\n",
       "    <tr>\n",
       "      <th rowspan=\"2\" valign=\"top\">2</th>\n",
       "      <th>Female</th>\n",
       "      <td>32.25</td>\n",
       "      <td>10.675</td>\n",
       "      <td>10.325</td>\n",
       "    </tr>\n",
       "    <tr>\n",
       "      <th>Male</th>\n",
       "      <td>33.50</td>\n",
       "      <td>7.925</td>\n",
       "      <td>7.900</td>\n",
       "    </tr>\n",
       "    <tr>\n",
       "      <th rowspan=\"4\" valign=\"top\">126</th>\n",
       "      <th rowspan=\"2\" valign=\"top\">1</th>\n",
       "      <th>Female</th>\n",
       "      <td>30.25</td>\n",
       "      <td>8.500</td>\n",
       "      <td>10.675</td>\n",
       "    </tr>\n",
       "    <tr>\n",
       "      <th>Male</th>\n",
       "      <td>36.25</td>\n",
       "      <td>10.450</td>\n",
       "      <td>8.000</td>\n",
       "    </tr>\n",
       "    <tr>\n",
       "      <th rowspan=\"2\" valign=\"top\">2</th>\n",
       "      <th>Female</th>\n",
       "      <td>31.75</td>\n",
       "      <td>12.025</td>\n",
       "      <td>10.350</td>\n",
       "    </tr>\n",
       "    <tr>\n",
       "      <th>Male</th>\n",
       "      <td>34.00</td>\n",
       "      <td>8.125</td>\n",
       "      <td>6.850</td>\n",
       "    </tr>\n",
       "    <tr>\n",
       "      <th rowspan=\"4\" valign=\"top\">127</th>\n",
       "      <th rowspan=\"2\" valign=\"top\">1</th>\n",
       "      <th>Female</th>\n",
       "      <td>27.25</td>\n",
       "      <td>7.700</td>\n",
       "      <td>11.750</td>\n",
       "    </tr>\n",
       "    <tr>\n",
       "      <th>Male</th>\n",
       "      <td>30.00</td>\n",
       "      <td>9.025</td>\n",
       "      <td>8.200</td>\n",
       "    </tr>\n",
       "    <tr>\n",
       "      <th rowspan=\"2\" valign=\"top\">2</th>\n",
       "      <th>Female</th>\n",
       "      <td>30.00</td>\n",
       "      <td>11.600</td>\n",
       "      <td>9.200</td>\n",
       "    </tr>\n",
       "    <tr>\n",
       "      <th>Male</th>\n",
       "      <td>28.00</td>\n",
       "      <td>10.750</td>\n",
       "      <td>5.950</td>\n",
       "    </tr>\n",
       "    <tr>\n",
       "      <th rowspan=\"4\" valign=\"top\">128</th>\n",
       "      <th rowspan=\"2\" valign=\"top\">1</th>\n",
       "      <th>Female</th>\n",
       "      <td>28.00</td>\n",
       "      <td>9.125</td>\n",
       "      <td>8.500</td>\n",
       "    </tr>\n",
       "    <tr>\n",
       "      <th>Male</th>\n",
       "      <td>33.00</td>\n",
       "      <td>9.950</td>\n",
       "      <td>6.675</td>\n",
       "    </tr>\n",
       "    <tr>\n",
       "      <th rowspan=\"2\" valign=\"top\">2</th>\n",
       "      <th>Female</th>\n",
       "      <td>22.00</td>\n",
       "      <td>10.650</td>\n",
       "      <td>9.375</td>\n",
       "    </tr>\n",
       "    <tr>\n",
       "      <th>Male</th>\n",
       "      <td>25.50</td>\n",
       "      <td>9.850</td>\n",
       "      <td>5.800</td>\n",
       "    </tr>\n",
       "    <tr>\n",
       "      <th rowspan=\"4\" valign=\"top\">129</th>\n",
       "      <th rowspan=\"2\" valign=\"top\">1</th>\n",
       "      <th>Female</th>\n",
       "      <td>24.75</td>\n",
       "      <td>10.375</td>\n",
       "      <td>9.500</td>\n",
       "    </tr>\n",
       "    <tr>\n",
       "      <th>Male</th>\n",
       "      <td>20.75</td>\n",
       "      <td>12.300</td>\n",
       "      <td>6.025</td>\n",
       "    </tr>\n",
       "    <tr>\n",
       "      <th rowspan=\"2\" valign=\"top\">2</th>\n",
       "      <th>Female</th>\n",
       "      <td>26.25</td>\n",
       "      <td>8.900</td>\n",
       "      <td>9.725</td>\n",
       "    </tr>\n",
       "    <tr>\n",
       "      <th>Male</th>\n",
       "      <td>30.75</td>\n",
       "      <td>10.700</td>\n",
       "      <td>5.800</td>\n",
       "    </tr>\n",
       "    <tr>\n",
       "      <th rowspan=\"4\" valign=\"top\">130</th>\n",
       "      <th rowspan=\"2\" valign=\"top\">1</th>\n",
       "      <th>Female</th>\n",
       "      <td>35.50</td>\n",
       "      <td>8.650</td>\n",
       "      <td>11.200</td>\n",
       "    </tr>\n",
       "    <tr>\n",
       "      <th>Male</th>\n",
       "      <td>36.00</td>\n",
       "      <td>9.900</td>\n",
       "      <td>6.700</td>\n",
       "    </tr>\n",
       "    <tr>\n",
       "      <th rowspan=\"2\" valign=\"top\">2</th>\n",
       "      <th>Female</th>\n",
       "      <td>30.25</td>\n",
       "      <td>10.225</td>\n",
       "      <td>8.050</td>\n",
       "    </tr>\n",
       "    <tr>\n",
       "      <th>Male</th>\n",
       "      <td>28.50</td>\n",
       "      <td>8.625</td>\n",
       "      <td>8.375</td>\n",
       "    </tr>\n",
       "    <tr>\n",
       "      <th rowspan=\"4\" valign=\"top\">131</th>\n",
       "      <th rowspan=\"2\" valign=\"top\">1</th>\n",
       "      <th>Female</th>\n",
       "      <td>35.75</td>\n",
       "      <td>10.025</td>\n",
       "      <td>11.075</td>\n",
       "    </tr>\n",
       "    <tr>\n",
       "      <th>Male</th>\n",
       "      <td>36.00</td>\n",
       "      <td>10.500</td>\n",
       "      <td>7.525</td>\n",
       "    </tr>\n",
       "    <tr>\n",
       "      <th rowspan=\"2\" valign=\"top\">2</th>\n",
       "      <th>Female</th>\n",
       "      <td>24.00</td>\n",
       "      <td>7.575</td>\n",
       "      <td>10.625</td>\n",
       "    </tr>\n",
       "    <tr>\n",
       "      <th>Male</th>\n",
       "      <td>28.00</td>\n",
       "      <td>7.750</td>\n",
       "      <td>7.850</td>\n",
       "    </tr>\n",
       "    <tr>\n",
       "      <th rowspan=\"4\" valign=\"top\">132</th>\n",
       "      <th rowspan=\"2\" valign=\"top\">1</th>\n",
       "      <th>Female</th>\n",
       "      <td>30.00</td>\n",
       "      <td>10.950</td>\n",
       "      <td>10.700</td>\n",
       "    </tr>\n",
       "    <tr>\n",
       "      <th>Male</th>\n",
       "      <td>21.25</td>\n",
       "      <td>10.600</td>\n",
       "      <td>6.600</td>\n",
       "    </tr>\n",
       "    <tr>\n",
       "      <th rowspan=\"2\" valign=\"top\">2</th>\n",
       "      <th>Female</th>\n",
       "      <td>33.00</td>\n",
       "      <td>10.100</td>\n",
       "      <td>11.750</td>\n",
       "    </tr>\n",
       "    <tr>\n",
       "      <th>Male</th>\n",
       "      <td>38.00</td>\n",
       "      <td>10.550</td>\n",
       "      <td>9.600</td>\n",
       "    </tr>\n",
       "    <tr>\n",
       "      <th rowspan=\"4\" valign=\"top\">133</th>\n",
       "      <th rowspan=\"2\" valign=\"top\">1</th>\n",
       "      <th>Female</th>\n",
       "      <td>34.00</td>\n",
       "      <td>10.300</td>\n",
       "      <td>8.300</td>\n",
       "    </tr>\n",
       "    <tr>\n",
       "      <th>Male</th>\n",
       "      <td>33.00</td>\n",
       "      <td>8.925</td>\n",
       "      <td>6.425</td>\n",
       "    </tr>\n",
       "    <tr>\n",
       "      <th rowspan=\"2\" valign=\"top\">2</th>\n",
       "      <th>Female</th>\n",
       "      <td>28.50</td>\n",
       "      <td>9.550</td>\n",
       "      <td>9.650</td>\n",
       "    </tr>\n",
       "    <tr>\n",
       "      <th>Male</th>\n",
       "      <td>32.25</td>\n",
       "      <td>8.850</td>\n",
       "      <td>5.900</td>\n",
       "    </tr>\n",
       "  </tbody>\n",
       "</table>\n",
       "</div>"
      ],
      "text/plain": [
       "                            RIDAGEYR   BMXHT  BMXBMI\n",
       "SDMVSTRA SDMVPSU RIAGENDRx                          \n",
       "119      1       Female        31.25   9.325   9.750\n",
       "                 Male          29.75   9.000   5.350\n",
       "         2       Female        33.50   9.950   9.350\n",
       "                 Male          29.00  11.225   5.300\n",
       "120      1       Female        26.50   8.750   8.775\n",
       "                 Male          23.75  12.125   9.400\n",
       "         2       Female        25.75  10.550   7.750\n",
       "                 Male          26.00  10.500   7.100\n",
       "121      1       Female        26.25   9.150   9.000\n",
       "                 Male          34.50  10.725   7.500\n",
       "         2       Female        26.00   9.600   8.100\n",
       "                 Male          25.50   8.600   5.700\n",
       "122      1       Female        24.00  10.400   9.875\n",
       "                 Male          29.50   9.400   7.700\n",
       "         2       Female        25.00   7.575   8.475\n",
       "                 Male          30.00  10.150   4.100\n",
       "123      1       Female        30.50   9.675  10.450\n",
       "                 Male          28.25   9.350   8.050\n",
       "         2       Female        34.50  11.200   9.975\n",
       "                 Male          31.50   9.900   8.100\n",
       "124      1       Female        27.00   8.375   8.950\n",
       "                 Male          32.00   9.800   6.100\n",
       "         2       Female        23.50   8.650   9.000\n",
       "                 Male          31.00  11.600   8.700\n",
       "125      1       Female        31.00   9.100   8.000\n",
       "                 Male          29.00  10.350   8.300\n",
       "         2       Female        32.25  10.675  10.325\n",
       "                 Male          33.50   7.925   7.900\n",
       "126      1       Female        30.25   8.500  10.675\n",
       "                 Male          36.25  10.450   8.000\n",
       "         2       Female        31.75  12.025  10.350\n",
       "                 Male          34.00   8.125   6.850\n",
       "127      1       Female        27.25   7.700  11.750\n",
       "                 Male          30.00   9.025   8.200\n",
       "         2       Female        30.00  11.600   9.200\n",
       "                 Male          28.00  10.750   5.950\n",
       "128      1       Female        28.00   9.125   8.500\n",
       "                 Male          33.00   9.950   6.675\n",
       "         2       Female        22.00  10.650   9.375\n",
       "                 Male          25.50   9.850   5.800\n",
       "129      1       Female        24.75  10.375   9.500\n",
       "                 Male          20.75  12.300   6.025\n",
       "         2       Female        26.25   8.900   9.725\n",
       "                 Male          30.75  10.700   5.800\n",
       "130      1       Female        35.50   8.650  11.200\n",
       "                 Male          36.00   9.900   6.700\n",
       "         2       Female        30.25  10.225   8.050\n",
       "                 Male          28.50   8.625   8.375\n",
       "131      1       Female        35.75  10.025  11.075\n",
       "                 Male          36.00  10.500   7.525\n",
       "         2       Female        24.00   7.575  10.625\n",
       "                 Male          28.00   7.750   7.850\n",
       "132      1       Female        30.00  10.950  10.700\n",
       "                 Male          21.25  10.600   6.600\n",
       "         2       Female        33.00  10.100  11.750\n",
       "                 Male          38.00  10.550   9.600\n",
       "133      1       Female        34.00  10.300   8.300\n",
       "                 Male          33.00   8.925   6.425\n",
       "         2       Female        28.50   9.550   9.650\n",
       "                 Male          32.25   8.850   5.900"
      ]
     },
     "execution_count": 379,
     "metadata": {},
     "output_type": "execute_result"
    }
   ],
   "source": [
    "dx=dx2-dx1\n",
    "dx"
   ]
  },
  {
   "cell_type": "code",
   "execution_count": 384,
   "id": "bcdeeb01-18a9-4382-839c-8b8047b20de8",
   "metadata": {},
   "outputs": [
    {
     "data": {
      "text/plain": [
       "RIDAGEYR    1.831325\n",
       "BMXHT       1.623762\n",
       "BMXBMI      2.865854\n",
       "dtype: float64"
      ]
     },
     "execution_count": 384,
     "metadata": {},
     "output_type": "execute_result"
    }
   ],
   "source": [
    "dx.max()/dx.min()"
   ]
  },
  {
   "cell_type": "code",
   "execution_count": 386,
   "id": "08c0560a-e35c-44c2-a406-418eda86c0cd",
   "metadata": {},
   "outputs": [],
   "source": [
    "dx = dx.unstack()"
   ]
  },
  {
   "cell_type": "code",
   "execution_count": 389,
   "id": "064ded6c-42c7-488d-8c17-0f3538eaf337",
   "metadata": {},
   "outputs": [
    {
     "data": {
      "text/plain": [
       "SDMVSTRA  SDMVPSU\n",
       "119       1          5.841121\n",
       "          2          6.320755\n",
       "120       1          3.028571\n",
       "          2          3.661972\n",
       "121       1          4.600000\n",
       "          2          4.561404\n",
       "122       1          3.831169\n",
       "          2          7.317073\n",
       "123       1          3.788820\n",
       "          2          4.259259\n",
       "124       1          5.245902\n",
       "          2          3.583815\n",
       "125       1          3.875000\n",
       "          2          4.240506\n",
       "126       1          4.531250\n",
       "          2          4.963504\n",
       "127       1          3.896104\n",
       "          2          5.042017\n",
       "128       1          4.943820\n",
       "          2          4.396552\n",
       "129       1          4.107884\n",
       "          2          5.301724\n",
       "130       1          5.373134\n",
       "          2          3.757764\n",
       "131       1          4.784053\n",
       "          2          3.696370\n",
       "132       1          4.545455\n",
       "          2          3.958333\n",
       "133       1          5.291829\n",
       "          2          5.466102\n",
       "dtype: float64"
      ]
     },
     "execution_count": 389,
     "metadata": {},
     "output_type": "execute_result"
    }
   ],
   "source": [
    "dx.max(axis=1)/dx.min(axis=1)"
   ]
  },
  {
   "cell_type": "code",
   "execution_count": null,
   "id": "9b66fe41-6c66-4653-9598-da5d17ea192c",
   "metadata": {},
   "outputs": [],
   "source": []
  }
 ],
 "metadata": {
  "kernelspec": {
   "display_name": "Python 3 (ipykernel)",
   "language": "python",
   "name": "python3"
  },
  "language_info": {
   "codemirror_mode": {
    "name": "ipython",
    "version": 3
   },
   "file_extension": ".py",
   "mimetype": "text/x-python",
   "name": "python",
   "nbconvert_exporter": "python",
   "pygments_lexer": "ipython3",
   "version": "3.7.11"
  }
 },
 "nbformat": 4,
 "nbformat_minor": 5
}
