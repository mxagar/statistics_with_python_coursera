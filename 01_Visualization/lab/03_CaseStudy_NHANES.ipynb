{
 "cells": [
  {
   "cell_type": "markdown",
   "id": "e4256dfd-f080-4acc-931f-e9d1d5e6c126",
   "metadata": {},
   "source": [
    "# Case Study: NHANES Dataset"
   ]
  },
  {
   "cell_type": "markdown",
   "id": "d3a655a8-a797-4294-9040-1476729d3379",
   "metadata": {},
   "source": [
    "This notebook analyzes the NHANES dataset, focusing on **uninvariate analysis**.\n",
    "\n",
    "The [NHANES Dataset](https://wwwn.cdc.gov/nchs/nhanes/Default.aspx) contains the results of the National Health and Nutrition Examination Survey, from the CDC (USA). We have many variables in code in it.\n",
    "The codebooks for the 2015-2016 wave of NHANES can be found here:\n",
    "\n",
    "https://wwwn.cdc.gov/nchs/nhanes/continuousnhanes/default.aspx?BeginYear=2015\n",
    "\n",
    "Direct links:\n",
    "\n",
    "- [Demographics code book](https://wwwn.cdc.gov/Nchs/Nhanes/2015-2016/DEMO_I.htm)\n",
    "- [Body measures code book](https://wwwn.cdc.gov/Nchs/Nhanes/2015-2016/BMX_I.htm)\n",
    "- [Blood pressure code book](https://wwwn.cdc.gov/Nchs/Nhanes/2015-2016/BPX_I.htm)\n",
    "- [Alcohol questionaire code book](https://wwwn.cdc.gov/Nchs/Nhanes/2015-2016/ALQ_I.htm)\n",
    "- [Smoking questionaire code book](https://wwwn.cdc.gov/Nchs/Nhanes/2015-2016/SMQ_I.htm)\n",
    "\n",
    "The commands in this file were written mainly while following a lab notebook on Coursera on the same topic.\n",
    "\n",
    "Overview:\n",
    "1. Categorical Data: Fequency Tables\n",
    "2. Quantitative Variables: Numerical Summaries\n",
    "3. Graphical Summaries: Histograms & Boxplots\n",
    "4. Stratification\n"
   ]
  },
  {
   "cell_type": "code",
   "execution_count": 1,
   "id": "96ae5de9-3c84-4371-b93a-eaf6c06ed5cf",
   "metadata": {},
   "outputs": [],
   "source": [
    "%matplotlib inline\n",
    "import matplotlib.pyplot as plt\n",
    "import seaborn as sns\n",
    "import pandas as pd\n",
    "import numpy as np"
   ]
  },
  {
   "cell_type": "code",
   "execution_count": 2,
   "id": "3ae8c220-7bec-4011-8de7-a1c1671e2ac4",
   "metadata": {},
   "outputs": [],
   "source": [
    "da = pd.read_csv(\"nhanes_2015_2016.csv\")"
   ]
  },
  {
   "cell_type": "markdown",
   "id": "03d91288-bf4b-4712-99c2-20bdb312a51b",
   "metadata": {},
   "source": [
    "### 1. Categorical Data: Fequency Tables\n",
    "\n",
    "Example variables:\n",
    "- [DMDEDUC2](https://wwwn.cdc.gov/Nchs/Nhanes/2015-2016/DEMO_I.htm#DMDEDUC2): education level in adults.\n",
    "- RIAGENDR: gender."
   ]
  },
  {
   "cell_type": "code",
   "execution_count": 15,
   "id": "da869c07-c41d-493e-abf2-c7b997c1dca9",
   "metadata": {},
   "outputs": [
    {
     "data": {
      "text/plain": [
       "4.0    1621\n",
       "5.0    1366\n",
       "3.0    1186\n",
       "1.0     655\n",
       "2.0     643\n",
       "9.0       3\n",
       "Name: DMDEDUC2, dtype: int64"
      ]
     },
     "execution_count": 15,
     "metadata": {},
     "output_type": "execute_result"
    }
   ],
   "source": [
    "# Count number of category levels\n",
    "da.DMDEDUC2.value_counts()"
   ]
  },
  {
   "cell_type": "code",
   "execution_count": 4,
   "id": "2b3da3ca-77b6-45ad-b66f-b1005eaa3db5",
   "metadata": {},
   "outputs": [
    {
     "data": {
      "text/plain": [
       "5474"
      ]
     },
     "execution_count": 4,
     "metadata": {},
     "output_type": "execute_result"
    }
   ],
   "source": [
    "da.DMDEDUC2.value_counts().sum()"
   ]
  },
  {
   "cell_type": "code",
   "execution_count": 5,
   "id": "c718e122-743d-49c5-892c-ec25f2fb59fe",
   "metadata": {},
   "outputs": [
    {
     "data": {
      "text/plain": [
       "(5735,)"
      ]
     },
     "execution_count": 5,
     "metadata": {},
     "output_type": "execute_result"
    }
   ],
   "source": [
    "da.DMDEDUC2.shape"
   ]
  },
  {
   "cell_type": "markdown",
   "id": "1c8914b6-d492-4009-a186-1273298fd0f8",
   "metadata": {},
   "source": [
    "We see there is a discrepancy: missing values."
   ]
  },
  {
   "cell_type": "code",
   "execution_count": 6,
   "id": "a6949847-2b67-4d2f-a983-4dd345d0dfbf",
   "metadata": {},
   "outputs": [
    {
     "data": {
      "text/plain": [
       "261"
      ]
     },
     "execution_count": 6,
     "metadata": {},
     "output_type": "execute_result"
    }
   ],
   "source": [
    "pd.isnull(da.DMDEDUC2).sum()"
   ]
  },
  {
   "cell_type": "code",
   "execution_count": 8,
   "id": "36cdc6d3-6b8b-46da-92f0-232a2fe15600",
   "metadata": {},
   "outputs": [
    {
     "data": {
      "text/plain": [
       "0"
      ]
     },
     "execution_count": 8,
     "metadata": {},
     "output_type": "execute_result"
    }
   ],
   "source": [
    "# Check that numbers add up: total - null - nonull = 0\n",
    "da.DMDEDUC2.shape[0] - da.DMDEDUC2.value_counts().sum() - pd.isnull(da.DMDEDUC2).sum()"
   ]
  },
  {
   "cell_type": "code",
   "execution_count": 12,
   "id": "52658b4e-a251-4fcc-8f43-f8e10118ba96",
   "metadata": {},
   "outputs": [
    {
     "data": {
      "text/plain": [
       "Some college/AA    1621\n",
       "College            1366\n",
       "HS/GED             1186\n",
       "<9                  655\n",
       "9-11                643\n",
       "Don't know            3\n",
       "Name: DMDEDUC2x, dtype: int64"
      ]
     },
     "execution_count": 12,
     "metadata": {},
     "output_type": "execute_result"
    }
   ],
   "source": [
    "# We might want to create a new variable (e.g., var_x)\n",
    "# which contains human readable labels for the different category levels\n",
    "da[\"DMDEDUC2x\"] = da.DMDEDUC2.replace({1: \"<9\", 2: \"9-11\", 3: \"HS/GED\", 4: \"Some college/AA\", 5: \"College\", \n",
    "                                       7: \"Refused\", 9: \"Don't know\"})\n",
    "da.DMDEDUC2x.value_counts()"
   ]
  },
  {
   "cell_type": "code",
   "execution_count": 13,
   "id": "936d03a9-dad9-460b-8af0-d259983b48db",
   "metadata": {},
   "outputs": [],
   "source": [
    "# Similar for gender\n",
    "da[\"RIAGENDRx\"] = da.RIAGENDR.replace({1: \"Male\", 2: \"Female\"})"
   ]
  },
  {
   "cell_type": "code",
   "execution_count": 14,
   "id": "362e0783-6366-45f0-9bd9-12011c9d84e8",
   "metadata": {},
   "outputs": [
    {
     "data": {
      "text/plain": [
       "Some college/AA    0.296127\n",
       "College            0.249543\n",
       "HS/GED             0.216661\n",
       "<9                 0.119657\n",
       "9-11               0.117464\n",
       "Don't know         0.000548\n",
       "Name: DMDEDUC2x, dtype: float64"
      ]
     },
     "execution_count": 14,
     "metadata": {},
     "output_type": "execute_result"
    }
   ],
   "source": [
    "# Proportions\n",
    "x = da.DMDEDUC2x.value_counts()\n",
    "x / x.sum()"
   ]
  },
  {
   "cell_type": "code",
   "execution_count": 17,
   "id": "47158c8c-5e58-4841-b021-addb56386bf4",
   "metadata": {},
   "outputs": [
    {
     "data": {
      "text/plain": [
       "Some college/AA    0.282650\n",
       "College            0.238187\n",
       "HS/GED             0.206800\n",
       "<9                 0.114211\n",
       "9-11               0.112119\n",
       "Missing            0.045510\n",
       "Don't know         0.000523\n",
       "Name: DMDEDUC2x, dtype: float64"
      ]
     },
     "execution_count": 17,
     "metadata": {},
     "output_type": "execute_result"
    }
   ],
   "source": [
    "# Create a category-evel for missing cases (null)\n",
    "# Sometimes we want to do that instead of eliminating/ignoring those cases\n",
    "da[\"DMDEDUC2x\"] = da.DMDEDUC2x.fillna(\"Missing\")\n",
    "x = da.DMDEDUC2x.value_counts()\n",
    "x / x.sum()"
   ]
  },
  {
   "cell_type": "markdown",
   "id": "23ba9acc-328d-4273-bc94-50f474909960",
   "metadata": {},
   "source": [
    "### 2. Quantitative Variables: Numerical Summaries"
   ]
  },
  {
   "cell_type": "markdown",
   "id": "6e305275-cf63-45e1-9eaf-209b86d9a8cd",
   "metadata": {},
   "source": [
    "Example variables:\n",
    "- [BMXWT](https://wwwn.cdc.gov/Nchs/Nhanes/2015-2016/BMX_I.htm#BMXWT): weight (kg).\n",
    "- [BPXSY1](https://wwwn.cdc.gov/Nchs/Nhanes/2015-2016/BPX_I.htm#BPXSY1): systolic (SY) blood pressure (BPX), 1st measurement. A person is generally considered to have pre-hypertension when their systolic blood pressure is between 120 and 139, or their diastolic (DI instead of SY) blood pressure is between 80 and 89. Three measurements are taken because of the \"white coat anxiety\": blood pressure might be slightly elevated in the first measurement due to anxiety, but it decreases in following measurements.\n",
    "- RIDAGEYR: age (years)."
   ]
  },
  {
   "cell_type": "code",
   "execution_count": 29,
   "id": "7344b42f-e336-4877-b755-69a15e29c11b",
   "metadata": {},
   "outputs": [
    {
     "data": {
      "text/plain": [
       "count    5666.000000\n",
       "mean       81.342676\n",
       "std        21.764409\n",
       "min        32.400000\n",
       "25%        65.900000\n",
       "50%        78.200000\n",
       "75%        92.700000\n",
       "max       198.900000\n",
       "Name: BMXWT, dtype: float64"
      ]
     },
     "execution_count": 29,
     "metadata": {},
     "output_type": "execute_result"
    }
   ],
   "source": [
    "# describe() provides numerical summaries of quantitative data\n",
    "# Note: use dropna() before applying any describe()\n",
    "da.BMXWT.dropna().describe()"
   ]
  },
  {
   "cell_type": "code",
   "execution_count": 20,
   "id": "09f77bd7-8fcb-436d-afce-8be8feeadb17",
   "metadata": {},
   "outputs": [
    {
     "name": "stdout",
     "output_type": "stream",
     "text": [
      "81.34267560889509\n",
      "81.34267560889509\n",
      "78.2\n",
      "78.2\n",
      "92.7\n",
      "92.7\n"
     ]
    }
   ],
   "source": [
    "# Manual summaries\n",
    "x = da.BMXWT.dropna() # Extract all non-missing values of BMXWT into a variable called 'x'\n",
    "print(x.mean()) # Pandas method\n",
    "print(np.mean(x)) # Numpy function\n",
    "print(x.median())\n",
    "print(np.percentile(x, 50)) # 50th percentile, same as the median\n",
    "print(np.percentile(x, 75)) # 75th percentile\n",
    "print(x.quantile(0.75)) # Pandas method for quantiles, equivalent to 75th percentile"
   ]
  },
  {
   "cell_type": "code",
   "execution_count": 26,
   "id": "ce5cd2e3-9862-4483-8aa7-ed1f989d26bd",
   "metadata": {},
   "outputs": [
    {
     "data": {
      "text/plain": [
       "0.3741935483870968"
      ]
     },
     "execution_count": 26,
     "metadata": {},
     "output_type": "execute_result"
    }
   ],
   "source": [
    "# Number of people with pre-hypertension\n",
    "# Note we apply logic operators\n",
    "# and then we compute the mean of the True/1 values\n",
    "np.mean((da.BPXSY1 >= 120) & (da.BPXSY2 <= 139))"
   ]
  },
  {
   "cell_type": "code",
   "execution_count": 27,
   "id": "c6684808-6cbc-4d4e-b4e7-0781df36e34b",
   "metadata": {},
   "outputs": [
    {
     "data": {
      "text/plain": [
       "0.14803836094158676"
      ]
     },
     "execution_count": 27,
     "metadata": {},
     "output_type": "execute_result"
    }
   ],
   "source": [
    "np.mean((da.BPXDI1 >= 80) & (da.BPXDI2 <= 89))"
   ]
  },
  {
   "cell_type": "code",
   "execution_count": 28,
   "id": "0c293573-4dec-4f92-a70e-73d87cb74d04",
   "metadata": {},
   "outputs": [
    {
     "name": "stdout",
     "output_type": "stream",
     "text": [
      "0.43975588491717527\n"
     ]
    }
   ],
   "source": [
    "# Combined: hypertension according to SY or DI\n",
    "a = (da.BPXSY1 >= 120) & (da.BPXSY2 <= 139)\n",
    "b = (da.BPXDI1 >= 80) & (da.BPXDI2 <= 89)\n",
    "print(np.mean(a | b))"
   ]
  },
  {
   "cell_type": "code",
   "execution_count": 35,
   "id": "b15a9ecd-53ed-4fdd-bf4e-55f4449c4c94",
   "metadata": {},
   "outputs": [
    {
     "name": "stdout",
     "output_type": "stream",
     "text": [
      "125.08461396037771\n",
      "69.5163858544714\n",
      "0.6749860309182343\n",
      "0.3490407897187558\n"
     ]
    }
   ],
   "source": [
    "# Is the white coat anxiety?\n",
    "# Mean differences between 1st and 2nd measurements\n",
    "# The differences seem to be rather small\n",
    "print(np.mean(da.BPXSY1))\n",
    "print(np.mean(da.BPXDI1))\n",
    "print(np.mean(da.BPXSY1 - da.BPXSY2))\n",
    "print(np.mean(da.BPXDI1 - da.BPXDI2))"
   ]
  },
  {
   "cell_type": "markdown",
   "id": "d2f0bdc2-8263-4cbe-b7dc-016da6db2602",
   "metadata": {},
   "source": [
    "### 3. Graphical Summaries: Histograms & Boxplots"
   ]
  },
  {
   "cell_type": "code",
   "execution_count": 47,
   "id": "1cffc9c2-7759-4711-b61e-98899896507e",
   "metadata": {},
   "outputs": [
    {
     "data": {
      "text/plain": [
       "<AxesSubplot:xlabel='BMXWT', ylabel='Density'>"
      ]
     },
     "execution_count": 47,
     "metadata": {},
     "output_type": "execute_result"
    },
    {
     "data": {
      "image/png": "[encoded data removed]",
      "text/plain": [
       "<Figure size 432x288 with 1 Axes>"
      ]
     },
     "metadata": {
      "needs_background": "light"
     },
     "output_type": "display_data"
    }
   ],
   "source": [
    "# Weight: Histogram - use dropna()\n",
    "# Right skewed\n",
    "#sns.distplot(da.BMXWT.dropna()) # distplot is deprecated, use histplot\n",
    "sns.histplot(da.BMXWT.dropna(),kde=True,stat='density')"
   ]
  },
  {
   "cell_type": "code",
   "execution_count": 48,
   "id": "5733fd02-aa3d-40ba-a349-c6b26243b3ca",
   "metadata": {},
   "outputs": [
    {
     "data": {
      "text/plain": [
       "<AxesSubplot:xlabel='BPXSY1', ylabel='Density'>"
      ]
     },
     "execution_count": 48,
     "metadata": {},
     "output_type": "execute_result"
    },
    {
     "data": {
      "image/png": "[encoded data removed]",
      "text/plain": [
       "<Figure size 432x288 with 1 Axes>"
      ]
     },
     "metadata": {
      "needs_background": "light"
     },
     "output_type": "display_data"
    }
   ],
   "source": [
    "# Systolic blood pressure: Histogram\n",
    "# We see some bumps - are there some rouding tendencies? (e.g., nearest 5 or 10 units)\n",
    "sns.histplot(da.BPXSY1.dropna(),kde=True,stat='density')"
   ]
  },
  {
   "cell_type": "code",
   "execution_count": 51,
   "id": "6f63478a-e6b0-4702-a4a6-daf121bdfab4",
   "metadata": {},
   "outputs": [
    {
     "data": {
      "text/plain": [
       "Text(0, 0.5, 'Blood pressure in mm/Hg')"
      ]
     },
     "execution_count": 51,
     "metadata": {},
     "output_type": "execute_result"
    },
    {
     "data": {
      "image/png": "[encoded data removed]",
      "text/plain": [
       "<Figure size 432x288 with 1 Axes>"
      ]
     },
     "metadata": {
      "needs_background": "light"
     },
     "output_type": "display_data"
    }
   ],
   "source": [
    "# Boxplot: Systolic and Distolic, 1st and 2nd measurement\n",
    "bp = sns.boxplot(data=da.loc[:, [\"BPXSY1\", \"BPXSY2\", \"BPXDI1\", \"BPXDI2\"]])\n",
    "bp.set_ylabel(\"Blood pressure in mm/Hg\")"
   ]
  },
  {
   "cell_type": "markdown",
   "id": "5b736fcf-fbee-45c0-b4c2-e2b77940c1ed",
   "metadata": {},
   "source": [
    "### 4. Stratification"
   ]
  },
  {
   "cell_type": "markdown",
   "id": "a86e11f3-2bb1-4f2d-8749-fa241b982133",
   "metadata": {},
   "source": [
    "We can get more insights from a dataset if we stratify the information in different strata that are more homogeneous. That is particularly true for human measurements; we can create groups according to age, gender, race, etc."
   ]
  },
  {
   "cell_type": "code",
   "execution_count": 56,
   "id": "bcf8f1c5-c587-438e-9488-3b209051dde1",
   "metadata": {},
   "outputs": [],
   "source": [
    "# Create age strata based on these cut points\n",
    "da[\"agegrp\"] = pd.cut(da.RIDAGEYR, [18, 30, 40, 50, 60, 70, 80])"
   ]
  },
  {
   "cell_type": "code",
   "execution_count": 60,
   "id": "88311eb1-64f0-4d3f-8902-3ce7b3d6ef2e",
   "metadata": {},
   "outputs": [
    {
     "data": {
      "text/plain": [
       "(18, 30]    1153\n",
       "(30, 40]     932\n",
       "(50, 60]     924\n",
       "(40, 50]     903\n",
       "(60, 70]     878\n",
       "(70, 80]     812\n",
       "Name: agegrp, dtype: int64"
      ]
     },
     "execution_count": 60,
     "metadata": {},
     "output_type": "execute_result"
    }
   ],
   "source": [
    "# Our new variable contains the age range/cut for each person/measurement\n",
    "da[\"agegrp\"].value_counts()"
   ]
  },
  {
   "cell_type": "code",
   "execution_count": 62,
   "id": "e9770aac-be5c-4c0e-95bf-be0cd6221d2c",
   "metadata": {},
   "outputs": [
    {
     "data": {
      "text/plain": [
       "<AxesSubplot:xlabel='agegrp', ylabel='BPXSY1'>"
      ]
     },
     "execution_count": 62,
     "metadata": {},
     "output_type": "execute_result"
    },
    {
     "data": {
      "image/png": "[encoded data removed]",
      "text/plain": [
       "<Figure size 864x360 with 1 Axes>"
      ]
     },
     "metadata": {
      "needs_background": "light"
     },
     "output_type": "display_data"
    }
   ],
   "source": [
    "plt.figure(figsize=(12, 5))\n",
    "# Make boxplot of BPXSY1 stratified by age group\n",
    "# The older, the higher the systolic blood pressure\n",
    "sns.boxplot(x=\"agegrp\", y=\"BPXSY1\", data=da)"
   ]
  },
  {
   "cell_type": "code",
   "execution_count": 68,
   "id": "c764f355-8468-45bd-b163-bce4799c8d16",
   "metadata": {},
   "outputs": [
    {
     "data": {
      "text/plain": [
       "<AxesSubplot:xlabel='agegrp', ylabel='BPXSY1'>"
      ]
     },
     "execution_count": 68,
     "metadata": {},
     "output_type": "execute_result"
    },
    {
     "data": {
      "image/png": "[encoded data removed]",
      "text/plain": [
       "<Figure size 864x360 with 1 Axes>"
      ]
     },
     "metadata": {
      "needs_background": "light"
     },
     "output_type": "display_data"
    }
   ],
   "source": [
    "# We further add a hue variable: gender\n",
    "# Women have a lower blood pressure, except at older ages\n",
    "# Maybe that is because male with high blood pressure die younger?\n",
    "da[\"agegrp\"] = pd.cut(da.RIDAGEYR, [18, 30, 40, 50, 60, 70, 80])\n",
    "plt.figure(figsize=(12, 5))\n",
    "sns.boxplot(x=\"agegrp\", y=\"BPXSY1\", hue=\"RIAGENDRx\", data=da)"
   ]
  },
  {
   "cell_type": "code",
   "execution_count": 65,
   "id": "02380f86-59b5-428a-9c81-6015147d46d2",
   "metadata": {},
   "outputs": [
    {
     "data": {
      "text/plain": [
       "<AxesSubplot:xlabel='RIAGENDRx', ylabel='BPXSY1'>"
      ]
     },
     "execution_count": 65,
     "metadata": {},
     "output_type": "execute_result"
    },
    {
     "data": {
      "image/png": "[encoded data removed]",
      "text/plain": [
       "<Figure size 864x360 with 1 Axes>"
      ]
     },
     "metadata": {
      "needs_background": "light"
     },
     "output_type": "display_data"
    }
   ],
   "source": [
    "# We can stratify the opposite way: instead of age & gender, gender & age\n",
    "# Just swap x & hue\n",
    "da[\"agegrp\"] = pd.cut(da.RIDAGEYR, [18, 30, 40, 50, 60, 70, 80])\n",
    "plt.figure(figsize=(12, 5))\n",
    "sns.boxplot(x=\"RIAGENDRx\", y=\"BPXSY1\", hue=\"agegrp\", data=da)"
   ]
  },
  {
   "cell_type": "markdown",
   "id": "63d4612a-53d2-4c7d-8c59-93cee1933ab6",
   "metadata": {},
   "source": [
    "#### Stratification for Categorical Variables"
   ]
  },
  {
   "cell_type": "code",
   "execution_count": 66,
   "id": "ce43b8e0-9609-439a-9ce5-60d02e0556a9",
   "metadata": {},
   "outputs": [
    {
     "data": {
      "text/plain": [
       "agegrp    DMDEDUC2x      \n",
       "(18, 30]  Some college/AA    364\n",
       "          College            278\n",
       "          HS/GED             237\n",
       "          Missing            128\n",
       "          9-11                99\n",
       "          <9                  47\n",
       "(30, 40]  Some college/AA    282\n",
       "          College            264\n",
       "          HS/GED             182\n",
       "          9-11               111\n",
       "          <9                  93\n",
       "(40, 50]  Some college/AA    262\n",
       "          College            260\n",
       "          HS/GED             171\n",
       "          9-11               112\n",
       "          <9                  98\n",
       "(50, 60]  Some college/AA    258\n",
       "          College            220\n",
       "          HS/GED             220\n",
       "          9-11               122\n",
       "          <9                 104\n",
       "(60, 70]  Some college/AA    238\n",
       "          HS/GED             192\n",
       "          College            188\n",
       "          <9                 149\n",
       "          9-11               111\n",
       "(70, 80]  Some college/AA    217\n",
       "          HS/GED             184\n",
       "          <9                 164\n",
       "          College            156\n",
       "          9-11                88\n",
       "          Don't know           3\n",
       "Name: DMDEDUC2x, dtype: int64"
      ]
     },
     "execution_count": 66,
     "metadata": {},
     "output_type": "execute_result"
    }
   ],
   "source": [
    "da.groupby(\"agegrp\")[\"DMDEDUC2x\"].value_counts()"
   ]
  },
  {
   "cell_type": "markdown",
   "id": "3b85a8e2-50aa-45ee-a7b4-83886ebba699",
   "metadata": {},
   "source": [
    "Note on **causality and confounding**. From the [Wikipeadia](https://en.wikipedia.org/wiki/Confounding): \"a confounder\n",
    "is a variable that influences both the dependent variable and independent variable, causing a spurious association\". Thus it seems there is causality between the dependent and the independent variable, but in reality there is not!\n",
    "\n",
    "While age might cause higher blood pressure, age probably does not cause educational levels to vary as they do. That is so because we have a \"birth cohort effect\": people in their 20's now are more likely to go to college and the survey was done at the same point in time (cross sectional survey) for all ages."
   ]
  },
  {
   "cell_type": "markdown",
   "id": "1bf207a9-3f4f-46d9-87f0-d2bb4d8d350e",
   "metadata": {},
   "source": [
    "**Advanced stratified table**: percentage of education level stratified by age group and gender."
   ]
  },
  {
   "cell_type": "code",
   "execution_count": 67,
   "id": "323ed838-4a2e-4863-a01d-219f3dafa4f9",
   "metadata": {},
   "outputs": [
    {
     "name": "stdout",
     "output_type": "stream",
     "text": [
      "DMDEDUC2x           9-11    <9  College  HS/GED  Some college/AA\n",
      "agegrp   RIAGENDRx                                              \n",
      "(18, 30] Female    0.080 0.049    0.282   0.215            0.374\n",
      "         Male      0.117 0.042    0.258   0.250            0.333\n",
      "(30, 40] Female    0.089 0.097    0.314   0.165            0.335\n",
      "         Male      0.151 0.103    0.251   0.227            0.269\n",
      "(40, 50] Female    0.110 0.106    0.299   0.173            0.313\n",
      "         Male      0.142 0.112    0.274   0.209            0.262\n",
      "(50, 60] Female    0.117 0.102    0.245   0.234            0.302\n",
      "         Male      0.148 0.123    0.231   0.242            0.256\n",
      "(60, 70] Female    0.118 0.188    0.195   0.206            0.293\n",
      "         Male      0.135 0.151    0.233   0.231            0.249\n",
      "(70, 80] Female    0.105 0.225    0.149   0.240            0.281\n",
      "         Male      0.113 0.180    0.237   0.215            0.255\n"
     ]
    }
   ],
   "source": [
    "# Eliminate rare/missing values\n",
    "dx = da.loc[~da.DMDEDUC2x.isin([\"Don't know\", \"Missing\"]), :] \n",
    "dx = dx.groupby([\"agegrp\", \"RIAGENDRx\"])[\"DMDEDUC2x\"]\n",
    "dx = dx.value_counts()\n",
    "# Restructure the results from 'long' to 'wide'\n",
    "dx = dx.unstack()\n",
    "# Normalize within each stratum to get proportions\n",
    "dx = dx.apply(lambda x: x/x.sum(), axis=1)\n",
    "# Limit display to 3 decimal places\n",
    "print(dx.to_string(float_format=\"%.3f\"))"
   ]
  },
  {
   "cell_type": "code",
   "execution_count": null,
   "id": "64eb0204-64a2-4ec8-a954-ee4275dabbb5",
   "metadata": {},
   "outputs": [],
   "source": []
  }
 ],
 "metadata": {
  "kernelspec": {
   "display_name": "Python 3 (ipykernel)",
   "language": "python",
   "name": "python3"
  },
  "language_info": {
   "codemirror_mode": {
    "name": "ipython",
    "version": 3
   },
   "file_extension": ".py",
   "mimetype": "text/x-python",
   "name": "python",
   "nbconvert_exporter": "python",
   "pygments_lexer": "ipython3",
   "version": "3.7.11"
  }
 },
 "nbformat": 4,
 "nbformat_minor": 5
}
