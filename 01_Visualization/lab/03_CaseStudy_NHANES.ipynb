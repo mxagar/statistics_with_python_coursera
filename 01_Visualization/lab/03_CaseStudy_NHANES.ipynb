{
 "cells": [
  {
   "cell_type": "markdown",
   "id": "e4256dfd-f080-4acc-931f-e9d1d5e6c126",
   "metadata": {},
   "source": [
    "# Case Study: NHANES Dataset"
   ]
  },
  {
   "cell_type": "markdown",
   "id": "d3a655a8-a797-4294-9040-1476729d3379",
   "metadata": {},
   "source": [
    "This notebook analyzes the NHANES dataset, focusing on **uninvariate analysis**.\n",
    "\n",
    "The [NHANES Dataset](https://wwwn.cdc.gov/nchs/nhanes/Default.aspx) contains the results of the National Health and Nutrition Examination Survey, from the CDC (USA). We have many variables in code in it.\n",
    "The codebooks for the 2015-2016 wave of NHANES can be found here:\n",
    "\n",
    "https://wwwn.cdc.gov/nchs/nhanes/continuousnhanes/default.aspx?BeginYear=2015\n",
    "\n",
    "Direct links:\n",
    "\n",
    "- [Demographics code book](https://wwwn.cdc.gov/Nchs/Nhanes/2015-2016/DEMO_I.htm)\n",
    "- [Body measures code book](https://wwwn.cdc.gov/Nchs/Nhanes/2015-2016/BMX_I.htm)\n",
    "- [Blood pressure code book](https://wwwn.cdc.gov/Nchs/Nhanes/2015-2016/BPX_I.htm)\n",
    "- [Alcohol questionaire code book](https://wwwn.cdc.gov/Nchs/Nhanes/2015-2016/ALQ_I.htm)\n",
    "- [Smoking questionaire code book](https://wwwn.cdc.gov/Nchs/Nhanes/2015-2016/SMQ_I.htm)\n",
    "\n",
    "The commands in this file were written mainly while following a lab notebook on Coursera on the same topic."
   ]
  },
  {
   "cell_type": "code",
   "execution_count": 1,
   "id": "96ae5de9-3c84-4371-b93a-eaf6c06ed5cf",
   "metadata": {},
   "outputs": [],
   "source": [
    "%matplotlib inline\n",
    "import matplotlib.pyplot as plt\n",
    "import seaborn as sns\n",
    "import pandas as pd\n",
    "import numpy as np"
   ]
  },
  {
   "cell_type": "code",
   "execution_count": 2,
   "id": "3ae8c220-7bec-4011-8de7-a1c1671e2ac4",
   "metadata": {},
   "outputs": [],
   "source": [
    "da = pd.read_csv(\"nhanes_2015_2016.csv\")"
   ]
  },
  {
   "cell_type": "markdown",
   "id": "03d91288-bf4b-4712-99c2-20bdb312a51b",
   "metadata": {},
   "source": [
    "### Categorical Data: Fequency Tables\n",
    "\n",
    "Example variables:\n",
    "- [DMDEDUC2](https://wwwn.cdc.gov/Nchs/Nhanes/2015-2016/DEMO_I.htm#DMDEDUC2): education level in adults.\n",
    "- RIAGENDR: gender."
   ]
  },
  {
   "cell_type": "code",
   "execution_count": 15,
   "id": "da869c07-c41d-493e-abf2-c7b997c1dca9",
   "metadata": {},
   "outputs": [
    {
     "data": {
      "text/plain": [
       "4.0    1621\n",
       "5.0    1366\n",
       "3.0    1186\n",
       "1.0     655\n",
       "2.0     643\n",
       "9.0       3\n",
       "Name: DMDEDUC2, dtype: int64"
      ]
     },
     "execution_count": 15,
     "metadata": {},
     "output_type": "execute_result"
    }
   ],
   "source": [
    "# Count number of category levels\n",
    "da.DMDEDUC2.value_counts()"
   ]
  },
  {
   "cell_type": "code",
   "execution_count": 4,
   "id": "2b3da3ca-77b6-45ad-b66f-b1005eaa3db5",
   "metadata": {},
   "outputs": [
    {
     "data": {
      "text/plain": [
       "5474"
      ]
     },
     "execution_count": 4,
     "metadata": {},
     "output_type": "execute_result"
    }
   ],
   "source": [
    "da.DMDEDUC2.value_counts().sum()"
   ]
  },
  {
   "cell_type": "code",
   "execution_count": 5,
   "id": "c718e122-743d-49c5-892c-ec25f2fb59fe",
   "metadata": {},
   "outputs": [
    {
     "data": {
      "text/plain": [
       "(5735,)"
      ]
     },
     "execution_count": 5,
     "metadata": {},
     "output_type": "execute_result"
    }
   ],
   "source": [
    "da.DMDEDUC2.shape"
   ]
  },
  {
   "cell_type": "markdown",
   "id": "1c8914b6-d492-4009-a186-1273298fd0f8",
   "metadata": {},
   "source": [
    "We see there is a discrepancy: missing values."
   ]
  },
  {
   "cell_type": "code",
   "execution_count": 6,
   "id": "a6949847-2b67-4d2f-a983-4dd345d0dfbf",
   "metadata": {},
   "outputs": [
    {
     "data": {
      "text/plain": [
       "261"
      ]
     },
     "execution_count": 6,
     "metadata": {},
     "output_type": "execute_result"
    }
   ],
   "source": [
    "pd.isnull(da.DMDEDUC2).sum()"
   ]
  },
  {
   "cell_type": "code",
   "execution_count": 8,
   "id": "36cdc6d3-6b8b-46da-92f0-232a2fe15600",
   "metadata": {},
   "outputs": [
    {
     "data": {
      "text/plain": [
       "0"
      ]
     },
     "execution_count": 8,
     "metadata": {},
     "output_type": "execute_result"
    }
   ],
   "source": [
    "# Check that numbers add up: total - null - nonull = 0\n",
    "da.DMDEDUC2.shape[0] - da.DMDEDUC2.value_counts().sum() - pd.isnull(da.DMDEDUC2).sum()"
   ]
  },
  {
   "cell_type": "code",
   "execution_count": 12,
   "id": "52658b4e-a251-4fcc-8f43-f8e10118ba96",
   "metadata": {},
   "outputs": [
    {
     "data": {
      "text/plain": [
       "Some college/AA    1621\n",
       "College            1366\n",
       "HS/GED             1186\n",
       "<9                  655\n",
       "9-11                643\n",
       "Don't know            3\n",
       "Name: DMDEDUC2x, dtype: int64"
      ]
     },
     "execution_count": 12,
     "metadata": {},
     "output_type": "execute_result"
    }
   ],
   "source": [
    "# We might want to create a new variable (e.g., var_x)\n",
    "# which contains human readable labels for the different category levels\n",
    "da[\"DMDEDUC2x\"] = da.DMDEDUC2.replace({1: \"<9\", 2: \"9-11\", 3: \"HS/GED\", 4: \"Some college/AA\", 5: \"College\", \n",
    "                                       7: \"Refused\", 9: \"Don't know\"})\n",
    "da.DMDEDUC2x.value_counts()"
   ]
  },
  {
   "cell_type": "code",
   "execution_count": 13,
   "id": "936d03a9-dad9-460b-8af0-d259983b48db",
   "metadata": {},
   "outputs": [],
   "source": [
    "# Similar for gender\n",
    "da[\"RIAGENDRx\"] = da.RIAGENDR.replace({1: \"Male\", 2: \"Female\"})"
   ]
  },
  {
   "cell_type": "code",
   "execution_count": 14,
   "id": "362e0783-6366-45f0-9bd9-12011c9d84e8",
   "metadata": {},
   "outputs": [
    {
     "data": {
      "text/plain": [
       "Some college/AA    0.296127\n",
       "College            0.249543\n",
       "HS/GED             0.216661\n",
       "<9                 0.119657\n",
       "9-11               0.117464\n",
       "Don't know         0.000548\n",
       "Name: DMDEDUC2x, dtype: float64"
      ]
     },
     "execution_count": 14,
     "metadata": {},
     "output_type": "execute_result"
    }
   ],
   "source": [
    "# Proportions\n",
    "x = da.DMDEDUC2x.value_counts()\n",
    "x / x.sum()"
   ]
  },
  {
   "cell_type": "code",
   "execution_count": 17,
   "id": "47158c8c-5e58-4841-b021-addb56386bf4",
   "metadata": {},
   "outputs": [
    {
     "data": {
      "text/plain": [
       "Some college/AA    0.282650\n",
       "College            0.238187\n",
       "HS/GED             0.206800\n",
       "<9                 0.114211\n",
       "9-11               0.112119\n",
       "Missing            0.045510\n",
       "Don't know         0.000523\n",
       "Name: DMDEDUC2x, dtype: float64"
      ]
     },
     "execution_count": 17,
     "metadata": {},
     "output_type": "execute_result"
    }
   ],
   "source": [
    "# Create a category-evel for missing cases (null)\n",
    "# Sometimes we want to do that instead of eliminating/ignoring those cases\n",
    "da[\"DMDEDUC2x\"] = da.DMDEDUC2x.fillna(\"Missing\")\n",
    "x = da.DMDEDUC2x.value_counts()\n",
    "x / x.sum()"
   ]
  },
  {
   "cell_type": "markdown",
   "id": "23ba9acc-328d-4273-bc94-50f474909960",
   "metadata": {},
   "source": [
    "### Quantitative Variables: Numerical Summaries"
   ]
  },
  {
   "cell_type": "markdown",
   "id": "6e305275-cf63-45e1-9eaf-209b86d9a8cd",
   "metadata": {},
   "source": [
    "Example variables:\n",
    "- [BMXWT](https://wwwn.cdc.gov/Nchs/Nhanes/2015-2016/BMX_I.htm#BMXWT): weight (kg)."
   ]
  },
  {
   "cell_type": "code",
   "execution_count": 19,
   "id": "7344b42f-e336-4877-b755-69a15e29c11b",
   "metadata": {},
   "outputs": [
    {
     "data": {
      "text/plain": [
       "count    5666.000000\n",
       "mean       81.342676\n",
       "std        21.764409\n",
       "min        32.400000\n",
       "25%        65.900000\n",
       "50%        78.200000\n",
       "75%        92.700000\n",
       "max       198.900000\n",
       "Name: BMXWT, dtype: float64"
      ]
     },
     "execution_count": 19,
     "metadata": {},
     "output_type": "execute_result"
    }
   ],
   "source": [
    "# describe() provides numerical summaries of quantitative data\n",
    "# Note: use dropna() before applying any describe()\n",
    "da.BMXWT.dropna().describe()"
   ]
  },
  {
   "cell_type": "code",
   "execution_count": 20,
   "id": "09f77bd7-8fcb-436d-afce-8be8feeadb17",
   "metadata": {},
   "outputs": [
    {
     "name": "stdout",
     "output_type": "stream",
     "text": [
      "81.34267560889509\n",
      "81.34267560889509\n",
      "78.2\n",
      "78.2\n",
      "92.7\n",
      "92.7\n"
     ]
    }
   ],
   "source": [
    "# Manual summaries\n",
    "x = da.BMXWT.dropna() # Extract all non-missing values of BMXWT into a variable called 'x'\n",
    "print(x.mean()) # Pandas method\n",
    "print(np.mean(x)) # Numpy function\n",
    "print(x.median())\n",
    "print(np.percentile(x, 50)) # 50th percentile, same as the median\n",
    "print(np.percentile(x, 75)) # 75th percentile\n",
    "print(x.quantile(0.75)) # Pandas method for quantiles, equivalent to 75th percentile"
   ]
  },
  {
   "cell_type": "code",
   "execution_count": null,
   "id": "ce5cd2e3-9862-4483-8aa7-ed1f989d26bd",
   "metadata": {},
   "outputs": [],
   "source": []
  }
 ],
 "metadata": {
  "kernelspec": {
   "display_name": "Python 3 (ipykernel)",
   "language": "python",
   "name": "python3"
  },
  "language_info": {
   "codemirror_mode": {
    "name": "ipython",
    "version": 3
   },
   "file_extension": ".py",
   "mimetype": "text/x-python",
   "name": "python",
   "nbconvert_exporter": "python",
   "pygments_lexer": "ipython3",
   "version": "3.7.11"
  }
 },
 "nbformat": 4,
 "nbformat_minor": 5
}
