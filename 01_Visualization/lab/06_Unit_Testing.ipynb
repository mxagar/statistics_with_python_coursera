{
 "cells": [
  {
   "cell_type": "markdown",
   "id": "1109ef9f-66af-43b7-b0f3-ddcc971d7dd5",
   "metadata": {},
   "source": [
    "# Unit Testing"
   ]
  },
  {
   "cell_type": "markdown",
   "id": "8d74584a-98af-41e3-895a-45dca002226f",
   "metadata": {},
   "source": [
    "Unit testing consists in performing checks on pieces of our code (e.g., functions, class methods, etc.) to see whether they return expected values given some inputs. The notebook from the course does not show a good example of that. Instead, I paste my personal usage notes here, based on an example."
   ]
  },
  {
   "cell_type": "markdown",
   "id": "487012f4-abff-42d1-b4a7-77019264ce75",
   "metadata": {},
   "source": [
    "```python\n",
    "\n",
    "# -- cap.py: File with functionality code\n",
    "\n",
    "def cap_text(text):\n",
    "    #return text.capitalize()\n",
    "    return text.title()\n",
    "\n",
    "# -- test_cap.py: File for testing functionality\n",
    "\n",
    "import unittest\n",
    "import cap # import module with functionality\n",
    "\n",
    "class TestCap(unittest.TestCase): # We define out class with our tests\n",
    "\n",
    "    def test_one_word(self):\n",
    "        text = 'python'\n",
    "        result = cap.cap_text(text)\n",
    "        self.assertEqual(result, 'Python')\n",
    "\n",
    "    def test_multiple_words(self):\n",
    "        text = 'monty python'\n",
    "        result = cap.cap_text(text)\n",
    "        self.assertEqual(result, 'Monty Python')\n",
    "\n",
    "if __name__ == \"__main__\":\n",
    "    unittest.main() # our class with its tests is instantiated and executed\n",
    "\n",
    "# -- Testing in Shell: you call the testing file\n",
    "\n",
    "python test_cap\n",
    "\n",
    "```\n",
    "\n",
    "**There are more unit testing functions. Look in the official [documentation](https://docs.python.org/3/library/unittest.html) for more test methods**:\n",
    "\n",
    "```\n",
    "assertEqual(a, b)       a == b   \n",
    "assertNotEqual(a, b)    a != b   \n",
    "assertTrue(x)           bool(x) is True  \n",
    "assertFalse(x)          bool(x) is False     \n",
    "assertIs(a, b)          a is b\n",
    "assertIsNot(a, b)       a is not \n",
    "assertIsNone(x)         x is None\n",
    "...\n",
    "```\n",
    "\n"
   ]
  },
  {
   "cell_type": "code",
   "execution_count": null,
   "id": "78276e66-0616-4cc7-807a-d78344368cd3",
   "metadata": {},
   "outputs": [],
   "source": []
  }
 ],
 "metadata": {
  "kernelspec": {
   "display_name": "Python 3 (ipykernel)",
   "language": "python",
   "name": "python3"
  },
  "language_info": {
   "codemirror_mode": {
    "name": "ipython",
    "version": 3
   },
   "file_extension": ".py",
   "mimetype": "text/x-python",
   "name": "python",
   "nbconvert_exporter": "python",
   "pygments_lexer": "ipython3",
   "version": "3.7.11"
  }
 },
 "nbformat": 4,
 "nbformat_minor": 5
}
