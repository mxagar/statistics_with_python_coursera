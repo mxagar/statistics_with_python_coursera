{
 "cells": [
  {
   "cell_type": "markdown",
   "id": "e12a450c-6ad5-44ac-8ed9-4130b409bb55",
   "metadata": {},
   "source": [
    "# Sampling Distirbutions with the NHANES Dataset"
   ]
  },
  {
   "cell_type": "markdown",
   "id": "0813e98c-5c89-4aaa-b034-14d879c755a6",
   "metadata": {},
   "source": [
    "This notebook shows how to create sampling dirstibutions with the NHANES dataset. However, note that sampling distributions are not usually created -- they are rather a theoretical concept."
   ]
  },
  {
   "cell_type": "code",
   "execution_count": 1,
   "id": "3800d309-a40f-48ab-8181-af9fe30ee37f",
   "metadata": {},
   "outputs": [],
   "source": [
    "%matplotlib inline\n",
    "import matplotlib.pyplot as plt\n",
    "import seaborn as sns\n",
    "import pandas as pd\n",
    "import numpy as np"
   ]
  },
  {
   "cell_type": "code",
   "execution_count": 2,
   "id": "768948b2-4cd2-4e24-a5d9-2ce34d3edbab",
   "metadata": {},
   "outputs": [],
   "source": [
    "da = pd.read_csv(\"nhanes_2015_2016.csv\")"
   ]
  },
  {
   "cell_type": "code",
   "execution_count": null,
   "id": "6713f4f3-982e-4982-a6e3-4646f4e6c3fe",
   "metadata": {},
   "outputs": [],
   "source": []
  }
 ],
 "metadata": {
  "kernelspec": {
   "display_name": "Python 3 (ipykernel)",
   "language": "python",
   "name": "python3"
  },
  "language_info": {
   "codemirror_mode": {
    "name": "ipython",
    "version": 3
   },
   "file_extension": ".py",
   "mimetype": "text/x-python",
   "name": "python",
   "nbconvert_exporter": "python",
   "pygments_lexer": "ipython3",
   "version": "3.7.11"
  }
 },
 "nbformat": 4,
 "nbformat_minor": 5
}
