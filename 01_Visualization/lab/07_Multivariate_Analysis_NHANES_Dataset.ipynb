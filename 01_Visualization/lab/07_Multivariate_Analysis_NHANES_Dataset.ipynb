{
 "cells": [
  {
   "cell_type": "markdown",
   "id": "98ef41a7-4d00-4e4a-9fe1-22551430b8e0",
   "metadata": {},
   "source": [
    "# Multivariate Data Analysis - NHANES Case Study"
   ]
  },
  {
   "cell_type": "code",
   "execution_count": null,
   "id": "4f62666e-ae90-41bf-a0a8-6262e4d2b7e6",
   "metadata": {},
   "outputs": [],
   "source": []
  }
 ],
 "metadata": {
  "kernelspec": {
   "display_name": "Python 3 (ipykernel)",
   "language": "python",
   "name": "python3"
  },
  "language_info": {
   "codemirror_mode": {
    "name": "ipython",
    "version": 3
   },
   "file_extension": ".py",
   "mimetype": "text/x-python",
   "name": "python",
   "nbconvert_exporter": "python",
   "pygments_lexer": "ipython3",
   "version": "3.7.11"
  }
 },
 "nbformat": 4,
 "nbformat_minor": 5
}
