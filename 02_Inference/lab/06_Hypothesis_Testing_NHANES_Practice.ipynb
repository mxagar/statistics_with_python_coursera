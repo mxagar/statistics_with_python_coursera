{
 "cells": [
  {
   "cell_type": "markdown",
   "id": "bc0c100e-ad20-4305-9c9a-3de6080c8ba8",
   "metadata": {},
   "source": [
    "# Hypothesis Testing with the NHANES Dataset\n",
    "\n",
    "This notebook was mainly provided in the python lab of the course. Note that:\n",
    "- There are no new methodologies presented in here; to get a glimpse of all learned methods (i.e., hypothesis tests), the reader should check `06_Hypothesis_Testing_NHANES_Practice.ipynb`.\n",
    "- Some uses of tests are not correct here: proportions should be check with the Z-Distribution (Z-Tests) and means should be checked with the T-Distribution (T-Tests).\n",
    "- Even though no new methods are presented, very interesting handling of realistic data is presented here:\n",
    "    - Handling NA measurements\n",
    "    - Grouping and aggregating measuements\n",
    "    - Calls to custom library APIs\n",
    "    - How to approach the assumption of equal variances (homoscedasticity) for the use of pooled/unpooled standard errors\n",
    "    - Visualizations of the effect of using different sample sizes\n",
    "    \n",
    "Overview:\n",
    "1. Hypothesis Tests for Proportions\n",
    "    - 1.1 One Proportion\n",
    "    - 1.2 Two Proportions\n",
    "2. Hypothesis Tests for Means\n",
    "    - 2.1 One Mean\n",
    "    - 2.2 Two Means (Independent)\n",
    "    - 2.3 Two Means (Paired)\n",
    "3. Power and sample size for hypothesis tests"
   ]
  },
  {
   "cell_type": "markdown",
   "id": "1d9e4ff3-49bd-4471-9853-f44635982d6c",
   "metadata": {},
   "source": [
    "In general, the formal hypothesis testing is demonstrated using the NHANES data.\n",
    "\n",
    "It is important to note that the NHANES data are a \"complex survey\".  The data are not an independent and representative sample from the target population.  Proper analysis of complex survey data should make use of additional information about how the data were collected.  Since complex survey analysis is a somewhat specialized topic, we ignore this aspect of the data here, and analyze the NHANES data as if it were an independent and identically distributed sample from a population."
   ]
  },
  {
   "cell_type": "code",
   "execution_count": 4,
   "id": "8a5ac04f-8221-494d-a7cb-109042b218e2",
   "metadata": {},
   "outputs": [],
   "source": [
    "import pandas as pd\n",
    "import numpy as np\n",
    "import matplotlib\n",
    "#matplotlib.use('Agg') # workaround, there may be a better way\n",
    "import seaborn as sns\n",
    "%matplotlib inline\n",
    "import matplotlib.pyplot as plt\n",
    "import statsmodels.api as sm\n",
    "import scipy.stats.distributions as dist"
   ]
  },
  {
   "cell_type": "markdown",
   "id": "61fa727d-7f44-4238-88c4-39e7a803d86e",
   "metadata": {},
   "source": [
    "## 1. Hypothesis Tests for Proportions"
   ]
  },
  {
   "cell_type": "markdown",
   "id": "b3d2150e-85a3-4e6e-808d-2390c5bd1a80",
   "metadata": {},
   "source": [
    "Below we read the data, and convert some of the integer codes to text values.\n",
    "Smoker (yes/no) and gender (Male/Female) groups are considered."
   ]
  },
  {
   "cell_type": "code",
   "execution_count": 6,
   "id": "be631e0f-513e-4220-a7a5-3e6f5a46cbd8",
   "metadata": {},
   "outputs": [],
   "source": [
    "url = \"nhanes_2015_2016.csv\"\n",
    "da = pd.read_csv(url)\n",
    "da[\"SMQ020x\"] = da.SMQ020.replace({1: \"Yes\", 2: \"No\", 7: np.nan, 9: np.nan})"
   ]
  },
  {
   "cell_type": "code",
   "execution_count": 7,
   "id": "3cb43ed0-a91e-4681-8a89-fd9bc4c4c560",
   "metadata": {},
   "outputs": [
    {
     "data": {
      "text/plain": [
       "0    Yes\n",
       "1    Yes\n",
       "2    Yes\n",
       "3     No\n",
       "4     No\n",
       "Name: SMQ020x, dtype: object"
      ]
     },
     "execution_count": 7,
     "metadata": {},
     "output_type": "execute_result"
    }
   ],
   "source": [
    "da[\"SMQ020x\"].head()"
   ]
  },
  {
   "cell_type": "code",
   "execution_count": 12,
   "id": "8c818e56-973d-4c9e-9c39-b1a873a98bd7",
   "metadata": {},
   "outputs": [
    {
     "data": {
      "text/plain": [
       "0      Male\n",
       "1      Male\n",
       "2      Male\n",
       "3    Female\n",
       "4    Female\n",
       "Name: RIAGENDRx, dtype: object"
      ]
     },
     "execution_count": 12,
     "metadata": {},
     "output_type": "execute_result"
    }
   ],
   "source": [
    "da[\"RIAGENDRx\"] = da.RIAGENDR.replace({1: \"Male\", 2: \"Female\"})\n",
    "da[\"RIAGENDRx\"].head()"
   ]
  },
  {
   "cell_type": "markdown",
   "id": "81e89f9c-cd93-4e44-8b5d-f542931bbf52",
   "metadata": {},
   "source": [
    "### 1.1 Hypothesis Tests for One Proportion\n",
    "\n",
    "The most basic hypothesis test may be the one-sample test for a proportion.  This test is used if we have specified a particular value as the null value for the proportion, and we wish to assess if the data are compatible with the true parameter value being equal to this specified value.  One-sample tests are not used very often in practice, because it is not very common that we have a specific fixed value to use for comparison. For illustration, imagine that the rate of lifetime smoking in another country was known to be 40%, and we wished to assess whether the rate of lifetime smoking in the US were different from 40%.  In the following notebook cell, we carry out the (two-sided) one-sample test that the population proportion of smokers is 0.4, and obtain a p-value of 0.43.  This indicates that the NHANES data are compatible with the proportion of (ever) smokers in the US being 40%. "
   ]
  },
  {
   "cell_type": "code",
   "execution_count": 13,
   "id": "fb57751c-0303-4ee6-89b5-1a3fbbda76e9",
   "metadata": {},
   "outputs": [],
   "source": [
    "x = da.SMQ020x.dropna() == \"Yes\""
   ]
  },
  {
   "cell_type": "code",
   "execution_count": 14,
   "id": "e9bb8e97-7197-4ea3-a898-3e71cc2c5994",
   "metadata": {},
   "outputs": [],
   "source": [
    "p = x.mean()"
   ]
  },
  {
   "cell_type": "code",
   "execution_count": 15,
   "id": "c3373692-ae4e-40de-88d0-640588386d25",
   "metadata": {},
   "outputs": [
    {
     "data": {
      "text/plain": [
       "0.4050655021834061"
      ]
     },
     "execution_count": 15,
     "metadata": {},
     "output_type": "execute_result"
    }
   ],
   "source": [
    "p"
   ]
  },
  {
   "cell_type": "code",
   "execution_count": 16,
   "id": "1e9d7e23-9673-4cba-96cf-1a1646f5ed3f",
   "metadata": {},
   "outputs": [
    {
     "data": {
      "text/plain": [
       "0.00647467353462031"
      ]
     },
     "execution_count": 16,
     "metadata": {},
     "output_type": "execute_result"
    }
   ],
   "source": [
    "se = np.sqrt(.4 * (1 - .4)/ len(x))\n",
    "se"
   ]
  },
  {
   "cell_type": "code",
   "execution_count": 17,
   "id": "ab60df05-f1a0-4642-a467-2f4406ef05de",
   "metadata": {},
   "outputs": [
    {
     "data": {
      "text/plain": [
       "0.7823563854332805"
      ]
     },
     "execution_count": 17,
     "metadata": {},
     "output_type": "execute_result"
    }
   ],
   "source": [
    "test_stat = (p - 0.4) / se\n",
    "test_stat"
   ]
  },
  {
   "cell_type": "code",
   "execution_count": 18,
   "id": "5560f169-dc34-4db9-8e37-d2073d09bda5",
   "metadata": {},
   "outputs": [
    {
     "name": "stdout",
     "output_type": "stream",
     "text": [
      "0.7823563854332805 0.4340051581348052\n"
     ]
    }
   ],
   "source": [
    "# 2-sided test: 2x\n",
    "pvalue = 2 * dist.norm.cdf(-np.abs(test_stat))\n",
    "print(test_stat, pvalue)"
   ]
  },
  {
   "cell_type": "markdown",
   "id": "32ddcb23-5ad1-41f6-881c-668a811e2428",
   "metadata": {},
   "source": [
    "The following cell carries out the same test as performed above using the Statsmodels library.  The results in the first (default) case below are slightly different from the results obtained above because Statsmodels by default uses the sample proportion instead of the null proportion when computing the standard error.  This distinction is rarely consequential, but we can specify that the null proportion should be used to calculate the standard error, and the results agree exactly with what we calculated above.  The first two lines below carry out tests using the normal approximation to the sampling distribution of the test statistic, and the third line below carries uses the exact binomial sampling distribution.  We can see here that the p-values are nearly identical in all three cases. This is expected when the sample size is large, and the proportion is not close to either 0 or 1."
   ]
  },
  {
   "cell_type": "code",
   "execution_count": 20,
   "id": "cdedf890-e91d-493b-9b60-cf462f036e9e",
   "metadata": {},
   "outputs": [
    {
     "data": {
      "text/plain": [
       "(0.7807518954896244, 0.43494843171868214)"
      ]
     },
     "execution_count": 20,
     "metadata": {},
     "output_type": "execute_result"
    }
   ],
   "source": [
    "sm.stats.proportions_ztest(x.sum(), len(x), 0.4)"
   ]
  },
  {
   "cell_type": "code",
   "execution_count": 21,
   "id": "4230bf8c-2ee7-41a2-ac80-69246b4af0af",
   "metadata": {},
   "outputs": [
    {
     "name": "stderr",
     "output_type": "stream",
     "text": [
      "/Users/mxagar/opt/anaconda3/envs/ds/lib/python3.7/site-packages/scipy/stats/_discrete_distns.py:67: RuntimeWarning: divide by zero encountered in _binom_pdf\n",
      "  return _boost._binom_pdf(x, n, p)\n"
     ]
    },
    {
     "data": {
      "text/plain": [
       "0.43403608544100336"
      ]
     },
     "execution_count": 21,
     "metadata": {},
     "output_type": "execute_result"
    }
   ],
   "source": [
    "sm.stats.binom_test(x.sum(), len(x), 0.4)"
   ]
  },
  {
   "cell_type": "markdown",
   "id": "c9912eeb-07bf-4d8e-bd2b-217556cfcd04",
   "metadata": {},
   "source": [
    "### 1.2 Hypothesis Tests for Two Proportions\n",
    "\n",
    "Comparative tests tend to be used much more frequently than tests comparing one population to a fixed value.  A two-sample test of proportions is used to assess whether the proportion of individuals with some trait differs between two sub-populations.  For example, we can compare the smoking rates between females and males. Since smoking rates vary strongly with age, we do this in the subpopulation of people between 20 and 25 years of age.  In the cell below, we carry out this test without using any libraries, implementing all the test procedures covered elsewhere in the course using Python code.  We find that the smoking rate for men is around 10 percentage points greater than the smoking rate for females, and this difference is statistically significant (the p-value is around 0.01)."
   ]
  },
  {
   "cell_type": "code",
   "execution_count": 22,
   "id": "2052fd46-c437-4dcf-a70c-ec6145280a54",
   "metadata": {},
   "outputs": [
    {
     "data": {
      "text/html": [
       "<div>\n",
       "<style scoped>\n",
       "    .dataframe tbody tr th:only-of-type {\n",
       "        vertical-align: middle;\n",
       "    }\n",
       "\n",
       "    .dataframe tbody tr th {\n",
       "        vertical-align: top;\n",
       "    }\n",
       "\n",
       "    .dataframe thead th {\n",
       "        text-align: right;\n",
       "    }\n",
       "</style>\n",
       "<table border=\"1\" class=\"dataframe\">\n",
       "  <thead>\n",
       "    <tr style=\"text-align: right;\">\n",
       "      <th></th>\n",
       "      <th>SMQ020x</th>\n",
       "      <th>RIDAGEYR</th>\n",
       "      <th>RIAGENDRx</th>\n",
       "    </tr>\n",
       "  </thead>\n",
       "  <tbody>\n",
       "    <tr>\n",
       "      <th>0</th>\n",
       "      <td>Yes</td>\n",
       "      <td>62</td>\n",
       "      <td>Male</td>\n",
       "    </tr>\n",
       "    <tr>\n",
       "      <th>1</th>\n",
       "      <td>Yes</td>\n",
       "      <td>53</td>\n",
       "      <td>Male</td>\n",
       "    </tr>\n",
       "    <tr>\n",
       "      <th>2</th>\n",
       "      <td>Yes</td>\n",
       "      <td>78</td>\n",
       "      <td>Male</td>\n",
       "    </tr>\n",
       "    <tr>\n",
       "      <th>3</th>\n",
       "      <td>No</td>\n",
       "      <td>56</td>\n",
       "      <td>Female</td>\n",
       "    </tr>\n",
       "    <tr>\n",
       "      <th>4</th>\n",
       "      <td>No</td>\n",
       "      <td>42</td>\n",
       "      <td>Female</td>\n",
       "    </tr>\n",
       "  </tbody>\n",
       "</table>\n",
       "</div>"
      ],
      "text/plain": [
       "  SMQ020x  RIDAGEYR RIAGENDRx\n",
       "0     Yes        62      Male\n",
       "1     Yes        53      Male\n",
       "2     Yes        78      Male\n",
       "3      No        56    Female\n",
       "4      No        42    Female"
      ]
     },
     "execution_count": 22,
     "metadata": {},
     "output_type": "execute_result"
    }
   ],
   "source": [
    "dx = da[[\"SMQ020x\", \"RIDAGEYR\", \"RIAGENDRx\"]].dropna()\n",
    "dx.head()"
   ]
  },
  {
   "cell_type": "code",
   "execution_count": 23,
   "id": "660ab454-5b9e-429e-bd57-61b6550c5e04",
   "metadata": {},
   "outputs": [
    {
     "name": "stdout",
     "output_type": "stream",
     "text": [
      "              Smoke     N\n",
      "RIAGENDRx                \n",
      "Female     0.304845  2972\n",
      "Male       0.513258  2753\n"
     ]
    }
   ],
   "source": [
    "p = dx.groupby(\"RIAGENDRx\")[\"SMQ020x\"].agg([lambda z: np.mean(z == \"Yes\"), \"size\"])\n",
    "p.columns = [\"Smoke\", \"N\"]\n",
    "print(p)"
   ]
  },
  {
   "cell_type": "markdown",
   "id": "2407a09e-6d84-408f-bcc6-7df4321016f0",
   "metadata": {},
   "source": [
    "Essentially the same test as above can be conducted by converting the \"Yes\"/\"No\" responses to numbers (Yes=1, No=0) and conducting a two-sample t-test, as below:"
   ]
  },
  {
   "cell_type": "code",
   "execution_count": 24,
   "id": "1af2a84f-4977-4417-9578-b20fd1146a64",
   "metadata": {},
   "outputs": [],
   "source": [
    "p_comb = (dx.SMQ020x == \"Yes\").mean()\n",
    "va = p_comb * (1 - p_comb)\n",
    "se = np.sqrt(va * (1 / p.N.Female + 1 / p.N.Male))"
   ]
  },
  {
   "cell_type": "code",
   "execution_count": 25,
   "id": "396084f2-09f6-4186-a362-605b40f9af6e",
   "metadata": {},
   "outputs": [
    {
     "data": {
      "text/plain": [
       "(0.4050655021834061, 0.2409874411243111, 0.01298546309757376)"
      ]
     },
     "execution_count": 25,
     "metadata": {},
     "output_type": "execute_result"
    }
   ],
   "source": [
    "(p_comb, va, se)"
   ]
  },
  {
   "cell_type": "code",
   "execution_count": 26,
   "id": "93f87956-08a4-4206-bb39-1b884f5dde24",
   "metadata": {},
   "outputs": [
    {
     "data": {
      "text/plain": [
       "(-16.049719603652488, 5.742288777302776e-58)"
      ]
     },
     "execution_count": 26,
     "metadata": {},
     "output_type": "execute_result"
    }
   ],
   "source": [
    "test_stat = (p.Smoke.Female - p.Smoke.Male) / se\n",
    "p_value = 2 * dist.norm.cdf(-np.abs(test_stat))\n",
    "(test_stat, p_value)"
   ]
  },
  {
   "cell_type": "code",
   "execution_count": 27,
   "id": "cccb24a1-af03-46a3-aa2c-ceac312b4004",
   "metadata": {},
   "outputs": [
    {
     "data": {
      "text/plain": [
       "3     0\n",
       "4     0\n",
       "5     0\n",
       "7     0\n",
       "12    1\n",
       "Name: SMQ020x, dtype: int64"
      ]
     },
     "execution_count": 27,
     "metadata": {},
     "output_type": "execute_result"
    }
   ],
   "source": [
    "dx_females = dx.loc[dx.RIAGENDRx == \"Female\", \"SMQ020x\"].replace({\"Yes\": 1, \"No\": 0})\n",
    "dx_females.head()"
   ]
  },
  {
   "cell_type": "code",
   "execution_count": 28,
   "id": "d7f2355f-8f88-46d8-be94-b138f7c163c1",
   "metadata": {},
   "outputs": [
    {
     "data": {
      "text/plain": [
       "0    1\n",
       "1    1\n",
       "2    1\n",
       "6    1\n",
       "8    0\n",
       "Name: SMQ020x, dtype: int64"
      ]
     },
     "execution_count": 28,
     "metadata": {},
     "output_type": "execute_result"
    }
   ],
   "source": [
    "dx_males = dx.loc[dx.RIAGENDRx == \"Male\", \"SMQ020x\"].replace({\"Yes\": 1, \"No\": 0})\n",
    "dx_males.head()"
   ]
  },
  {
   "cell_type": "code",
   "execution_count": 29,
   "id": "9c28e3b6-2f9a-494b-9f60-68f063cc4646",
   "metadata": {},
   "outputs": [
    {
     "data": {
      "text/plain": [
       "(-16.42058555898446, 3.0320887866899057e-59, 5723.0)"
      ]
     },
     "execution_count": 29,
     "metadata": {},
     "output_type": "execute_result"
    }
   ],
   "source": [
    "sm.stats.ttest_ind(dx_females, dx_males)"
   ]
  },
  {
   "cell_type": "markdown",
   "id": "19a38c4a-e904-42eb-8ef3-8748e569e028",
   "metadata": {},
   "source": [
    "## 2. Hypothesis Tests Comparing Means\n",
    "\n",
    "Tests of means are similar in many ways to tests of proportions.  Just as with proportions, for comparing means there are one and two-sample tests, z-tests and t-tests, and one-sided and two-sided tests."
   ]
  },
  {
   "cell_type": "markdown",
   "id": "95af3cdd-756c-465a-b152-b9129fe7be60",
   "metadata": {},
   "source": [
    "### 2.1 Hypothesis Tests for One Mean"
   ]
  },
  {
   "cell_type": "markdown",
   "id": "d78f48a0-89a6-4365-a805-8c9489492e56",
   "metadata": {},
   "source": [
    "As with tests of proportions, one-sample tests of means are not very common, but we illustrate a one sample test in the cell below.  We compare systolic blood pressure to the fixed value 120 (which is the lower threshold for \"pre-hypertension\"), and find that the mean is significantly different from 120 (the point estimate of the mean is 126)."
   ]
  },
  {
   "cell_type": "code",
   "execution_count": 31,
   "id": "f6b1919c-f50c-4eda-8e5a-5d4d58f0ba54",
   "metadata": {},
   "outputs": [
    {
     "data": {
      "text/html": [
       "<div>\n",
       "<style scoped>\n",
       "    .dataframe tbody tr th:only-of-type {\n",
       "        vertical-align: middle;\n",
       "    }\n",
       "\n",
       "    .dataframe tbody tr th {\n",
       "        vertical-align: top;\n",
       "    }\n",
       "\n",
       "    .dataframe thead th {\n",
       "        text-align: right;\n",
       "    }\n",
       "</style>\n",
       "<table border=\"1\" class=\"dataframe\">\n",
       "  <thead>\n",
       "    <tr style=\"text-align: right;\">\n",
       "      <th></th>\n",
       "      <th>BPXSY1</th>\n",
       "      <th>RIDAGEYR</th>\n",
       "      <th>RIAGENDRx</th>\n",
       "    </tr>\n",
       "  </thead>\n",
       "  <tbody>\n",
       "    <tr>\n",
       "      <th>0</th>\n",
       "      <td>128.0</td>\n",
       "      <td>62</td>\n",
       "      <td>Male</td>\n",
       "    </tr>\n",
       "    <tr>\n",
       "      <th>1</th>\n",
       "      <td>146.0</td>\n",
       "      <td>53</td>\n",
       "      <td>Male</td>\n",
       "    </tr>\n",
       "    <tr>\n",
       "      <th>2</th>\n",
       "      <td>138.0</td>\n",
       "      <td>78</td>\n",
       "      <td>Male</td>\n",
       "    </tr>\n",
       "    <tr>\n",
       "      <th>3</th>\n",
       "      <td>132.0</td>\n",
       "      <td>56</td>\n",
       "      <td>Female</td>\n",
       "    </tr>\n",
       "    <tr>\n",
       "      <th>4</th>\n",
       "      <td>100.0</td>\n",
       "      <td>42</td>\n",
       "      <td>Female</td>\n",
       "    </tr>\n",
       "  </tbody>\n",
       "</table>\n",
       "</div>"
      ],
      "text/plain": [
       "   BPXSY1  RIDAGEYR RIAGENDRx\n",
       "0   128.0        62      Male\n",
       "1   146.0        53      Male\n",
       "2   138.0        78      Male\n",
       "3   132.0        56    Female\n",
       "4   100.0        42    Female"
      ]
     },
     "execution_count": 31,
     "metadata": {},
     "output_type": "execute_result"
    }
   ],
   "source": [
    "dx = da[[\"BPXSY1\", \"RIDAGEYR\", \"RIAGENDRx\"]].dropna()\n",
    "dx.head()"
   ]
  },
  {
   "cell_type": "code",
   "execution_count": 32,
   "id": "b8ce21c0-d643-4674-86bf-c0610c8afe2e",
   "metadata": {},
   "outputs": [
    {
     "data": {
      "text/html": [
       "<div>\n",
       "<style scoped>\n",
       "    .dataframe tbody tr th:only-of-type {\n",
       "        vertical-align: middle;\n",
       "    }\n",
       "\n",
       "    .dataframe tbody tr th {\n",
       "        vertical-align: top;\n",
       "    }\n",
       "\n",
       "    .dataframe thead th {\n",
       "        text-align: right;\n",
       "    }\n",
       "</style>\n",
       "<table border=\"1\" class=\"dataframe\">\n",
       "  <thead>\n",
       "    <tr style=\"text-align: right;\">\n",
       "      <th></th>\n",
       "      <th>BPXSY1</th>\n",
       "      <th>RIDAGEYR</th>\n",
       "      <th>RIAGENDRx</th>\n",
       "    </tr>\n",
       "  </thead>\n",
       "  <tbody>\n",
       "    <tr>\n",
       "      <th>10</th>\n",
       "      <td>144.0</td>\n",
       "      <td>46</td>\n",
       "      <td>Male</td>\n",
       "    </tr>\n",
       "    <tr>\n",
       "      <th>11</th>\n",
       "      <td>116.0</td>\n",
       "      <td>45</td>\n",
       "      <td>Male</td>\n",
       "    </tr>\n",
       "    <tr>\n",
       "      <th>20</th>\n",
       "      <td>110.0</td>\n",
       "      <td>49</td>\n",
       "      <td>Male</td>\n",
       "    </tr>\n",
       "    <tr>\n",
       "      <th>42</th>\n",
       "      <td>128.0</td>\n",
       "      <td>42</td>\n",
       "      <td>Male</td>\n",
       "    </tr>\n",
       "    <tr>\n",
       "      <th>51</th>\n",
       "      <td>118.0</td>\n",
       "      <td>50</td>\n",
       "      <td>Male</td>\n",
       "    </tr>\n",
       "  </tbody>\n",
       "</table>\n",
       "</div>"
      ],
      "text/plain": [
       "    BPXSY1  RIDAGEYR RIAGENDRx\n",
       "10   144.0        46      Male\n",
       "11   116.0        45      Male\n",
       "20   110.0        49      Male\n",
       "42   128.0        42      Male\n",
       "51   118.0        50      Male"
      ]
     },
     "execution_count": 32,
     "metadata": {},
     "output_type": "execute_result"
    }
   ],
   "source": [
    "dx = dx.loc[(dx.RIDAGEYR >= 40) & (dx.RIDAGEYR <= 50) & (dx.RIAGENDRx == \"Male\"), :]\n",
    "dx.head()"
   ]
  },
  {
   "cell_type": "code",
   "execution_count": 33,
   "id": "04617c0d-e86c-493b-8883-e935717fd241",
   "metadata": {},
   "outputs": [
    {
     "name": "stdout",
     "output_type": "stream",
     "text": [
      "125.86698337292161\n"
     ]
    }
   ],
   "source": [
    "print(dx.BPXSY1.mean())"
   ]
  },
  {
   "cell_type": "code",
   "execution_count": 34,
   "id": "5ba9ea87-e56a-4b7f-a7d9-75ae8c85fbfd",
   "metadata": {},
   "outputs": [
    {
     "data": {
      "text/plain": [
       "(7.469764137102597, 8.033869113167905e-14)"
      ]
     },
     "execution_count": 34,
     "metadata": {},
     "output_type": "execute_result"
    }
   ],
   "source": [
    "sm.stats.ztest(dx.BPXSY1, value=120)"
   ]
  },
  {
   "cell_type": "markdown",
   "id": "ef464e5e-2d51-4695-b42d-e4e4c56e836c",
   "metadata": {},
   "source": [
    "### 2.2 Hypothesis Tests for Two Means (Independent)"
   ]
  },
  {
   "cell_type": "markdown",
   "id": "56f427d5-1920-40f2-8ccd-2b48ca1d48d0",
   "metadata": {},
   "source": [
    "In the cell below, we carry out a formal test of the null hypothesis that the mean blood pressure for women between the ages of 50 and 60 is equal to the mean blood pressure of men between the ages of 50 and 60.  The results indicate that while the mean systolic blood pressure for men is slightly greater than that for women (129 mm/Hg versus 128 mm/Hg), this difference is not statistically significant. \n",
    "\n",
    "There are a number of different variants on the two-sample t-test. Two often-encountered variants are the t-test carried out using the t-distribution, and the t-test carried out using the normal approximation to the reference distribution of the test statistic, often called a z-test.  Below we display results from both these testing approaches.  When the sample size is large, the difference between the t-test and z-test is very small.  "
   ]
  },
  {
   "cell_type": "code",
   "execution_count": 35,
   "id": "ead44991-b7a0-4aea-b49c-cd7b0617d60e",
   "metadata": {},
   "outputs": [
    {
     "data": {
      "text/html": [
       "<div>\n",
       "<style scoped>\n",
       "    .dataframe tbody tr th:only-of-type {\n",
       "        vertical-align: middle;\n",
       "    }\n",
       "\n",
       "    .dataframe tbody tr th {\n",
       "        vertical-align: top;\n",
       "    }\n",
       "\n",
       "    .dataframe thead th {\n",
       "        text-align: right;\n",
       "    }\n",
       "</style>\n",
       "<table border=\"1\" class=\"dataframe\">\n",
       "  <thead>\n",
       "    <tr style=\"text-align: right;\">\n",
       "      <th></th>\n",
       "      <th>BPXSY1</th>\n",
       "      <th>RIDAGEYR</th>\n",
       "      <th>RIAGENDRx</th>\n",
       "    </tr>\n",
       "  </thead>\n",
       "  <tbody>\n",
       "    <tr>\n",
       "      <th>1</th>\n",
       "      <td>146.0</td>\n",
       "      <td>53</td>\n",
       "      <td>Male</td>\n",
       "    </tr>\n",
       "    <tr>\n",
       "      <th>3</th>\n",
       "      <td>132.0</td>\n",
       "      <td>56</td>\n",
       "      <td>Female</td>\n",
       "    </tr>\n",
       "    <tr>\n",
       "      <th>9</th>\n",
       "      <td>178.0</td>\n",
       "      <td>56</td>\n",
       "      <td>Male</td>\n",
       "    </tr>\n",
       "    <tr>\n",
       "      <th>15</th>\n",
       "      <td>134.0</td>\n",
       "      <td>57</td>\n",
       "      <td>Female</td>\n",
       "    </tr>\n",
       "    <tr>\n",
       "      <th>19</th>\n",
       "      <td>136.0</td>\n",
       "      <td>54</td>\n",
       "      <td>Female</td>\n",
       "    </tr>\n",
       "  </tbody>\n",
       "</table>\n",
       "</div>"
      ],
      "text/plain": [
       "    BPXSY1  RIDAGEYR RIAGENDRx\n",
       "1    146.0        53      Male\n",
       "3    132.0        56    Female\n",
       "9    178.0        56      Male\n",
       "15   134.0        57    Female\n",
       "19   136.0        54    Female"
      ]
     },
     "execution_count": 35,
     "metadata": {},
     "output_type": "execute_result"
    }
   ],
   "source": [
    "dx = da[[\"BPXSY1\", \"RIDAGEYR\", \"RIAGENDRx\"]].dropna()\n",
    "dx = dx.loc[(dx.RIDAGEYR >= 50) & (dx.RIDAGEYR <= 60), :]\n",
    "dx.head()"
   ]
  },
  {
   "cell_type": "code",
   "execution_count": 36,
   "id": "a75f28d3-6e72-404d-9080-d2c7fcf3e23d",
   "metadata": {},
   "outputs": [
    {
     "name": "stdout",
     "output_type": "stream",
     "text": [
      "127.92561983471074 129.23829787234044\n"
     ]
    }
   ],
   "source": [
    "bpx_female = dx.loc[dx.RIAGENDRx==\"Female\", \"BPXSY1\"]\n",
    "bpx_male = dx.loc[dx.RIAGENDRx==\"Male\", \"BPXSY1\"]\n",
    "print(bpx_female.mean(), bpx_male.mean())"
   ]
  },
  {
   "cell_type": "code",
   "execution_count": 37,
   "id": "626043fe-25c7-4f70-979e-2906d96d1da2",
   "metadata": {},
   "outputs": [
    {
     "name": "stdout",
     "output_type": "stream",
     "text": [
      "(-1.105435895556249, 0.2689707570859362)\n"
     ]
    }
   ],
   "source": [
    "print(sm.stats.ztest(bpx_female, bpx_male))"
   ]
  },
  {
   "cell_type": "code",
   "execution_count": 38,
   "id": "3eea287e-c313-4e75-a0c3-37de87e219e7",
   "metadata": {},
   "outputs": [
    {
     "name": "stdout",
     "output_type": "stream",
     "text": [
      "(-1.105435895556249, 0.26925004137768577, 952.0)\n"
     ]
    }
   ],
   "source": [
    "print(sm.stats.ttest_ind(bpx_female, bpx_male))"
   ]
  },
  {
   "cell_type": "markdown",
   "id": "04a216b5-733c-42ca-9205-c7a8507e20df",
   "metadata": {},
   "source": [
    "Another important aspect of two-sample mean testing is **\"heteroscedasticity\", meaning that the variances within the two groups being compared may be different**. While the goal of the test is to compare the means, the variances play an important role in calibrating the statistics (deciding how big the mean difference needs to be to be declared statisitically significant). In the NHANES data, we see that there are moderate differences between the amount of variation in BMI for females and for males, looking within 10-year age bands. In every age band, females having greater variation than males. "
   ]
  },
  {
   "cell_type": "code",
   "execution_count": 39,
   "id": "ca7d0759-6d5f-4287-890e-704eefdd6ba1",
   "metadata": {},
   "outputs": [
    {
     "data": {
      "text/html": [
       "<div>\n",
       "<style scoped>\n",
       "    .dataframe tbody tr th:only-of-type {\n",
       "        vertical-align: middle;\n",
       "    }\n",
       "\n",
       "    .dataframe tbody tr th {\n",
       "        vertical-align: top;\n",
       "    }\n",
       "\n",
       "    .dataframe thead th {\n",
       "        text-align: right;\n",
       "    }\n",
       "</style>\n",
       "<table border=\"1\" class=\"dataframe\">\n",
       "  <thead>\n",
       "    <tr style=\"text-align: right;\">\n",
       "      <th>RIAGENDRx</th>\n",
       "      <th>Female</th>\n",
       "      <th>Male</th>\n",
       "    </tr>\n",
       "    <tr>\n",
       "      <th>agegrp</th>\n",
       "      <th></th>\n",
       "      <th></th>\n",
       "    </tr>\n",
       "  </thead>\n",
       "  <tbody>\n",
       "    <tr>\n",
       "      <th>(18, 30]</th>\n",
       "      <td>7.745893</td>\n",
       "      <td>6.649440</td>\n",
       "    </tr>\n",
       "    <tr>\n",
       "      <th>(30, 40]</th>\n",
       "      <td>8.315608</td>\n",
       "      <td>6.622412</td>\n",
       "    </tr>\n",
       "    <tr>\n",
       "      <th>(40, 50]</th>\n",
       "      <td>8.076195</td>\n",
       "      <td>6.407076</td>\n",
       "    </tr>\n",
       "    <tr>\n",
       "      <th>(50, 60]</th>\n",
       "      <td>7.575848</td>\n",
       "      <td>5.914373</td>\n",
       "    </tr>\n",
       "    <tr>\n",
       "      <th>(60, 70]</th>\n",
       "      <td>7.604514</td>\n",
       "      <td>5.933307</td>\n",
       "    </tr>\n",
       "    <tr>\n",
       "      <th>(70, 80]</th>\n",
       "      <td>6.284968</td>\n",
       "      <td>4.974855</td>\n",
       "    </tr>\n",
       "  </tbody>\n",
       "</table>\n",
       "</div>"
      ],
      "text/plain": [
       "RIAGENDRx    Female      Male\n",
       "agegrp                       \n",
       "(18, 30]   7.745893  6.649440\n",
       "(30, 40]   8.315608  6.622412\n",
       "(40, 50]   8.076195  6.407076\n",
       "(50, 60]   7.575848  5.914373\n",
       "(60, 70]   7.604514  5.933307\n",
       "(70, 80]   6.284968  4.974855"
      ]
     },
     "execution_count": 39,
     "metadata": {},
     "output_type": "execute_result"
    }
   ],
   "source": [
    "dx = da[[\"BMXBMI\", \"RIDAGEYR\", \"RIAGENDRx\"]].dropna()\n",
    "da[\"agegrp\"] = pd.cut(da.RIDAGEYR, [18, 30, 40, 50, 60, 70, 80])\n",
    "# The standard deviations are quite different for each age and gender group\n",
    "# so we cannot assume equal variances\n",
    "da.groupby([\"agegrp\", \"RIAGENDRx\"])[\"BMXBMI\"].agg(np.std).unstack()"
   ]
  },
  {
   "cell_type": "markdown",
   "id": "8bff4c07-fd93-4161-a592-4b9b220b764a",
   "metadata": {},
   "source": [
    "The standard error of the mean difference (e.g. mean female blood pressure minus mean mal blood pressure) can be estimated in at least two different ways. In the statsmodels library, these approaches are referred to as the \"pooled\" and the \"unequal\" approach to estimating the variance. If the variances are equal (i.e. there is no heteroscedasticity), then there should be little difference between the two approaches. Even in the presence of moderate heteroscedasticity, as we have here, we can see that the results for the two differences are quite similar. Below we have a loop that considers each 10-year age band and assesses the evidence for a difference in mean BMI for women and for men. The results printed in each row of output are the test-statistic and p-value. "
   ]
  },
  {
   "cell_type": "code",
   "execution_count": 40,
   "id": "146ed343-0643-49c2-b799-d875cf147c28",
   "metadata": {},
   "outputs": [
    {
     "name": "stdout",
     "output_type": "stream",
     "text": [
      "(18, 30]\n",
      "pooled:  (1.7026932933643306, 0.08862548061449803)\n",
      "unequal:  (1.7174610823927183, 0.08589495934713169)\n",
      "\n",
      "(30, 40]\n",
      "pooled:  (1.437828040564499, 0.15048285114647966)\n",
      "unequal:  (1.4437869620833568, 0.1487989105789227)\n",
      "\n",
      "(40, 50]\n",
      "pooled:  (2.8933761158070186, 0.003811246059501354)\n",
      "unequal:  (2.9678691663536725, 0.0029987194174035366)\n",
      "\n",
      "(50, 60]\n",
      "pooled:  (3.3621087799813747, 0.0007734964571391533)\n",
      "unequal:  (3.375494390173931, 0.0007368319423226358)\n",
      "\n",
      "(60, 70]\n",
      "pooled:  (3.6172401442432527, 0.000297761021031962)\n",
      "unequal:  (3.628483094544537, 0.00028509141471494756)\n",
      "\n",
      "(70, 80]\n",
      "pooled:  (2.926729252512232, 0.003425469414486154)\n",
      "unequal:  (2.9377798867691975, 0.003305716331519585)\n",
      "\n"
     ]
    }
   ],
   "source": [
    "for k, v in da.groupby(\"agegrp\"):\n",
    "    bmi_female = v.loc[v.RIAGENDRx==\"Female\", \"BMXBMI\"].dropna()\n",
    "    bmi_female = sm.stats.DescrStatsW(bmi_female)\n",
    "    bmi_male = v.loc[v.RIAGENDRx==\"Male\", \"BMXBMI\"].dropna()\n",
    "    bmi_male = sm.stats.DescrStatsW(bmi_male)\n",
    "    print(k)\n",
    "    print(\"pooled: \", sm.stats.CompareMeans(bmi_female, bmi_male).ztest_ind(usevar='pooled'))\n",
    "    print(\"unequal: \", sm.stats.CompareMeans(bmi_female, bmi_male).ztest_ind(usevar='unequal'))\n",
    "    print()"
   ]
  },
  {
   "cell_type": "markdown",
   "id": "cd72fa6d-b029-426a-b048-bb7231192d2e",
   "metadata": {},
   "source": [
    "### 2.3 Hypothesis Tests for Two Means (Paired)"
   ]
  },
  {
   "cell_type": "markdown",
   "id": "57df1f94-5ff6-4108-808f-6bc541ef1fe1",
   "metadata": {},
   "source": [
    "A common situation in applied research is to measure the same quantity multiple times on each unit of analysis.  For example, in NHANES, systolic blood pressure is measured at least two times (sometimes there is a third measurement) on each subject.  Although the measurements are repeated, there is no guarantee that the mean is the same each time, i.e. the mean blood pressure may be slightly lower on the second measurement compared to the first, since people are a bit more nervous the first time they are measured.  A paired test is a modified form of mean test that can be used when we are comparing two repeated measurements on the same unit.\n",
    "\n",
    "**A paired t-test for means is equivalent to taking the difference between the first and second measurement, and using a one-sample test to compare the mean of these differences to zero**. Below we see that in the entire NHANES sample, the first measurement of systolic blood pressure is on average 0.67 mm/Hg greater than the second measurement.  While this difference is not large, it is strongly statistically significant.  That is, there is strong evidence that the mean values for the first and second blood pressure measurement differ."
   ]
  },
  {
   "cell_type": "code",
   "execution_count": 41,
   "id": "84ed74b3-01fb-4ceb-91c2-c3feb42aef4c",
   "metadata": {},
   "outputs": [
    {
     "name": "stdout",
     "output_type": "stream",
     "text": [
      "0.6749860309182343\n"
     ]
    },
    {
     "data": {
      "text/plain": [
       "(9.800634425497911, 1.1188070930963587e-22)"
      ]
     },
     "execution_count": 41,
     "metadata": {},
     "output_type": "execute_result"
    }
   ],
   "source": [
    "dx = da[[\"BPXSY1\", \"BPXSY2\"]].dropna()\n",
    "db = dx.BPXSY1 - dx.BPXSY2\n",
    "print(db.mean())\n",
    "sm.stats.ztest(db)"
   ]
  },
  {
   "cell_type": "markdown",
   "id": "b51df9f0-1c9f-4633-b1ab-212a80620e73",
   "metadata": {},
   "source": [
    "To probe this effect further, we can divide the population into 10 year wide age bands and also stratify by gender, then carry out the paired t-test within each of the resulting 12 strata.  We see that the second systolic blood pressure measurement is always lower on average than the first.  The difference is larger for older people and for males.  The difference is statistically significant for females over 30, and for males over 60.   \n",
    "\n",
    "Conducting many hypothesis tests and \"cherry picking\" the interesting results is usually a bad practice.  Here we are doing such \"multiple testing\" for illustration, and acknowledge that the strongest differences may be over-stated.  Nevertheless, there is a clear and consistent trend with age -- older people tend to have greater differences between their first and second blood pressure measurements than younger people.  There is also a difference between the genders, with older men having a stronger difference between the first and second blood pressure measurements than older women.  The gender difference for younger peple is less clear."
   ]
  },
  {
   "cell_type": "code",
   "execution_count": 42,
   "id": "b369bc7d-6b38-4363-a1f4-4309b4315c20",
   "metadata": {},
   "outputs": [
    {
     "name": "stdout",
     "output_type": "stream",
     "text": [
      "('Female', Interval(18, 30, closed='right')) 0.13708260105448156 569 (0.7612107360791227, 0.4465312067051751)\n",
      "('Female', Interval(30, 40, closed='right')) 0.6713615023474179 426 (3.307398751951031, 0.0009416674523368051)\n",
      "('Female', Interval(40, 50, closed='right')) 0.5970149253731343 469 (2.6040611621024654, 0.009212631487347644)\n",
      "('Female', Interval(50, 60, closed='right')) 0.7685393258426966 445 (3.1023718750881724, 0.001919766301204196)\n",
      "('Female', Interval(60, 70, closed='right')) 0.8787878787878788 396 (3.1024528501809625, 0.0019192411825181255)\n",
      "('Female', Interval(70, 80, closed='right')) 1.4512820512820512 390 (5.141706875154317, 2.722536503552981e-07)\n",
      "('Male', Interval(18, 30, closed='right')) 0.00390625 512 (0.01959622841647691, 0.9843654725443948)\n",
      "('Male', Interval(30, 40, closed='right')) 0.46296296296296297 432 (1.9451535788714596, 0.05175649697939119)\n",
      "('Male', Interval(40, 50, closed='right')) 0.17894736842105263 380 (0.7201800810138878, 0.47141412641258706)\n",
      "('Male', Interval(50, 60, closed='right')) 0.3691588785046729 428 (1.4391115097646396, 0.1501189315054144)\n",
      "('Male', Interval(60, 70, closed='right')) 1.2736077481840193 413 (4.781940964515296, 1.7361067031915549e-06)\n",
      "('Male', Interval(70, 80, closed='right')) 2.031413612565445 382 (6.8013414549535005, 1.036494265013724e-11)\n"
     ]
    }
   ],
   "source": [
    "dx = da[[\"RIAGENDRx\", \"BPXSY1\", \"BPXSY2\", \"RIDAGEYR\"]].dropna()\n",
    "dx[\"agegrp\"] = pd.cut(dx.RIDAGEYR, [18, 30, 40, 50, 60, 70, 80])\n",
    "for k, g in dx.groupby([\"RIAGENDRx\", \"agegrp\"]):\n",
    "    db = g.BPXSY1 - g.BPXSY2\n",
    "    # print stratum definition, mean difference, sample size, test statistic, p-value\n",
    "    print(k, db.mean(), db.size, sm.stats.ztest(db.values, value=0))"
   ]
  },
  {
   "cell_type": "markdown",
   "id": "d0ba1a74-409a-45c7-a555-b33a0a20e5aa",
   "metadata": {},
   "source": [
    "## 3. Power and sample size for hypothesis tests"
   ]
  },
  {
   "cell_type": "markdown",
   "id": "24f49b6d-3fb1-4c8a-a55c-bd9686a7e3d0",
   "metadata": {},
   "source": [
    "Like nearly any analysis with data, hypothesis tests will yield more sensitive and confident results when there are larger amounts of data.  Here we will study the relationship between the sample size (amount of data), and the behavior of a hypothesis test.  For illustration, we will use the paired t-test for assessing whether the first and second systolic blood pressure measurement have different means, restricting to people between 50 and 60 years of age.\n",
    "\n",
    "The simulation below randomly subsamples sets of 100, 200, 400, and 800 people from the 50-60 year old subset of NHANES, and conducts a paired z-test on each subsample.  This process is repeated 500 times for each sample size.  We report the fraction of these 500 trials where the p-value was smaller than 0.05.  A higher fraction of trials where p<0.05 implies that it is easier to detect a difference between the first and second blood pressure measurements.  We see that this proportion (called \"statistical power\") is only around 0.2 when the sample size is 100, and grows to essentially 100% when the sample size is 800.  Note that all of these subsamples are drawn from the same parent population, so there is no change from subsample to subsample in terms of whether the means are truly different.  The only thing that changes is our evidence that the difference is real.  When the sample size is small, we rarely amass such evidence."
   ]
  },
  {
   "cell_type": "code",
   "execution_count": 54,
   "id": "a5a58760-7bd7-4e8f-8988-cbb1b2eaa61b",
   "metadata": {},
   "outputs": [
    {
     "name": "stdout",
     "output_type": "stream",
     "text": [
      "0.22\n",
      "0.33\n",
      "0.676\n",
      "1.0\n"
     ]
    }
   ],
   "source": [
    "all_p = []\n",
    "dy = dx.loc[(dx.RIDAGEYR >= 50) & (dx.RIDAGEYR <= 60), :]\n",
    "for n in 100, 200, 400, 800:\n",
    "    pv = []\n",
    "    for i in range(500):\n",
    "        dz = dy.sample(n)\n",
    "        db = dz.BPXSY1 - dz.BPXSY2\n",
    "        _, p = sm.stats.ztest(db.values, value=0)\n",
    "        pv.append(p)\n",
    "    pv = np.asarray(pv)\n",
    "    all_p.append(pv)\n",
    "    print((pv <= 0.05).mean())"
   ]
  },
  {
   "cell_type": "markdown",
   "id": "f384eab6-171e-4e8d-9220-4c95867f9b37",
   "metadata": {},
   "source": [
    "In the simulation code above, we saved all the p-values to the array named `all_p` so we can consider them further here.  The histogram below shows the distribution of p-values for 500 subsamples of data of size 100.  We see that there are more smaller p-values than larger ones, but not to a dramatic degree.  Some of the p-values are almost 1, indicating that the subsample mean differences were almost zero in those cases."
   ]
  },
  {
   "cell_type": "code",
   "execution_count": 52,
   "id": "e202481d-7161-407f-b98d-56516fd9afcf",
   "metadata": {},
   "outputs": [
    {
     "data": {
      "text/plain": [
       "<AxesSubplot:ylabel='Count'>"
      ]
     },
     "execution_count": 52,
     "metadata": {},
     "output_type": "execute_result"
    },
    {
     "data": {
      "image/png": "[encoded data removed]",
      "text/plain": [
       "<Figure size 432x288 with 1 Axes>"
      ]
     },
     "metadata": {
      "needs_background": "light"
     },
     "output_type": "display_data"
    }
   ],
   "source": [
    "# 0: n = 100\n",
    "sns.histplot(all_p[0],kde=True,bins=20)"
   ]
  },
  {
   "cell_type": "markdown",
   "id": "e6abd7d0-1d94-438f-92cb-b35ce5817b58",
   "metadata": {},
   "source": [
    "Next we inspect the distribution of p-values for subsamples of size 400.  We see that the p-values are much more concentrated close to zero compared to when we had only 100 data points.  If we obtain a sample of size 400 from this population, we have around a 70% chance of obtaining a p-value smaller than 0.05, and are very unlikely to obtain a p-value greater than 0.4."
   ]
  },
  {
   "cell_type": "code",
   "execution_count": 55,
   "id": "41ebd25e-3f26-4295-96a2-504d0d539ff9",
   "metadata": {},
   "outputs": [
    {
     "data": {
      "text/plain": [
       "<AxesSubplot:ylabel='Count'>"
      ]
     },
     "execution_count": 55,
     "metadata": {},
     "output_type": "execute_result"
    },
    {
     "data": {
      "image/png": "[encoded data removed]",
      "text/plain": [
       "<Figure size 432x288 with 1 Axes>"
      ]
     },
     "metadata": {
      "needs_background": "light"
     },
     "output_type": "display_data"
    }
   ],
   "source": [
    "# 2: n = 400\n",
    "sns.histplot(all_p[2],kde=True)"
   ]
  },
  {
   "cell_type": "code",
   "execution_count": null,
   "id": "b0be75c1-e287-4dd4-ad22-73b5923d7007",
   "metadata": {},
   "outputs": [],
   "source": []
  }
 ],
 "metadata": {
  "kernelspec": {
   "display_name": "Python 3 (ipykernel)",
   "language": "python",
   "name": "python3"
  },
  "language_info": {
   "codemirror_mode": {
    "name": "ipython",
    "version": 3
   },
   "file_extension": ".py",
   "mimetype": "text/x-python",
   "name": "python",
   "nbconvert_exporter": "python",
   "pygments_lexer": "ipython3",
   "version": "3.7.11"
  }
 },
 "nbformat": 4,
 "nbformat_minor": 5
}
