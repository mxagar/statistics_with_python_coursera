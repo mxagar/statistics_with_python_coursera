{
 "cells": [
  {
   "cell_type": "markdown",
   "id": "4aface90-6ed5-45a5-8280-64f66f561e8d",
   "metadata": {},
   "source": [
    "# Confidence Intervals: Examples"
   ]
  },
  {
   "cell_type": "markdown",
   "id": "1b466d04-2d4d-4389-b916-d908adfbe7bb",
   "metadata": {},
   "source": [
    "This notebook collects practical exercises of the concepts introduced in the course videos. I extended the notebook with relevant material not included in the course.\n",
    "\n",
    "Overview of contents:\n",
    "\n",
    "1. Definitions\n",
    "2. Personal Notes: Using Distributions with Scipy - PDFs, CDFs\n",
    "    - 2.1 List of Functions to Handle Distributions\n",
    "    - 2.2 PDFs and CDFs: Examples\n",
    "3. CI of One Proportion\n",
    "    - Manual\n",
    "    - With Statsmodels\n",
    "4. CI of One Mean\n",
    "    - QQ-Plot to Check Normality\n",
    "    - Manual\n",
    "    - With Statsmodels\n",
    "5. **Cleaning and Preparing Datasets (for Two Groups): `crosstab`, `groupby.agg`**\n",
    "6. CI of Two Proportions: Smokers vs Non-Smokers in Males & Females\n",
    "    - Manual\n",
    "    - With Statsmodels (One Proportion)\n",
    "    - 6.1 Confidence Intervals for Subpopulations: Age Stratification\n",
    "7. CI of Two Means (Independent Data): BMI mean in Males & Females\n",
    "    - QQ-Plot to Check Normality\n",
    "    - Manual\n",
    "    - With Statsmodels (One Mean)\n",
    "    - 7.1 Confidence Intervals for Subpopulations: Age Stratification\n",
    "    - 7.2 Confidence Intervals and Samples Size"
   ]
  },
  {
   "cell_type": "markdown",
   "id": "f142346e-1637-4b47-b09b-407bd4a8dc47",
   "metadata": {},
   "source": [
    "## 1. Definitions"
   ]
  },
  {
   "cell_type": "markdown",
   "id": "2986a4cc-e58d-4f40-bf05-94dee78fb13a",
   "metadata": {},
   "source": [
    "We must distinguish between:\n",
    "- Pupulation: the real total group of subjects we want to measure.\n",
    "- Sample: the subset of the population we really measure, due to economical limits; measurements are assumed to be independent and identically distirbuted (iid.).\n",
    "\n",
    "Even though we measure the sample, we can infer parameters of a population with confidence intervals (CI) defined around a best parameter estimate we have.\n",
    "\n",
    "Note that we distinguish also\n",
    "- Sample distribution: the distirbution of the data we have collected. We can compute parameters of it: mean, meadia, variance, proportions, etc.\n",
    "- Sampling distribution: if define many iid. samples from the population and compute a parameter, the distribution of that parameter is the sampling distirbution. Accorsing to the Central Limit Theorem (CLT) it tends to be normal.\n",
    "\n",
    "Having a confidenfe interval of 95% means that if we draw 100 independent samples and compute the parameter and its CI with the same method, 95 of the CIs will contain the real paramater of the population. Thus, the confidence is associated to the method we use.\n",
    "\n",
    "In general, we use the following formula for the computation of the CI:\n",
    "\n",
    "`Confidence Interval` = `Best Estimate` $\\pm$ `Margin of Error`\n",
    "\n",
    "The terms are obtained as follows:\n",
    "\n",
    "- The `Best Estimate` is the parameter of our sample: sample mean, sample proportion.\n",
    "- The `Margin of Error` is `K x Estimated Standard Error`; that is, `K` is how many standard errors we want to cover in the sampling distribution.\n",
    "- `K` is defined as the value that covers X% in a symmetric Z or T distirbution; generally, `Z*(95%)` or `T*(95%,df=n-1)` are taken. Note that `Z*(95%) = 1.96`. The T distirbution tends to be Z with large sample sizes `n`.\n",
    "- `Estimated Standard Error = sqrt(var(sample parameter) / n)`\n"
   ]
  },
  {
   "cell_type": "markdown",
   "id": "d264e4a2-87ca-40ac-8482-09fcf6494ca2",
   "metadata": {},
   "source": [
    "## 2. Personal Notes: Using Distributions with Scipy - PDFs, CDFs"
   ]
  },
  {
   "cell_type": "markdown",
   "id": "0c3cf752-09f2-479f-b6d3-f1a5666496c3",
   "metadata": {},
   "source": [
    "In the course videos, fixed values are used for `Z*(95%)` and `T*(95%,df)`. However, it is possible to obtain exact values with `scipy`.\n",
    "\n",
    "For the CI computation, note that the `95%` coverage in the chosen distribution is two-sided; the significance level `alpha` related to that CI would be: `1 - alpha = 0.95 -> alpha = 0.05`. However, when we look in tables, that two-sided symmetry is not considered: we get `1 - alpha = P(x < v)`; instead, we would like: `1 - alpha = P(-v < x < v)`. In a symmetric distirbution, that can be intuitively achieved taking `1 - alpha/2 = P(x < v)`!"
   ]
  },
  {
   "cell_type": "code",
   "execution_count": 180,
   "id": "a2e3d46c-4246-4604-aab4-dc3f4e4c8b43",
   "metadata": {},
   "outputs": [],
   "source": [
    "from scipy.stats import norm,t"
   ]
  },
  {
   "cell_type": "code",
   "execution_count": 181,
   "id": "1d77ebfe-9fd5-4004-973a-b6a5da8001d7",
   "metadata": {},
   "outputs": [
    {
     "name": "stdout",
     "output_type": "stream",
     "text": [
      "2.2281388519649385\n"
     ]
    }
   ],
   "source": [
    "# Confidence 95% -> significane level alpha = 0.05\n",
    "# Since we have two sides, we need to consider: alpha/2 = 0.05/2\n",
    "# Thus, the percentage we look is: 1 - alpha/2 = 0.975\n",
    "T_star_95 = t(df=10).ppf(0.975)\n",
    "print(T_star_95)"
   ]
  },
  {
   "cell_type": "code",
   "execution_count": 182,
   "id": "f177542b-4f78-42d1-b8f0-99ad263e2348",
   "metadata": {},
   "outputs": [
    {
     "name": "stdout",
     "output_type": "stream",
     "text": [
      "1.959963984540054\n"
     ]
    }
   ],
   "source": [
    "Z_star_95 = norm.ppf(0.975)\n",
    "print(Z_star_95)"
   ]
  },
  {
   "cell_type": "markdown",
   "id": "0b82777c-2eaa-49df-9c40-e3d851707cbb",
   "metadata": {},
   "source": [
    "### 2.1 List of Functions to Handle Distributions"
   ]
  },
  {
   "cell_type": "markdown",
   "id": "a4e2735e-f2f4-4759-ab9e-88c66030830a",
   "metadata": {},
   "source": [
    "Load distributions:\n",
    "```python\n",
    "from scipy.stats import binom,norm,cauchy\n",
    "```\n",
    "Instantiate a distribution with its parameters:\n",
    "```python    \n",
    "dist = binom(n, b)\n",
    "dist = norm(m, s)\n",
    "dist = cauchy(z, g)\n",
    "...\n",
    "```\n",
    "\n",
    "Distributions have usually at least the `loc` and `scale` parameters, which are often related to the `mean` and `stddev`.\n",
    "\n",
    "Get data:\n",
    "```python\n",
    "dist.rvs(N) # N random variables of the distribution\n",
    "dist.pmf(x) # Probability Mass Function at values x for discrete distributions\n",
    "dist.pdf(x) # Probability Density Function at values x for continuous distributions\n",
    "dist.cdf(x) # Cumulative Distribution Function at values x for any distribution\n",
    "dist.ppf(q) # Percent point function (inverse of `cdf`) at q (% of accumulated area) of the given RV\n",
    "```\n",
    "Note:\n",
    "- `dist.cdf(v)` = $P (x < v)$; $P(x < \\infty) = 1$\n",
    "- `dist.ppf(q)` = $v | P(x < v) = q$\n",
    "\n",
    "Fitting data to a distribution:\n",
    "```python\n",
    "# Choose distrbution or iterate through a set of candidates\n",
    "# Data: replace this with real dataset\n",
    "data = dist.rvs(10)\n",
    "# Fit\n",
    "params = dist.fit(data)\n",
    "# Separate parts of parameters\n",
    "arg = params[:-2]\n",
    "loc = params[-2]\n",
    "scale = params[-1]\n",
    "# Calculate fitted PDF and error with fit in distribution\n",
    "pdf = dist.pdf(x, loc=loc, scale=scale, *arg)\n",
    "sse = np.sum(np.power(y - pdf, 2.0))\n",
    "```\n",
    "\n",
    "Get parameters:\n",
    "```python\n",
    "params = dist.stats() # Mean(‘m’), variance(‘v’), skew(‘s’), and/or kurtosis(‘k’)\n",
    "m = dist.mean()\n",
    "std = dist.std()\n",
    "...\n",
    "```\n",
    "\n",
    "Documentation:\n",
    "\n",
    "    help(scipy.stat)\n",
    "    https://docs.scipy.org/doc/scipy/reference/index.html"
   ]
  },
  {
   "cell_type": "markdown",
   "id": "b9ad2686-521a-4b25-b308-dc8b8a618adb",
   "metadata": {},
   "source": [
    "### 2.2 PDFs and CDFs: Examples"
   ]
  },
  {
   "cell_type": "markdown",
   "id": "b0b76fd3-73cf-41b0-b2e5-261af9a4c73e",
   "metadata": {},
   "source": [
    "This section is a brief summary of a reading link provided in the course:\n",
    "\n",
    "[An Introductory Guide to PDF and CDF](https://integratedmlai.com/normal-distribution-an-introductory-guide-to-pdf-and-cdf/)\n",
    "\n",
    "In the link, definitions and examples are given focussing on the normal `N(m,s)` and the standard `Z = N(0,1)` distributions. However, the concepts are extensible to any other distributions.\n",
    "\n",
    "Consider X is a random variable with a known distirbution. Then, we define:\n",
    "- PDF = Probability Distribution Function. Likelihood distribution of the values of X. Given a range threshold for X, the are below PDF gives the probability of X to occur in that range. The total area is 1.\n",
    "- CDF = Cumulative Distribution Function. The cumulative area (i.e., integral) below PDF as we increase a threshold value random variable v. The total area will be 1. We obtain from it the accumulated probabilities of ranges for x, for instance: P(X <= v)."
   ]
  },
  {
   "cell_type": "markdown",
   "id": "4f99c70e-0615-4b6c-a7a7-e6f1c26158bf",
   "metadata": {},
   "source": [
    "#### PDF: Standard Normal Distirbution"
   ]
  },
  {
   "cell_type": "code",
   "execution_count": 254,
   "id": "ae964f87-5712-49dc-8353-e24aff7ad4c8",
   "metadata": {},
   "outputs": [
    {
     "data": {
      "image/png": "[encoded data removed]",
      "text/plain": [
       "<Figure size 432x288 with 1 Axes>"
      ]
     },
     "metadata": {
      "needs_background": "light"
     },
     "output_type": "display_data"
    }
   ],
   "source": [
    "import scipy\n",
    "import numpy as np\n",
    "import matplotlib.pyplot as plt \n",
    "from scipy.stats import norm\n",
    " \n",
    "X = np.arange(-4, 4, 0.001)  # X is an array of x's\n",
    "# Standard Normal: mean 0, std 1\n",
    "Y = norm.pdf(X, loc=0, scale=1)  # Y is an array of probabilities\n",
    " \n",
    "plt.title('Graph of Standard Normal Dist, mu=0 , sigma=1')\n",
    "plt.xlabel('X-values')\n",
    "plt.ylabel('PDF value of Std Normal Dist')\n",
    "plt.plot(X, Y)\n",
    "plt.show()"
   ]
  },
  {
   "cell_type": "code",
   "execution_count": 252,
   "id": "4c181063-9f24-4497-9c8c-8fc3b6db9709",
   "metadata": {},
   "outputs": [
    {
     "name": "stdout",
     "output_type": "stream",
     "text": [
      "The probability x = \"1\" is 0.24197072451914337.\n"
     ]
    }
   ],
   "source": [
    "x = 1\n",
    "p = norm.pdf(x=x, loc=0.0, scale=1.0)\n",
    "print(f'The probability x = \"{x}\" is {p}.')"
   ]
  },
  {
   "cell_type": "markdown",
   "id": "99008846-a040-4652-8e39-113e18d9e0dd",
   "metadata": {},
   "source": [
    "#### CDF: Normal Distribution"
   ]
  },
  {
   "cell_type": "code",
   "execution_count": 255,
   "id": "ed6e422d-2268-40c9-a3e7-a8079658385d",
   "metadata": {},
   "outputs": [
    {
     "name": "stdout",
     "output_type": "stream",
     "text": [
      "0.8413447460685429\n"
     ]
    }
   ],
   "source": [
    "from scipy.stats import norm\n",
    "# mean 3, std 2\n",
    "less_than_5=norm.cdf(x=5, loc=3, scale=2)\n",
    "print(less_than_5)"
   ]
  },
  {
   "cell_type": "code",
   "execution_count": 265,
   "id": "a7a1e1d8-e3f5-49ad-83a9-b9e274302cdb",
   "metadata": {},
   "outputs": [
    {
     "data": {
      "image/png": "[encoded data removed]",
      "text/plain": [
       "<Figure size 432x288 with 1 Axes>"
      ]
     },
     "metadata": {
      "needs_background": "light"
     },
     "output_type": "display_data"
    }
   ],
   "source": [
    "from matplotlib import pyplot as plt\n",
    "import numpy as np\n",
    "fig, ax = plt.subplots()\n",
    "# for distribution curve\n",
    "x= np.arange(-4, 10, 0.001)\n",
    "ax.plot(x, norm.pdf(x, loc=3, scale=2))\n",
    "ax.set_title(\"Normal Dist. with mean=3, std_dv=2\")\n",
    "ax.set_xlabel('X-Values')\n",
    "ax.set_ylabel('PDF(X)')\n",
    "# for fill_between\n",
    "px=np.arange(-4,5, 0.01)\n",
    "ax.set_ylim(0, 0.25)\n",
    "ax.fill_between(px, norm.pdf(px, loc=3, scale=2), alpha=0.5, color='r')\n",
    "# for text\n",
    "ax.text(-0.5, 0.02, round(less_than_5, 2), fontsize=20)\n",
    "plt.show()"
   ]
  },
  {
   "cell_type": "code",
   "execution_count": 259,
   "id": "7d21603f-0952-4480-9f8e-8604750edbc5",
   "metadata": {},
   "outputs": [
    {
     "data": {
      "text/plain": [
       "0.632671609662145"
      ]
     },
     "execution_count": 259,
     "metadata": {},
     "output_type": "execute_result"
    }
   ],
   "source": [
    "# P(0.2 < X 5)\n",
    "norm(1, 2).cdf(5) - norm(1,2).cdf(0.2)"
   ]
  },
  {
   "cell_type": "code",
   "execution_count": 266,
   "id": "7c2601b2-be48-446c-bb0b-c947474cae77",
   "metadata": {},
   "outputs": [
    {
     "data": {
      "image/png": "[encoded data removed]",
      "text/plain": [
       "<Figure size 432x288 with 1 Axes>"
      ]
     },
     "metadata": {
      "needs_background": "light"
     },
     "output_type": "display_data"
    }
   ],
   "source": [
    "fig, ax = plt.subplots()\n",
    "# for distribution curve\n",
    "x= np.arange(-6,8,0.001)\n",
    "ax.plot(x, norm.pdf(x,loc=1,scale=2))\n",
    "ax.set_title(\"Normal Dist. with mean=1, std_dv=2\")\n",
    "ax.set_xlabel('X-Values')\n",
    "ax.set_ylabel('PDF(X)')\n",
    "ax.grid(True)\n",
    "px=np.arange(0.2,5,0.01)\n",
    "ax.set_ylim(0,0.25)\n",
    "ax.fill_between(px,norm.pdf(px,loc=1,scale=2),alpha=0.5, color='c')\n",
    "pro=norm(1,2).cdf(5) - norm(1,2).cdf(0.2)\n",
    "ax.text(0.2,0.02,round(pro,2), fontsize=20)\n",
    "plt.show()"
   ]
  },
  {
   "cell_type": "code",
   "execution_count": 263,
   "id": "d0b943de-ee20-4b81-a983-69c94d98780f",
   "metadata": {},
   "outputs": [
    {
     "data": {
      "text/plain": [
       "0.6914624612740131"
      ]
     },
     "execution_count": 263,
     "metadata": {},
     "output_type": "execute_result"
    }
   ],
   "source": [
    "# P(X > 3)\n",
    "greater_than_3 = norm.sf(x=3, loc=4, scale=2)\n",
    "greater_than_3"
   ]
  },
  {
   "cell_type": "code",
   "execution_count": 267,
   "id": "2ed3b24e-8f28-4e33-9c63-f71d9d0c17a4",
   "metadata": {},
   "outputs": [
    {
     "data": {
      "image/png": "[encoded data removed]",
      "text/plain": [
       "<Figure size 432x288 with 1 Axes>"
      ]
     },
     "metadata": {
      "needs_background": "light"
     },
     "output_type": "display_data"
    }
   ],
   "source": [
    "fig, ax = plt.subplots()\n",
    "x= np.arange(-4, 10, 0.001)\n",
    "ax.plot(x, norm.pdf(x, loc=4, scale=2))\n",
    "ax.set_title(\"Normal Dist. with mean=4, std_dv=2\")\n",
    "ax.set_xlabel('X-Values')\n",
    "ax.set_ylabel('PDF(X)')\n",
    "ax.grid(True)\n",
    "px=np.arange(3, 10, 0.01)\n",
    "ax.set_ylim(0, 0.25)\n",
    "ax.fill_between(px, norm.pdf(px, loc=4, scale=2), alpha=0.5, color='m')\n",
    "ax.text(4, 0.02, \"P(X>3)\\n%.2f\" %(greater_than_3), fontsize=18)\n",
    "plt.show()"
   ]
  },
  {
   "cell_type": "markdown",
   "id": "a5b0fb98-fbcd-4ae4-88b9-b3a8f405f14a",
   "metadata": {},
   "source": [
    "## 3. CI of One Proportion"
   ]
  },
  {
   "cell_type": "markdown",
   "id": "0097bbb0-98b4-4d72-a136-07e58b8c7329",
   "metadata": {},
   "source": [
    "$$Standard\\ Error \\ for\\ Population\\ Proportion = \\sqrt{\\frac{Population\\ Proportion * (1 - Population\\ Proportion)}{Number\\ Of\\ Observations}}$$"
   ]
  },
  {
   "cell_type": "markdown",
   "id": "ba82c9e6-3070-4949-b6b9-d8f9c79caad8",
   "metadata": {},
   "source": [
    "Example: a hospital polls toddler parents whether they use a car seat. The estimated parameter is the proportion of parents who use a car seat. Data:\n",
    "- `n = 659` parents sampled.\n",
    "- 540 responded 'yes'."
   ]
  },
  {
   "cell_type": "markdown",
   "id": "78df8e8e-53fb-4ca4-b23a-d3fd83b1a994",
   "metadata": {},
   "source": [
    "### Manual Computation"
   ]
  },
  {
   "cell_type": "code",
   "execution_count": 183,
   "id": "d1647669-f01e-403c-9189-101787c34ce2",
   "metadata": {},
   "outputs": [],
   "source": [
    "import numpy as np"
   ]
  },
  {
   "cell_type": "code",
   "execution_count": 184,
   "id": "dc554f12-610c-40e9-9626-902842383b75",
   "metadata": {},
   "outputs": [
    {
     "data": {
      "text/plain": [
       "0.014984499401390045"
      ]
     },
     "execution_count": 184,
     "metadata": {},
     "output_type": "execute_result"
    }
   ],
   "source": [
    "# T*: See above, how to compute it with scipy\n",
    "tstar = 1.96\n",
    "# Sample size\n",
    "n = 659.0\n",
    "# Proportion\n",
    "p = 540.0/n\n",
    "# Standard Error\n",
    "se = np.sqrt((p * (1 - p))/n)\n",
    "se"
   ]
  },
  {
   "cell_type": "code",
   "execution_count": 185,
   "id": "b1dc0422-e8be-4405-bdf7-5108ca5cfcb1",
   "metadata": {},
   "outputs": [
    {
     "data": {
      "text/plain": [
       "(0.7900537499137914, 0.8487929875672404)"
      ]
     },
     "execution_count": 185,
     "metadata": {},
     "output_type": "execute_result"
    }
   ],
   "source": [
    "# Lower and Upper Bounds\n",
    "lcb = p - tstar * se\n",
    "ucb = p + tstar * se\n",
    "(lcb, ucb)"
   ]
  },
  {
   "cell_type": "markdown",
   "id": "279d0a8a-b0ac-474c-999f-382c1a390ec5",
   "metadata": {},
   "source": [
    "### CI Computation with Statsmodels"
   ]
  },
  {
   "cell_type": "code",
   "execution_count": 186,
   "id": "b5fb7bc1-88f9-46ee-8f9f-9930349cc47e",
   "metadata": {},
   "outputs": [],
   "source": [
    "import statsmodels.api as sm"
   ]
  },
  {
   "cell_type": "code",
   "execution_count": 187,
   "id": "b82b4b45-1492-4615-b35d-93804a577492",
   "metadata": {},
   "outputs": [
    {
     "data": {
      "text/plain": [
       "(0.7900542895874294, 0.8487924478936024)"
      ]
     },
     "execution_count": 187,
     "metadata": {},
     "output_type": "execute_result"
    }
   ],
   "source": [
    "sm.stats.proportion_confint(n * p, n)"
   ]
  },
  {
   "cell_type": "markdown",
   "id": "6ad8ad66-2b1e-4f40-90b5-2dc348f4d85d",
   "metadata": {},
   "source": [
    "## 4. CI of One Mean"
   ]
  },
  {
   "cell_type": "markdown",
   "id": "952a4971-234d-4f9f-ac2c-6e4f2a4463e0",
   "metadata": {},
   "source": [
    "$$Standard\\ Error \\ for\\ Mean = \\frac{Standard\\ Deviation}{\\sqrt{Number\\ Of\\ Observations}}$$"
   ]
  },
  {
   "cell_type": "markdown",
   "id": "3d07097b-740c-4b05-8253-265a3aff42c3",
   "metadata": {},
   "source": [
    "Example (Cartwheel dataset): What is the **average** cartwheel distance (in inches) for adults? (distance from the forward foot before performing the cartwheel to the final foot after performing it)."
   ]
  },
  {
   "cell_type": "code",
   "execution_count": 188,
   "id": "275152a5-eea4-47ec-ba18-73749767e18e",
   "metadata": {},
   "outputs": [],
   "source": [
    "import pandas as pd"
   ]
  },
  {
   "cell_type": "code",
   "execution_count": 189,
   "id": "6f7f5be7-0ed4-47d4-b80d-c8defbe39d01",
   "metadata": {},
   "outputs": [],
   "source": [
    "df = pd.read_csv(\"Cartwheeldata.csv\")"
   ]
  },
  {
   "cell_type": "code",
   "execution_count": 190,
   "id": "fd89b8d6-4168-4b24-a7f8-e76398a67047",
   "metadata": {},
   "outputs": [
    {
     "data": {
      "text/html": [
       "<div>\n",
       "<style scoped>\n",
       "    .dataframe tbody tr th:only-of-type {\n",
       "        vertical-align: middle;\n",
       "    }\n",
       "\n",
       "    .dataframe tbody tr th {\n",
       "        vertical-align: top;\n",
       "    }\n",
       "\n",
       "    .dataframe thead th {\n",
       "        text-align: right;\n",
       "    }\n",
       "</style>\n",
       "<table border=\"1\" class=\"dataframe\">\n",
       "  <thead>\n",
       "    <tr style=\"text-align: right;\">\n",
       "      <th></th>\n",
       "      <th>ID</th>\n",
       "      <th>Age</th>\n",
       "      <th>Gender</th>\n",
       "      <th>GenderGroup</th>\n",
       "      <th>Glasses</th>\n",
       "      <th>GlassesGroup</th>\n",
       "      <th>Height</th>\n",
       "      <th>Wingspan</th>\n",
       "      <th>CWDistance</th>\n",
       "      <th>Complete</th>\n",
       "      <th>CompleteGroup</th>\n",
       "      <th>Score</th>\n",
       "    </tr>\n",
       "  </thead>\n",
       "  <tbody>\n",
       "    <tr>\n",
       "      <th>0</th>\n",
       "      <td>1</td>\n",
       "      <td>56</td>\n",
       "      <td>F</td>\n",
       "      <td>1</td>\n",
       "      <td>Y</td>\n",
       "      <td>1</td>\n",
       "      <td>62.0</td>\n",
       "      <td>61.0</td>\n",
       "      <td>79</td>\n",
       "      <td>Y</td>\n",
       "      <td>1</td>\n",
       "      <td>7</td>\n",
       "    </tr>\n",
       "    <tr>\n",
       "      <th>1</th>\n",
       "      <td>2</td>\n",
       "      <td>26</td>\n",
       "      <td>F</td>\n",
       "      <td>1</td>\n",
       "      <td>Y</td>\n",
       "      <td>1</td>\n",
       "      <td>62.0</td>\n",
       "      <td>60.0</td>\n",
       "      <td>70</td>\n",
       "      <td>Y</td>\n",
       "      <td>1</td>\n",
       "      <td>8</td>\n",
       "    </tr>\n",
       "    <tr>\n",
       "      <th>2</th>\n",
       "      <td>3</td>\n",
       "      <td>33</td>\n",
       "      <td>F</td>\n",
       "      <td>1</td>\n",
       "      <td>Y</td>\n",
       "      <td>1</td>\n",
       "      <td>66.0</td>\n",
       "      <td>64.0</td>\n",
       "      <td>85</td>\n",
       "      <td>Y</td>\n",
       "      <td>1</td>\n",
       "      <td>7</td>\n",
       "    </tr>\n",
       "    <tr>\n",
       "      <th>3</th>\n",
       "      <td>4</td>\n",
       "      <td>39</td>\n",
       "      <td>F</td>\n",
       "      <td>1</td>\n",
       "      <td>N</td>\n",
       "      <td>0</td>\n",
       "      <td>64.0</td>\n",
       "      <td>63.0</td>\n",
       "      <td>87</td>\n",
       "      <td>Y</td>\n",
       "      <td>1</td>\n",
       "      <td>10</td>\n",
       "    </tr>\n",
       "    <tr>\n",
       "      <th>4</th>\n",
       "      <td>5</td>\n",
       "      <td>27</td>\n",
       "      <td>M</td>\n",
       "      <td>2</td>\n",
       "      <td>N</td>\n",
       "      <td>0</td>\n",
       "      <td>73.0</td>\n",
       "      <td>75.0</td>\n",
       "      <td>72</td>\n",
       "      <td>N</td>\n",
       "      <td>0</td>\n",
       "      <td>4</td>\n",
       "    </tr>\n",
       "  </tbody>\n",
       "</table>\n",
       "</div>"
      ],
      "text/plain": [
       "   ID  Age Gender  GenderGroup Glasses  GlassesGroup  Height  Wingspan  \\\n",
       "0   1   56      F            1       Y             1    62.0      61.0   \n",
       "1   2   26      F            1       Y             1    62.0      60.0   \n",
       "2   3   33      F            1       Y             1    66.0      64.0   \n",
       "3   4   39      F            1       N             0    64.0      63.0   \n",
       "4   5   27      M            2       N             0    73.0      75.0   \n",
       "\n",
       "   CWDistance Complete  CompleteGroup  Score  \n",
       "0          79        Y              1      7  \n",
       "1          70        Y              1      8  \n",
       "2          85        Y              1      7  \n",
       "3          87        Y              1     10  \n",
       "4          72        N              0      4  "
      ]
     },
     "execution_count": 190,
     "metadata": {},
     "output_type": "execute_result"
    }
   ],
   "source": [
    "df.head()"
   ]
  },
  {
   "cell_type": "code",
   "execution_count": 230,
   "id": "7026faeb-3369-420b-8ce4-8109dd37b26a",
   "metadata": {},
   "outputs": [
    {
     "name": "stdout",
     "output_type": "stream",
     "text": [
      "25\n"
     ]
    }
   ],
   "source": [
    "mean = df[\"CWDistance\"].mean()\n",
    "sd = df[\"CWDistance\"].std()\n",
    "n = len(df)\n",
    "print(n)"
   ]
  },
  {
   "cell_type": "markdown",
   "id": "3cd80b9f-def6-4776-98e9-e80138fea38e",
   "metadata": {},
   "source": [
    "### QQ-Plot to Check Normality"
   ]
  },
  {
   "cell_type": "code",
   "execution_count": 233,
   "id": "783e386f-90ae-4a5a-aec6-af9ab031465d",
   "metadata": {},
   "outputs": [],
   "source": [
    "from matplotlib import pyplot as plt\n",
    "import numpy as np \n",
    "import scipy.stats as stats\n",
    "import seaborn as sns\n",
    "%matplotlib inline"
   ]
  },
  {
   "cell_type": "code",
   "execution_count": 234,
   "id": "56385d42-81e3-4e17-b6d4-8846a0d4d64d",
   "metadata": {},
   "outputs": [
    {
     "data": {
      "image/png": "[encoded data removed]",
      "text/plain": [
       "<Figure size 432x288 with 1 Axes>"
      ]
     },
     "metadata": {
      "needs_background": "light"
     },
     "output_type": "display_data"
    }
   ],
   "source": [
    "stats.probplot(df[\"CWDistance\"], dist=\"norm\", plot=plt)\n",
    "plt.title('QQ plot of a against normal distribution')\n",
    "plt.show()"
   ]
  },
  {
   "cell_type": "markdown",
   "id": "ad2c378f-e7a2-4ce9-8eb8-f8049cb6ce24",
   "metadata": {},
   "source": [
    "### Manual Computation"
   ]
  },
  {
   "cell_type": "code",
   "execution_count": 192,
   "id": "06610afe-5eba-4894-8d79-d2bd2136659b",
   "metadata": {},
   "outputs": [
    {
     "name": "stdout",
     "output_type": "stream",
     "text": [
      "3.0117104774529713\n"
     ]
    }
   ],
   "source": [
    "tstar = 2.064\n",
    "se = sd/np.sqrt(n)\n",
    "print(se)"
   ]
  },
  {
   "cell_type": "code",
   "execution_count": 193,
   "id": "7e0063ec-a30d-483a-b781-a7502782b7b8",
   "metadata": {},
   "outputs": [
    {
     "data": {
      "text/plain": [
       "(76.26382957453707, 88.69617042546294)"
      ]
     },
     "execution_count": 193,
     "metadata": {},
     "output_type": "execute_result"
    }
   ],
   "source": [
    "lcb = mean - tstar * se\n",
    "ucb = mean + tstar * se\n",
    "(lcb, ucb)"
   ]
  },
  {
   "cell_type": "markdown",
   "id": "b1020cb9-c562-4948-82c2-8ca4b523cb54",
   "metadata": {},
   "source": [
    "### Computation with Statsmodels"
   ]
  },
  {
   "cell_type": "code",
   "execution_count": 194,
   "id": "6238aaa4-963a-492d-876b-0c8fe00e397a",
   "metadata": {},
   "outputs": [
    {
     "data": {
      "text/plain": [
       "(76.57715593233026, 88.38284406766975)"
      ]
     },
     "execution_count": 194,
     "metadata": {},
     "output_type": "execute_result"
    }
   ],
   "source": [
    "sm.stats.DescrStatsW(df[\"CWDistance\"]).zconfint_mean()"
   ]
  },
  {
   "cell_type": "markdown",
   "id": "82de6dab-6ddd-4a3a-91ef-2bec70feaf3d",
   "metadata": {},
   "source": [
    "## 5. Cleaning and Preparing Datasets (for Two Groups): `crosstab`, `groupby.agg`"
   ]
  },
  {
   "cell_type": "markdown",
   "id": "077861a5-05a4-474e-99af-a79534d63f00",
   "metadata": {},
   "source": [
    "In order to compute **proportions or means in for several categories**, some steps need to be taken with `pandas`:\n",
    "\n",
    "- Data must be cleaned (`np.nan`) and often category names are changed (gender, yes/no, etc.).\n",
    "- Cross-tables must be created with `pd.crosstab` and `pd.groupby().agg()`: these summarize proportions, means, sizes for two categories/groups from the same categorical variable.\n",
    "\n",
    "Examples with the NHANES dataset analyzed in the next sections are prepared in this section; these examples are:\n",
    "1. Compare proportions of smokers and non-smokers for males & females.\n",
    "2. Compare means of BMI for males & females."
   ]
  },
  {
   "cell_type": "code",
   "execution_count": 195,
   "id": "bbf89e56-9ccb-41d4-ad4c-35460c7591f7",
   "metadata": {},
   "outputs": [],
   "source": [
    "import pandas as pd\n",
    "import numpy as np\n",
    "#import statsmodels.api as sm"
   ]
  },
  {
   "cell_type": "code",
   "execution_count": 196,
   "id": "adc7b8d1-07cb-40c0-9cc4-7182a2a433a3",
   "metadata": {},
   "outputs": [],
   "source": [
    "url = \"nhanes_2015_2016.csv\"\n",
    "da = pd.read_csv(url)"
   ]
  },
  {
   "cell_type": "code",
   "execution_count": 197,
   "id": "b9a8e10b-7528-421e-898d-84f8c4e79a37",
   "metadata": {},
   "outputs": [
    {
     "data": {
      "text/plain": [
       "0    Yes\n",
       "1    Yes\n",
       "2    Yes\n",
       "3     No\n",
       "4     No\n",
       "Name: SMQ020x, dtype: object"
      ]
     },
     "execution_count": 197,
     "metadata": {},
     "output_type": "execute_result"
    }
   ],
   "source": [
    "# Recode SMQ020 from 1/2 to Yes/No into new variable SMQ020x\n",
    "da[\"SMQ020x\"] = da.SMQ020.replace({1: \"Yes\", 2: \"No\", 7: np.nan, 9: np.nan})\n",
    "da[\"SMQ020x\"].head()"
   ]
  },
  {
   "cell_type": "code",
   "execution_count": 198,
   "id": "6ad145ad-a4d6-4bfd-b2aa-0998d5e6701f",
   "metadata": {},
   "outputs": [
    {
     "data": {
      "text/plain": [
       "0      Male\n",
       "1      Male\n",
       "2      Male\n",
       "3    Female\n",
       "4    Female\n",
       "Name: RIAGENDRx, dtype: object"
      ]
     },
     "execution_count": 198,
     "metadata": {},
     "output_type": "execute_result"
    }
   ],
   "source": [
    "# Recode RIAGENDR from 1/2 to Male/Female into new variable RIAGENDRx\n",
    "da[\"RIAGENDRx\"] = da.RIAGENDR.replace({1: \"Male\", 2: \"Female\"})\n",
    "da[\"RIAGENDRx\"].head()"
   ]
  },
  {
   "cell_type": "code",
   "execution_count": 199,
   "id": "6b973a54-4a0a-4a90-b6cc-16ad12a9123b",
   "metadata": {},
   "outputs": [
    {
     "data": {
      "text/html": [
       "<div>\n",
       "<style scoped>\n",
       "    .dataframe tbody tr th:only-of-type {\n",
       "        vertical-align: middle;\n",
       "    }\n",
       "\n",
       "    .dataframe tbody tr th {\n",
       "        vertical-align: top;\n",
       "    }\n",
       "\n",
       "    .dataframe thead th {\n",
       "        text-align: right;\n",
       "    }\n",
       "</style>\n",
       "<table border=\"1\" class=\"dataframe\">\n",
       "  <thead>\n",
       "    <tr style=\"text-align: right;\">\n",
       "      <th>RIAGENDRx</th>\n",
       "      <th>Female</th>\n",
       "      <th>Male</th>\n",
       "    </tr>\n",
       "    <tr>\n",
       "      <th>SMQ020x</th>\n",
       "      <th></th>\n",
       "      <th></th>\n",
       "    </tr>\n",
       "  </thead>\n",
       "  <tbody>\n",
       "    <tr>\n",
       "      <th>No</th>\n",
       "      <td>2066</td>\n",
       "      <td>1340</td>\n",
       "    </tr>\n",
       "    <tr>\n",
       "      <th>Yes</th>\n",
       "      <td>906</td>\n",
       "      <td>1413</td>\n",
       "    </tr>\n",
       "  </tbody>\n",
       "</table>\n",
       "</div>"
      ],
      "text/plain": [
       "RIAGENDRx  Female  Male\n",
       "SMQ020x                \n",
       "No           2066  1340\n",
       "Yes           906  1413"
      ]
     },
     "execution_count": 199,
     "metadata": {},
     "output_type": "execute_result"
    }
   ],
   "source": [
    "# Cross-Table: Very useful for counting/frequencies of different groups\n",
    "dx = da[[\"SMQ020x\", \"RIAGENDRx\"]].dropna()\n",
    "pd.crosstab(dx.SMQ020x, dx.RIAGENDRx)"
   ]
  },
  {
   "cell_type": "code",
   "execution_count": 200,
   "id": "572cc660-1aa7-4c36-8f69-4b646cd6ef46",
   "metadata": {},
   "outputs": [],
   "source": [
    "# Recode (again) SMQ020x from Yes/No to 1/0 into existing variable SMQ020x\n",
    "# We recode is again because with 1/0, the mean yields the proportion :)\n",
    "dx[\"SMQ020x\"] = dx.SMQ020x.replace({\"Yes\": 1, \"No\": 0})"
   ]
  },
  {
   "cell_type": "code",
   "execution_count": 201,
   "id": "15e79294-5b2f-4278-9a35-a70c4266116d",
   "metadata": {},
   "outputs": [
    {
     "data": {
      "text/html": [
       "<div>\n",
       "<style scoped>\n",
       "    .dataframe tbody tr th:only-of-type {\n",
       "        vertical-align: middle;\n",
       "    }\n",
       "\n",
       "    .dataframe tbody tr th {\n",
       "        vertical-align: top;\n",
       "    }\n",
       "\n",
       "    .dataframe thead th {\n",
       "        text-align: right;\n",
       "    }\n",
       "</style>\n",
       "<table border=\"1\" class=\"dataframe\">\n",
       "  <thead>\n",
       "    <tr style=\"text-align: right;\">\n",
       "      <th></th>\n",
       "      <th>Proportion</th>\n",
       "      <th>n</th>\n",
       "    </tr>\n",
       "    <tr>\n",
       "      <th>RIAGENDRx</th>\n",
       "      <th></th>\n",
       "      <th></th>\n",
       "    </tr>\n",
       "  </thead>\n",
       "  <tbody>\n",
       "    <tr>\n",
       "      <th>Female</th>\n",
       "      <td>0.304845</td>\n",
       "      <td>2972</td>\n",
       "    </tr>\n",
       "    <tr>\n",
       "      <th>Male</th>\n",
       "      <td>0.513258</td>\n",
       "      <td>2753</td>\n",
       "    </tr>\n",
       "  </tbody>\n",
       "</table>\n",
       "</div>"
      ],
      "text/plain": [
       "           Proportion     n\n",
       "RIAGENDRx                  \n",
       "Female       0.304845  2972\n",
       "Male         0.513258  2753"
      ]
     },
     "execution_count": 201,
     "metadata": {},
     "output_type": "execute_result"
    }
   ],
   "source": [
    "# Group By + Aggregate: Very Useful for porportionas and means of different groups\n",
    "# groupby().agg() creates a new table with aggregated summary values\n",
    "# in groupby we say which category groups we want in the rows\n",
    "# and with agg() we say the aggregate function to be applied in the columns\n",
    "dy = dx.groupby(\"RIAGENDRx\").agg({\"SMQ020x\": [np.mean, np.size]})\n",
    "dy.columns = [\"Proportion\", \"n\"]\n",
    "dy"
   ]
  },
  {
   "cell_type": "code",
   "execution_count": 202,
   "id": "777a174c-dc88-4c4f-8838-947b8c0c7a49",
   "metadata": {},
   "outputs": [
    {
     "data": {
      "text/plain": [
       "0    27.8\n",
       "1    30.8\n",
       "2    28.8\n",
       "3    42.4\n",
       "4    20.3\n",
       "Name: BMXBMI, dtype: float64"
      ]
     },
     "execution_count": 202,
     "metadata": {},
     "output_type": "execute_result"
    }
   ],
   "source": [
    "da[\"BMXBMI\"].head()"
   ]
  },
  {
   "cell_type": "code",
   "execution_count": 203,
   "id": "4a688733-c698-49c5-b4d1-e2155541626e",
   "metadata": {},
   "outputs": [
    {
     "data": {
      "text/html": [
       "<div>\n",
       "<style scoped>\n",
       "    .dataframe tbody tr th:only-of-type {\n",
       "        vertical-align: middle;\n",
       "    }\n",
       "\n",
       "    .dataframe tbody tr th {\n",
       "        vertical-align: top;\n",
       "    }\n",
       "\n",
       "    .dataframe thead th {\n",
       "        text-align: right;\n",
       "    }\n",
       "</style>\n",
       "<table border=\"1\" class=\"dataframe\">\n",
       "  <thead>\n",
       "    <tr style=\"text-align: right;\">\n",
       "      <th></th>\n",
       "      <th>BMI_mean</th>\n",
       "      <th>BMI_std</th>\n",
       "      <th>BMI_n</th>\n",
       "    </tr>\n",
       "    <tr>\n",
       "      <th>RIAGENDRx</th>\n",
       "      <th></th>\n",
       "      <th></th>\n",
       "      <th></th>\n",
       "    </tr>\n",
       "  </thead>\n",
       "  <tbody>\n",
       "    <tr>\n",
       "      <th>Female</th>\n",
       "      <td>29.939946</td>\n",
       "      <td>7.753319</td>\n",
       "      <td>2976</td>\n",
       "    </tr>\n",
       "    <tr>\n",
       "      <th>Male</th>\n",
       "      <td>28.778072</td>\n",
       "      <td>6.252568</td>\n",
       "      <td>2759</td>\n",
       "    </tr>\n",
       "  </tbody>\n",
       "</table>\n",
       "</div>"
      ],
      "text/plain": [
       "            BMI_mean   BMI_std  BMI_n\n",
       "RIAGENDRx                            \n",
       "Female     29.939946  7.753319   2976\n",
       "Male       28.778072  6.252568   2759"
      ]
     },
     "execution_count": 203,
     "metadata": {},
     "output_type": "execute_result"
    }
   ],
   "source": [
    "dz = da.groupby(\"RIAGENDRx\").agg({\"BMXBMI\": [np.mean, np.std, np.size]})\n",
    "dz.columns = [\"BMI_mean\", \"BMI_std\", \"BMI_n\"]\n",
    "dz"
   ]
  },
  {
   "cell_type": "markdown",
   "id": "e47fbbac-deea-4a96-89e9-a8b31115db10",
   "metadata": {},
   "source": [
    "## 6. CI of Two Proportions: Smokers vs Non-Smokers in Males & Females"
   ]
  },
  {
   "cell_type": "markdown",
   "id": "267ea03b-5b3b-4c5e-9376-6598aad71756",
   "metadata": {},
   "source": [
    "$$Standard\\ Error \\ for\\ Population\\ Proportion = \\sqrt{\\frac{Population\\ Proportion * (1 - Population\\ Proportion)}{Number\\ Of\\ Observations}}$$\n",
    "\n",
    "$$Standard\\ Error\\ for\\ Difference\\ of\\ Two\\ Population\\ Proportions\\ Or\\ Means = \\sqrt{(SE_{\\ 1})^2 + (SE_{\\ 2})^2}$$"
   ]
  },
  {
   "cell_type": "code",
   "execution_count": 204,
   "id": "d5735519-9508-4e0e-8016-5345097fc970",
   "metadata": {},
   "outputs": [
    {
     "data": {
      "text/html": [
       "<div>\n",
       "<style scoped>\n",
       "    .dataframe tbody tr th:only-of-type {\n",
       "        vertical-align: middle;\n",
       "    }\n",
       "\n",
       "    .dataframe tbody tr th {\n",
       "        vertical-align: top;\n",
       "    }\n",
       "\n",
       "    .dataframe thead th {\n",
       "        text-align: right;\n",
       "    }\n",
       "</style>\n",
       "<table border=\"1\" class=\"dataframe\">\n",
       "  <thead>\n",
       "    <tr style=\"text-align: right;\">\n",
       "      <th></th>\n",
       "      <th>Proportion</th>\n",
       "      <th>n</th>\n",
       "    </tr>\n",
       "    <tr>\n",
       "      <th>RIAGENDRx</th>\n",
       "      <th></th>\n",
       "      <th></th>\n",
       "    </tr>\n",
       "  </thead>\n",
       "  <tbody>\n",
       "    <tr>\n",
       "      <th>Female</th>\n",
       "      <td>0.304845</td>\n",
       "      <td>2972</td>\n",
       "    </tr>\n",
       "    <tr>\n",
       "      <th>Male</th>\n",
       "      <td>0.513258</td>\n",
       "      <td>2753</td>\n",
       "    </tr>\n",
       "  </tbody>\n",
       "</table>\n",
       "</div>"
      ],
      "text/plain": [
       "           Proportion     n\n",
       "RIAGENDRx                  \n",
       "Female       0.304845  2972\n",
       "Male         0.513258  2753"
      ]
     },
     "execution_count": 204,
     "metadata": {},
     "output_type": "execute_result"
    }
   ],
   "source": [
    "dy"
   ]
  },
  {
   "cell_type": "markdown",
   "id": "4ce4142c-2515-4e8b-b75d-2c78780ee9c8",
   "metadata": {},
   "source": [
    "### Manual Computation"
   ]
  },
  {
   "cell_type": "code",
   "execution_count": 205,
   "id": "1cc33fcb-d1a6-4231-82e5-6bdbe6710f92",
   "metadata": {},
   "outputs": [
    {
     "data": {
      "text/plain": [
       "0.008444152146214435"
      ]
     },
     "execution_count": 205,
     "metadata": {},
     "output_type": "execute_result"
    }
   ],
   "source": [
    "p_f = dy.loc['Female','Proportion']\n",
    "n_f = dy.loc['Female','n']\n",
    "se_female = np.sqrt(p_f * (1 - p_f)/n_f)\n",
    "se_female"
   ]
  },
  {
   "cell_type": "code",
   "execution_count": 206,
   "id": "338bab57-abe0-4f4f-a604-e6e657ddef83",
   "metadata": {},
   "outputs": [
    {
     "data": {
      "text/plain": [
       "0.009526078653689868"
      ]
     },
     "execution_count": 206,
     "metadata": {},
     "output_type": "execute_result"
    }
   ],
   "source": [
    "p_m = dy.loc['Male','Proportion']\n",
    "n_m = dy.loc['Male','n']\n",
    "se_male = np.sqrt(p_m * (1 - p_m)/ n_m)\n",
    "se_male"
   ]
  },
  {
   "cell_type": "code",
   "execution_count": 207,
   "id": "fb9868b0-4cb0-44d1-9d86-835438bc89e5",
   "metadata": {},
   "outputs": [
    {
     "data": {
      "text/plain": [
       "0.012729881381407434"
      ]
     },
     "execution_count": 207,
     "metadata": {},
     "output_type": "execute_result"
    }
   ],
   "source": [
    "se_diff = np.sqrt(se_female**2 + se_male**2)\n",
    "se_diff"
   ]
  },
  {
   "cell_type": "code",
   "execution_count": 208,
   "id": "375b9606-adf8-4e74-9363-aaf13dc78b83",
   "metadata": {},
   "outputs": [
    {
     "data": {
      "text/plain": [
       "(-0.2333636091471941, -0.18346247413207697)"
      ]
     },
     "execution_count": 208,
     "metadata": {},
     "output_type": "execute_result"
    }
   ],
   "source": [
    "d = p_f - p_m\n",
    "lcb = d - 1.96 * se_diff\n",
    "ucb = d + 1.96 * se_diff\n",
    "(lcb, ucb)"
   ]
  },
  {
   "cell_type": "markdown",
   "id": "3e528a42-7c39-40ed-9b37-a23d5d5d137d",
   "metadata": {},
   "source": [
    "### Computation with Statsmodels: One Proportion, Not Two"
   ]
  },
  {
   "cell_type": "code",
   "execution_count": 210,
   "id": "6195e08f-eaa8-4742-8da9-0604d99f682f",
   "metadata": {},
   "outputs": [
    {
     "data": {
      "text/html": [
       "<div>\n",
       "<style scoped>\n",
       "    .dataframe tbody tr th:only-of-type {\n",
       "        vertical-align: middle;\n",
       "    }\n",
       "\n",
       "    .dataframe tbody tr th {\n",
       "        vertical-align: top;\n",
       "    }\n",
       "\n",
       "    .dataframe thead th {\n",
       "        text-align: right;\n",
       "    }\n",
       "</style>\n",
       "<table border=\"1\" class=\"dataframe\">\n",
       "  <thead>\n",
       "    <tr style=\"text-align: right;\">\n",
       "      <th>RIAGENDRx</th>\n",
       "      <th>Female</th>\n",
       "      <th>Male</th>\n",
       "    </tr>\n",
       "    <tr>\n",
       "      <th>SMQ020x</th>\n",
       "      <th></th>\n",
       "      <th></th>\n",
       "    </tr>\n",
       "  </thead>\n",
       "  <tbody>\n",
       "    <tr>\n",
       "      <th>0</th>\n",
       "      <td>2066</td>\n",
       "      <td>1340</td>\n",
       "    </tr>\n",
       "    <tr>\n",
       "      <th>1</th>\n",
       "      <td>906</td>\n",
       "      <td>1413</td>\n",
       "    </tr>\n",
       "  </tbody>\n",
       "</table>\n",
       "</div>"
      ],
      "text/plain": [
       "RIAGENDRx  Female  Male\n",
       "SMQ020x                \n",
       "0            2066  1340\n",
       "1             906  1413"
      ]
     },
     "execution_count": 210,
     "metadata": {},
     "output_type": "execute_result"
    }
   ],
   "source": [
    "pd.crosstab(dx.SMQ020x, dx.RIAGENDRx)"
   ]
  },
  {
   "cell_type": "code",
   "execution_count": 212,
   "id": "71a8125b-fb7b-47aa-9ad8-93904b649597",
   "metadata": {},
   "outputs": [
    {
     "data": {
      "text/plain": [
       "(0.2882949879861214, 0.32139545615923526)"
      ]
     },
     "execution_count": 212,
     "metadata": {},
     "output_type": "execute_result"
    }
   ],
   "source": [
    "# 95% CI for the proportion of females who smoke (compare to value above)\n",
    "sm.stats.proportion_confint(906, 906+2066)"
   ]
  },
  {
   "cell_type": "code",
   "execution_count": 213,
   "id": "2f1ed8b1-b2fa-4dcb-abdf-58a240f10383",
   "metadata": {},
   "outputs": [
    {
     "data": {
      "text/plain": [
       "(0.49458749263718593, 0.5319290347874418)"
      ]
     },
     "execution_count": 213,
     "metadata": {},
     "output_type": "execute_result"
    }
   ],
   "source": [
    "# 95% CI for the proportion of males who smoke (compare to value above)\n",
    "sm.stats.proportion_confint(1413, 1413+1340)"
   ]
  },
  {
   "cell_type": "markdown",
   "id": "14de7dbe-abc2-4355-9688-00dfbc4b55de",
   "metadata": {},
   "source": [
    "### 6.1 Confidence Intervals for Subpopulations: Age Stratification"
   ]
  },
  {
   "cell_type": "code",
   "execution_count": 154,
   "id": "679a2890-8d45-418c-b7f6-0ba1fb946a1e",
   "metadata": {},
   "outputs": [
    {
     "data": {
      "text/html": [
       "<div>\n",
       "<style scoped>\n",
       "    .dataframe tbody tr th:only-of-type {\n",
       "        vertical-align: middle;\n",
       "    }\n",
       "\n",
       "    .dataframe tbody tr th {\n",
       "        vertical-align: top;\n",
       "    }\n",
       "\n",
       "    .dataframe thead th {\n",
       "        text-align: right;\n",
       "    }\n",
       "</style>\n",
       "<table border=\"1\" class=\"dataframe\">\n",
       "  <thead>\n",
       "    <tr style=\"text-align: right;\">\n",
       "      <th></th>\n",
       "      <th>Female</th>\n",
       "      <th>Male</th>\n",
       "    </tr>\n",
       "    <tr>\n",
       "      <th>agegrp</th>\n",
       "      <th></th>\n",
       "      <th></th>\n",
       "    </tr>\n",
       "  </thead>\n",
       "  <tbody>\n",
       "    <tr>\n",
       "      <th>(18, 30]</th>\n",
       "      <td>0.226601</td>\n",
       "      <td>0.349265</td>\n",
       "    </tr>\n",
       "    <tr>\n",
       "      <th>(30, 40]</th>\n",
       "      <td>0.286920</td>\n",
       "      <td>0.502183</td>\n",
       "    </tr>\n",
       "    <tr>\n",
       "      <th>(40, 50]</th>\n",
       "      <td>0.268924</td>\n",
       "      <td>0.448878</td>\n",
       "    </tr>\n",
       "    <tr>\n",
       "      <th>(50, 60]</th>\n",
       "      <td>0.421277</td>\n",
       "      <td>0.572687</td>\n",
       "    </tr>\n",
       "    <tr>\n",
       "      <th>(60, 70]</th>\n",
       "      <td>0.374150</td>\n",
       "      <td>0.654462</td>\n",
       "    </tr>\n",
       "    <tr>\n",
       "      <th>(70, 80]</th>\n",
       "      <td>0.324390</td>\n",
       "      <td>0.649254</td>\n",
       "    </tr>\n",
       "  </tbody>\n",
       "</table>\n",
       "</div>"
      ],
      "text/plain": [
       "            Female      Male\n",
       "agegrp                      \n",
       "(18, 30]  0.226601  0.349265\n",
       "(30, 40]  0.286920  0.502183\n",
       "(40, 50]  0.268924  0.448878\n",
       "(50, 60]  0.421277  0.572687\n",
       "(60, 70]  0.374150  0.654462\n",
       "(70, 80]  0.324390  0.649254"
      ]
     },
     "execution_count": 154,
     "metadata": {},
     "output_type": "execute_result"
    }
   ],
   "source": [
    "# Calculate the smoking rates within age/gender groups\n",
    "da[\"agegrp\"] = pd.cut(da.RIDAGEYR, [18, 30, 40, 50, 60, 70, 80])\n",
    "pr = da.groupby([\"agegrp\", \"RIAGENDRx\"]).agg({\"SMQ020x\": lambda x: np.mean(x==\"Yes\")}).unstack()\n",
    "pr.columns = [\"Female\", \"Male\"]\n",
    "pr"
   ]
  },
  {
   "cell_type": "code",
   "execution_count": 155,
   "id": "5aa37f25-7056-4387-a03a-9c60e1c27369",
   "metadata": {},
   "outputs": [
    {
     "data": {
      "text/html": [
       "<div>\n",
       "<style scoped>\n",
       "    .dataframe tbody tr th:only-of-type {\n",
       "        vertical-align: middle;\n",
       "    }\n",
       "\n",
       "    .dataframe tbody tr th {\n",
       "        vertical-align: top;\n",
       "    }\n",
       "\n",
       "    .dataframe thead th {\n",
       "        text-align: right;\n",
       "    }\n",
       "</style>\n",
       "<table border=\"1\" class=\"dataframe\">\n",
       "  <thead>\n",
       "    <tr style=\"text-align: right;\">\n",
       "      <th></th>\n",
       "      <th>Female</th>\n",
       "      <th>Male</th>\n",
       "    </tr>\n",
       "    <tr>\n",
       "      <th>agegrp</th>\n",
       "      <th></th>\n",
       "      <th></th>\n",
       "    </tr>\n",
       "  </thead>\n",
       "  <tbody>\n",
       "    <tr>\n",
       "      <th>(18, 30]</th>\n",
       "      <td>609</td>\n",
       "      <td>544</td>\n",
       "    </tr>\n",
       "    <tr>\n",
       "      <th>(30, 40]</th>\n",
       "      <td>474</td>\n",
       "      <td>458</td>\n",
       "    </tr>\n",
       "    <tr>\n",
       "      <th>(40, 50]</th>\n",
       "      <td>502</td>\n",
       "      <td>401</td>\n",
       "    </tr>\n",
       "    <tr>\n",
       "      <th>(50, 60]</th>\n",
       "      <td>470</td>\n",
       "      <td>454</td>\n",
       "    </tr>\n",
       "    <tr>\n",
       "      <th>(60, 70]</th>\n",
       "      <td>441</td>\n",
       "      <td>437</td>\n",
       "    </tr>\n",
       "    <tr>\n",
       "      <th>(70, 80]</th>\n",
       "      <td>410</td>\n",
       "      <td>402</td>\n",
       "    </tr>\n",
       "  </tbody>\n",
       "</table>\n",
       "</div>"
      ],
      "text/plain": [
       "          Female  Male\n",
       "agegrp                \n",
       "(18, 30]     609   544\n",
       "(30, 40]     474   458\n",
       "(40, 50]     502   401\n",
       "(50, 60]     470   454\n",
       "(60, 70]     441   437\n",
       "(70, 80]     410   402"
      ]
     },
     "execution_count": 155,
     "metadata": {},
     "output_type": "execute_result"
    }
   ],
   "source": [
    "# The number of people for each calculated proportion\n",
    "dn = da.groupby([\"agegrp\", \"RIAGENDRx\"]).agg({\"SMQ020x\": np.size}).unstack()\n",
    "dn.columns = [\"Female\", \"Male\"]\n",
    "dn"
   ]
  },
  {
   "cell_type": "code",
   "execution_count": 156,
   "id": "064428ed-1ed7-4d45-990f-cc8949f21e8a",
   "metadata": {},
   "outputs": [
    {
     "data": {
      "text/html": [
       "<div>\n",
       "<style scoped>\n",
       "    .dataframe tbody tr th:only-of-type {\n",
       "        vertical-align: middle;\n",
       "    }\n",
       "\n",
       "    .dataframe tbody tr th {\n",
       "        vertical-align: top;\n",
       "    }\n",
       "\n",
       "    .dataframe thead th {\n",
       "        text-align: right;\n",
       "    }\n",
       "</style>\n",
       "<table border=\"1\" class=\"dataframe\">\n",
       "  <thead>\n",
       "    <tr style=\"text-align: right;\">\n",
       "      <th></th>\n",
       "      <th>Female</th>\n",
       "      <th>Male</th>\n",
       "    </tr>\n",
       "    <tr>\n",
       "      <th>agegrp</th>\n",
       "      <th></th>\n",
       "      <th></th>\n",
       "    </tr>\n",
       "  </thead>\n",
       "  <tbody>\n",
       "    <tr>\n",
       "      <th>(18, 30]</th>\n",
       "      <td>0.016964</td>\n",
       "      <td>0.020440</td>\n",
       "    </tr>\n",
       "    <tr>\n",
       "      <th>(30, 40]</th>\n",
       "      <td>0.020776</td>\n",
       "      <td>0.023363</td>\n",
       "    </tr>\n",
       "    <tr>\n",
       "      <th>(40, 50]</th>\n",
       "      <td>0.019790</td>\n",
       "      <td>0.024838</td>\n",
       "    </tr>\n",
       "    <tr>\n",
       "      <th>(50, 60]</th>\n",
       "      <td>0.022776</td>\n",
       "      <td>0.023217</td>\n",
       "    </tr>\n",
       "    <tr>\n",
       "      <th>(60, 70]</th>\n",
       "      <td>0.023043</td>\n",
       "      <td>0.022748</td>\n",
       "    </tr>\n",
       "    <tr>\n",
       "      <th>(70, 80]</th>\n",
       "      <td>0.023120</td>\n",
       "      <td>0.023801</td>\n",
       "    </tr>\n",
       "  </tbody>\n",
       "</table>\n",
       "</div>"
      ],
      "text/plain": [
       "            Female      Male\n",
       "agegrp                      \n",
       "(18, 30]  0.016964  0.020440\n",
       "(30, 40]  0.020776  0.023363\n",
       "(40, 50]  0.019790  0.024838\n",
       "(50, 60]  0.022776  0.023217\n",
       "(60, 70]  0.023043  0.022748\n",
       "(70, 80]  0.023120  0.023801"
      ]
     },
     "execution_count": 156,
     "metadata": {},
     "output_type": "execute_result"
    }
   ],
   "source": [
    "# Standard errors for each proportion\n",
    "se = np.sqrt(pr * (1 - pr) / dn)\n",
    "se"
   ]
  },
  {
   "cell_type": "code",
   "execution_count": 157,
   "id": "ad2ed206-123f-4340-ae48-471922d82c39",
   "metadata": {},
   "outputs": [
    {
     "data": {
      "text/plain": [
       "agegrp\n",
       "(18, 30]    0.026562\n",
       "(30, 40]    0.031265\n",
       "(40, 50]    0.031758\n",
       "(50, 60]    0.032523\n",
       "(60, 70]    0.032380\n",
       "(70, 80]    0.033182\n",
       "dtype: float64"
      ]
     },
     "execution_count": 157,
     "metadata": {},
     "output_type": "execute_result"
    }
   ],
   "source": [
    "# Standard error for the difference in female/male smoking rates in every age band\n",
    "se_diff = np.sqrt(se.Female**2 + se.Male**2)\n",
    "se_diff"
   ]
  },
  {
   "cell_type": "code",
   "execution_count": 158,
   "id": "9957a57a-5e88-40ec-adfb-20889d229f1d",
   "metadata": {},
   "outputs": [
    {
     "data": {
      "text/plain": [
       "agegrp\n",
       "(18, 30]   -0.122664\n",
       "(30, 40]   -0.215264\n",
       "(40, 50]   -0.179954\n",
       "(50, 60]   -0.151411\n",
       "(60, 70]   -0.280313\n",
       "(70, 80]   -0.324863\n",
       "dtype: float64"
      ]
     },
     "execution_count": 158,
     "metadata": {},
     "output_type": "execute_result"
    }
   ],
   "source": [
    "# Standard errors for the difference in smoking rates between genders, within age bands\n",
    "# The difference in smoking rates between genders\n",
    "pq = pr.Female - pr.Male\n",
    "pq"
   ]
  },
  {
   "cell_type": "code",
   "execution_count": 159,
   "id": "35d7a07e-05f3-4c33-8f77-ced9b1120481",
   "metadata": {},
   "outputs": [],
   "source": [
    "import seaborn as sns"
   ]
  },
  {
   "cell_type": "code",
   "execution_count": 162,
   "id": "632b9437-5c2d-474d-a50a-98e54b76bd48",
   "metadata": {},
   "outputs": [
    {
     "data": {
      "text/plain": [
       "Text(0, 0.5, 'Female - male smoking proportion')"
      ]
     },
     "execution_count": 162,
     "metadata": {},
     "output_type": "execute_result"
    },
    {
     "data": {
      "image/png": "[encoded data removed]",
      "text/plain": [
       "<Figure size 432x288 with 1 Axes>"
      ]
     },
     "metadata": {
      "needs_background": "light"
     },
     "output_type": "display_data"
    }
   ],
   "source": [
    "x = np.arange(pq.size)\n",
    "pp = sns.pointplot(x=x, y=pq.values, color='black')\n",
    "sns.pointplot(x=x, y=pq - 2*se_diff)\n",
    "sns.pointplot(x=x, y=pq + 2*se_diff)\n",
    "pp.set_xticklabels(pq.index)\n",
    "pp.set_xlabel(\"Age group\")\n",
    "pp.set_ylabel(\"Female - male smoking proportion\")"
   ]
  },
  {
   "cell_type": "markdown",
   "id": "b0d3074b-7801-4652-93ab-c83d82dae619",
   "metadata": {},
   "source": [
    "## 7. CI of Two Means (Independent Data): BMI mean in Males & Females"
   ]
  },
  {
   "cell_type": "markdown",
   "id": "a9f5a1a8-48c5-46c1-97f1-945d459d7518",
   "metadata": {},
   "source": [
    "Note that these formulas are for inpendent measurements; for paired data the formula changes.\n",
    "\n",
    "$$Standard\\ Error \\ for\\ Mean = \\frac{Standard\\ Deviation}{\\sqrt{Number\\ Of\\ Observations}}$$\n",
    "\n",
    "$$Standard\\ Error\\ for\\ Difference\\ of\\ Two\\ Population\\ Proportions\\ Or\\ Means = \\sqrt{(SE_{\\ 1})^2 + (SE_{\\ 2})^2}$$"
   ]
  },
  {
   "cell_type": "code",
   "execution_count": 235,
   "id": "d43ba416-0549-44ba-a72f-219926a0fec9",
   "metadata": {},
   "outputs": [
    {
     "data": {
      "text/html": [
       "<div>\n",
       "<style scoped>\n",
       "    .dataframe tbody tr th:only-of-type {\n",
       "        vertical-align: middle;\n",
       "    }\n",
       "\n",
       "    .dataframe tbody tr th {\n",
       "        vertical-align: top;\n",
       "    }\n",
       "\n",
       "    .dataframe thead th {\n",
       "        text-align: right;\n",
       "    }\n",
       "</style>\n",
       "<table border=\"1\" class=\"dataframe\">\n",
       "  <thead>\n",
       "    <tr style=\"text-align: right;\">\n",
       "      <th></th>\n",
       "      <th>BMI_mean</th>\n",
       "      <th>BMI_std</th>\n",
       "      <th>BMI_n</th>\n",
       "    </tr>\n",
       "    <tr>\n",
       "      <th>RIAGENDRx</th>\n",
       "      <th></th>\n",
       "      <th></th>\n",
       "      <th></th>\n",
       "    </tr>\n",
       "  </thead>\n",
       "  <tbody>\n",
       "    <tr>\n",
       "      <th>Female</th>\n",
       "      <td>29.939946</td>\n",
       "      <td>7.753319</td>\n",
       "      <td>2976</td>\n",
       "    </tr>\n",
       "    <tr>\n",
       "      <th>Male</th>\n",
       "      <td>28.778072</td>\n",
       "      <td>6.252568</td>\n",
       "      <td>2759</td>\n",
       "    </tr>\n",
       "  </tbody>\n",
       "</table>\n",
       "</div>"
      ],
      "text/plain": [
       "            BMI_mean   BMI_std  BMI_n\n",
       "RIAGENDRx                            \n",
       "Female     29.939946  7.753319   2976\n",
       "Male       28.778072  6.252568   2759"
      ]
     },
     "execution_count": 235,
     "metadata": {},
     "output_type": "execute_result"
    }
   ],
   "source": [
    "dz"
   ]
  },
  {
   "cell_type": "markdown",
   "id": "b978785d-a503-427e-a859-8c7f654a4763",
   "metadata": {},
   "source": [
    "### QQ-Plot to Check Normality"
   ]
  },
  {
   "cell_type": "code",
   "execution_count": 238,
   "id": "b293f71d-d6b1-4676-a1a3-8ada4d21eb36",
   "metadata": {},
   "outputs": [],
   "source": [
    "from matplotlib import pyplot as plt\n",
    "import numpy as np \n",
    "import scipy.stats as stats\n",
    "import seaborn as sns\n",
    "%matplotlib inline"
   ]
  },
  {
   "cell_type": "code",
   "execution_count": 241,
   "id": "556aac36-21fe-4e3e-ab8d-f6bcceeaca6c",
   "metadata": {},
   "outputs": [],
   "source": [
    "# dz = da.groupby(\"RIAGENDRx\").agg({\"BMXBMI\": [np.mean, np.std, np.size]})\n",
    "bmi_f = da[da[\"RIAGENDRx\"] == \"Female\"][\"BMXBMI\"]\n",
    "bmi_m = da[da[\"RIAGENDRx\"] == \"Male\"][\"BMXBMI\"]"
   ]
  },
  {
   "cell_type": "code",
   "execution_count": 246,
   "id": "eb49ee81-2a42-431a-8baf-009db2c24c06",
   "metadata": {},
   "outputs": [
    {
     "data": {
      "image/png": "[encoded data removed]",
      "text/plain": [
       "<Figure size 432x288 with 1 Axes>"
      ]
     },
     "metadata": {
      "needs_background": "light"
     },
     "output_type": "display_data"
    }
   ],
   "source": [
    "stats.probplot(bmi_f, dist=\"norm\", plot=plt)\n",
    "plt.title('QQ plot of a against normal distribution (Female BMI)')\n",
    "plt.show()"
   ]
  },
  {
   "cell_type": "code",
   "execution_count": 247,
   "id": "a7747f80-947d-4b8f-b1b5-c6f9e65db306",
   "metadata": {},
   "outputs": [
    {
     "data": {
      "image/png": "[encoded data removed]",
      "text/plain": [
       "<Figure size 432x288 with 1 Axes>"
      ]
     },
     "metadata": {
      "needs_background": "light"
     },
     "output_type": "display_data"
    }
   ],
   "source": [
    "stats.probplot(bmi_m, dist=\"norm\", plot=plt)\n",
    "plt.title('QQ plot of a against normal distribution (Male BMI)')\n",
    "plt.show()"
   ]
  },
  {
   "cell_type": "markdown",
   "id": "4e1fda48-cd47-4683-ae34-c0337035b45c",
   "metadata": {},
   "source": [
    "### Manual Computation"
   ]
  },
  {
   "cell_type": "code",
   "execution_count": 164,
   "id": "b89c46fd-79e5-4ad3-919f-42ad07aed0af",
   "metadata": {},
   "outputs": [
    {
     "data": {
      "text/plain": [
       "(0.14212522940758335, 0.11903715722332033)"
      ]
     },
     "execution_count": 164,
     "metadata": {},
     "output_type": "execute_result"
    }
   ],
   "source": [
    "se_mean_female = dz.loc['Female','BMI_std'] / np.sqrt(dz.loc['Female','BMI_n'])\n",
    "se_mean_male = dz.loc['Male','BMI_std'] / np.sqrt(dz.loc['Male','BMI_n'])\n",
    "(se_mean_female, se_mean_male)"
   ]
  },
  {
   "cell_type": "code",
   "execution_count": 165,
   "id": "8b8ef6d3-56e1-46db-a770-339ee8a7f200",
   "metadata": {},
   "outputs": [
    {
     "data": {
      "text/plain": [
       "0.18538992862064455"
      ]
     },
     "execution_count": 165,
     "metadata": {},
     "output_type": "execute_result"
    }
   ],
   "source": [
    "se_mean_diff = np.sqrt(se_mean_female**2 + se_mean_male**2)\n",
    "se_mean_diff"
   ]
  },
  {
   "cell_type": "code",
   "execution_count": 166,
   "id": "285fe0c6-9e88-4884-8b47-a5bad51b334b",
   "metadata": {},
   "outputs": [
    {
     "data": {
      "text/plain": [
       "1.1618735403269653"
      ]
     },
     "execution_count": 166,
     "metadata": {},
     "output_type": "execute_result"
    }
   ],
   "source": [
    "d = dz.loc['Female','BMI_mean'] - dz.loc['Male','BMI_mean']\n",
    "d"
   ]
  },
  {
   "cell_type": "code",
   "execution_count": 215,
   "id": "2fe80f38-f577-44b3-bccf-7aafe21dab9a",
   "metadata": {},
   "outputs": [
    {
     "data": {
      "text/plain": [
       "(-0.5717773017360988, 0.15495121845682774)"
      ]
     },
     "execution_count": 215,
     "metadata": {},
     "output_type": "execute_result"
    }
   ],
   "source": [
    "lcb = d - 1.96 * se_mean_diff\n",
    "ucb = d + 1.96 * se_mean_diff\n",
    "(lcb, ucb)"
   ]
  },
  {
   "cell_type": "markdown",
   "id": "722ba2f0-e7b4-453f-acfa-0866202f676a",
   "metadata": {},
   "source": [
    "#### Computation with Statsmodels: One Mean, not Two"
   ]
  },
  {
   "cell_type": "code",
   "execution_count": 220,
   "id": "77b2d6bf-2fc3-4d66-b5c8-9998bf564f01",
   "metadata": {},
   "outputs": [
    {
     "data": {
      "text/plain": [
       "3     42.4\n",
       "4     20.3\n",
       "5     28.6\n",
       "7     28.2\n",
       "12    26.6\n",
       "Name: BMXBMI, dtype: float64"
      ]
     },
     "execution_count": 220,
     "metadata": {},
     "output_type": "execute_result"
    }
   ],
   "source": [
    "# Important note: .loc[] creates a new copy, unlike df[df] conditioning, which creates a view!\n",
    "female_bmi = da.loc[da.RIAGENDRx==\"Female\", \"BMXBMI\"].dropna()\n",
    "female_bmi.head()"
   ]
  },
  {
   "cell_type": "code",
   "execution_count": 221,
   "id": "9582bbcd-bf51-4673-89a4-7817f2197a6a",
   "metadata": {},
   "outputs": [
    {
     "data": {
      "text/plain": [
       "(29.659875498090155, 30.22001580625768)"
      ]
     },
     "execution_count": 221,
     "metadata": {},
     "output_type": "execute_result"
    }
   ],
   "source": [
    "sm.stats.DescrStatsW(female_bmi).zconfint_mean()"
   ]
  },
  {
   "cell_type": "markdown",
   "id": "49446a83-f52e-4113-9766-b837afbf07cd",
   "metadata": {},
   "source": [
    "### 7.1 Confidence Intervals for Subpopulations: Age Stratification"
   ]
  },
  {
   "cell_type": "code",
   "execution_count": 269,
   "id": "a1aa14ea-4502-43d7-a74d-49ba6f5d3446",
   "metadata": {},
   "outputs": [
    {
     "data": {
      "text/html": [
       "<div>\n",
       "<style scoped>\n",
       "    .dataframe tbody tr th:only-of-type {\n",
       "        vertical-align: middle;\n",
       "    }\n",
       "\n",
       "    .dataframe tbody tr th {\n",
       "        vertical-align: top;\n",
       "    }\n",
       "\n",
       "    .dataframe thead tr th {\n",
       "        text-align: left;\n",
       "    }\n",
       "\n",
       "    .dataframe thead tr:last-of-type th {\n",
       "        text-align: right;\n",
       "    }\n",
       "</style>\n",
       "<table border=\"1\" class=\"dataframe\">\n",
       "  <thead>\n",
       "    <tr>\n",
       "      <th></th>\n",
       "      <th colspan=\"6\" halign=\"left\">BMXBMI</th>\n",
       "    </tr>\n",
       "    <tr>\n",
       "      <th></th>\n",
       "      <th colspan=\"2\" halign=\"left\">mean</th>\n",
       "      <th colspan=\"2\" halign=\"left\">std</th>\n",
       "      <th colspan=\"2\" halign=\"left\">size</th>\n",
       "    </tr>\n",
       "    <tr>\n",
       "      <th>RIAGENDRx</th>\n",
       "      <th>Female</th>\n",
       "      <th>Male</th>\n",
       "      <th>Female</th>\n",
       "      <th>Male</th>\n",
       "      <th>Female</th>\n",
       "      <th>Male</th>\n",
       "    </tr>\n",
       "    <tr>\n",
       "      <th>agegrp</th>\n",
       "      <th></th>\n",
       "      <th></th>\n",
       "      <th></th>\n",
       "      <th></th>\n",
       "      <th></th>\n",
       "      <th></th>\n",
       "    </tr>\n",
       "  </thead>\n",
       "  <tbody>\n",
       "    <tr>\n",
       "      <th>(18, 30]</th>\n",
       "      <td>28.123881</td>\n",
       "      <td>27.391822</td>\n",
       "      <td>7.745893</td>\n",
       "      <td>6.649440</td>\n",
       "      <td>609</td>\n",
       "      <td>544</td>\n",
       "    </tr>\n",
       "    <tr>\n",
       "      <th>(30, 40]</th>\n",
       "      <td>30.325586</td>\n",
       "      <td>29.611726</td>\n",
       "      <td>8.315608</td>\n",
       "      <td>6.622412</td>\n",
       "      <td>474</td>\n",
       "      <td>458</td>\n",
       "    </tr>\n",
       "    <tr>\n",
       "      <th>(40, 50]</th>\n",
       "      <td>31.160643</td>\n",
       "      <td>29.724623</td>\n",
       "      <td>8.076195</td>\n",
       "      <td>6.407076</td>\n",
       "      <td>502</td>\n",
       "      <td>401</td>\n",
       "    </tr>\n",
       "    <tr>\n",
       "      <th>(50, 60]</th>\n",
       "      <td>30.743777</td>\n",
       "      <td>29.231486</td>\n",
       "      <td>7.575848</td>\n",
       "      <td>5.914373</td>\n",
       "      <td>470</td>\n",
       "      <td>454</td>\n",
       "    </tr>\n",
       "    <tr>\n",
       "      <th>(60, 70]</th>\n",
       "      <td>31.074828</td>\n",
       "      <td>29.392488</td>\n",
       "      <td>7.604514</td>\n",
       "      <td>5.933307</td>\n",
       "      <td>441</td>\n",
       "      <td>437</td>\n",
       "    </tr>\n",
       "    <tr>\n",
       "      <th>(70, 80]</th>\n",
       "      <td>29.138213</td>\n",
       "      <td>27.957692</td>\n",
       "      <td>6.284968</td>\n",
       "      <td>4.974855</td>\n",
       "      <td>410</td>\n",
       "      <td>402</td>\n",
       "    </tr>\n",
       "  </tbody>\n",
       "</table>\n",
       "</div>"
      ],
      "text/plain": [
       "              BMXBMI                                           \n",
       "                mean                  std             size     \n",
       "RIAGENDRx     Female       Male    Female      Male Female Male\n",
       "agegrp                                                         \n",
       "(18, 30]   28.123881  27.391822  7.745893  6.649440    609  544\n",
       "(30, 40]   30.325586  29.611726  8.315608  6.622412    474  458\n",
       "(40, 50]   31.160643  29.724623  8.076195  6.407076    502  401\n",
       "(50, 60]   30.743777  29.231486  7.575848  5.914373    470  454\n",
       "(60, 70]   31.074828  29.392488  7.604514  5.933307    441  437\n",
       "(70, 80]   29.138213  27.957692  6.284968  4.974855    410  402"
      ]
     },
     "execution_count": 269,
     "metadata": {},
     "output_type": "execute_result"
    }
   ],
   "source": [
    "# Calculate the mean, SD, and sample size for BMI within age/gender groups\n",
    "da[\"agegrp\"] = pd.cut(da.RIDAGEYR, [18, 30, 40, 50, 60, 70, 80])\n",
    "pr = da.groupby([\"agegrp\", \"RIAGENDRx\"]).agg({\"BMXBMI\": [np.mean, np.std, np.size]}).unstack()\n",
    "pr"
   ]
  },
  {
   "cell_type": "code",
   "execution_count": 271,
   "id": "b00018d1-53a8-4565-8297-a0feae983fd6",
   "metadata": {},
   "outputs": [
    {
     "data": {
      "text/html": [
       "<div>\n",
       "<style scoped>\n",
       "    .dataframe tbody tr th:only-of-type {\n",
       "        vertical-align: middle;\n",
       "    }\n",
       "\n",
       "    .dataframe tbody tr th {\n",
       "        vertical-align: top;\n",
       "    }\n",
       "\n",
       "    .dataframe thead tr th {\n",
       "        text-align: left;\n",
       "    }\n",
       "\n",
       "    .dataframe thead tr:last-of-type th {\n",
       "        text-align: right;\n",
       "    }\n",
       "</style>\n",
       "<table border=\"1\" class=\"dataframe\">\n",
       "  <thead>\n",
       "    <tr>\n",
       "      <th></th>\n",
       "      <th colspan=\"8\" halign=\"left\">BMXBMI</th>\n",
       "    </tr>\n",
       "    <tr>\n",
       "      <th></th>\n",
       "      <th colspan=\"2\" halign=\"left\">mean</th>\n",
       "      <th colspan=\"2\" halign=\"left\">std</th>\n",
       "      <th colspan=\"2\" halign=\"left\">size</th>\n",
       "      <th colspan=\"2\" halign=\"left\">sem</th>\n",
       "    </tr>\n",
       "    <tr>\n",
       "      <th>RIAGENDRx</th>\n",
       "      <th>Female</th>\n",
       "      <th>Male</th>\n",
       "      <th>Female</th>\n",
       "      <th>Male</th>\n",
       "      <th>Female</th>\n",
       "      <th>Male</th>\n",
       "      <th>Female</th>\n",
       "      <th>Male</th>\n",
       "    </tr>\n",
       "    <tr>\n",
       "      <th>agegrp</th>\n",
       "      <th></th>\n",
       "      <th></th>\n",
       "      <th></th>\n",
       "      <th></th>\n",
       "      <th></th>\n",
       "      <th></th>\n",
       "      <th></th>\n",
       "      <th></th>\n",
       "    </tr>\n",
       "  </thead>\n",
       "  <tbody>\n",
       "    <tr>\n",
       "      <th>(18, 30]</th>\n",
       "      <td>28.123881</td>\n",
       "      <td>27.391822</td>\n",
       "      <td>7.745893</td>\n",
       "      <td>6.649440</td>\n",
       "      <td>609</td>\n",
       "      <td>544</td>\n",
       "      <td>0.313879</td>\n",
       "      <td>0.285092</td>\n",
       "    </tr>\n",
       "    <tr>\n",
       "      <th>(30, 40]</th>\n",
       "      <td>30.325586</td>\n",
       "      <td>29.611726</td>\n",
       "      <td>8.315608</td>\n",
       "      <td>6.622412</td>\n",
       "      <td>474</td>\n",
       "      <td>458</td>\n",
       "      <td>0.381949</td>\n",
       "      <td>0.309445</td>\n",
       "    </tr>\n",
       "    <tr>\n",
       "      <th>(40, 50]</th>\n",
       "      <td>31.160643</td>\n",
       "      <td>29.724623</td>\n",
       "      <td>8.076195</td>\n",
       "      <td>6.407076</td>\n",
       "      <td>502</td>\n",
       "      <td>401</td>\n",
       "      <td>0.360458</td>\n",
       "      <td>0.319954</td>\n",
       "    </tr>\n",
       "    <tr>\n",
       "      <th>(50, 60]</th>\n",
       "      <td>30.743777</td>\n",
       "      <td>29.231486</td>\n",
       "      <td>7.575848</td>\n",
       "      <td>5.914373</td>\n",
       "      <td>470</td>\n",
       "      <td>454</td>\n",
       "      <td>0.349448</td>\n",
       "      <td>0.277575</td>\n",
       "    </tr>\n",
       "    <tr>\n",
       "      <th>(60, 70]</th>\n",
       "      <td>31.074828</td>\n",
       "      <td>29.392488</td>\n",
       "      <td>7.604514</td>\n",
       "      <td>5.933307</td>\n",
       "      <td>441</td>\n",
       "      <td>437</td>\n",
       "      <td>0.362120</td>\n",
       "      <td>0.283829</td>\n",
       "    </tr>\n",
       "    <tr>\n",
       "      <th>(70, 80]</th>\n",
       "      <td>29.138213</td>\n",
       "      <td>27.957692</td>\n",
       "      <td>6.284968</td>\n",
       "      <td>4.974855</td>\n",
       "      <td>410</td>\n",
       "      <td>402</td>\n",
       "      <td>0.310392</td>\n",
       "      <td>0.248123</td>\n",
       "    </tr>\n",
       "  </tbody>\n",
       "</table>\n",
       "</div>"
      ],
      "text/plain": [
       "              BMXBMI                                                       \\\n",
       "                mean                  std             size            sem   \n",
       "RIAGENDRx     Female       Male    Female      Male Female Male    Female   \n",
       "agegrp                                                                      \n",
       "(18, 30]   28.123881  27.391822  7.745893  6.649440    609  544  0.313879   \n",
       "(30, 40]   30.325586  29.611726  8.315608  6.622412    474  458  0.381949   \n",
       "(40, 50]   31.160643  29.724623  8.076195  6.407076    502  401  0.360458   \n",
       "(50, 60]   30.743777  29.231486  7.575848  5.914373    470  454  0.349448   \n",
       "(60, 70]   31.074828  29.392488  7.604514  5.933307    441  437  0.362120   \n",
       "(70, 80]   29.138213  27.957692  6.284968  4.974855    410  402  0.310392   \n",
       "\n",
       "                     \n",
       "                     \n",
       "RIAGENDRx      Male  \n",
       "agegrp               \n",
       "(18, 30]   0.285092  \n",
       "(30, 40]   0.309445  \n",
       "(40, 50]   0.319954  \n",
       "(50, 60]   0.277575  \n",
       "(60, 70]   0.283829  \n",
       "(70, 80]   0.248123  "
      ]
     },
     "execution_count": 271,
     "metadata": {},
     "output_type": "execute_result"
    }
   ],
   "source": [
    "# Calculate the SEM for females and for males within each age band\n",
    "pr[\"BMXBMI\", \"sem\", \"Female\"] = pr[\"BMXBMI\", \"std\", \"Female\"] / np.sqrt(pr[\"BMXBMI\", \"size\", \"Female\"]) \n",
    "pr[\"BMXBMI\", \"sem\", \"Male\"] = pr[\"BMXBMI\", \"std\", \"Male\"] / np.sqrt(pr[\"BMXBMI\", \"size\", \"Male\"]) \n",
    "pr"
   ]
  },
  {
   "cell_type": "code",
   "execution_count": 273,
   "id": "8c5d2333-d525-4c85-8a7f-067944b49de7",
   "metadata": {},
   "outputs": [
    {
     "data": {
      "text/plain": [
       "1.965912343229391"
      ]
     },
     "execution_count": 273,
     "metadata": {},
     "output_type": "execute_result"
    }
   ],
   "source": [
    "# Conservative value of T*\n",
    "n = min(pr[\"BMXBMI\", \"size\", \"Female\"].min(), pr[\"BMXBMI\", \"size\", \"Male\"].min())\n",
    "from scipy.stats import norm,t\n",
    "T_star_95 = t(df=n-1).ppf(0.975)\n",
    "T_star_95"
   ]
  },
  {
   "cell_type": "code",
   "execution_count": 275,
   "id": "5f18e701-9367-4d2e-84dc-b716d5898080",
   "metadata": {},
   "outputs": [
    {
     "data": {
      "text/html": [
       "<div>\n",
       "<style scoped>\n",
       "    .dataframe tbody tr th:only-of-type {\n",
       "        vertical-align: middle;\n",
       "    }\n",
       "\n",
       "    .dataframe tbody tr th {\n",
       "        vertical-align: top;\n",
       "    }\n",
       "\n",
       "    .dataframe thead tr th {\n",
       "        text-align: left;\n",
       "    }\n",
       "\n",
       "    .dataframe thead tr:last-of-type th {\n",
       "        text-align: right;\n",
       "    }\n",
       "</style>\n",
       "<table border=\"1\" class=\"dataframe\">\n",
       "  <thead>\n",
       "    <tr>\n",
       "      <th></th>\n",
       "      <th colspan=\"12\" halign=\"left\">BMXBMI</th>\n",
       "    </tr>\n",
       "    <tr>\n",
       "      <th></th>\n",
       "      <th colspan=\"2\" halign=\"left\">mean</th>\n",
       "      <th colspan=\"2\" halign=\"left\">std</th>\n",
       "      <th colspan=\"2\" halign=\"left\">size</th>\n",
       "      <th colspan=\"2\" halign=\"left\">sem</th>\n",
       "      <th>mean_diff</th>\n",
       "      <th>sem_diff</th>\n",
       "      <th>lcb_diff</th>\n",
       "      <th>ucb_diff</th>\n",
       "    </tr>\n",
       "    <tr>\n",
       "      <th>RIAGENDRx</th>\n",
       "      <th>Female</th>\n",
       "      <th>Male</th>\n",
       "      <th>Female</th>\n",
       "      <th>Male</th>\n",
       "      <th>Female</th>\n",
       "      <th>Male</th>\n",
       "      <th>Female</th>\n",
       "      <th>Male</th>\n",
       "      <th></th>\n",
       "      <th></th>\n",
       "      <th></th>\n",
       "      <th></th>\n",
       "    </tr>\n",
       "    <tr>\n",
       "      <th>agegrp</th>\n",
       "      <th></th>\n",
       "      <th></th>\n",
       "      <th></th>\n",
       "      <th></th>\n",
       "      <th></th>\n",
       "      <th></th>\n",
       "      <th></th>\n",
       "      <th></th>\n",
       "      <th></th>\n",
       "      <th></th>\n",
       "      <th></th>\n",
       "      <th></th>\n",
       "    </tr>\n",
       "  </thead>\n",
       "  <tbody>\n",
       "    <tr>\n",
       "      <th>(18, 30]</th>\n",
       "      <td>28.123881</td>\n",
       "      <td>27.391822</td>\n",
       "      <td>7.745893</td>\n",
       "      <td>6.649440</td>\n",
       "      <td>609</td>\n",
       "      <td>544</td>\n",
       "      <td>0.313879</td>\n",
       "      <td>0.285092</td>\n",
       "      <td>0.732059</td>\n",
       "      <td>0.424026</td>\n",
       "      <td>-0.101539</td>\n",
       "      <td>1.565657</td>\n",
       "    </tr>\n",
       "    <tr>\n",
       "      <th>(30, 40]</th>\n",
       "      <td>30.325586</td>\n",
       "      <td>29.611726</td>\n",
       "      <td>8.315608</td>\n",
       "      <td>6.622412</td>\n",
       "      <td>474</td>\n",
       "      <td>458</td>\n",
       "      <td>0.381949</td>\n",
       "      <td>0.309445</td>\n",
       "      <td>0.713861</td>\n",
       "      <td>0.491570</td>\n",
       "      <td>-0.252522</td>\n",
       "      <td>1.680244</td>\n",
       "    </tr>\n",
       "    <tr>\n",
       "      <th>(40, 50]</th>\n",
       "      <td>31.160643</td>\n",
       "      <td>29.724623</td>\n",
       "      <td>8.076195</td>\n",
       "      <td>6.407076</td>\n",
       "      <td>502</td>\n",
       "      <td>401</td>\n",
       "      <td>0.360458</td>\n",
       "      <td>0.319954</td>\n",
       "      <td>1.436019</td>\n",
       "      <td>0.481976</td>\n",
       "      <td>0.488497</td>\n",
       "      <td>2.383542</td>\n",
       "    </tr>\n",
       "    <tr>\n",
       "      <th>(50, 60]</th>\n",
       "      <td>30.743777</td>\n",
       "      <td>29.231486</td>\n",
       "      <td>7.575848</td>\n",
       "      <td>5.914373</td>\n",
       "      <td>470</td>\n",
       "      <td>454</td>\n",
       "      <td>0.349448</td>\n",
       "      <td>0.277575</td>\n",
       "      <td>1.512291</td>\n",
       "      <td>0.446275</td>\n",
       "      <td>0.634953</td>\n",
       "      <td>2.389630</td>\n",
       "    </tr>\n",
       "    <tr>\n",
       "      <th>(60, 70]</th>\n",
       "      <td>31.074828</td>\n",
       "      <td>29.392488</td>\n",
       "      <td>7.604514</td>\n",
       "      <td>5.933307</td>\n",
       "      <td>441</td>\n",
       "      <td>437</td>\n",
       "      <td>0.362120</td>\n",
       "      <td>0.283829</td>\n",
       "      <td>1.682340</td>\n",
       "      <td>0.460097</td>\n",
       "      <td>0.777830</td>\n",
       "      <td>2.586851</td>\n",
       "    </tr>\n",
       "    <tr>\n",
       "      <th>(70, 80]</th>\n",
       "      <td>29.138213</td>\n",
       "      <td>27.957692</td>\n",
       "      <td>6.284968</td>\n",
       "      <td>4.974855</td>\n",
       "      <td>410</td>\n",
       "      <td>402</td>\n",
       "      <td>0.310392</td>\n",
       "      <td>0.248123</td>\n",
       "      <td>1.180521</td>\n",
       "      <td>0.397377</td>\n",
       "      <td>0.399312</td>\n",
       "      <td>1.961730</td>\n",
       "    </tr>\n",
       "  </tbody>\n",
       "</table>\n",
       "</div>"
      ],
      "text/plain": [
       "              BMXBMI                                                       \\\n",
       "                mean                  std             size            sem   \n",
       "RIAGENDRx     Female       Male    Female      Male Female Male    Female   \n",
       "agegrp                                                                      \n",
       "(18, 30]   28.123881  27.391822  7.745893  6.649440    609  544  0.313879   \n",
       "(30, 40]   30.325586  29.611726  8.315608  6.622412    474  458  0.381949   \n",
       "(40, 50]   31.160643  29.724623  8.076195  6.407076    502  401  0.360458   \n",
       "(50, 60]   30.743777  29.231486  7.575848  5.914373    470  454  0.349448   \n",
       "(60, 70]   31.074828  29.392488  7.604514  5.933307    441  437  0.362120   \n",
       "(70, 80]   29.138213  27.957692  6.284968  4.974855    410  402  0.310392   \n",
       "\n",
       "                                                             \n",
       "                    mean_diff  sem_diff  lcb_diff  ucb_diff  \n",
       "RIAGENDRx      Male                                          \n",
       "agegrp                                                       \n",
       "(18, 30]   0.285092  0.732059  0.424026 -0.101539  1.565657  \n",
       "(30, 40]   0.309445  0.713861  0.491570 -0.252522  1.680244  \n",
       "(40, 50]   0.319954  1.436019  0.481976  0.488497  2.383542  \n",
       "(50, 60]   0.277575  1.512291  0.446275  0.634953  2.389630  \n",
       "(60, 70]   0.283829  1.682340  0.460097  0.777830  2.586851  \n",
       "(70, 80]   0.248123  1.180521  0.397377  0.399312  1.961730  "
      ]
     },
     "execution_count": 275,
     "metadata": {},
     "output_type": "execute_result"
    }
   ],
   "source": [
    "# Calculate the mean difference of BMI between females and males within each age band, also  calculate\n",
    "# its SE and the lower and upper limits of its 95% CI.\n",
    "pr[\"BMXBMI\", \"mean_diff\", \"\"] = pr[\"BMXBMI\", \"mean\", \"Female\"] - pr[\"BMXBMI\", \"mean\", \"Male\"]\n",
    "pr[\"BMXBMI\", \"sem_diff\", \"\"] = np.sqrt(pr[\"BMXBMI\", \"sem\", \"Female\"]**2 + pr[\"BMXBMI\", \"sem\", \"Male\"]**2) \n",
    "pr[\"BMXBMI\", \"lcb_diff\", \"\"] = pr[\"BMXBMI\", \"mean_diff\", \"\"] - T_star_95 * pr[\"BMXBMI\", \"sem_diff\", \"\"] \n",
    "pr[\"BMXBMI\", \"ucb_diff\", \"\"] = pr[\"BMXBMI\", \"mean_diff\", \"\"] + T_star_95 * pr[\"BMXBMI\", \"sem_diff\", \"\"]\n",
    "pr"
   ]
  },
  {
   "cell_type": "code",
   "execution_count": 276,
   "id": "f3e34434-63b3-4b3f-8b3b-a133c072840b",
   "metadata": {},
   "outputs": [
    {
     "data": {
      "text/plain": [
       "Text(0, 0.5, 'Female - Male BMI difference')"
      ]
     },
     "execution_count": 276,
     "metadata": {},
     "output_type": "execute_result"
    },
    {
     "data": {
      "image/png": "[encoded data removed]",
      "text/plain": [
       "<Figure size 432x288 with 1 Axes>"
      ]
     },
     "metadata": {
      "needs_background": "light"
     },
     "output_type": "display_data"
    }
   ],
   "source": [
    "# Plot the mean difference in black and the confidence limits in blue\n",
    "x = np.arange(pr.shape[0]) # age ranges\n",
    "pp = sns.pointplot(x=x, y=pr[\"BMXBMI\", \"mean_diff\", \"\"], color='black')\n",
    "sns.pointplot(x=x, y=pr[\"BMXBMI\", \"lcb_diff\", \"\"], color='blue')\n",
    "sns.pointplot(x=x, y=pr[\"BMXBMI\", \"ucb_diff\", \"\"], color='blue')\n",
    "pp.set_xticklabels(pr.index)\n",
    "pp.set_xlabel(\"Age group\")\n",
    "pp.set_ylabel(\"Female - Male BMI difference\")"
   ]
  },
  {
   "cell_type": "code",
   "execution_count": 277,
   "id": "12744295-feb6-4017-a769-6d2581805513",
   "metadata": {},
   "outputs": [
    {
     "name": "stdout",
     "output_type": "stream",
     "text": [
      "              BMXBMI                                                       \\\n",
      "                mean                  std             size            sem   \n",
      "RIAGENDRx     Female       Male    Female      Male Female Male    Female   \n",
      "agegrp                                                                      \n",
      "(18, 30]   28.123881  27.391822  7.745893  6.649440    609  544  0.313879   \n",
      "(30, 40]   30.325586  29.611726  8.315608  6.622412    474  458  0.381949   \n",
      "(40, 50]   31.160643  29.724623  8.076195  6.407076    502  401  0.360458   \n",
      "(50, 60]   30.743777  29.231486  7.575848  5.914373    470  454  0.349448   \n",
      "(60, 70]   31.074828  29.392488  7.604514  5.933307    441  437  0.362120   \n",
      "(70, 80]   29.138213  27.957692  6.284968  4.974855    410  402  0.310392   \n",
      "\n",
      "                                                             \n",
      "                    mean_diff  sem_diff  lcb_diff  ucb_diff  \n",
      "RIAGENDRx      Male                                          \n",
      "agegrp                                                       \n",
      "(18, 30]   0.285092  0.732059  0.424026 -0.101539  1.565657  \n",
      "(30, 40]   0.309445  0.713861  0.491570 -0.252522  1.680244  \n",
      "(40, 50]   0.319954  1.436019  0.481976  0.488497  2.383542  \n",
      "(50, 60]   0.277575  1.512291  0.446275  0.634953  2.389630  \n",
      "(60, 70]   0.283829  1.682340  0.460097  0.777830  2.586851  \n",
      "(70, 80]   0.248123  1.180521  0.397377  0.399312  1.961730  \n"
     ]
    }
   ],
   "source": [
    "print(pr)"
   ]
  },
  {
   "cell_type": "markdown",
   "id": "798d46e8-4e10-4b92-94b5-7f70f4454e21",
   "metadata": {},
   "source": [
    "### 7.2 Confidence Intervals and Samples Size"
   ]
  },
  {
   "cell_type": "markdown",
   "id": "93de9f3b-4528-4f37-aa9b-33fde1441663",
   "metadata": {},
   "source": [
    "As sample size increases, the confidence interval shrinks, because we have more precision."
   ]
  },
  {
   "cell_type": "code",
   "execution_count": 174,
   "id": "27dfbd28-6795-443f-a8eb-f3882de64bc7",
   "metadata": {},
   "outputs": [
    {
     "name": "stdout",
     "output_type": "stream",
     "text": [
      "100 3.0342843196354714\n",
      "200 2.149571115202395\n",
      "400 1.5195890295943926\n",
      "800 1.074859862663633\n"
     ]
    }
   ],
   "source": [
    "# Samples of size 100, 200, 400, 800 taken randomly 500x each.\n",
    "# The mean and its CI are built.\n",
    "# The span of the CI (LCB, UCB) is shown: it decreases with the sample size.\n",
    "dx = da.loc[da.RIAGENDRx==\"Female\", [\"RIAGENDRx\", \"BMXBMI\"]].dropna()\n",
    "all_cis = []\n",
    "for n in 100, 200, 400, 800:\n",
    "    cis = []\n",
    "    for i in range(500):\n",
    "        dz = dx.sample(n)\n",
    "        ci = sm.stats.DescrStatsW(dz.BMXBMI).zconfint_mean()\n",
    "        cis.append(ci)\n",
    "    cis = np.asarray(cis)\n",
    "    mean_width = cis[:, 1].mean() - cis[:, 0].mean()\n",
    "    print(n, mean_width)\n",
    "    all_cis.append(cis)"
   ]
  },
  {
   "cell_type": "code",
   "execution_count": 175,
   "id": "9c6daef2-9edc-471b-958b-be885b171068",
   "metadata": {},
   "outputs": [],
   "source": [
    "from matplotlib import pyplot as plt"
   ]
  },
  {
   "cell_type": "code",
   "execution_count": 176,
   "id": "eec15d65-4801-4cdf-b8cd-278f2f36b61b",
   "metadata": {},
   "outputs": [
    {
     "data": {
      "text/plain": [
       "[<matplotlib.lines.Line2D at 0x7fa1609e49d0>]"
      ]
     },
     "execution_count": 176,
     "metadata": {},
     "output_type": "execute_result"
    },
    {
     "data": {
      "image/png": "[encoded data removed]",
      "text/plain": [
       "<Figure size 432x288 with 1 Axes>"
      ]
     },
     "metadata": {
      "needs_background": "light"
     },
     "output_type": "display_data"
    }
   ],
   "source": [
    "# Al confidence intervals plotted\n",
    "# Population mean plotted\n",
    "ci = all_cis[0]\n",
    "for j, x in enumerate(ci):\n",
    "    plt.plot([j, j], x, color='grey')\n",
    "    plt.gca().set_ylabel(\"BMI\")\n",
    "mn = dx.BMXBMI.mean()\n",
    "plt.plot([0, 500], [mn, mn], color='red')"
   ]
  },
  {
   "cell_type": "code",
   "execution_count": 177,
   "id": "acbdec0d-1b3d-42b1-9d01-5edec555d919",
   "metadata": {},
   "outputs": [
    {
     "name": "stdout",
     "output_type": "stream",
     "text": [
      "0.034\n",
      "0.016\n"
     ]
    }
   ],
   "source": [
    "# How many times is the real mean outside from the boundaries?\n",
    "print(np.mean(ci[:, 1] < mn)) # Upper limit falls below the target\n",
    "print(np.mean(ci[:, 0] > mn)) # Lower limit falls above the target"
   ]
  },
  {
   "cell_type": "code",
   "execution_count": null,
   "id": "03d3f708-3a85-40ce-a996-82a48212eea1",
   "metadata": {},
   "outputs": [],
   "source": []
  }
 ],
 "metadata": {
  "kernelspec": {
   "display_name": "Python 3 (ipykernel)",
   "language": "python",
   "name": "python3"
  },
  "language_info": {
   "codemirror_mode": {
    "name": "ipython",
    "version": 3
   },
   "file_extension": ".py",
   "mimetype": "text/x-python",
   "name": "python",
   "nbconvert_exporter": "python",
   "pygments_lexer": "ipython3",
   "version": "3.7.11"
  }
 },
 "nbformat": 4,
 "nbformat_minor": 5
}
