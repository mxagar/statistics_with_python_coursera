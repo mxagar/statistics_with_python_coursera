{
 "cells": [
  {
   "cell_type": "markdown",
   "id": "4aface90-6ed5-45a5-8280-64f66f561e8d",
   "metadata": {},
   "source": [
    "# Confidence Intervals: Examples"
   ]
  },
  {
   "cell_type": "markdown",
   "id": "1b466d04-2d4d-4389-b916-d908adfbe7bb",
   "metadata": {},
   "source": [
    "This notebook collects practical exercises of the concepts introduced in the course videos.\n",
    "\n",
    "Overview of contents:\n",
    "\n",
    "1. Definitions\n",
    "2. Personal Notes: Using Distributions with Scipy\n",
    "3. CI of One Proportion\n",
    "4. CI of One Mean\n",
    "5. **Cleaning and Preparing Datasets (for Two Groups): `crosstab`, `groupby.agg`**\n",
    "6. CI of Two Proportions: Smokers vs Non-Smokers in Males & Females\n",
    "7. CI of Two Means: BMI mean in Males & Females"
   ]
  },
  {
   "cell_type": "markdown",
   "id": "f142346e-1637-4b47-b09b-407bd4a8dc47",
   "metadata": {},
   "source": [
    "## 1. Definitions"
   ]
  },
  {
   "cell_type": "markdown",
   "id": "2986a4cc-e58d-4f40-bf05-94dee78fb13a",
   "metadata": {},
   "source": [
    "We must distinguish between:\n",
    "- Pupulation: the real total group of subjects we want to measure.\n",
    "- Sample: the subset of the population we really measure, due to economical limits; measurements are assumed to be independent and identically distirbuted (iid.).\n",
    "\n",
    "Even though we measure the sample, we can infer parameters of a population with confidence intervals (CI) defined around a best parameter estimate we have.\n",
    "\n",
    "Note that we distinguish also\n",
    "- Sample distribution: the distirbution of the data we have collected. We can compute parameters of it: mean, meadia, variance, proportions, etc.\n",
    "- Sampling distribution: if define many iid. samples from the population and compute a parameter, the distribution of that parameter is the sampling distirbution. Accorsing to the Central Limit Theorem (CLT) it tends to be normal.\n",
    "\n",
    "Having a confidenfe interval of 95% means that if we draw 100 independent samples and compute the parameter and its CI with the same method, 95 of the CIs will contain the real paramater of the population. Thus, the confidence is associated to the method we use.\n",
    "\n",
    "In general, we use the following formula for the computation of the CI:\n",
    "\n",
    "`Confidence Interval` = `Best Estimate` $\\pm$ `Margin of Error`\n",
    "\n",
    "The terms are obtained as follows:\n",
    "\n",
    "- The `Best Estimate` is the parameter of our sample: sample mean, sample proportion.\n",
    "- The `Margin of Error` is `K x Estimated Standard Error`; that is, `K` is how many standard errors we want to cover in the sampling distribution.\n",
    "- `K` is defined as the value that covers X% in a symmetric Z or T distirbution; generally, `Z*(95%)` or `T*(95%,df=n-1)` are taken. Note that `Z*(95%) = 1.96`. The T distirbution tends to be Z with large sample sizes `n`.\n",
    "- `Estimated Standard Error = sqrt(var(sample parameter) / n)`\n"
   ]
  },
  {
   "cell_type": "markdown",
   "id": "d264e4a2-87ca-40ac-8482-09fcf6494ca2",
   "metadata": {},
   "source": [
    "## 2. Personal Notes: Using Distributions with Scipy"
   ]
  },
  {
   "cell_type": "markdown",
   "id": "0c3cf752-09f2-479f-b6d3-f1a5666496c3",
   "metadata": {},
   "source": [
    "In the course videos, fixed values are used for `Z*(95%)` and `T*(95%,df)`. However, it is possible to obtain exact values with `scipy`.\n",
    "\n",
    "For the CI computation, note that the `95%` coverage in the chosen distribution is two-sided; the significance level `alpha` related to that CI would be: `1 - alpha = 0.95 -> alpha = 0.05`. However, when we look in tables, that two-sided symmetry is not considered: we get `1 - alpha = P(x < v)`; instead, we would like: `1 - alpha = P(-v < x < v)`. In a symmetric distirbution, that can be intuitively achieved taking `1 - alpha/2 = P(x < v)`!"
   ]
  },
  {
   "cell_type": "code",
   "execution_count": 24,
   "id": "a2e3d46c-4246-4604-aab4-dc3f4e4c8b43",
   "metadata": {},
   "outputs": [],
   "source": [
    "from scipy.stats import norm,t"
   ]
  },
  {
   "cell_type": "code",
   "execution_count": 25,
   "id": "1d77ebfe-9fd5-4004-973a-b6a5da8001d7",
   "metadata": {},
   "outputs": [
    {
     "name": "stdout",
     "output_type": "stream",
     "text": [
      "2.2281388519649385\n"
     ]
    }
   ],
   "source": [
    "# Confidence 95% -> significane level alpha = 0.05\n",
    "# Since we have two sides, we need to consider: alpha/2 = 0.05/2\n",
    "# Thus, the percentage we look is: 1 - alpha/2 = 0.975\n",
    "T_star_95 = t(df=10).ppf(0.975)\n",
    "print(T_star_95)"
   ]
  },
  {
   "cell_type": "code",
   "execution_count": 26,
   "id": "f177542b-4f78-42d1-b8f0-99ad263e2348",
   "metadata": {},
   "outputs": [
    {
     "name": "stdout",
     "output_type": "stream",
     "text": [
      "1.959963984540054\n"
     ]
    }
   ],
   "source": [
    "Z_star_95 = norm.ppf(0.975)\n",
    "print(Z_star_95)"
   ]
  },
  {
   "cell_type": "markdown",
   "id": "0b82777c-2eaa-49df-9c40-e3d851707cbb",
   "metadata": {},
   "source": [
    "### 2.1 Further Notes on How to Use Distributions"
   ]
  },
  {
   "cell_type": "markdown",
   "id": "a4e2735e-f2f4-4759-ab9e-88c66030830a",
   "metadata": {},
   "source": [
    "Load distributions:\n",
    "```python\n",
    "from scipy.stats import binom,norm,cauchy\n",
    "```\n",
    "Instantiate a distribution with its parameters:\n",
    "```python    \n",
    "dist = binom(n, b)\n",
    "dist = norm(m, s)\n",
    "dist = cauchy(z, g)\n",
    "...\n",
    "```\n",
    "\n",
    "Distributions have usually at least the `loc` and `scale` parameters, which are often related to the `mean` and `stddev`.\n",
    "\n",
    "Get data:\n",
    "```python\n",
    "dist.rvs(N) # N random variables of the distribution\n",
    "dist.pmf(x) # Probability Mass Function at values x for discrete distributions\n",
    "dist.pdf(x) # Probability Density Function at values x for continuous distributions\n",
    "dist.cdf(x) # Cumulative Distribution Function at values x for any distribution\n",
    "dist.ppf(q) # Percent point function (inverse of `cdf`) at q (% of accumulated area) of the given RV\n",
    "```\n",
    "Note:\n",
    "- `dist.cdf(v)` = $P (x < v)$; $P(x < \\infty) = 1$\n",
    "- `dist.ppf(q)` = $v | P(x < v) = q$\n",
    "\n",
    "Fitting data to a distribution:\n",
    "```python\n",
    "# Choose distrbution or iterate through a set of candidates\n",
    "# Data: replace this with real dataset\n",
    "data = dist.rvs(10)\n",
    "# Fit\n",
    "params = dist.fit(data)\n",
    "# Separate parts of parameters\n",
    "arg = params[:-2]\n",
    "loc = params[-2]\n",
    "scale = params[-1]\n",
    "# Calculate fitted PDF and error with fit in distribution\n",
    "pdf = dist.pdf(x, loc=loc, scale=scale, *arg)\n",
    "sse = np.sum(np.power(y - pdf, 2.0))\n",
    "```\n",
    "\n",
    "Get parameters:\n",
    "```python\n",
    "params = dist.stats() # Mean(‘m’), variance(‘v’), skew(‘s’), and/or kurtosis(‘k’)\n",
    "m = dist.mean()\n",
    "std = dist.std()\n",
    "...\n",
    "```\n",
    "\n",
    "Documentation:\n",
    "\n",
    "    help(scipy.stat)\n",
    "    https://docs.scipy.org/doc/scipy/reference/index.html"
   ]
  },
  {
   "cell_type": "markdown",
   "id": "a5b0fb98-fbcd-4ae4-88b9-b3a8f405f14a",
   "metadata": {},
   "source": [
    "## 3. CI of One Proportion"
   ]
  },
  {
   "cell_type": "markdown",
   "id": "0097bbb0-98b4-4d72-a136-07e58b8c7329",
   "metadata": {},
   "source": [
    "$$Standard\\ Error \\ for\\ Population\\ Proportion = \\sqrt{\\frac{Population\\ Proportion * (1 - Population\\ Proportion)}{Number\\ Of\\ Observations}}$$"
   ]
  },
  {
   "cell_type": "markdown",
   "id": "ba82c9e6-3070-4949-b6b9-d8f9c79caad8",
   "metadata": {},
   "source": [
    "Example: a hospital polls toddler parents whether they use a car seat. The estimated parameter is the proportion of parents who use a car seat. Data:\n",
    "- `n = 659` parents sampled.\n",
    "- 540 responded 'yes'."
   ]
  },
  {
   "cell_type": "markdown",
   "id": "78df8e8e-53fb-4ca4-b23a-d3fd83b1a994",
   "metadata": {},
   "source": [
    "### Manual Computation"
   ]
  },
  {
   "cell_type": "code",
   "execution_count": 27,
   "id": "d1647669-f01e-403c-9189-101787c34ce2",
   "metadata": {},
   "outputs": [],
   "source": [
    "import numpy as np"
   ]
  },
  {
   "cell_type": "code",
   "execution_count": 42,
   "id": "dc554f12-610c-40e9-9626-902842383b75",
   "metadata": {},
   "outputs": [
    {
     "data": {
      "text/plain": [
       "0.014984499401390045"
      ]
     },
     "execution_count": 42,
     "metadata": {},
     "output_type": "execute_result"
    }
   ],
   "source": [
    "# T*: See above, how to compute it with scipy\n",
    "tstar = 1.96\n",
    "# Sample size\n",
    "n = 659.0\n",
    "# Proportion\n",
    "p = 540.0/n\n",
    "# Standard Error\n",
    "se = np.sqrt((p * (1 - p))/n)\n",
    "se"
   ]
  },
  {
   "cell_type": "code",
   "execution_count": 43,
   "id": "b1dc0422-e8be-4405-bdf7-5108ca5cfcb1",
   "metadata": {},
   "outputs": [
    {
     "data": {
      "text/plain": [
       "(0.7900537499137914, 0.8487929875672404)"
      ]
     },
     "execution_count": 43,
     "metadata": {},
     "output_type": "execute_result"
    }
   ],
   "source": [
    "# Lower and Upper Bounds\n",
    "lcb = p - tstar * se\n",
    "ucb = p + tstar * se\n",
    "(lcb, ucb)"
   ]
  },
  {
   "cell_type": "markdown",
   "id": "279d0a8a-b0ac-474c-999f-382c1a390ec5",
   "metadata": {},
   "source": [
    "### CI Computation with Statsmodels"
   ]
  },
  {
   "cell_type": "code",
   "execution_count": 30,
   "id": "b5fb7bc1-88f9-46ee-8f9f-9930349cc47e",
   "metadata": {},
   "outputs": [],
   "source": [
    "import statsmodels.api as sm"
   ]
  },
  {
   "cell_type": "code",
   "execution_count": 31,
   "id": "b82b4b45-1492-4615-b35d-93804a577492",
   "metadata": {},
   "outputs": [
    {
     "data": {
      "text/plain": [
       "(0.8227378265796143, 0.8772621734203857)"
      ]
     },
     "execution_count": 31,
     "metadata": {},
     "output_type": "execute_result"
    }
   ],
   "source": [
    "sm.stats.proportion_confint(n * p, n)"
   ]
  },
  {
   "cell_type": "markdown",
   "id": "6ad8ad66-2b1e-4f40-90b5-2dc348f4d85d",
   "metadata": {},
   "source": [
    "## 4. CI of One Mean"
   ]
  },
  {
   "cell_type": "markdown",
   "id": "952a4971-234d-4f9f-ac2c-6e4f2a4463e0",
   "metadata": {},
   "source": [
    "$$Standard\\ Error \\ for\\ Mean = \\frac{Standard\\ Deviation}{\\sqrt{Number\\ Of\\ Observations}}$$"
   ]
  },
  {
   "cell_type": "markdown",
   "id": "3d07097b-740c-4b05-8253-265a3aff42c3",
   "metadata": {},
   "source": [
    "Example (Cartwheel dataset): What is the **average** cartwheel distance (in inches) for adults? (distance from the forward foot before performing the cartwheel to the final foot after performing it)."
   ]
  },
  {
   "cell_type": "code",
   "execution_count": 32,
   "id": "275152a5-eea4-47ec-ba18-73749767e18e",
   "metadata": {},
   "outputs": [],
   "source": [
    "import pandas as pd"
   ]
  },
  {
   "cell_type": "code",
   "execution_count": 33,
   "id": "6f7f5be7-0ed4-47d4-b80d-c8defbe39d01",
   "metadata": {},
   "outputs": [],
   "source": [
    "df = pd.read_csv(\"Cartwheeldata.csv\")"
   ]
  },
  {
   "cell_type": "code",
   "execution_count": 34,
   "id": "fd89b8d6-4168-4b24-a7f8-e76398a67047",
   "metadata": {},
   "outputs": [
    {
     "data": {
      "text/html": [
       "<div>\n",
       "<style scoped>\n",
       "    .dataframe tbody tr th:only-of-type {\n",
       "        vertical-align: middle;\n",
       "    }\n",
       "\n",
       "    .dataframe tbody tr th {\n",
       "        vertical-align: top;\n",
       "    }\n",
       "\n",
       "    .dataframe thead th {\n",
       "        text-align: right;\n",
       "    }\n",
       "</style>\n",
       "<table border=\"1\" class=\"dataframe\">\n",
       "  <thead>\n",
       "    <tr style=\"text-align: right;\">\n",
       "      <th></th>\n",
       "      <th>ID</th>\n",
       "      <th>Age</th>\n",
       "      <th>Gender</th>\n",
       "      <th>GenderGroup</th>\n",
       "      <th>Glasses</th>\n",
       "      <th>GlassesGroup</th>\n",
       "      <th>Height</th>\n",
       "      <th>Wingspan</th>\n",
       "      <th>CWDistance</th>\n",
       "      <th>Complete</th>\n",
       "      <th>CompleteGroup</th>\n",
       "      <th>Score</th>\n",
       "    </tr>\n",
       "  </thead>\n",
       "  <tbody>\n",
       "    <tr>\n",
       "      <th>0</th>\n",
       "      <td>1</td>\n",
       "      <td>56</td>\n",
       "      <td>F</td>\n",
       "      <td>1</td>\n",
       "      <td>Y</td>\n",
       "      <td>1</td>\n",
       "      <td>62.0</td>\n",
       "      <td>61.0</td>\n",
       "      <td>79</td>\n",
       "      <td>Y</td>\n",
       "      <td>1</td>\n",
       "      <td>7</td>\n",
       "    </tr>\n",
       "    <tr>\n",
       "      <th>1</th>\n",
       "      <td>2</td>\n",
       "      <td>26</td>\n",
       "      <td>F</td>\n",
       "      <td>1</td>\n",
       "      <td>Y</td>\n",
       "      <td>1</td>\n",
       "      <td>62.0</td>\n",
       "      <td>60.0</td>\n",
       "      <td>70</td>\n",
       "      <td>Y</td>\n",
       "      <td>1</td>\n",
       "      <td>8</td>\n",
       "    </tr>\n",
       "    <tr>\n",
       "      <th>2</th>\n",
       "      <td>3</td>\n",
       "      <td>33</td>\n",
       "      <td>F</td>\n",
       "      <td>1</td>\n",
       "      <td>Y</td>\n",
       "      <td>1</td>\n",
       "      <td>66.0</td>\n",
       "      <td>64.0</td>\n",
       "      <td>85</td>\n",
       "      <td>Y</td>\n",
       "      <td>1</td>\n",
       "      <td>7</td>\n",
       "    </tr>\n",
       "    <tr>\n",
       "      <th>3</th>\n",
       "      <td>4</td>\n",
       "      <td>39</td>\n",
       "      <td>F</td>\n",
       "      <td>1</td>\n",
       "      <td>N</td>\n",
       "      <td>0</td>\n",
       "      <td>64.0</td>\n",
       "      <td>63.0</td>\n",
       "      <td>87</td>\n",
       "      <td>Y</td>\n",
       "      <td>1</td>\n",
       "      <td>10</td>\n",
       "    </tr>\n",
       "    <tr>\n",
       "      <th>4</th>\n",
       "      <td>5</td>\n",
       "      <td>27</td>\n",
       "      <td>M</td>\n",
       "      <td>2</td>\n",
       "      <td>N</td>\n",
       "      <td>0</td>\n",
       "      <td>73.0</td>\n",
       "      <td>75.0</td>\n",
       "      <td>72</td>\n",
       "      <td>N</td>\n",
       "      <td>0</td>\n",
       "      <td>4</td>\n",
       "    </tr>\n",
       "  </tbody>\n",
       "</table>\n",
       "</div>"
      ],
      "text/plain": [
       "   ID  Age Gender  GenderGroup Glasses  GlassesGroup  Height  Wingspan  \\\n",
       "0   1   56      F            1       Y             1    62.0      61.0   \n",
       "1   2   26      F            1       Y             1    62.0      60.0   \n",
       "2   3   33      F            1       Y             1    66.0      64.0   \n",
       "3   4   39      F            1       N             0    64.0      63.0   \n",
       "4   5   27      M            2       N             0    73.0      75.0   \n",
       "\n",
       "   CWDistance Complete  CompleteGroup  Score  \n",
       "0          79        Y              1      7  \n",
       "1          70        Y              1      8  \n",
       "2          85        Y              1      7  \n",
       "3          87        Y              1     10  \n",
       "4          72        N              0      4  "
      ]
     },
     "execution_count": 34,
     "metadata": {},
     "output_type": "execute_result"
    }
   ],
   "source": [
    "df.head()"
   ]
  },
  {
   "cell_type": "code",
   "execution_count": 36,
   "id": "7026faeb-3369-420b-8ce4-8109dd37b26a",
   "metadata": {},
   "outputs": [
    {
     "name": "stdout",
     "output_type": "stream",
     "text": [
      "25\n"
     ]
    }
   ],
   "source": [
    "mean = df[\"CWDistance\"].mean()\n",
    "sd = df[\"CWDistance\"].std()\n",
    "n = len(df)\n",
    "print(n)"
   ]
  },
  {
   "cell_type": "markdown",
   "id": "ad2c378f-e7a2-4ce9-8eb8-f8049cb6ce24",
   "metadata": {},
   "source": [
    "### Manual Computation"
   ]
  },
  {
   "cell_type": "code",
   "execution_count": 37,
   "id": "06610afe-5eba-4894-8d79-d2bd2136659b",
   "metadata": {},
   "outputs": [
    {
     "name": "stdout",
     "output_type": "stream",
     "text": [
      "3.0117104774529713\n"
     ]
    }
   ],
   "source": [
    "tstar = 2.064\n",
    "se = sd/np.sqrt(n)\n",
    "print(se)"
   ]
  },
  {
   "cell_type": "code",
   "execution_count": 38,
   "id": "7e0063ec-a30d-483a-b781-a7502782b7b8",
   "metadata": {},
   "outputs": [
    {
     "data": {
      "text/plain": [
       "(76.26382957453707, 88.69617042546294)"
      ]
     },
     "execution_count": 38,
     "metadata": {},
     "output_type": "execute_result"
    }
   ],
   "source": [
    "lcb = mean - tstar * se\n",
    "ucb = mean + tstar * se\n",
    "(lcb, ucb)"
   ]
  },
  {
   "cell_type": "markdown",
   "id": "b1020cb9-c562-4948-82c2-8ca4b523cb54",
   "metadata": {},
   "source": [
    "### Computation with Statsmodels"
   ]
  },
  {
   "cell_type": "code",
   "execution_count": 39,
   "id": "6238aaa4-963a-492d-876b-0c8fe00e397a",
   "metadata": {},
   "outputs": [
    {
     "data": {
      "text/plain": [
       "(76.57715593233026, 88.38284406766975)"
      ]
     },
     "execution_count": 39,
     "metadata": {},
     "output_type": "execute_result"
    }
   ],
   "source": [
    "sm.stats.DescrStatsW(df[\"CWDistance\"]).zconfint_mean()"
   ]
  },
  {
   "cell_type": "markdown",
   "id": "82de6dab-6ddd-4a3a-91ef-2bec70feaf3d",
   "metadata": {},
   "source": [
    "## 5. Cleaning and Preparing Datasets (for Two Groups): `crosstab`, `groupby.agg`"
   ]
  },
  {
   "cell_type": "markdown",
   "id": "077861a5-05a4-474e-99af-a79534d63f00",
   "metadata": {},
   "source": [
    "In order to compute **proportions or means in for several categories**, some steps need to be taken with `pandas`:\n",
    "\n",
    "- Data must be cleaned (`np.nan`) and often category names are changed (gender, yes/no, etc.).\n",
    "- Cross-tables must be created with `pd.crosstab` and `pd.groupby().agg()`: these summarize proportions, means, sizes for two categories/groups from the same categorical variable.\n",
    "\n",
    "Examples with the NHANES dataset analyzed in the next sections are prepared in this section; these examples are:\n",
    "1. Compare proportions of smokers and non-smokers for males & females.\n",
    "2. Compare means of BMI for males & females."
   ]
  },
  {
   "cell_type": "code",
   "execution_count": 100,
   "id": "bbf89e56-9ccb-41d4-ad4c-35460c7591f7",
   "metadata": {},
   "outputs": [],
   "source": [
    "import pandas as pd\n",
    "import numpy as np\n",
    "#import statsmodels.api as sm"
   ]
  },
  {
   "cell_type": "code",
   "execution_count": 45,
   "id": "adc7b8d1-07cb-40c0-9cc4-7182a2a433a3",
   "metadata": {},
   "outputs": [],
   "source": [
    "url = \"nhanes_2015_2016.csv\"\n",
    "da = pd.read_csv(url)"
   ]
  },
  {
   "cell_type": "code",
   "execution_count": 46,
   "id": "b9a8e10b-7528-421e-898d-84f8c4e79a37",
   "metadata": {},
   "outputs": [
    {
     "data": {
      "text/plain": [
       "0    Yes\n",
       "1    Yes\n",
       "2    Yes\n",
       "3     No\n",
       "4     No\n",
       "Name: SMQ020x, dtype: object"
      ]
     },
     "execution_count": 46,
     "metadata": {},
     "output_type": "execute_result"
    }
   ],
   "source": [
    "# Recode SMQ020 from 1/2 to Yes/No into new variable SMQ020x\n",
    "da[\"SMQ020x\"] = da.SMQ020.replace({1: \"Yes\", 2: \"No\", 7: np.nan, 9: np.nan})\n",
    "da[\"SMQ020x\"].head()"
   ]
  },
  {
   "cell_type": "code",
   "execution_count": 47,
   "id": "6ad145ad-a4d6-4bfd-b2aa-0998d5e6701f",
   "metadata": {},
   "outputs": [
    {
     "data": {
      "text/plain": [
       "0      Male\n",
       "1      Male\n",
       "2      Male\n",
       "3    Female\n",
       "4    Female\n",
       "Name: RIAGENDRx, dtype: object"
      ]
     },
     "execution_count": 47,
     "metadata": {},
     "output_type": "execute_result"
    }
   ],
   "source": [
    "# Recode RIAGENDR from 1/2 to Male/Female into new variable RIAGENDRx\n",
    "da[\"RIAGENDRx\"] = da.RIAGENDR.replace({1: \"Male\", 2: \"Female\"})\n",
    "da[\"RIAGENDRx\"].head()"
   ]
  },
  {
   "cell_type": "code",
   "execution_count": 52,
   "id": "6b973a54-4a0a-4a90-b6cc-16ad12a9123b",
   "metadata": {},
   "outputs": [
    {
     "data": {
      "text/html": [
       "<div>\n",
       "<style scoped>\n",
       "    .dataframe tbody tr th:only-of-type {\n",
       "        vertical-align: middle;\n",
       "    }\n",
       "\n",
       "    .dataframe tbody tr th {\n",
       "        vertical-align: top;\n",
       "    }\n",
       "\n",
       "    .dataframe thead th {\n",
       "        text-align: right;\n",
       "    }\n",
       "</style>\n",
       "<table border=\"1\" class=\"dataframe\">\n",
       "  <thead>\n",
       "    <tr style=\"text-align: right;\">\n",
       "      <th>RIAGENDRx</th>\n",
       "      <th>Female</th>\n",
       "      <th>Male</th>\n",
       "    </tr>\n",
       "    <tr>\n",
       "      <th>SMQ020x</th>\n",
       "      <th></th>\n",
       "      <th></th>\n",
       "    </tr>\n",
       "  </thead>\n",
       "  <tbody>\n",
       "    <tr>\n",
       "      <th>No</th>\n",
       "      <td>2066</td>\n",
       "      <td>1340</td>\n",
       "    </tr>\n",
       "    <tr>\n",
       "      <th>Yes</th>\n",
       "      <td>906</td>\n",
       "      <td>1413</td>\n",
       "    </tr>\n",
       "  </tbody>\n",
       "</table>\n",
       "</div>"
      ],
      "text/plain": [
       "RIAGENDRx  Female  Male\n",
       "SMQ020x                \n",
       "No           2066  1340\n",
       "Yes           906  1413"
      ]
     },
     "execution_count": 52,
     "metadata": {},
     "output_type": "execute_result"
    }
   ],
   "source": [
    "# Cross-Table: Very useful for counting/frequencies of different groups\n",
    "dx = da[[\"SMQ020x\", \"RIAGENDRx\"]].dropna()\n",
    "pd.crosstab(dx.SMQ020x, dx.RIAGENDRx)"
   ]
  },
  {
   "cell_type": "code",
   "execution_count": 54,
   "id": "572cc660-1aa7-4c36-8f69-4b646cd6ef46",
   "metadata": {},
   "outputs": [],
   "source": [
    "# Recode (again) SMQ020x from Yes/No to 1/0 into existing variable SMQ020x\n",
    "# We recode is again because with 1/0, the mean yields the proportion :)\n",
    "dx[\"SMQ020x\"] = dx.SMQ020x.replace({\"Yes\": 1, \"No\": 0})"
   ]
  },
  {
   "cell_type": "code",
   "execution_count": 62,
   "id": "15e79294-5b2f-4278-9a35-a70c4266116d",
   "metadata": {},
   "outputs": [
    {
     "data": {
      "text/html": [
       "<div>\n",
       "<style scoped>\n",
       "    .dataframe tbody tr th:only-of-type {\n",
       "        vertical-align: middle;\n",
       "    }\n",
       "\n",
       "    .dataframe tbody tr th {\n",
       "        vertical-align: top;\n",
       "    }\n",
       "\n",
       "    .dataframe thead th {\n",
       "        text-align: right;\n",
       "    }\n",
       "</style>\n",
       "<table border=\"1\" class=\"dataframe\">\n",
       "  <thead>\n",
       "    <tr style=\"text-align: right;\">\n",
       "      <th></th>\n",
       "      <th>Proportion</th>\n",
       "      <th>n</th>\n",
       "    </tr>\n",
       "    <tr>\n",
       "      <th>RIAGENDRx</th>\n",
       "      <th></th>\n",
       "      <th></th>\n",
       "    </tr>\n",
       "  </thead>\n",
       "  <tbody>\n",
       "    <tr>\n",
       "      <th>Female</th>\n",
       "      <td>0.304845</td>\n",
       "      <td>2972</td>\n",
       "    </tr>\n",
       "    <tr>\n",
       "      <th>Male</th>\n",
       "      <td>0.513258</td>\n",
       "      <td>2753</td>\n",
       "    </tr>\n",
       "  </tbody>\n",
       "</table>\n",
       "</div>"
      ],
      "text/plain": [
       "           Proportion     n\n",
       "RIAGENDRx                  \n",
       "Female       0.304845  2972\n",
       "Male         0.513258  2753"
      ]
     },
     "execution_count": 62,
     "metadata": {},
     "output_type": "execute_result"
    }
   ],
   "source": [
    "# Group By + Aggregate: Very Useful for porportionas and means of different groups\n",
    "# groupby().agg() creates a new table with aggregated summary values\n",
    "# in groupby we say which category groups we want in the rows\n",
    "# and with agg() we say the aggregate function to be applied in the columns\n",
    "dy = dx.groupby(\"RIAGENDRx\").agg({\"SMQ020x\": [np.mean, np.size]})\n",
    "dy.columns = [\"Proportion\", \"n\"]\n",
    "dy"
   ]
  },
  {
   "cell_type": "code",
   "execution_count": 63,
   "id": "777a174c-dc88-4c4f-8838-947b8c0c7a49",
   "metadata": {},
   "outputs": [
    {
     "data": {
      "text/plain": [
       "0    27.8\n",
       "1    30.8\n",
       "2    28.8\n",
       "3    42.4\n",
       "4    20.3\n",
       "Name: BMXBMI, dtype: float64"
      ]
     },
     "execution_count": 63,
     "metadata": {},
     "output_type": "execute_result"
    }
   ],
   "source": [
    "da[\"BMXBMI\"].head()"
   ]
  },
  {
   "cell_type": "code",
   "execution_count": 64,
   "id": "4a688733-c698-49c5-b4d1-e2155541626e",
   "metadata": {},
   "outputs": [
    {
     "data": {
      "text/html": [
       "<div>\n",
       "<style scoped>\n",
       "    .dataframe tbody tr th:only-of-type {\n",
       "        vertical-align: middle;\n",
       "    }\n",
       "\n",
       "    .dataframe tbody tr th {\n",
       "        vertical-align: top;\n",
       "    }\n",
       "\n",
       "    .dataframe thead th {\n",
       "        text-align: right;\n",
       "    }\n",
       "</style>\n",
       "<table border=\"1\" class=\"dataframe\">\n",
       "  <thead>\n",
       "    <tr style=\"text-align: right;\">\n",
       "      <th></th>\n",
       "      <th>BMI_mean</th>\n",
       "      <th>BMI_std</th>\n",
       "      <th>BMI_n</th>\n",
       "    </tr>\n",
       "    <tr>\n",
       "      <th>RIAGENDRx</th>\n",
       "      <th></th>\n",
       "      <th></th>\n",
       "      <th></th>\n",
       "    </tr>\n",
       "  </thead>\n",
       "  <tbody>\n",
       "    <tr>\n",
       "      <th>Female</th>\n",
       "      <td>29.939946</td>\n",
       "      <td>7.753319</td>\n",
       "      <td>2976</td>\n",
       "    </tr>\n",
       "    <tr>\n",
       "      <th>Male</th>\n",
       "      <td>28.778072</td>\n",
       "      <td>6.252568</td>\n",
       "      <td>2759</td>\n",
       "    </tr>\n",
       "  </tbody>\n",
       "</table>\n",
       "</div>"
      ],
      "text/plain": [
       "            BMI_mean   BMI_std  BMI_n\n",
       "RIAGENDRx                            \n",
       "Female     29.939946  7.753319   2976\n",
       "Male       28.778072  6.252568   2759"
      ]
     },
     "execution_count": 64,
     "metadata": {},
     "output_type": "execute_result"
    }
   ],
   "source": [
    "dz = da.groupby(\"RIAGENDRx\").agg({\"BMXBMI\": [np.mean, np.std, np.size]})\n",
    "dz.columns = [\"BMI_mean\", \"BMI_std\", \"BMI_n\"]\n",
    "dz"
   ]
  },
  {
   "cell_type": "markdown",
   "id": "e47fbbac-deea-4a96-89e9-a8b31115db10",
   "metadata": {},
   "source": [
    "## 6. CI of Two Proportions: Smokers vs Non-Smokers in Males & Females"
   ]
  },
  {
   "cell_type": "markdown",
   "id": "267ea03b-5b3b-4c5e-9376-6598aad71756",
   "metadata": {},
   "source": [
    "$$Standard\\ Error \\ for\\ Population\\ Proportion = \\sqrt{\\frac{Population\\ Proportion * (1 - Population\\ Proportion)}{Number\\ Of\\ Observations}}$$\n",
    "\n",
    "$$Standard\\ Error\\ for\\ Difference\\ of\\ Two\\ Population\\ Proportions\\ Or\\ Means = \\sqrt{(SE_{\\ 1})^2 + (SE_{\\ 2})^2}$$"
   ]
  },
  {
   "cell_type": "code",
   "execution_count": 69,
   "id": "d5735519-9508-4e0e-8016-5345097fc970",
   "metadata": {},
   "outputs": [
    {
     "data": {
      "text/html": [
       "<div>\n",
       "<style scoped>\n",
       "    .dataframe tbody tr th:only-of-type {\n",
       "        vertical-align: middle;\n",
       "    }\n",
       "\n",
       "    .dataframe tbody tr th {\n",
       "        vertical-align: top;\n",
       "    }\n",
       "\n",
       "    .dataframe thead th {\n",
       "        text-align: right;\n",
       "    }\n",
       "</style>\n",
       "<table border=\"1\" class=\"dataframe\">\n",
       "  <thead>\n",
       "    <tr style=\"text-align: right;\">\n",
       "      <th></th>\n",
       "      <th>Proportion</th>\n",
       "      <th>n</th>\n",
       "    </tr>\n",
       "    <tr>\n",
       "      <th>RIAGENDRx</th>\n",
       "      <th></th>\n",
       "      <th></th>\n",
       "    </tr>\n",
       "  </thead>\n",
       "  <tbody>\n",
       "    <tr>\n",
       "      <th>Female</th>\n",
       "      <td>0.304845</td>\n",
       "      <td>2972</td>\n",
       "    </tr>\n",
       "    <tr>\n",
       "      <th>Male</th>\n",
       "      <td>0.513258</td>\n",
       "      <td>2753</td>\n",
       "    </tr>\n",
       "  </tbody>\n",
       "</table>\n",
       "</div>"
      ],
      "text/plain": [
       "           Proportion     n\n",
       "RIAGENDRx                  \n",
       "Female       0.304845  2972\n",
       "Male         0.513258  2753"
      ]
     },
     "execution_count": 69,
     "metadata": {},
     "output_type": "execute_result"
    }
   ],
   "source": [
    "dy"
   ]
  },
  {
   "cell_type": "code",
   "execution_count": 75,
   "id": "532fe919-b7b4-4154-948c-b3603f79bf7e",
   "metadata": {},
   "outputs": [
    {
     "data": {
      "text/plain": [
       "'Proportion'"
      ]
     },
     "execution_count": 75,
     "metadata": {},
     "output_type": "execute_result"
    }
   ],
   "source": [
    "dy.columns[0]"
   ]
  },
  {
   "cell_type": "code",
   "execution_count": 86,
   "id": "1cc33fcb-d1a6-4231-82e5-6bdbe6710f92",
   "metadata": {},
   "outputs": [
    {
     "data": {
      "text/plain": [
       "0.008444152146214435"
      ]
     },
     "execution_count": 86,
     "metadata": {},
     "output_type": "execute_result"
    }
   ],
   "source": [
    "p_f = dy.loc['Female','Proportion']\n",
    "n_f = dy.loc['Female','n']\n",
    "se_female = np.sqrt(p_f * (1 - p_f)/n_f)\n",
    "se_female"
   ]
  },
  {
   "cell_type": "code",
   "execution_count": 89,
   "id": "338bab57-abe0-4f4f-a604-e6e657ddef83",
   "metadata": {},
   "outputs": [
    {
     "data": {
      "text/plain": [
       "0.009526078653689868"
      ]
     },
     "execution_count": 89,
     "metadata": {},
     "output_type": "execute_result"
    }
   ],
   "source": [
    "p_m = dy.loc['Male','Proportion']\n",
    "n_m = dy.loc['Male','n']\n",
    "se_male = np.sqrt(p_m * (1 - p_m)/ n_m)\n",
    "se_male"
   ]
  },
  {
   "cell_type": "code",
   "execution_count": 90,
   "id": "fb9868b0-4cb0-44d1-9d86-835438bc89e5",
   "metadata": {},
   "outputs": [
    {
     "data": {
      "text/plain": [
       "0.012729881381407434"
      ]
     },
     "execution_count": 90,
     "metadata": {},
     "output_type": "execute_result"
    }
   ],
   "source": [
    "se_diff = np.sqrt(se_female**2 + se_male**2)\n",
    "se_diff"
   ]
  },
  {
   "cell_type": "code",
   "execution_count": 91,
   "id": "375b9606-adf8-4e74-9363-aaf13dc78b83",
   "metadata": {},
   "outputs": [
    {
     "data": {
      "text/plain": [
       "(-0.2333636091471941, -0.18346247413207697)"
      ]
     },
     "execution_count": 91,
     "metadata": {},
     "output_type": "execute_result"
    }
   ],
   "source": [
    "d = p_f - p_m\n",
    "lcb = d - 1.96 * se_diff\n",
    "ucb = d + 1.96 * se_diff\n",
    "(lcb, ucb)"
   ]
  },
  {
   "cell_type": "markdown",
   "id": "b0d3074b-7801-4652-93ab-c83d82dae619",
   "metadata": {},
   "source": [
    "## 7. CI of Two Means: BMI mean in Males & Females"
   ]
  },
  {
   "cell_type": "markdown",
   "id": "a9f5a1a8-48c5-46c1-97f1-945d459d7518",
   "metadata": {},
   "source": [
    "$$Standard\\ Error \\ for\\ Mean = \\frac{Standard\\ Deviation}{\\sqrt{Number\\ Of\\ Observations}}$$\n",
    "\n",
    "$$Standard\\ Error\\ for\\ Difference\\ of\\ Two\\ Population\\ Proportions\\ Or\\ Means = \\sqrt{(SE_{\\ 1})^2 + (SE_{\\ 2})^2}$$"
   ]
  },
  {
   "cell_type": "code",
   "execution_count": 92,
   "id": "d43ba416-0549-44ba-a72f-219926a0fec9",
   "metadata": {},
   "outputs": [
    {
     "data": {
      "text/html": [
       "<div>\n",
       "<style scoped>\n",
       "    .dataframe tbody tr th:only-of-type {\n",
       "        vertical-align: middle;\n",
       "    }\n",
       "\n",
       "    .dataframe tbody tr th {\n",
       "        vertical-align: top;\n",
       "    }\n",
       "\n",
       "    .dataframe thead th {\n",
       "        text-align: right;\n",
       "    }\n",
       "</style>\n",
       "<table border=\"1\" class=\"dataframe\">\n",
       "  <thead>\n",
       "    <tr style=\"text-align: right;\">\n",
       "      <th></th>\n",
       "      <th>BMI_mean</th>\n",
       "      <th>BMI_std</th>\n",
       "      <th>BMI_n</th>\n",
       "    </tr>\n",
       "    <tr>\n",
       "      <th>RIAGENDRx</th>\n",
       "      <th></th>\n",
       "      <th></th>\n",
       "      <th></th>\n",
       "    </tr>\n",
       "  </thead>\n",
       "  <tbody>\n",
       "    <tr>\n",
       "      <th>Female</th>\n",
       "      <td>29.939946</td>\n",
       "      <td>7.753319</td>\n",
       "      <td>2976</td>\n",
       "    </tr>\n",
       "    <tr>\n",
       "      <th>Male</th>\n",
       "      <td>28.778072</td>\n",
       "      <td>6.252568</td>\n",
       "      <td>2759</td>\n",
       "    </tr>\n",
       "  </tbody>\n",
       "</table>\n",
       "</div>"
      ],
      "text/plain": [
       "            BMI_mean   BMI_std  BMI_n\n",
       "RIAGENDRx                            \n",
       "Female     29.939946  7.753319   2976\n",
       "Male       28.778072  6.252568   2759"
      ]
     },
     "execution_count": 92,
     "metadata": {},
     "output_type": "execute_result"
    }
   ],
   "source": [
    "dz"
   ]
  },
  {
   "cell_type": "code",
   "execution_count": 94,
   "id": "b89c46fd-79e5-4ad3-919f-42ad07aed0af",
   "metadata": {},
   "outputs": [
    {
     "data": {
      "text/plain": [
       "(0.14212522940758335, 0.11903715722332033)"
      ]
     },
     "execution_count": 94,
     "metadata": {},
     "output_type": "execute_result"
    }
   ],
   "source": [
    "se_mean_female = dz.loc['Female','BMI_std'] / np.sqrt(dz.loc['Female','BMI_n'])\n",
    "se_mean_male = dz.loc['Male','BMI_std'] / np.sqrt(dz.loc['Male','BMI_n'])\n",
    "(se_mean_female, se_mean_male)"
   ]
  },
  {
   "cell_type": "code",
   "execution_count": 95,
   "id": "8b8ef6d3-56e1-46db-a770-339ee8a7f200",
   "metadata": {},
   "outputs": [
    {
     "data": {
      "text/plain": [
       "0.18538992862064455"
      ]
     },
     "execution_count": 95,
     "metadata": {},
     "output_type": "execute_result"
    }
   ],
   "source": [
    "se_mean_diff = np.sqrt(se_mean_female**2 + se_mean_male**2)\n",
    "se_mean_diff"
   ]
  },
  {
   "cell_type": "code",
   "execution_count": 97,
   "id": "285fe0c6-9e88-4884-8b47-a5bad51b334b",
   "metadata": {},
   "outputs": [
    {
     "data": {
      "text/plain": [
       "1.1618735403269653"
      ]
     },
     "execution_count": 97,
     "metadata": {},
     "output_type": "execute_result"
    }
   ],
   "source": [
    "d = dz.loc['Female','BMI_mean'] - dz.loc['Male','BMI_mean']\n",
    "d"
   ]
  },
  {
   "cell_type": "code",
   "execution_count": 99,
   "id": "2fe80f38-f577-44b3-bccf-7aafe21dab9a",
   "metadata": {},
   "outputs": [
    {
     "data": {
      "text/plain": [
       "(0.798509280230502, 1.5252378004234286)"
      ]
     },
     "execution_count": 99,
     "metadata": {},
     "output_type": "execute_result"
    }
   ],
   "source": [
    "lcb = d - 1.96 * se_mean_diff\n",
    "ucb = d + 1.96 * se_mean_diff\n",
    "(lcb, ucb)"
   ]
  },
  {
   "cell_type": "code",
   "execution_count": null,
   "id": "cd686f81-67b1-4237-8d99-d59e4d405882",
   "metadata": {},
   "outputs": [],
   "source": []
  }
 ],
 "metadata": {
  "kernelspec": {
   "display_name": "Python 3 (ipykernel)",
   "language": "python",
   "name": "python3"
  },
  "language_info": {
   "codemirror_mode": {
    "name": "ipython",
    "version": 3
   },
   "file_extension": ".py",
   "mimetype": "text/x-python",
   "name": "python",
   "nbconvert_exporter": "python",
   "pygments_lexer": "ipython3",
   "version": "3.7.11"
  }
 },
 "nbformat": 4,
 "nbformat_minor": 5
}
