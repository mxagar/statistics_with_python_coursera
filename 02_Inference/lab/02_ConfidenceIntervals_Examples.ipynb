{
 "cells": [
  {
   "cell_type": "markdown",
   "id": "4aface90-6ed5-45a5-8280-64f66f561e8d",
   "metadata": {},
   "source": [
    "# Confidence Intervals: Examples"
   ]
  },
  {
   "cell_type": "markdown",
   "id": "1b466d04-2d4d-4389-b916-d908adfbe7bb",
   "metadata": {},
   "source": [
    "This notebook collects practical exercises of the concepts introduced in the course videos.\n",
    "\n",
    "Overview of contents:\n",
    "\n",
    "1. Definitions\n",
    "2. Personal Notes: Using Distributions with Scipy\n",
    "3. CI of One Proportion\n",
    "4. CI of One Mean\n",
    "5. CI of Two Proportions\n",
    "6. CI of Two Means"
   ]
  },
  {
   "cell_type": "markdown",
   "id": "f142346e-1637-4b47-b09b-407bd4a8dc47",
   "metadata": {},
   "source": [
    "## 1. Definitions"
   ]
  },
  {
   "cell_type": "markdown",
   "id": "2986a4cc-e58d-4f40-bf05-94dee78fb13a",
   "metadata": {},
   "source": [
    "We must distinguish between:\n",
    "- Pupulation: the real total group of subjects we want to measure.\n",
    "- Sample: the subset of the population we really measure, due to economical limits; measurements are assumed to be independent and identically distirbuted (iid.).\n",
    "\n",
    "Even though we measure the sample, we can infer parameters of a population with confidence intervals (CI) defined around a best parameter estimate we have.\n",
    "\n",
    "Note that we distinguish also\n",
    "- Sample distribution: the distirbution of the data we have collected. We can compute parameters of it: mean, meadia, variance, proportions, etc.\n",
    "- Sampling distribution: if define many iid. samples from the population and compute a parameter, the distribution of that parameter is the sampling distirbution. Accorsing to the Central Limit Theorem (CLT) it tends to be normal.\n",
    "\n",
    "Having a confidenfe interval of 95% means that if we draw 100 independent samples and compute the parameter and its CI with the same method, 95 of the CIs will contain the real paramater of the population. Thus, the confidence is associated to the method we use.\n",
    "\n",
    "In general, we use the following formula for the computation of the CI:\n",
    "\n",
    "`Confidence Interval` = `Best Estimate` $\\pm$ `Margin of Error`\n",
    "\n",
    "The terms are obtained as follows:\n",
    "\n",
    "- The `Best Estimate` is the parameter of our sample: sample mean, sample proportion.\n",
    "- The `Margin of Error` is `K x Estimated Standard Error`; that is, `K` is how many standard errors we want to cover in the sampling distribution.\n",
    "- `K` is defined as the value that covers X% in a symmetric Z or T distirbution; generally, `Z*(95%)` or `T*(95%,df=n-1)` are taken. Note that `Z*(95%) = 1.96`. The T distirbution tends to be Z with large sample sizes `n`.\n",
    "- `Estimated Standard Error = sqrt(var(sample parameter) / n)`\n"
   ]
  },
  {
   "cell_type": "markdown",
   "id": "d264e4a2-87ca-40ac-8482-09fcf6494ca2",
   "metadata": {},
   "source": [
    "## 2. Personal Notes: Using Distributions with Scipy"
   ]
  },
  {
   "cell_type": "markdown",
   "id": "0c3cf752-09f2-479f-b6d3-f1a5666496c3",
   "metadata": {},
   "source": [
    "In the course videos, fixed values are used for `Z*(95%)` and `T*(95%,df)`. However, it is possible to obtain exact values with `scipy`.\n",
    "\n",
    "For the CI computation, note that the `95%` coverage in the chosen distribution is two-sided; the significance level `alpha` related to that CI would be: `1 - alpha = 0.95 -> alpha = 0.05`. However, when we look in tables, that two-sided symmetry is not considered: we get `1 - alpha = P(x < v)`; instead, we would like: `1 - alpha = P(-v < x < v)`. In a symmetric distirbution, that can be intuitively achieved taking `1 - alpha/2 = P(x < v)`!"
   ]
  },
  {
   "cell_type": "code",
   "execution_count": 24,
   "id": "a2e3d46c-4246-4604-aab4-dc3f4e4c8b43",
   "metadata": {},
   "outputs": [],
   "source": [
    "from scipy.stats import norm,t"
   ]
  },
  {
   "cell_type": "code",
   "execution_count": 25,
   "id": "1d77ebfe-9fd5-4004-973a-b6a5da8001d7",
   "metadata": {},
   "outputs": [
    {
     "name": "stdout",
     "output_type": "stream",
     "text": [
      "2.2281388519649385\n"
     ]
    }
   ],
   "source": [
    "# Confidence 95% -> significane level alpha = 0.05\n",
    "# Since we have two sides, we need to consider: alpha/2 = 0.05/2\n",
    "# Thus, the percentage we look is: 1 - alpha/2 = 0.975\n",
    "T_star_95 = t(df=10).ppf(0.975)\n",
    "print(T_star_95)"
   ]
  },
  {
   "cell_type": "code",
   "execution_count": 26,
   "id": "f177542b-4f78-42d1-b8f0-99ad263e2348",
   "metadata": {},
   "outputs": [
    {
     "name": "stdout",
     "output_type": "stream",
     "text": [
      "1.959963984540054\n"
     ]
    }
   ],
   "source": [
    "Z_star_95 = norm.ppf(0.975)\n",
    "print(Z_star_95)"
   ]
  },
  {
   "cell_type": "markdown",
   "id": "0b82777c-2eaa-49df-9c40-e3d851707cbb",
   "metadata": {},
   "source": [
    "### 2.1 Further Notes on How to Use Distributions"
   ]
  },
  {
   "cell_type": "markdown",
   "id": "a4e2735e-f2f4-4759-ab9e-88c66030830a",
   "metadata": {},
   "source": [
    "Load distributions:\n",
    "```python\n",
    "from scipy.stats import binom,norm,cauchy\n",
    "```\n",
    "Instantiate a distribution with its parameters:\n",
    "```python    \n",
    "dist = binom(n, b)\n",
    "dist = norm(m, s)\n",
    "dist = cauchy(z, g)\n",
    "...\n",
    "```\n",
    "\n",
    "Distributions have usually at least the `loc` and `scale` parameters, which are often related to the `mean` and `stddev`.\n",
    "\n",
    "Get data:\n",
    "```python\n",
    "dist.rvs(N) # N random variables of the distribution\n",
    "dist.pmf(x) # Probability Mass Function at values x for discrete distributions\n",
    "dist.pdf(x) # Probability Density Function at values x for continuous distributions\n",
    "dist.cdf(x) # Cumulative Distribution Function at values x for any distribution\n",
    "dist.ppf(q) # Percent point function (inverse of `cdf`) at q (% of accumulated area) of the given RV\n",
    "```\n",
    "Note:\n",
    "- `dist.cdf(v)` = $P (x < v)$; $P(x < \\infty) = 1$\n",
    "- `dist.ppf(q)` = $v | P(x < v) = q$\n",
    "\n",
    "Fitting data to a distribution:\n",
    "```python\n",
    "# Choose distrbution or iterate through a set of candidates\n",
    "# Data: replace this with real dataset\n",
    "data = dist.rvs(10)\n",
    "# Fit\n",
    "params = dist.fit(data)\n",
    "# Separate parts of parameters\n",
    "arg = params[:-2]\n",
    "loc = params[-2]\n",
    "scale = params[-1]\n",
    "# Calculate fitted PDF and error with fit in distribution\n",
    "pdf = dist.pdf(x, loc=loc, scale=scale, *arg)\n",
    "sse = np.sum(np.power(y - pdf, 2.0))\n",
    "```\n",
    "\n",
    "Get parameters:\n",
    "```python\n",
    "params = dist.stats() # Mean(‘m’), variance(‘v’), skew(‘s’), and/or kurtosis(‘k’)\n",
    "m = dist.mean()\n",
    "std = dist.std()\n",
    "...\n",
    "```\n",
    "\n",
    "Documentation:\n",
    "\n",
    "    help(scipy.stat)\n",
    "    https://docs.scipy.org/doc/scipy/reference/index.html"
   ]
  },
  {
   "cell_type": "code",
   "execution_count": null,
   "id": "53f5cee6-3182-4b64-950c-812168b92fde",
   "metadata": {},
   "outputs": [],
   "source": []
  }
 ],
 "metadata": {
  "kernelspec": {
   "display_name": "Python 3 (ipykernel)",
   "language": "python",
   "name": "python3"
  },
  "language_info": {
   "codemirror_mode": {
    "name": "ipython",
    "version": 3
   },
   "file_extension": ".py",
   "mimetype": "text/x-python",
   "name": "python",
   "nbconvert_exporter": "python",
   "pygments_lexer": "ipython3",
   "version": "3.7.11"
  }
 },
 "nbformat": 4,
 "nbformat_minor": 5
}
