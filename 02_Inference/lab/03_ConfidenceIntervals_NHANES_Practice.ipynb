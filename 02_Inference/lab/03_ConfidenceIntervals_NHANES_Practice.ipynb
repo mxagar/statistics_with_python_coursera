{
 "cells": [
  {
   "cell_type": "markdown",
   "id": "216ed61a-d5a4-4de8-99cb-5b9245021f15",
   "metadata": {},
   "source": [
    "# Confidence Intervals: Practice with the NHANES Dataset"
   ]
  },
  {
   "cell_type": "markdown",
   "id": "7c546166-a55d-4e80-bcb3-5a260f7fb8f7",
   "metadata": {},
   "source": [
    "This notebook contains practice exercises related to confidence interval computations using the [NHANES](https://www.cdc.gov/nchs/nhanes/index.htm) dataset. Note that the NHANES dataset is a \"complex survey\", but that is ignored and the data is considered independent and identically distributed.\n",
    "\n",
    "Overview of contents:\n",
    "1. Question 1\n",
    "2. Question 2"
   ]
  },
  {
   "cell_type": "code",
   "execution_count": 75,
   "id": "e086087c-80dd-41b3-991a-171601bb11b9",
   "metadata": {},
   "outputs": [],
   "source": [
    "import matplotlib.pyplot as plt\n",
    "import pandas as pd\n",
    "import numpy as np\n",
    "import seaborn as sns\n",
    "import statsmodels.api as sm\n",
    "%matplotlib inline"
   ]
  },
  {
   "cell_type": "code",
   "execution_count": 76,
   "id": "66a99936-369f-4e46-9ac5-1133f2d6f9eb",
   "metadata": {},
   "outputs": [],
   "source": [
    "da = pd.read_csv(\"nhanes_2015_2016.csv\")"
   ]
  },
  {
   "cell_type": "markdown",
   "id": "ec275796-ea6c-4d6c-bb0e-0e346edf9242",
   "metadata": {},
   "source": [
    "## 1. Question 1\n",
    "\n",
    "> Restrict the sample to women between 35 and 50, then use the marital status variable [DMDMARTL](https://wwwn.cdc.gov/Nchs/Nhanes/2015-2016/DEMO_I.htm#DMDMARTL) to partition this sample into two groups - women who are currently married, and women who are not currently married.  Within each of these groups, calculate the proportion of women who have completed college.  Calculate 95% confidence intervals for each of these proportions."
   ]
  },
  {
   "cell_type": "code",
   "execution_count": 77,
   "id": "68befbb7-a5bb-411e-80d0-026912085788",
   "metadata": {},
   "outputs": [],
   "source": [
    "# Select women between 35 and 50 years old\n",
    "da[\"RIAGENDRx\"] = da.RIAGENDR.replace({1: \"Male\", 2: \"Female\"})\n",
    "# Important note: .loc[] creates a new copy, unlike df[df] conditioning, which creates a view!\n",
    "#dx = da[(da[\"RIAGENDRx\"] == \"Female\") & (da[\"RIDAGEYR\"] >= 35) & (da[\"RIDAGEYR\"] <= 50)]\n",
    "dx = da.loc[(da.RIAGENDRx == \"Female\") & (da.RIDAGEYR >= 35) & (da.RIDAGEYR <= 50), [\"DMDMARTL\", \"DMDEDUC2\"]]"
   ]
  },
  {
   "cell_type": "code",
   "execution_count": 78,
   "id": "428358cb-c006-443d-be96-b12ddf3d33a4",
   "metadata": {},
   "outputs": [
    {
     "data": {
      "text/plain": [
       "array([3., 1., 4., 5., 6., 2.])"
      ]
     },
     "execution_count": 78,
     "metadata": {},
     "output_type": "execute_result"
    }
   ],
   "source": [
    "# Group according to marital status: Married and Not Married\n",
    "# [DMDMARTL](https://wwwn.cdc.gov/Nchs/Nhanes/2015-2016/DEMO_I.htm#DMDMARTL)\n",
    "dx[\"DMDMARTL\"].unique()"
   ]
  },
  {
   "cell_type": "code",
   "execution_count": 79,
   "id": "9e201f24-adbb-459a-a940-3a4fd4f05e34",
   "metadata": {},
   "outputs": [],
   "source": [
    "dx[\"DMDMARTLx\"] = dx.DMDMARTL.replace({1: \"Married\",\n",
    "                                       2: \"Not Married\",\n",
    "                                       3: \"Not Married\",\n",
    "                                       4: \"Not Married\",\n",
    "                                       5: \"Not Married\",\n",
    "                                       6: \"Not Married\"})"
   ]
  },
  {
   "cell_type": "code",
   "execution_count": 80,
   "id": "ddac5e93-a6ef-4463-ada1-7066a4e78563",
   "metadata": {},
   "outputs": [
    {
     "data": {
      "text/html": [
       "<div>\n",
       "<style scoped>\n",
       "    .dataframe tbody tr th:only-of-type {\n",
       "        vertical-align: middle;\n",
       "    }\n",
       "\n",
       "    .dataframe tbody tr th {\n",
       "        vertical-align: top;\n",
       "    }\n",
       "\n",
       "    .dataframe thead th {\n",
       "        text-align: right;\n",
       "    }\n",
       "</style>\n",
       "<table border=\"1\" class=\"dataframe\">\n",
       "  <thead>\n",
       "    <tr style=\"text-align: right;\">\n",
       "      <th></th>\n",
       "      <th>DMDMARTL</th>\n",
       "      <th>DMDEDUC2</th>\n",
       "      <th>DMDMARTLx</th>\n",
       "    </tr>\n",
       "  </thead>\n",
       "  <tbody>\n",
       "    <tr>\n",
       "      <th>4</th>\n",
       "      <td>3.0</td>\n",
       "      <td>4.0</td>\n",
       "      <td>Not Married</td>\n",
       "    </tr>\n",
       "    <tr>\n",
       "      <th>34</th>\n",
       "      <td>1.0</td>\n",
       "      <td>4.0</td>\n",
       "      <td>Married</td>\n",
       "    </tr>\n",
       "    <tr>\n",
       "      <th>50</th>\n",
       "      <td>1.0</td>\n",
       "      <td>3.0</td>\n",
       "      <td>Married</td>\n",
       "    </tr>\n",
       "    <tr>\n",
       "      <th>52</th>\n",
       "      <td>4.0</td>\n",
       "      <td>1.0</td>\n",
       "      <td>Not Married</td>\n",
       "    </tr>\n",
       "    <tr>\n",
       "      <th>55</th>\n",
       "      <td>1.0</td>\n",
       "      <td>2.0</td>\n",
       "      <td>Married</td>\n",
       "    </tr>\n",
       "  </tbody>\n",
       "</table>\n",
       "</div>"
      ],
      "text/plain": [
       "    DMDMARTL  DMDEDUC2    DMDMARTLx\n",
       "4        3.0       4.0  Not Married\n",
       "34       1.0       4.0      Married\n",
       "50       1.0       3.0      Married\n",
       "52       4.0       1.0  Not Married\n",
       "55       1.0       2.0      Married"
      ]
     },
     "execution_count": 80,
     "metadata": {},
     "output_type": "execute_result"
    }
   ],
   "source": [
    "dx.head()"
   ]
  },
  {
   "cell_type": "code",
   "execution_count": 81,
   "id": "d4b4e06a-35b4-4783-a0b3-8c33fb109287",
   "metadata": {},
   "outputs": [
    {
     "data": {
      "text/plain": [
       "array([4., 3., 1., 2., 5.])"
      ]
     },
     "execution_count": 81,
     "metadata": {},
     "output_type": "execute_result"
    }
   ],
   "source": [
    "# Group according to education level: College, No College\n",
    "# [DMDEDUC2](https://wwwn.cdc.gov/Nchs/Nhanes/2015-2016/DEMO_I.htm#DMDEDUC2)\n",
    "dx[\"DMDEDUC2\"].unique()"
   ]
  },
  {
   "cell_type": "code",
   "execution_count": 82,
   "id": "315962ad-e70a-44eb-8ed1-2f5b11162d30",
   "metadata": {},
   "outputs": [],
   "source": [
    "dx[\"DMDEDUC2x\"] = dx.DMDEDUC2.replace({1: \"No College\",\n",
    "                                       2: \"No College\",\n",
    "                                       3: \"No College\",\n",
    "                                       4: \"No College\",\n",
    "                                       5: \"College\",\n",
    "                                       9: \"No College\"})"
   ]
  },
  {
   "cell_type": "code",
   "execution_count": 83,
   "id": "742c049f-8280-4fb9-b8f9-33b238581e98",
   "metadata": {},
   "outputs": [
    {
     "data": {
      "text/html": [
       "<div>\n",
       "<style scoped>\n",
       "    .dataframe tbody tr th:only-of-type {\n",
       "        vertical-align: middle;\n",
       "    }\n",
       "\n",
       "    .dataframe tbody tr th {\n",
       "        vertical-align: top;\n",
       "    }\n",
       "\n",
       "    .dataframe thead th {\n",
       "        text-align: right;\n",
       "    }\n",
       "</style>\n",
       "<table border=\"1\" class=\"dataframe\">\n",
       "  <thead>\n",
       "    <tr style=\"text-align: right;\">\n",
       "      <th>DMDEDUC2x</th>\n",
       "      <th>College</th>\n",
       "      <th>No College</th>\n",
       "    </tr>\n",
       "    <tr>\n",
       "      <th>DMDMARTLx</th>\n",
       "      <th></th>\n",
       "      <th></th>\n",
       "    </tr>\n",
       "  </thead>\n",
       "  <tbody>\n",
       "    <tr>\n",
       "      <th>Married</th>\n",
       "      <td>162</td>\n",
       "      <td>287</td>\n",
       "    </tr>\n",
       "    <tr>\n",
       "      <th>Not Married</th>\n",
       "      <td>72</td>\n",
       "      <td>266</td>\n",
       "    </tr>\n",
       "  </tbody>\n",
       "</table>\n",
       "</div>"
      ],
      "text/plain": [
       "DMDEDUC2x    College  No College\n",
       "DMDMARTLx                       \n",
       "Married          162         287\n",
       "Not Married       72         266"
      ]
     },
     "execution_count": 83,
     "metadata": {},
     "output_type": "execute_result"
    }
   ],
   "source": [
    "dx = dx[[\"DMDMARTLx\", \"DMDEDUC2x\"]].dropna()\n",
    "dz = pd.crosstab(dx.DMDMARTLx, dx.DMDEDUC2x)\n",
    "dz"
   ]
  },
  {
   "cell_type": "code",
   "execution_count": 84,
   "id": "dc6cb1b2-1e06-48ee-8880-82c7808dd2b5",
   "metadata": {},
   "outputs": [],
   "source": [
    "# CI 95% of proportion of women who have completed college\n",
    "# for each group: married & unmarried\n",
    "# Which is the widest CI?"
   ]
  },
  {
   "cell_type": "code",
   "execution_count": 85,
   "id": "696ddfbf-fde0-4e4a-9ddc-a2b2814bcc04",
   "metadata": {},
   "outputs": [
    {
     "data": {
      "text/plain": [
       "0.36080178173719374"
      ]
     },
     "execution_count": 85,
     "metadata": {},
     "output_type": "execute_result"
    }
   ],
   "source": [
    "# Married\n",
    "n_married = dz.loc[\"Married\",\"College\"] + dz.loc[\"Married\",\"No College\"]\n",
    "p_married = dz.loc[\"Married\",\"College\"] / n_married\n",
    "p_married"
   ]
  },
  {
   "cell_type": "code",
   "execution_count": 86,
   "id": "ee565085-9040-4aaf-9988-49ca96ee1ecc",
   "metadata": {},
   "outputs": [
    {
     "data": {
      "text/plain": [
       "0.02266360248455356"
      ]
     },
     "execution_count": 86,
     "metadata": {},
     "output_type": "execute_result"
    }
   ],
   "source": [
    "se_married = np.sqrt((p_married * (1 - p_married))/n_married)\n",
    "se_married"
   ]
  },
  {
   "cell_type": "code",
   "execution_count": 87,
   "id": "a80a0cc5-b0da-4df1-8d91-cc60215ebebb",
   "metadata": {},
   "outputs": [],
   "source": [
    "from scipy.stats import norm,t"
   ]
  },
  {
   "cell_type": "code",
   "execution_count": 88,
   "id": "97fde4b6-2b7a-45c7-a9c0-381eadf81a5f",
   "metadata": {},
   "outputs": [],
   "source": [
    "T_star_95 = t(df=n_married-1).ppf(0.975)"
   ]
  },
  {
   "cell_type": "code",
   "execution_count": 89,
   "id": "aba73293-3ad3-4aee-b51c-0dea956005b0",
   "metadata": {},
   "outputs": [
    {
     "name": "stdout",
     "output_type": "stream",
     "text": [
      "(0.31626160834226386, 0.4053419551321236)\n",
      "0.08908034678985977\n"
     ]
    }
   ],
   "source": [
    "lcb = p_married - T_star_95 * se_married\n",
    "ucb = p_married + T_star_95 * se_married\n",
    "print((lcb, ucb))\n",
    "print(ucb-lcb)"
   ]
  },
  {
   "cell_type": "code",
   "execution_count": 90,
   "id": "2f676c5e-ad2d-4c98-af61-913203206e43",
   "metadata": {},
   "outputs": [
    {
     "data": {
      "text/plain": [
       "0.21301775147928995"
      ]
     },
     "execution_count": 90,
     "metadata": {},
     "output_type": "execute_result"
    }
   ],
   "source": [
    "# Unmarried\n",
    "n_unmarried = dz.loc[\"Not Married\",\"College\"] + dz.loc[\"Not Married\",\"No College\"]\n",
    "p_unmarried = dz.loc[\"Not Married\",\"College\"] / n_unmarried\n",
    "p_unmarried"
   ]
  },
  {
   "cell_type": "code",
   "execution_count": 92,
   "id": "c2e3b776-55cc-4d74-9546-d5febf2651dd",
   "metadata": {},
   "outputs": [
    {
     "data": {
      "text/plain": [
       "0.022270605048202215"
      ]
     },
     "execution_count": 92,
     "metadata": {},
     "output_type": "execute_result"
    }
   ],
   "source": [
    "se_unmarried = np.sqrt((p_unmarried * (1 - p_unmarried))/n_unmarried)\n",
    "se_unmarried"
   ]
  },
  {
   "cell_type": "code",
   "execution_count": 95,
   "id": "2c18e4ed-49d0-4088-a6aa-4d47e9762404",
   "metadata": {},
   "outputs": [],
   "source": [
    "T_star_95 = t(df=n_unmarried-1).ppf(0.975)"
   ]
  },
  {
   "cell_type": "code",
   "execution_count": 96,
   "id": "ef54bca7-46d4-455f-a32e-6da8bb77d5e1",
   "metadata": {},
   "outputs": [
    {
     "name": "stdout",
     "output_type": "stream",
     "text": [
      "(0.1692108414327836, 0.2568246615257963)\n",
      "0.08761382009301272\n"
     ]
    }
   ],
   "source": [
    "lcb = p_unmarried - T_star_95 * se_unmarried\n",
    "ucb = p_unmarried + T_star_95 * se_unmarried\n",
    "print((lcb, ucb))\n",
    "print(ucb-lcb)"
   ]
  },
  {
   "cell_type": "markdown",
   "id": "188ec508-1153-48fe-9929-e6315a8925a9",
   "metadata": {},
   "source": [
    "## 2. Question 2\n",
    "\n",
    "> Construct a 95% confidence interval for the proportion of smokers who are female. Construct a 95% confidence interval for the proportion of smokers who are male. Construct a 95% confidence interval for the **difference** between those two gender proportions."
   ]
  },
  {
   "cell_type": "code",
   "execution_count": 97,
   "id": "12648223-e093-40db-9500-39033a7fa7d6",
   "metadata": {},
   "outputs": [],
   "source": [
    "# Group in Women & Men and Smokers & Non Smokers\n",
    "# Compute a 95% CI of smoker proportion within each gender group\n",
    "# Compute a 95% CI of smokers proportion difference between each gender group"
   ]
  },
  {
   "cell_type": "code",
   "execution_count": 98,
   "id": "708bc8db-5500-446e-a074-d5126034edd8",
   "metadata": {},
   "outputs": [],
   "source": [
    "# Recode SMQ020 from 1/2 to Yes/No into new variable SMQ020x\n",
    "da[\"SMQ020x\"] = da.SMQ020.replace({1: \"Yes\", 2: \"No\", 7: np.nan, 9: np.nan})"
   ]
  },
  {
   "cell_type": "code",
   "execution_count": 99,
   "id": "1a79b67b-7a65-4dd4-88bb-01f7192b903b",
   "metadata": {},
   "outputs": [
    {
     "data": {
      "text/html": [
       "<div>\n",
       "<style scoped>\n",
       "    .dataframe tbody tr th:only-of-type {\n",
       "        vertical-align: middle;\n",
       "    }\n",
       "\n",
       "    .dataframe tbody tr th {\n",
       "        vertical-align: top;\n",
       "    }\n",
       "\n",
       "    .dataframe thead th {\n",
       "        text-align: right;\n",
       "    }\n",
       "</style>\n",
       "<table border=\"1\" class=\"dataframe\">\n",
       "  <thead>\n",
       "    <tr style=\"text-align: right;\">\n",
       "      <th>SMQ020x</th>\n",
       "      <th>No</th>\n",
       "      <th>Yes</th>\n",
       "    </tr>\n",
       "    <tr>\n",
       "      <th>RIAGENDRx</th>\n",
       "      <th></th>\n",
       "      <th></th>\n",
       "    </tr>\n",
       "  </thead>\n",
       "  <tbody>\n",
       "    <tr>\n",
       "      <th>Female</th>\n",
       "      <td>2066</td>\n",
       "      <td>906</td>\n",
       "    </tr>\n",
       "    <tr>\n",
       "      <th>Male</th>\n",
       "      <td>1340</td>\n",
       "      <td>1413</td>\n",
       "    </tr>\n",
       "  </tbody>\n",
       "</table>\n",
       "</div>"
      ],
      "text/plain": [
       "SMQ020x      No   Yes\n",
       "RIAGENDRx            \n",
       "Female     2066   906\n",
       "Male       1340  1413"
      ]
     },
     "execution_count": 99,
     "metadata": {},
     "output_type": "execute_result"
    }
   ],
   "source": [
    "dx = da[[\"RIAGENDRx\", \"SMQ020x\"]].dropna()\n",
    "dz = pd.crosstab(dx.RIAGENDRx, dx.SMQ020x)\n",
    "dz"
   ]
  },
  {
   "cell_type": "code",
   "execution_count": 106,
   "id": "59d467e6-4959-404a-b190-1228d02c5753",
   "metadata": {},
   "outputs": [
    {
     "data": {
      "text/plain": [
       "0.30484522207267833"
      ]
     },
     "execution_count": 106,
     "metadata": {},
     "output_type": "execute_result"
    }
   ],
   "source": [
    "# Female\n",
    "n_female = dz.loc[\"Female\",\"No\"] + dz.loc[\"Female\",\"Yes\"]\n",
    "p_female = dz.loc[\"Female\",\"Yes\"] / n_female\n",
    "p_female"
   ]
  },
  {
   "cell_type": "code",
   "execution_count": 103,
   "id": "14271c9c-2ce3-4689-b3ff-eff21cc1f26b",
   "metadata": {},
   "outputs": [
    {
     "data": {
      "text/plain": [
       "0.008444152146214435"
      ]
     },
     "execution_count": 103,
     "metadata": {},
     "output_type": "execute_result"
    }
   ],
   "source": [
    "se_female = np.sqrt((p_female * (1 - p_female))/n_female)\n",
    "se_female"
   ]
  },
  {
   "cell_type": "code",
   "execution_count": 104,
   "id": "4c539b49-dc2b-42a9-8a03-dd8ba616d56e",
   "metadata": {},
   "outputs": [],
   "source": [
    "T_star_95 = t(df=n_female-1).ppf(0.975)"
   ]
  },
  {
   "cell_type": "code",
   "execution_count": 105,
   "id": "b4de9fb7-86b9-42e7-8e49-92e0d253fde3",
   "metadata": {},
   "outputs": [
    {
     "name": "stdout",
     "output_type": "stream",
     "text": [
      "(0.2882882428350851, 0.3214022013102716)\n",
      "0.0331139584751865\n"
     ]
    }
   ],
   "source": [
    "lcb = p_female - T_star_95 * se_female\n",
    "ucb = p_female + T_star_95 * se_female\n",
    "print((lcb, ucb))\n",
    "print(ucb-lcb)"
   ]
  },
  {
   "cell_type": "code",
   "execution_count": 108,
   "id": "d40ca71b-1971-4e1d-a383-a089134490ee",
   "metadata": {},
   "outputs": [
    {
     "data": {
      "text/plain": [
       "0.5132582637123139"
      ]
     },
     "execution_count": 108,
     "metadata": {},
     "output_type": "execute_result"
    }
   ],
   "source": [
    "# Male\n",
    "n_male = dz.loc[\"Male\",\"No\"] + dz.loc[\"Male\",\"Yes\"]\n",
    "p_male = dz.loc[\"Male\",\"Yes\"] / n_male\n",
    "p_male"
   ]
  },
  {
   "cell_type": "code",
   "execution_count": 109,
   "id": "9f85ba11-9ebe-4221-8636-d9c0ea46fa3c",
   "metadata": {},
   "outputs": [
    {
     "data": {
      "text/plain": [
       "0.009526078653689868"
      ]
     },
     "execution_count": 109,
     "metadata": {},
     "output_type": "execute_result"
    }
   ],
   "source": [
    "se_male = np.sqrt((p_male * (1 - p_male))/n_male)\n",
    "se_male"
   ]
  },
  {
   "cell_type": "code",
   "execution_count": 110,
   "id": "93542c6e-6117-46f1-be8f-0967e20d6d49",
   "metadata": {},
   "outputs": [],
   "source": [
    "T_star_95 = t(df=n_male-1).ppf(0.975)"
   ]
  },
  {
   "cell_type": "code",
   "execution_count": 111,
   "id": "ce9e4847-1579-407a-bd89-bf0964f52530",
   "metadata": {},
   "outputs": [
    {
     "name": "stdout",
     "output_type": "stream",
     "text": [
      "(0.4945792774425443, 0.5319372499820834)\n",
      "0.03735797253953904\n"
     ]
    }
   ],
   "source": [
    "lcb = p_male - T_star_95 * se_male\n",
    "ucb = p_male + T_star_95 * se_male\n",
    "print((lcb, ucb))\n",
    "print(ucb-lcb)"
   ]
  },
  {
   "cell_type": "code",
   "execution_count": 113,
   "id": "60c53ee0-3311-4cfc-86b6-f76d82129e26",
   "metadata": {},
   "outputs": [
    {
     "data": {
      "text/plain": [
       "0.012729881381407434"
      ]
     },
     "execution_count": 113,
     "metadata": {},
     "output_type": "execute_result"
    }
   ],
   "source": [
    "# Difference\n",
    "se_diff = np.sqrt(se_female**2 + se_male**2)\n",
    "se_diff"
   ]
  },
  {
   "cell_type": "code",
   "execution_count": 114,
   "id": "e24e4f09-1acd-4c88-9198-c5c61fb38370",
   "metadata": {},
   "outputs": [],
   "source": [
    "T_star_95 = t(df=n_male+n_female-2).ppf(0.975)"
   ]
  },
  {
   "cell_type": "code",
   "execution_count": 116,
   "id": "743e31c2-7733-4b36-accd-9da7bd581deb",
   "metadata": {},
   "outputs": [
    {
     "data": {
      "text/plain": [
       "(0.18345765477645198, 0.23336842850281908)"
      ]
     },
     "execution_count": 116,
     "metadata": {},
     "output_type": "execute_result"
    }
   ],
   "source": [
    "d = p_male - p_female\n",
    "lcb = d - T_star_95 * se_diff\n",
    "ucb = d + T_star_95 * se_diff\n",
    "(lcb, ucb)"
   ]
  },
  {
   "cell_type": "markdown",
   "id": "d6d83b62-3960-4a98-9b2a-e5fbf0fd93e8",
   "metadata": {},
   "source": [
    "## 3. Question 3\n",
    "\n",
    "> Construct a 95% interval for height ([BMXHT](https://wwwn.cdc.gov/Nchs/Nhanes/2015-2016/BMX_I.htm#BMXHT)) in centimeters.  Then convert height from centimeters to inches by dividing by 2.54, and construct a 95% confidence interval for height in inches.  Finally, convert the endpoints (the lower and upper confidence limits) of the confidence interval from inches to back to centimeters   "
   ]
  },
  {
   "cell_type": "code",
   "execution_count": 137,
   "id": "13264fd1-7fb3-4420-b5fd-3c5a0179dd8a",
   "metadata": {},
   "outputs": [],
   "source": [
    "# Coonfidence Interval of heigh mean (BMXHT) in cm and in\n",
    "# The span of the CI should be the conversion factor"
   ]
  },
  {
   "cell_type": "code",
   "execution_count": 124,
   "id": "ba259754-5f46-4d3f-a6c5-dc157a4bc53f",
   "metadata": {},
   "outputs": [
    {
     "data": {
      "text/plain": [
       "166.14283447911131"
      ]
     },
     "execution_count": 124,
     "metadata": {},
     "output_type": "execute_result"
    }
   ],
   "source": [
    "da[\"BMXHT\"].dropna().mean()"
   ]
  },
  {
   "cell_type": "code",
   "execution_count": 125,
   "id": "31c0935d-0795-4ba0-adb8-37e2a8bf8f8b",
   "metadata": {},
   "outputs": [
    {
     "data": {
      "text/plain": [
       "10.079263712467688"
      ]
     },
     "execution_count": 125,
     "metadata": {},
     "output_type": "execute_result"
    }
   ],
   "source": [
    "da[\"BMXHT\"].dropna().std()"
   ]
  },
  {
   "cell_type": "code",
   "execution_count": 126,
   "id": "e4b17d7c-06df-42d2-9b65-c49f881e1cbd",
   "metadata": {},
   "outputs": [
    {
     "data": {
      "text/plain": [
       "5673"
      ]
     },
     "execution_count": 126,
     "metadata": {},
     "output_type": "execute_result"
    }
   ],
   "source": [
    "da[\"BMXHT\"].dropna().count()"
   ]
  },
  {
   "cell_type": "code",
   "execution_count": 128,
   "id": "dc4349b1-0862-47c3-9d30-1396987f9de3",
   "metadata": {},
   "outputs": [],
   "source": [
    "# cm -> in\n",
    "da[\"BMXHTx\"] = da[\"BMXHT\"] / 2.54"
   ]
  },
  {
   "cell_type": "code",
   "execution_count": 129,
   "id": "0d69ae0e-6f0f-4e33-aa8b-e3870a8b6878",
   "metadata": {},
   "outputs": [],
   "source": [
    "T_star_95 = t(df=da[\"BMXHT\"].dropna().count()-1).ppf(0.975)"
   ]
  },
  {
   "cell_type": "code",
   "execution_count": 131,
   "id": "3f99d09a-7b72-4fb8-bd30-146eb850ff0e",
   "metadata": {},
   "outputs": [
    {
     "data": {
      "text/plain": [
       "0.13382042856478796"
      ]
     },
     "execution_count": 131,
     "metadata": {},
     "output_type": "execute_result"
    }
   ],
   "source": [
    "se_cm = da[\"BMXHT\"].dropna().std() / np.sqrt(da[\"BMXHT\"].dropna().count())\n",
    "se_cm"
   ]
  },
  {
   "cell_type": "code",
   "execution_count": 132,
   "id": "351328c7-6542-4aaf-8a7e-55cd39f532fd",
   "metadata": {},
   "outputs": [
    {
     "data": {
      "text/plain": [
       "0.052685208096373254"
      ]
     },
     "execution_count": 132,
     "metadata": {},
     "output_type": "execute_result"
    }
   ],
   "source": [
    "se_in = da[\"BMXHTx\"].dropna().std() / np.sqrt(da[\"BMXHTx\"].dropna().count())\n",
    "se_in"
   ]
  },
  {
   "cell_type": "code",
   "execution_count": 133,
   "id": "97c6ee53-3eef-49a1-87c6-6af0e61f621d",
   "metadata": {},
   "outputs": [
    {
     "name": "stdout",
     "output_type": "stream",
     "text": [
      "(165.88049527760114, 166.4051736806215)\n",
      "0.5246784030203457\n"
     ]
    }
   ],
   "source": [
    "lcb_cm = da[\"BMXHT\"].dropna().mean() - T_star_95 * se_cm\n",
    "ucb_cm = da[\"BMXHT\"].dropna().mean() + T_star_95 * se_cm\n",
    "print((lcb_cm, ucb_cm))\n",
    "print(ucb_cm-lcb_cm)"
   ]
  },
  {
   "cell_type": "code",
   "execution_count": 134,
   "id": "6eabcf54-5deb-46ad-921d-5c9a675eb567",
   "metadata": {},
   "outputs": [
    {
     "name": "stdout",
     "output_type": "stream",
     "text": [
      "(65.30728160535472, 65.51384790575642)\n",
      "0.20656630040170398\n"
     ]
    }
   ],
   "source": [
    "lcb_in = da[\"BMXHTx\"].dropna().mean() - T_star_95 * se_in\n",
    "ucb_in = da[\"BMXHTx\"].dropna().mean() + T_star_95 * se_in\n",
    "print((lcb_in, ucb_in))\n",
    "print(ucb_in-lcb_in)"
   ]
  },
  {
   "cell_type": "code",
   "execution_count": 136,
   "id": "3312da9a-ab5c-4b6a-bf99-5c6ec588d1df",
   "metadata": {},
   "outputs": [
    {
     "data": {
      "text/plain": [
       "2.5400000000000853"
      ]
     },
     "execution_count": 136,
     "metadata": {},
     "output_type": "execute_result"
    }
   ],
   "source": [
    "(ucb_cm-lcb_cm)/(ucb_in-lcb_in)"
   ]
  },
  {
   "cell_type": "markdown",
   "id": "ea1062b9-bfc5-445d-93c9-67cc7cff04c0",
   "metadata": {},
   "source": [
    "## 4. Question 4\n",
    "\n",
    "> Partition the sample based on 10-year age bands, i.e. the resulting groups will consist of people with ages from 18-28, 29-38, etc. Construct 95% confidence intervals for the difference between the mean BMI for females and for males within each age band."
   ]
  },
  {
   "cell_type": "code",
   "execution_count": 139,
   "id": "1719556b-76fa-4a07-beb3-90f831713b24",
   "metadata": {},
   "outputs": [
    {
     "data": {
      "text/html": [
       "<div>\n",
       "<style scoped>\n",
       "    .dataframe tbody tr th:only-of-type {\n",
       "        vertical-align: middle;\n",
       "    }\n",
       "\n",
       "    .dataframe tbody tr th {\n",
       "        vertical-align: top;\n",
       "    }\n",
       "\n",
       "    .dataframe thead tr th {\n",
       "        text-align: left;\n",
       "    }\n",
       "\n",
       "    .dataframe thead tr:last-of-type th {\n",
       "        text-align: right;\n",
       "    }\n",
       "</style>\n",
       "<table border=\"1\" class=\"dataframe\">\n",
       "  <thead>\n",
       "    <tr>\n",
       "      <th></th>\n",
       "      <th colspan=\"6\" halign=\"left\">BMXBMI</th>\n",
       "    </tr>\n",
       "    <tr>\n",
       "      <th></th>\n",
       "      <th colspan=\"2\" halign=\"left\">mean</th>\n",
       "      <th colspan=\"2\" halign=\"left\">std</th>\n",
       "      <th colspan=\"2\" halign=\"left\">size</th>\n",
       "    </tr>\n",
       "    <tr>\n",
       "      <th>RIAGENDRx</th>\n",
       "      <th>Female</th>\n",
       "      <th>Male</th>\n",
       "      <th>Female</th>\n",
       "      <th>Male</th>\n",
       "      <th>Female</th>\n",
       "      <th>Male</th>\n",
       "    </tr>\n",
       "    <tr>\n",
       "      <th>agegrp</th>\n",
       "      <th></th>\n",
       "      <th></th>\n",
       "      <th></th>\n",
       "      <th></th>\n",
       "      <th></th>\n",
       "      <th></th>\n",
       "    </tr>\n",
       "  </thead>\n",
       "  <tbody>\n",
       "    <tr>\n",
       "      <th>(18, 30]</th>\n",
       "      <td>28.123881</td>\n",
       "      <td>27.391822</td>\n",
       "      <td>7.745893</td>\n",
       "      <td>6.649440</td>\n",
       "      <td>609</td>\n",
       "      <td>544</td>\n",
       "    </tr>\n",
       "    <tr>\n",
       "      <th>(30, 40]</th>\n",
       "      <td>30.325586</td>\n",
       "      <td>29.611726</td>\n",
       "      <td>8.315608</td>\n",
       "      <td>6.622412</td>\n",
       "      <td>474</td>\n",
       "      <td>458</td>\n",
       "    </tr>\n",
       "    <tr>\n",
       "      <th>(40, 50]</th>\n",
       "      <td>31.160643</td>\n",
       "      <td>29.724623</td>\n",
       "      <td>8.076195</td>\n",
       "      <td>6.407076</td>\n",
       "      <td>502</td>\n",
       "      <td>401</td>\n",
       "    </tr>\n",
       "    <tr>\n",
       "      <th>(50, 60]</th>\n",
       "      <td>30.743777</td>\n",
       "      <td>29.231486</td>\n",
       "      <td>7.575848</td>\n",
       "      <td>5.914373</td>\n",
       "      <td>470</td>\n",
       "      <td>454</td>\n",
       "    </tr>\n",
       "    <tr>\n",
       "      <th>(60, 70]</th>\n",
       "      <td>31.074828</td>\n",
       "      <td>29.392488</td>\n",
       "      <td>7.604514</td>\n",
       "      <td>5.933307</td>\n",
       "      <td>441</td>\n",
       "      <td>437</td>\n",
       "    </tr>\n",
       "    <tr>\n",
       "      <th>(70, 80]</th>\n",
       "      <td>29.138213</td>\n",
       "      <td>27.957692</td>\n",
       "      <td>6.284968</td>\n",
       "      <td>4.974855</td>\n",
       "      <td>410</td>\n",
       "      <td>402</td>\n",
       "    </tr>\n",
       "  </tbody>\n",
       "</table>\n",
       "</div>"
      ],
      "text/plain": [
       "              BMXBMI                                           \n",
       "                mean                  std             size     \n",
       "RIAGENDRx     Female       Male    Female      Male Female Male\n",
       "agegrp                                                         \n",
       "(18, 30]   28.123881  27.391822  7.745893  6.649440    609  544\n",
       "(30, 40]   30.325586  29.611726  8.315608  6.622412    474  458\n",
       "(40, 50]   31.160643  29.724623  8.076195  6.407076    502  401\n",
       "(50, 60]   30.743777  29.231486  7.575848  5.914373    470  454\n",
       "(60, 70]   31.074828  29.392488  7.604514  5.933307    441  437\n",
       "(70, 80]   29.138213  27.957692  6.284968  4.974855    410  402"
      ]
     },
     "execution_count": 139,
     "metadata": {},
     "output_type": "execute_result"
    }
   ],
   "source": [
    "# Calculate the mean, SD, and sample size for BMI within age/gender groups\n",
    "da[\"agegrp\"] = pd.cut(da.RIDAGEYR, [18, 30, 40, 50, 60, 70, 80])\n",
    "pr = da.groupby([\"agegrp\", \"RIAGENDRx\"]).agg({\"BMXBMI\": [np.mean, np.std, np.size]}).unstack()\n",
    "pr"
   ]
  },
  {
   "cell_type": "code",
   "execution_count": 141,
   "id": "d9c268f2-525b-4d50-943e-fb35d3af582c",
   "metadata": {},
   "outputs": [
    {
     "data": {
      "text/html": [
       "<div>\n",
       "<style scoped>\n",
       "    .dataframe tbody tr th:only-of-type {\n",
       "        vertical-align: middle;\n",
       "    }\n",
       "\n",
       "    .dataframe tbody tr th {\n",
       "        vertical-align: top;\n",
       "    }\n",
       "\n",
       "    .dataframe thead tr th {\n",
       "        text-align: left;\n",
       "    }\n",
       "\n",
       "    .dataframe thead tr:last-of-type th {\n",
       "        text-align: right;\n",
       "    }\n",
       "</style>\n",
       "<table border=\"1\" class=\"dataframe\">\n",
       "  <thead>\n",
       "    <tr>\n",
       "      <th></th>\n",
       "      <th colspan=\"8\" halign=\"left\">BMXBMI</th>\n",
       "    </tr>\n",
       "    <tr>\n",
       "      <th></th>\n",
       "      <th colspan=\"2\" halign=\"left\">mean</th>\n",
       "      <th colspan=\"2\" halign=\"left\">std</th>\n",
       "      <th colspan=\"2\" halign=\"left\">size</th>\n",
       "      <th colspan=\"2\" halign=\"left\">sem</th>\n",
       "    </tr>\n",
       "    <tr>\n",
       "      <th>RIAGENDRx</th>\n",
       "      <th>Female</th>\n",
       "      <th>Male</th>\n",
       "      <th>Female</th>\n",
       "      <th>Male</th>\n",
       "      <th>Female</th>\n",
       "      <th>Male</th>\n",
       "      <th>Female</th>\n",
       "      <th>Male</th>\n",
       "    </tr>\n",
       "    <tr>\n",
       "      <th>agegrp</th>\n",
       "      <th></th>\n",
       "      <th></th>\n",
       "      <th></th>\n",
       "      <th></th>\n",
       "      <th></th>\n",
       "      <th></th>\n",
       "      <th></th>\n",
       "      <th></th>\n",
       "    </tr>\n",
       "  </thead>\n",
       "  <tbody>\n",
       "    <tr>\n",
       "      <th>(18, 30]</th>\n",
       "      <td>28.123881</td>\n",
       "      <td>27.391822</td>\n",
       "      <td>7.745893</td>\n",
       "      <td>6.649440</td>\n",
       "      <td>609</td>\n",
       "      <td>544</td>\n",
       "      <td>0.313879</td>\n",
       "      <td>0.285092</td>\n",
       "    </tr>\n",
       "    <tr>\n",
       "      <th>(30, 40]</th>\n",
       "      <td>30.325586</td>\n",
       "      <td>29.611726</td>\n",
       "      <td>8.315608</td>\n",
       "      <td>6.622412</td>\n",
       "      <td>474</td>\n",
       "      <td>458</td>\n",
       "      <td>0.381949</td>\n",
       "      <td>0.309445</td>\n",
       "    </tr>\n",
       "    <tr>\n",
       "      <th>(40, 50]</th>\n",
       "      <td>31.160643</td>\n",
       "      <td>29.724623</td>\n",
       "      <td>8.076195</td>\n",
       "      <td>6.407076</td>\n",
       "      <td>502</td>\n",
       "      <td>401</td>\n",
       "      <td>0.360458</td>\n",
       "      <td>0.319954</td>\n",
       "    </tr>\n",
       "    <tr>\n",
       "      <th>(50, 60]</th>\n",
       "      <td>30.743777</td>\n",
       "      <td>29.231486</td>\n",
       "      <td>7.575848</td>\n",
       "      <td>5.914373</td>\n",
       "      <td>470</td>\n",
       "      <td>454</td>\n",
       "      <td>0.349448</td>\n",
       "      <td>0.277575</td>\n",
       "    </tr>\n",
       "    <tr>\n",
       "      <th>(60, 70]</th>\n",
       "      <td>31.074828</td>\n",
       "      <td>29.392488</td>\n",
       "      <td>7.604514</td>\n",
       "      <td>5.933307</td>\n",
       "      <td>441</td>\n",
       "      <td>437</td>\n",
       "      <td>0.362120</td>\n",
       "      <td>0.283829</td>\n",
       "    </tr>\n",
       "    <tr>\n",
       "      <th>(70, 80]</th>\n",
       "      <td>29.138213</td>\n",
       "      <td>27.957692</td>\n",
       "      <td>6.284968</td>\n",
       "      <td>4.974855</td>\n",
       "      <td>410</td>\n",
       "      <td>402</td>\n",
       "      <td>0.310392</td>\n",
       "      <td>0.248123</td>\n",
       "    </tr>\n",
       "  </tbody>\n",
       "</table>\n",
       "</div>"
      ],
      "text/plain": [
       "              BMXBMI                                                       \\\n",
       "                mean                  std             size            sem   \n",
       "RIAGENDRx     Female       Male    Female      Male Female Male    Female   \n",
       "agegrp                                                                      \n",
       "(18, 30]   28.123881  27.391822  7.745893  6.649440    609  544  0.313879   \n",
       "(30, 40]   30.325586  29.611726  8.315608  6.622412    474  458  0.381949   \n",
       "(40, 50]   31.160643  29.724623  8.076195  6.407076    502  401  0.360458   \n",
       "(50, 60]   30.743777  29.231486  7.575848  5.914373    470  454  0.349448   \n",
       "(60, 70]   31.074828  29.392488  7.604514  5.933307    441  437  0.362120   \n",
       "(70, 80]   29.138213  27.957692  6.284968  4.974855    410  402  0.310392   \n",
       "\n",
       "                     \n",
       "                     \n",
       "RIAGENDRx      Male  \n",
       "agegrp               \n",
       "(18, 30]   0.285092  \n",
       "(30, 40]   0.309445  \n",
       "(40, 50]   0.319954  \n",
       "(50, 60]   0.277575  \n",
       "(60, 70]   0.283829  \n",
       "(70, 80]   0.248123  "
      ]
     },
     "execution_count": 141,
     "metadata": {},
     "output_type": "execute_result"
    }
   ],
   "source": [
    "# Calculate the SEM for females and for males within each age band\n",
    "pr[\"BMXBMI\", \"sem\", \"Female\"] = pr[\"BMXBMI\", \"std\", \"Female\"] / np.sqrt(pr[\"BMXBMI\", \"size\", \"Female\"]) \n",
    "pr[\"BMXBMI\", \"sem\", \"Male\"] = pr[\"BMXBMI\", \"std\", \"Male\"] / np.sqrt(pr[\"BMXBMI\", \"size\", \"Male\"]) \n",
    "pr"
   ]
  },
  {
   "cell_type": "code",
   "execution_count": 151,
   "id": "9817cd9d-c86d-4dd9-97a4-dc6b35dc7fcb",
   "metadata": {},
   "outputs": [
    {
     "data": {
      "text/plain": [
       "1.965912343229391"
      ]
     },
     "execution_count": 151,
     "metadata": {},
     "output_type": "execute_result"
    }
   ],
   "source": [
    "# Conservative value of T*\n",
    "n = min(pr[\"BMXBMI\", \"size\", \"Female\"].min(), pr[\"BMXBMI\", \"size\", \"Male\"].min())\n",
    "from scipy.stats import norm,t\n",
    "T_star_95 = t(df=n-1).ppf(0.975)\n",
    "T_star_95"
   ]
  },
  {
   "cell_type": "code",
   "execution_count": 152,
   "id": "f670e494-7054-4383-9999-ce22c779b13f",
   "metadata": {},
   "outputs": [
    {
     "data": {
      "text/html": [
       "<div>\n",
       "<style scoped>\n",
       "    .dataframe tbody tr th:only-of-type {\n",
       "        vertical-align: middle;\n",
       "    }\n",
       "\n",
       "    .dataframe tbody tr th {\n",
       "        vertical-align: top;\n",
       "    }\n",
       "\n",
       "    .dataframe thead tr th {\n",
       "        text-align: left;\n",
       "    }\n",
       "\n",
       "    .dataframe thead tr:last-of-type th {\n",
       "        text-align: right;\n",
       "    }\n",
       "</style>\n",
       "<table border=\"1\" class=\"dataframe\">\n",
       "  <thead>\n",
       "    <tr>\n",
       "      <th></th>\n",
       "      <th colspan=\"12\" halign=\"left\">BMXBMI</th>\n",
       "    </tr>\n",
       "    <tr>\n",
       "      <th></th>\n",
       "      <th colspan=\"2\" halign=\"left\">mean</th>\n",
       "      <th colspan=\"2\" halign=\"left\">std</th>\n",
       "      <th colspan=\"2\" halign=\"left\">size</th>\n",
       "      <th colspan=\"2\" halign=\"left\">sem</th>\n",
       "      <th>mean_diff</th>\n",
       "      <th>sem_diff</th>\n",
       "      <th>lcb_diff</th>\n",
       "      <th>ucb_diff</th>\n",
       "    </tr>\n",
       "    <tr>\n",
       "      <th>RIAGENDRx</th>\n",
       "      <th>Female</th>\n",
       "      <th>Male</th>\n",
       "      <th>Female</th>\n",
       "      <th>Male</th>\n",
       "      <th>Female</th>\n",
       "      <th>Male</th>\n",
       "      <th>Female</th>\n",
       "      <th>Male</th>\n",
       "      <th></th>\n",
       "      <th></th>\n",
       "      <th></th>\n",
       "      <th></th>\n",
       "    </tr>\n",
       "    <tr>\n",
       "      <th>agegrp</th>\n",
       "      <th></th>\n",
       "      <th></th>\n",
       "      <th></th>\n",
       "      <th></th>\n",
       "      <th></th>\n",
       "      <th></th>\n",
       "      <th></th>\n",
       "      <th></th>\n",
       "      <th></th>\n",
       "      <th></th>\n",
       "      <th></th>\n",
       "      <th></th>\n",
       "    </tr>\n",
       "  </thead>\n",
       "  <tbody>\n",
       "    <tr>\n",
       "      <th>(18, 30]</th>\n",
       "      <td>28.123881</td>\n",
       "      <td>27.391822</td>\n",
       "      <td>7.745893</td>\n",
       "      <td>6.649440</td>\n",
       "      <td>609</td>\n",
       "      <td>544</td>\n",
       "      <td>0.313879</td>\n",
       "      <td>0.285092</td>\n",
       "      <td>0.732059</td>\n",
       "      <td>0.424026</td>\n",
       "      <td>-0.101539</td>\n",
       "      <td>1.565657</td>\n",
       "    </tr>\n",
       "    <tr>\n",
       "      <th>(30, 40]</th>\n",
       "      <td>30.325586</td>\n",
       "      <td>29.611726</td>\n",
       "      <td>8.315608</td>\n",
       "      <td>6.622412</td>\n",
       "      <td>474</td>\n",
       "      <td>458</td>\n",
       "      <td>0.381949</td>\n",
       "      <td>0.309445</td>\n",
       "      <td>0.713861</td>\n",
       "      <td>0.491570</td>\n",
       "      <td>-0.252522</td>\n",
       "      <td>1.680244</td>\n",
       "    </tr>\n",
       "    <tr>\n",
       "      <th>(40, 50]</th>\n",
       "      <td>31.160643</td>\n",
       "      <td>29.724623</td>\n",
       "      <td>8.076195</td>\n",
       "      <td>6.407076</td>\n",
       "      <td>502</td>\n",
       "      <td>401</td>\n",
       "      <td>0.360458</td>\n",
       "      <td>0.319954</td>\n",
       "      <td>1.436019</td>\n",
       "      <td>0.481976</td>\n",
       "      <td>0.488497</td>\n",
       "      <td>2.383542</td>\n",
       "    </tr>\n",
       "    <tr>\n",
       "      <th>(50, 60]</th>\n",
       "      <td>30.743777</td>\n",
       "      <td>29.231486</td>\n",
       "      <td>7.575848</td>\n",
       "      <td>5.914373</td>\n",
       "      <td>470</td>\n",
       "      <td>454</td>\n",
       "      <td>0.349448</td>\n",
       "      <td>0.277575</td>\n",
       "      <td>1.512291</td>\n",
       "      <td>0.446275</td>\n",
       "      <td>0.634953</td>\n",
       "      <td>2.389630</td>\n",
       "    </tr>\n",
       "    <tr>\n",
       "      <th>(60, 70]</th>\n",
       "      <td>31.074828</td>\n",
       "      <td>29.392488</td>\n",
       "      <td>7.604514</td>\n",
       "      <td>5.933307</td>\n",
       "      <td>441</td>\n",
       "      <td>437</td>\n",
       "      <td>0.362120</td>\n",
       "      <td>0.283829</td>\n",
       "      <td>1.682340</td>\n",
       "      <td>0.460097</td>\n",
       "      <td>0.777830</td>\n",
       "      <td>2.586851</td>\n",
       "    </tr>\n",
       "    <tr>\n",
       "      <th>(70, 80]</th>\n",
       "      <td>29.138213</td>\n",
       "      <td>27.957692</td>\n",
       "      <td>6.284968</td>\n",
       "      <td>4.974855</td>\n",
       "      <td>410</td>\n",
       "      <td>402</td>\n",
       "      <td>0.310392</td>\n",
       "      <td>0.248123</td>\n",
       "      <td>1.180521</td>\n",
       "      <td>0.397377</td>\n",
       "      <td>0.399312</td>\n",
       "      <td>1.961730</td>\n",
       "    </tr>\n",
       "  </tbody>\n",
       "</table>\n",
       "</div>"
      ],
      "text/plain": [
       "              BMXBMI                                                       \\\n",
       "                mean                  std             size            sem   \n",
       "RIAGENDRx     Female       Male    Female      Male Female Male    Female   \n",
       "agegrp                                                                      \n",
       "(18, 30]   28.123881  27.391822  7.745893  6.649440    609  544  0.313879   \n",
       "(30, 40]   30.325586  29.611726  8.315608  6.622412    474  458  0.381949   \n",
       "(40, 50]   31.160643  29.724623  8.076195  6.407076    502  401  0.360458   \n",
       "(50, 60]   30.743777  29.231486  7.575848  5.914373    470  454  0.349448   \n",
       "(60, 70]   31.074828  29.392488  7.604514  5.933307    441  437  0.362120   \n",
       "(70, 80]   29.138213  27.957692  6.284968  4.974855    410  402  0.310392   \n",
       "\n",
       "                                                             \n",
       "                    mean_diff  sem_diff  lcb_diff  ucb_diff  \n",
       "RIAGENDRx      Male                                          \n",
       "agegrp                                                       \n",
       "(18, 30]   0.285092  0.732059  0.424026 -0.101539  1.565657  \n",
       "(30, 40]   0.309445  0.713861  0.491570 -0.252522  1.680244  \n",
       "(40, 50]   0.319954  1.436019  0.481976  0.488497  2.383542  \n",
       "(50, 60]   0.277575  1.512291  0.446275  0.634953  2.389630  \n",
       "(60, 70]   0.283829  1.682340  0.460097  0.777830  2.586851  \n",
       "(70, 80]   0.248123  1.180521  0.397377  0.399312  1.961730  "
      ]
     },
     "execution_count": 152,
     "metadata": {},
     "output_type": "execute_result"
    }
   ],
   "source": [
    "# Calculate the mean difference of BMI between females and males within each age band, also  calculate\n",
    "# its SE and the lower and upper limits of its 95% CI.\n",
    "pr[\"BMXBMI\", \"mean_diff\", \"\"] = pr[\"BMXBMI\", \"mean\", \"Female\"] - pr[\"BMXBMI\", \"mean\", \"Male\"]\n",
    "pr[\"BMXBMI\", \"sem_diff\", \"\"] = np.sqrt(pr[\"BMXBMI\", \"sem\", \"Female\"]**2 + pr[\"BMXBMI\", \"sem\", \"Male\"]**2) \n",
    "pr[\"BMXBMI\", \"lcb_diff\", \"\"] = pr[\"BMXBMI\", \"mean_diff\", \"\"] - T_star_95 * pr[\"BMXBMI\", \"sem_diff\", \"\"] \n",
    "pr[\"BMXBMI\", \"ucb_diff\", \"\"] = pr[\"BMXBMI\", \"mean_diff\", \"\"] + T_star_95 * pr[\"BMXBMI\", \"sem_diff\", \"\"]\n",
    "pr"
   ]
  },
  {
   "cell_type": "code",
   "execution_count": 155,
   "id": "25074546-3736-4483-815d-3eef0f2482e5",
   "metadata": {},
   "outputs": [
    {
     "data": {
      "text/plain": [
       "Text(0, 0.5, 'Female - Male BMI difference')"
      ]
     },
     "execution_count": 155,
     "metadata": {},
     "output_type": "execute_result"
    },
    {
     "data": {
      "image/png": "[encoded data removed]",
      "text/plain": [
       "<Figure size 432x288 with 1 Axes>"
      ]
     },
     "metadata": {
      "needs_background": "light"
     },
     "output_type": "display_data"
    }
   ],
   "source": [
    "# Plot the mean difference in black and the confidence limits in blue\n",
    "x = np.arange(pr.shape[0]) # age ranges\n",
    "pp = sns.pointplot(x=x, y=pr[\"BMXBMI\", \"mean_diff\", \"\"], color='black')\n",
    "sns.pointplot(x=x, y=pr[\"BMXBMI\", \"lcb_diff\", \"\"], color='blue')\n",
    "sns.pointplot(x=x, y=pr[\"BMXBMI\", \"ucb_diff\", \"\"], color='blue')\n",
    "pp.set_xticklabels(pr.index)\n",
    "pp.set_xlabel(\"Age group\")\n",
    "pp.set_ylabel(\"Female - Male BMI difference\")"
   ]
  },
  {
   "cell_type": "markdown",
   "id": "c28160a3-c8a7-4fe8-bbb0-2ed2bb3cc924",
   "metadata": {},
   "source": [
    "## 5. Question 5\n",
    "\n",
    "> Construct a 95% confidence interval for the first and second systolic blood pressure measures, and for the difference between the first and second systolic blood pressure measurements within a subject."
   ]
  },
  {
   "cell_type": "code",
   "execution_count": 161,
   "id": "21764d34-2a23-4810-8e91-573bec23defa",
   "metadata": {},
   "outputs": [
    {
     "name": "stdout",
     "output_type": "stream",
     "text": [
      "125.08461396037771 18.480872651654824 5401\n",
      "124.78301716350497 18.527011720295047 5535\n"
     ]
    }
   ],
   "source": [
    "# First and second systolic blood pressure measuements of same subject: BPXSY1, BPXSY2\n",
    "m_1 = da[\"BPXSY1\"].dropna().mean()\n",
    "s_1 = da[\"BPXSY1\"].dropna().std()\n",
    "n_1 = da[\"BPXSY1\"].dropna().count()\n",
    "print(m_1, s_1, n_1)\n",
    "m_2 = da[\"BPXSY2\"].dropna().mean()\n",
    "s_2 = da[\"BPXSY2\"].dropna().std()\n",
    "n_2 = da[\"BPXSY2\"].dropna().count()\n",
    "print(m_2, s_2, n_2)"
   ]
  },
  {
   "cell_type": "code",
   "execution_count": 191,
   "id": "c5edb54e-1c4c-4154-970e-7049075ce845",
   "metadata": {},
   "outputs": [
    {
     "data": {
      "text/plain": [
       "(0.3625953605990392, 0.31773450481927457)"
      ]
     },
     "execution_count": 191,
     "metadata": {},
     "output_type": "execute_result"
    }
   ],
   "source": [
    "se_mean_1 = s_1 / np.sqrt(n_1)\n",
    "se_mean_2 = s_2 / np.sqrt(n_2)\n",
    "(se_mean_1, se_mean_2)"
   ]
  },
  {
   "cell_type": "code",
   "execution_count": 192,
   "id": "c4b448b7-f962-48f3-93aa-7afa720c1411",
   "metadata": {},
   "outputs": [
    {
     "name": "stdout",
     "output_type": "stream",
     "text": [
      "1.960987922999943 1.960660930319327\n"
     ]
    }
   ],
   "source": [
    "from scipy.stats import norm,t\n",
    "T_star_95_1 = t(df=n_1-1).ppf(0.975)\n",
    "T_star_95_2 = t(df=n_2-1).ppf(0.975)\n",
    "print(T_star_95_1, T_star_95_2)"
   ]
  },
  {
   "cell_type": "code",
   "execution_count": 193,
   "id": "08e004e2-46c4-46b4-9a3e-23fa856aae60",
   "metadata": {},
   "outputs": [
    {
     "data": {
      "text/plain": [
       "(51.385548236136025, 52.80763848227708)"
      ]
     },
     "execution_count": 193,
     "metadata": {},
     "output_type": "execute_result"
    }
   ],
   "source": [
    "lcb_1 = m_1 - T_star_95_1 * se_mean_1\n",
    "ucb_1 = m_1 + T_star_95_1 * se_mean_1\n",
    "(lcb_1, ucb_1)"
   ]
  },
  {
   "cell_type": "code",
   "execution_count": 194,
   "id": "3ce0f27c-db7d-4c97-b220-a257e73ed005",
   "metadata": {},
   "outputs": [
    {
     "data": {
      "text/plain": [
       "(44.636865954449554, 45.882805214076576)"
      ]
     },
     "execution_count": 194,
     "metadata": {},
     "output_type": "execute_result"
    }
   ],
   "source": [
    "lcb_2 = m_2 - T_star_95_2 * se_mean_2\n",
    "ucb_2 = m_2 + T_star_95_2 * se_mean_2\n",
    "(lcb_2, ucb_2)"
   ]
  },
  {
   "cell_type": "code",
   "execution_count": 195,
   "id": "196c1243-1012-46a9-a7b6-0c147de227e5",
   "metadata": {},
   "outputs": [],
   "source": [
    "# Difference"
   ]
  },
  {
   "cell_type": "code",
   "execution_count": 196,
   "id": "b2de49fd-b7e8-4489-b6d6-ac908c9c55f2",
   "metadata": {},
   "outputs": [
    {
     "name": "stdout",
     "output_type": "stream",
     "text": [
      "0.6749860309182343 5.046465367896533 5369\n"
     ]
    }
   ],
   "source": [
    "m = (da[\"BPXSY1\"]-da[\"BPXSY2\"]).dropna().mean()\n",
    "s = (da[\"BPXSY1\"]-da[\"BPXSY2\"]).dropna().std()\n",
    "n = (da[\"BPXSY1\"]-da[\"BPXSY2\"]).dropna().count()\n",
    "print(m,s,n)"
   ]
  },
  {
   "cell_type": "code",
   "execution_count": 197,
   "id": "3d6cba9e-af2e-4426-bd32-865915cc037a",
   "metadata": {},
   "outputs": [
    {
     "data": {
      "text/plain": [
       "0.06887166703842532"
      ]
     },
     "execution_count": 197,
     "metadata": {},
     "output_type": "execute_result"
    }
   ],
   "source": [
    "se_mean_diff = s / np.sqrt(n)\n",
    "se_mean_diff"
   ]
  },
  {
   "cell_type": "code",
   "execution_count": 198,
   "id": "34e09fc4-78a3-4a0d-ba2f-db0ad29d8e92",
   "metadata": {},
   "outputs": [
    {
     "name": "stdout",
     "output_type": "stream",
     "text": [
      "1.9604060108291357\n"
     ]
    }
   ],
   "source": [
    "from scipy.stats import norm,t\n",
    "T_star_95 = t(df=n-1).ppf(0.975)\n",
    "print(T_star_95)"
   ]
  },
  {
   "cell_type": "code",
   "execution_count": 199,
   "id": "765c98df-a22f-4cfc-9bb2-4f3f71cebf76",
   "metadata": {},
   "outputs": [
    {
     "data": {
      "text/plain": [
       "(0.5399696008802825, 0.8100024609561861)"
      ]
     },
     "execution_count": 199,
     "metadata": {},
     "output_type": "execute_result"
    }
   ],
   "source": [
    "lcb_diff = m - T_star_95 * se_mean_diff\n",
    "ucb_diff = m + T_star_95 * se_mean_diff\n",
    "(lcb_diff, ucb_diff)"
   ]
  },
  {
   "cell_type": "markdown",
   "id": "0ec0455a-790c-4eaf-b7d4-01b8c0dd2752",
   "metadata": {},
   "source": [
    "## 6. Question 6\n",
    "\n",
    "> Construct a 95% confidence interval for the mean difference between the average age of a smoker, and the average age of a non-smoker."
   ]
  },
  {
   "cell_type": "code",
   "execution_count": 200,
   "id": "0c7eb2a2-1400-434b-afcf-a349499a1e74",
   "metadata": {},
   "outputs": [],
   "source": [
    "# Recode SMQ020 from 1/2 to Yes/No into new variable SMQ020x\n",
    "da[\"SMQ020x\"] = da.SMQ020.replace({1: \"Yes\", 2: \"No\", 7: np.nan, 9: np.nan})"
   ]
  },
  {
   "cell_type": "code",
   "execution_count": 201,
   "id": "2f1fc666-73e3-41f9-bc74-6131fb6ea5c3",
   "metadata": {},
   "outputs": [],
   "source": [
    "age_smokers = da.loc[da.SMQ020x==\"Yes\",\"RIDAGEYR\"].dropna()\n",
    "age_nonsmokers = da.loc[da.SMQ020x==\"No\",\"RIDAGEYR\"].dropna()"
   ]
  },
  {
   "cell_type": "code",
   "execution_count": 202,
   "id": "6f21db80-5706-40bb-8330-f7f0f6e37260",
   "metadata": {},
   "outputs": [
    {
     "data": {
      "text/plain": [
       "<AxesSubplot:xlabel='RIDAGEYR', ylabel='Count'>"
      ]
     },
     "execution_count": 202,
     "metadata": {},
     "output_type": "execute_result"
    },
    {
     "data": {
      "image/png": "[encoded data removed]",
      "text/plain": [
       "<Figure size 432x288 with 1 Axes>"
      ]
     },
     "metadata": {
      "needs_background": "light"
     },
     "output_type": "display_data"
    }
   ],
   "source": [
    "import seaborn as sns\n",
    "sns.histplot(data=age_smokers,bins=60,kde=True,alpha=0.5,color='red')\n",
    "sns.histplot(data=age_nonsmokers,bins=60,kde=True,alpha=0.5,color='blue')"
   ]
  },
  {
   "cell_type": "code",
   "execution_count": 203,
   "id": "56a83242-24a0-4285-a9c1-d3f86b35cf82",
   "metadata": {},
   "outputs": [
    {
     "name": "stdout",
     "output_type": "stream",
     "text": [
      "52.09659335920655 17.461140920034683 2319\n",
      "45.259835584263065 18.54328622905512 3406\n"
     ]
    }
   ],
   "source": [
    "m_1 = age_smokers.dropna().mean()\n",
    "s_1 = age_smokers.dropna().std()\n",
    "n_1 = age_smokers.dropna().count()\n",
    "print(m_1, s_1, n_1)\n",
    "m_2 = age_nonsmokers.dropna().mean()\n",
    "s_2 = age_nonsmokers.dropna().std()\n",
    "n_2 = age_nonsmokers.dropna().count()\n",
    "print(m_2, s_2, n_2)"
   ]
  },
  {
   "cell_type": "code",
   "execution_count": 204,
   "id": "11eadcc7-8bb8-4b96-a715-1fe18e277a9f",
   "metadata": {},
   "outputs": [
    {
     "data": {
      "text/plain": [
       "(0.3625953605990392, 0.31773450481927457)"
      ]
     },
     "execution_count": 204,
     "metadata": {},
     "output_type": "execute_result"
    }
   ],
   "source": [
    "se_mean_1 = s_1 / np.sqrt(n_1)\n",
    "se_mean_2 = s_2 / np.sqrt(n_2)\n",
    "(se_mean_1, se_mean_2)"
   ]
  },
  {
   "cell_type": "code",
   "execution_count": 205,
   "id": "d2eda286-127e-48f6-83a2-b54feca2a9fd",
   "metadata": {},
   "outputs": [
    {
     "name": "stdout",
     "output_type": "stream",
     "text": [
      "1.960987922999943 1.960660930319327\n"
     ]
    }
   ],
   "source": [
    "from scipy.stats import norm,t\n",
    "T_star_95_1 = t(df=n_1-1).ppf(0.975)\n",
    "T_star_95_2 = t(df=n_2-1).ppf(0.975)\n",
    "print(T_star_95_1, T_star_95_2)"
   ]
  },
  {
   "cell_type": "code",
   "execution_count": 206,
   "id": "663cf11f-f6c2-474f-a7fe-bc8f45dc5d1e",
   "metadata": {},
   "outputs": [
    {
     "data": {
      "text/plain": [
       "(51.385548236136025, 52.80763848227708)"
      ]
     },
     "execution_count": 206,
     "metadata": {},
     "output_type": "execute_result"
    }
   ],
   "source": [
    "lcb_1 = m_1 - T_star_95_1 * se_mean_1\n",
    "ucb_1 = m_1 + T_star_95_1 * se_mean_1\n",
    "(lcb_1, ucb_1)"
   ]
  },
  {
   "cell_type": "code",
   "execution_count": 207,
   "id": "4bbecfa1-540c-4bb5-8f7d-09dfe29c52d3",
   "metadata": {},
   "outputs": [
    {
     "data": {
      "text/plain": [
       "(44.636865954449554, 45.882805214076576)"
      ]
     },
     "execution_count": 207,
     "metadata": {},
     "output_type": "execute_result"
    }
   ],
   "source": [
    "lcb_2 = m_2 - T_star_95_2 * se_mean_2\n",
    "ucb_2 = m_2 + T_star_95_2 * se_mean_2\n",
    "(lcb_2, ucb_2)"
   ]
  }
 ],
 "metadata": {
  "kernelspec": {
   "display_name": "Python 3 (ipykernel)",
   "language": "python",
   "name": "python3"
  },
  "language_info": {
   "codemirror_mode": {
    "name": "ipython",
    "version": 3
   },
   "file_extension": ".py",
   "mimetype": "text/x-python",
   "name": "python",
   "nbconvert_exporter": "python",
   "pygments_lexer": "ipython3",
   "version": "3.7.11"
  }
 },
 "nbformat": 4,
 "nbformat_minor": 5
}
