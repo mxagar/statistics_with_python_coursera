{
 "cells": [
  {
   "cell_type": "markdown",
   "id": "cdf9f13b-d32c-4580-ad16-d211fe64bb66",
   "metadata": {},
   "source": [
    "# Python Lab"
   ]
  },
  {
   "cell_type": "markdown",
   "id": "ad8806cf-3750-4034-9193-98f2c8e201a5",
   "metadata": {},
   "source": [
    "This notebook summarizes some of the concepts contained in the python lab of the second* course. These are very basic things, although in the course they're introduced as intermediate...\n",
    "\n",
    "It is supposed that these concepts build up on the concepts introduced in the previous first course.\n",
    "\n",
    "Examples are left without much documentation.\n",
    "\n",
    "**Overiew:**\n",
    "1. Lists vs. Numpy Arrays"
   ]
  },
  {
   "cell_type": "code",
   "execution_count": null,
   "id": "9a901873-2449-4540-ba0b-82b5ad817447",
   "metadata": {},
   "outputs": [],
   "source": []
  }
 ],
 "metadata": {
  "kernelspec": {
   "display_name": "Python 3 (ipykernel)",
   "language": "python",
   "name": "python3"
  },
  "language_info": {
   "codemirror_mode": {
    "name": "ipython",
    "version": 3
   },
   "file_extension": ".py",
   "mimetype": "text/x-python",
   "name": "python",
   "nbconvert_exporter": "python",
   "pygments_lexer": "ipython3",
   "version": "3.7.11"
  }
 },
 "nbformat": 4,
 "nbformat_minor": 5
}
