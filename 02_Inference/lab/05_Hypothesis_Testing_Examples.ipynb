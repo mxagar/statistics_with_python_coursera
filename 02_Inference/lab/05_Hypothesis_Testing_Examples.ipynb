{
 "cells": [
  {
   "cell_type": "markdown",
   "id": "c9d49232-eb41-4e4f-8677-e414a2151064",
   "metadata": {},
   "source": [
    "# Hypothesis Testing: Examples"
   ]
  },
  {
   "cell_type": "markdown",
   "id": "b2e5bf3a-98b6-4ca7-bd1b-931a545d5b68",
   "metadata": {},
   "source": [
    "This notebook collects examples of the most important hypothesis tests. I have extended the course material, since **there are some errors or wrong practices in the course notebooks/videos**, as far as I understand; concretely, one should use:\n",
    "- the Z-Distribution (and Z-Tests) with proportions\n",
    "- the T-Distirbution (and T-Tests) with means\n",
    "\n",
    "Recall in a hypothesis test we have:\n",
    "- **Null Hypothesis**: `H0`, the parting hypothesis we want to reject (possible if `p-value < alpha`)\n",
    "- **Alternative Hypothesis:** `Ha`, the hypothesis that remains after `H0` is rejected\n",
    "- Significance level `alpha`: acceptance threshold of the `p-value`: p(Type I Error) = p(False Positive)\n",
    "- `p-value`: **assuming `H0` is true, which is the likelihood that the data we have occurs?**\n",
    "- Statistical power: `1 - beta`; `beta` = p(Type II Error) = p(False Negative)\n",
    "\n",
    "Hypothesis tests are computed why obtaining a `p-value` of a test statistic, which has always this form:\n",
    "\n",
    "$$Statistic = \\frac{Best\\ Estimate - Hypothesized\\ Estimate\\ (what\\ comes\\ after\\ H0=)}{Standard\\ Error\\ of\\ Estimate}$$ \n",
    "\n",
    "The definition of the **standard error** is different for each case, but its general form is the square root of the sample variance divided by the sample size. Thus, the test statistic measures **how many standard errors away is the difference between the measurements and the null hypothesis**. If the statistic is large, we are far away in the tails, thus, the likelihood for the data appearing under `H0` is low.\n",
    "\n",
    "If `p-value < alpha`, the parameters are significantly different, i.e., we can reject the null hypothesis and accept the alternative. Otherwise (`p-value > alpha`), parameters are not significantly different, i.e., we cannot reject the null hypothesis.\n",
    "\n",
    "Overview of sections:\n",
    "\n",
    "1. One Population Proportion\n",
    "2. Difference in Population Proportions\n",
    "3. One Population Mean\n",
    "4. Difference in Population Means with Independent Data\n",
    "5. Difference in Population Means with Paired Data (Repeated Measured)\n",
    "6. Assumptions Checks: Normality with Histograms, Boxplots, and QQ-Plots\n",
    "7. Visualization of the critical T statistic\n",
    "8. Power and Sample Size Relationship"
   ]
  },
  {
   "cell_type": "code",
   "execution_count": 114,
   "id": "51814c0d-4e44-4721-ab74-a5df4a7f98a8",
   "metadata": {},
   "outputs": [],
   "source": [
    "import statsmodels.api as sm\n",
    "import numpy as np\n",
    "import pandas as pd\n",
    "import scipy.stats.distributions as dist\n",
    "import matplotlib.pyplot as plt\n",
    "import seaborn as sns\n",
    "import scipy.stats as stats"
   ]
  },
  {
   "cell_type": "markdown",
   "id": "6c0465ff-7b03-4b6a-a9f5-20c45c17167a",
   "metadata": {},
   "source": [
    "## 1. One Population Proportion\n",
    "\n",
    "#### Example Research Question \n",
    "\n",
    "In previous years 52% of parents believed that electronics and social media was the cause of their teenager’s lack of sleep. Do more parents today believe that their teenager’s lack of sleep is caused due to electronics and social media? \n",
    "\n",
    "- **Population**: Parents with a teenager (age 13-18)  \n",
    "- **Parameter of Interest**: proportion, p\n",
    "- **Null Hypothesis:** p = 0.52  \n",
    "- **Alternative Hypthosis:** p > 0.52 (note that this is a one-sided test)\n",
    "\n",
    "Data:\n",
    "- Sample size: 1018 Parents.\n",
    "- 56% believe that their teenager’s lack of sleep is caused due to electronics and social media."
   ]
  },
  {
   "cell_type": "markdown",
   "id": "7b96abc9-efbe-41cc-8054-06ba06dbb0fa",
   "metadata": {},
   "source": [
    "### Computation with Libraries"
   ]
  },
  {
   "cell_type": "code",
   "execution_count": 115,
   "id": "4650c646-b7f9-4225-aef5-1a28353b2d76",
   "metadata": {},
   "outputs": [
    {
     "data": {
      "text/plain": [
       "(2.5545334262132955, 0.005316510991822442)"
      ]
     },
     "execution_count": 115,
     "metadata": {},
     "output_type": "execute_result"
    }
   ],
   "source": [
    "n = 1018 # sample size\n",
    "pnull = 0.52 # H0\n",
    "phat = 0.56 # Ha\n",
    "# Proportion hypotheses are tested with the Z=N(0,1) distribution\n",
    "# The parameters for the Z-Test are self-explanatory\n",
    "# The Z value and its p-value are returned\n",
    "# Note that depending on the alternative >, <, !=\n",
    "# a different token is used\n",
    "# hence, the p-vale is computed as one- or two-sided!\n",
    "sm.stats.proportions_ztest(phat * n,\n",
    "                           n,\n",
    "                           pnull,\n",
    "                           alternative='larger',\n",
    "                           prop_var=pnull)"
   ]
  },
  {
   "cell_type": "markdown",
   "id": "3d2fbb9c-a2a4-4fad-949a-253775a0fc89",
   "metadata": {},
   "source": [
    "### Manual Computation"
   ]
  },
  {
   "cell_type": "code",
   "execution_count": 116,
   "id": "c3c40d25-448c-4e70-afe2-6b089a48ec9f",
   "metadata": {},
   "outputs": [
    {
     "name": "stdout",
     "output_type": "stream",
     "text": [
      "Z-Statistic =  2.5545334262132955\n"
     ]
    }
   ],
   "source": [
    "n = 1018 # sample size\n",
    "pnull = 0.52 # H0\n",
    "phat = 0.56 # Ha\n",
    "# The Standard Error of the estimate is measured with the p0 proportion!\n",
    "# The reason is that we don't really know p, we have the best estimate of it\n",
    "se = np.sqrt(pnull*(1-pnull)/n)\n",
    "test_stat = (phat - pnull) / se\n",
    "print(\"Z-Statistic = \", test_stat)"
   ]
  },
  {
   "cell_type": "code",
   "execution_count": 117,
   "id": "d18890cf-4657-4af0-a3f6-df9388a1fedf",
   "metadata": {},
   "outputs": [
    {
     "name": "stdout",
     "output_type": "stream",
     "text": [
      "p-value =  0.005316510991822442\n"
     ]
    }
   ],
   "source": [
    "# One-sided: Ha >\n",
    "pvalue = dist.norm.cdf(-np.abs(test_stat))\n",
    "# Equivalent to\n",
    "# pvalue = 1-dist.norm.cdf(np.abs(test_stat))\n",
    "print(\"p-value = \", pvalue)"
   ]
  },
  {
   "cell_type": "markdown",
   "id": "ef844736-ede4-48f3-b3a9-8f4f526db62f",
   "metadata": {},
   "source": [
    "## 2. Difference in Population Proportions\n",
    "\n",
    "#### Example Research Question\n",
    "\n",
    "Is there a significant difference between the population proportions of parents of black children and parents of Hispanic children who report that their child has had some swimming lessons?\n",
    "\n",
    "- **Populations**: All parents of black children age 6-18 and all parents of Hispanic children age 6-18  \n",
    "- **Parameter of Interest**: Proportion difference: p1 - p2, where p1 = black and p2 = hispanic  \n",
    "- **Null Hypothesis:** p1 - p2 = 0\n",
    "- **Alternative Hypthosis:** p1 - p2 $\\neq$ 0  \n",
    "\n",
    "Data:\n",
    "- 91 out of 247 (36.8%) sampled parents of black children report that their child has had some swimming lessons.\n",
    "- 120 out of 308 (38.9%) sampled parents of Hispanic children report that their child has had some swimming lessons."
   ]
  },
  {
   "cell_type": "markdown",
   "id": "f1a9147b-6f40-485e-927c-e2135ed6fdc6",
   "metadata": {},
   "source": [
    "### Manual Computation"
   ]
  },
  {
   "cell_type": "code",
   "execution_count": 118,
   "id": "95f03b97-dd8f-416e-abfb-1edbdddcb0b2",
   "metadata": {},
   "outputs": [
    {
     "name": "stdout",
     "output_type": "stream",
     "text": [
      "Test Statistic\n",
      "-0.48\n",
      "\n",
      "P-Value\n",
      "0.63\n"
     ]
    }
   ],
   "source": [
    "# Sample sizes\n",
    "n1 = 247\n",
    "n2 = 308\n",
    "\n",
    "# Number of parents reporting that their child had some swimming lessons\n",
    "y1 = 91\n",
    "y2 = 120\n",
    "\n",
    "# Estimates of the population proportions\n",
    "p1 = round(y1 / n1, 2)\n",
    "p2 = round(y2 / n2, 2)\n",
    "\n",
    "# Estimate of the combined population proportion\n",
    "phat = (y1 + y2) / (n1 + n2)\n",
    "\n",
    "# Estimate of the variance of the combined population proportion\n",
    "va = phat * (1 - phat)\n",
    "\n",
    "# Estimate of the standard error of the combined population proportion\n",
    "se = np.sqrt(va * (1 / n1 + 1 / n2))\n",
    "\n",
    "# Test statistic and its p-value: 2-sided, because the Ha is !=\n",
    "test_stat = (p1 - p2) / se\n",
    "pvalue = 2*dist.norm.cdf(-np.abs(test_stat))\n",
    "# Equivalent to\n",
    "# pvalue = 2*(1-dist.norm.cdf(np.abs(test_stat)))\n",
    "\n",
    "# Print the test statistic its p-value\n",
    "print(\"Test Statistic\")\n",
    "print(round(test_stat, 2))\n",
    "\n",
    "print(\"\\nP-Value\")\n",
    "print(round(pvalue, 2))"
   ]
  },
  {
   "cell_type": "markdown",
   "id": "9eeafdd8-5976-4679-a73e-7a3fb6aee0e7",
   "metadata": {},
   "source": [
    "### Computation with Libraries: Incorrect, because a Z-Test Should Be Used?"
   ]
  },
  {
   "cell_type": "code",
   "execution_count": 119,
   "id": "55e1401c-622b-4d18-a3d7-3120336f29b7",
   "metadata": {},
   "outputs": [
    {
     "name": "stdout",
     "output_type": "stream",
     "text": [
      "\n",
      "T-Test with Statsmodels (Not Z-Test)\n",
      "(-0.3923613549040447, 0.6949424130119519, 553.0)\n"
     ]
    }
   ],
   "source": [
    "# Similar Test using Statsmodels Done in the Notebook Video\n",
    "# But this is using the T-Distribution??\n",
    "# I think this is wrong - we should use the Z-Distribution with proportions...??\n",
    "\n",
    "# We create population values, which follow the binomial distribution\n",
    "population1 = np.random.binomial(1, p1, n1) # 0, 0, 0, 1, 0, ...\n",
    "population2 = np.random.binomial(1, p2, n2)\n",
    "\n",
    "print(\"\\nT-Test with Statsmodels (Not Z-Test)\")\n",
    "print(sm.stats.ttest_ind(population1, population2))"
   ]
  },
  {
   "cell_type": "markdown",
   "id": "2bbc6740-5276-40f4-9674-69cb991dcdce",
   "metadata": {},
   "source": [
    "## 3. One Population Mean\n",
    "\n",
    "#### Example Research Question \n",
    "\n",
    "Is the average cartwheel distance (in inches) for adults \n",
    "more than 80 inches?\n",
    "\n",
    "- **Population**: All adults  \n",
    "- **Parameter of Interest**: $\\mu$, population mean cartwheel distance.\n",
    "- **Null Hypothesis:** $\\mu$ = 80\n",
    "- **Alternative Hypthosis:** $\\mu$ > 80\n",
    "\n",
    "Data:\n",
    "- 25 Adults\n",
    "- $\\mu = 82.46$\n",
    "- $\\sigma = 15.06$"
   ]
  },
  {
   "cell_type": "code",
   "execution_count": 120,
   "id": "23a970ee-5207-4efa-adb6-56e766fe54f3",
   "metadata": {},
   "outputs": [
    {
     "data": {
      "text/html": [
       "<div>\n",
       "<style scoped>\n",
       "    .dataframe tbody tr th:only-of-type {\n",
       "        vertical-align: middle;\n",
       "    }\n",
       "\n",
       "    .dataframe tbody tr th {\n",
       "        vertical-align: top;\n",
       "    }\n",
       "\n",
       "    .dataframe thead th {\n",
       "        text-align: right;\n",
       "    }\n",
       "</style>\n",
       "<table border=\"1\" class=\"dataframe\">\n",
       "  <thead>\n",
       "    <tr style=\"text-align: right;\">\n",
       "      <th></th>\n",
       "      <th>ID</th>\n",
       "      <th>Age</th>\n",
       "      <th>Gender</th>\n",
       "      <th>GenderGroup</th>\n",
       "      <th>Glasses</th>\n",
       "      <th>GlassesGroup</th>\n",
       "      <th>Height</th>\n",
       "      <th>Wingspan</th>\n",
       "      <th>CWDistance</th>\n",
       "      <th>Complete</th>\n",
       "      <th>CompleteGroup</th>\n",
       "      <th>Score</th>\n",
       "    </tr>\n",
       "  </thead>\n",
       "  <tbody>\n",
       "    <tr>\n",
       "      <th>0</th>\n",
       "      <td>1</td>\n",
       "      <td>56</td>\n",
       "      <td>F</td>\n",
       "      <td>1</td>\n",
       "      <td>Y</td>\n",
       "      <td>1</td>\n",
       "      <td>62.0</td>\n",
       "      <td>61.0</td>\n",
       "      <td>79</td>\n",
       "      <td>Y</td>\n",
       "      <td>1</td>\n",
       "      <td>7</td>\n",
       "    </tr>\n",
       "    <tr>\n",
       "      <th>1</th>\n",
       "      <td>2</td>\n",
       "      <td>26</td>\n",
       "      <td>F</td>\n",
       "      <td>1</td>\n",
       "      <td>Y</td>\n",
       "      <td>1</td>\n",
       "      <td>62.0</td>\n",
       "      <td>60.0</td>\n",
       "      <td>70</td>\n",
       "      <td>Y</td>\n",
       "      <td>1</td>\n",
       "      <td>8</td>\n",
       "    </tr>\n",
       "    <tr>\n",
       "      <th>2</th>\n",
       "      <td>3</td>\n",
       "      <td>33</td>\n",
       "      <td>F</td>\n",
       "      <td>1</td>\n",
       "      <td>Y</td>\n",
       "      <td>1</td>\n",
       "      <td>66.0</td>\n",
       "      <td>64.0</td>\n",
       "      <td>85</td>\n",
       "      <td>Y</td>\n",
       "      <td>1</td>\n",
       "      <td>7</td>\n",
       "    </tr>\n",
       "    <tr>\n",
       "      <th>3</th>\n",
       "      <td>4</td>\n",
       "      <td>39</td>\n",
       "      <td>F</td>\n",
       "      <td>1</td>\n",
       "      <td>N</td>\n",
       "      <td>0</td>\n",
       "      <td>64.0</td>\n",
       "      <td>63.0</td>\n",
       "      <td>87</td>\n",
       "      <td>Y</td>\n",
       "      <td>1</td>\n",
       "      <td>10</td>\n",
       "    </tr>\n",
       "    <tr>\n",
       "      <th>4</th>\n",
       "      <td>5</td>\n",
       "      <td>27</td>\n",
       "      <td>M</td>\n",
       "      <td>2</td>\n",
       "      <td>N</td>\n",
       "      <td>0</td>\n",
       "      <td>73.0</td>\n",
       "      <td>75.0</td>\n",
       "      <td>72</td>\n",
       "      <td>N</td>\n",
       "      <td>0</td>\n",
       "      <td>4</td>\n",
       "    </tr>\n",
       "  </tbody>\n",
       "</table>\n",
       "</div>"
      ],
      "text/plain": [
       "   ID  Age Gender  GenderGroup Glasses  GlassesGroup  Height  Wingspan  \\\n",
       "0   1   56      F            1       Y             1    62.0      61.0   \n",
       "1   2   26      F            1       Y             1    62.0      60.0   \n",
       "2   3   33      F            1       Y             1    66.0      64.0   \n",
       "3   4   39      F            1       N             0    64.0      63.0   \n",
       "4   5   27      M            2       N             0    73.0      75.0   \n",
       "\n",
       "   CWDistance Complete  CompleteGroup  Score  \n",
       "0          79        Y              1      7  \n",
       "1          70        Y              1      8  \n",
       "2          85        Y              1      7  \n",
       "3          87        Y              1     10  \n",
       "4          72        N              0      4  "
      ]
     },
     "execution_count": 120,
     "metadata": {},
     "output_type": "execute_result"
    }
   ],
   "source": [
    "df = pd.read_csv(\"Cartwheeldata.csv\")\n",
    "df.head()"
   ]
  },
  {
   "cell_type": "code",
   "execution_count": 121,
   "id": "a75dad05-b718-427f-aa9b-d694f05766a8",
   "metadata": {},
   "outputs": [
    {
     "data": {
      "text/plain": [
       "(25, 82.48, 15.058552387264855)"
      ]
     },
     "execution_count": 121,
     "metadata": {},
     "output_type": "execute_result"
    }
   ],
   "source": [
    "n = len(df)\n",
    "mean = df[\"CWDistance\"].mean()\n",
    "sd = df[\"CWDistance\"].std()\n",
    "(n, mean, sd)"
   ]
  },
  {
   "cell_type": "markdown",
   "id": "d087e7a9-93f3-4178-aeb2-526f66797041",
   "metadata": {},
   "source": [
    "### Computation with Libraries: Incorrect, because We Should Use the T-Distirbution?"
   ]
  },
  {
   "cell_type": "code",
   "execution_count": 122,
   "id": "51cd02eb-b2b4-4bf5-a521-ddeb7bdb802d",
   "metadata": {},
   "outputs": [
    {
     "data": {
      "text/plain": [
       "(0.8234523266982029, 0.20512540845395266)"
      ]
     },
     "execution_count": 122,
     "metadata": {},
     "output_type": "execute_result"
    }
   ],
   "source": [
    "# The Z value and the associated p-value are obtained\n",
    "# However, we should be using the T-Distribution?? -> T-Test\n",
    "sm.stats.ztest(df[\"CWDistance\"],\n",
    "               value = 80,\n",
    "               alternative = \"larger\")"
   ]
  },
  {
   "cell_type": "markdown",
   "id": "857c6a2a-d35f-412e-bdbe-b533c6f2b85a",
   "metadata": {},
   "source": [
    "### Manual Computation"
   ]
  },
  {
   "cell_type": "code",
   "execution_count": 123,
   "id": "759f0fe3-c55f-4b76-aa2c-f19f0cd41e9b",
   "metadata": {},
   "outputs": [
    {
     "name": "stdout",
     "output_type": "stream",
     "text": [
      "T-Statistic =  0.8234523266982027\n"
     ]
    }
   ],
   "source": [
    "# Manual Computation of the T-Test\n",
    "\n",
    "# T statistic\n",
    "se = sd/np.sqrt(n)\n",
    "t = (mean - 80)/se\n",
    "\n",
    "print(\"T-Statistic = \", t)"
   ]
  },
  {
   "cell_type": "code",
   "execution_count": 124,
   "id": "24dbbe85-e203-4e7d-9305-496ad5bcb26d",
   "metadata": {},
   "outputs": [
    {
     "name": "stdout",
     "output_type": "stream",
     "text": [
      "t = 0.8234523266982027\n",
      "p-value = 0.2091793328533854\n"
     ]
    }
   ],
   "source": [
    "# With T and df, we can get the p-value from the T distribution\n",
    "df = n - 1\n",
    "# p-value is obtained form the cummulative density function (CDF) with the given df\n",
    "# since we want the remaining are under the PDF, we need to compute 1-CDF(t)\n",
    "p = 1 - dist.t.cdf(np.abs(t),df=df)\n",
    "# If that were a 2-sided test (Ha !=), we would have to x2 the p-value\n",
    "# Display\n",
    "print(\"t = \" + str(t))\n",
    "print(\"p-value = \" + str(p))"
   ]
  },
  {
   "cell_type": "markdown",
   "id": "1f726c4f-ad38-4de3-9ee7-8160de54dad0",
   "metadata": {},
   "source": [
    "## 4. Difference in Population Means with Independent Data\n",
    "\n",
    "#### Research Question \n",
    "\n",
    "Considering adults in the NHANES data, do males have a significantly higher mean Body Mass Index than females?\n",
    "\n",
    "- **Population**: Adults in the NHANES data.  \n",
    "- **Parameter of Interest**: $\\mu_1 - \\mu_2$, Body Mass Index.  \n",
    "- **Null Hypothesis:** $\\mu_1 = \\mu_2$  \n",
    "- **Alternative Hypthosis:** $\\mu_1 \\neq \\mu_2$\n",
    "\n",
    "Data: \n",
    "- 2976 Females; $\\mu_1 = 29.94$; $\\sigma_1 = 7.75$  \n",
    "- 2759 Male Adults; $\\mu_2 = 28.78$; $\\sigma_2 = 6.25$  \n",
    "- $\\mu_1 - \\mu_2 = 1.16$"
   ]
  },
  {
   "cell_type": "code",
   "execution_count": 125,
   "id": "dbc64ae5-be82-46e5-a592-18f81dce7242",
   "metadata": {},
   "outputs": [
    {
     "data": {
      "text/html": [
       "<div>\n",
       "<style scoped>\n",
       "    .dataframe tbody tr th:only-of-type {\n",
       "        vertical-align: middle;\n",
       "    }\n",
       "\n",
       "    .dataframe tbody tr th {\n",
       "        vertical-align: top;\n",
       "    }\n",
       "\n",
       "    .dataframe thead th {\n",
       "        text-align: right;\n",
       "    }\n",
       "</style>\n",
       "<table border=\"1\" class=\"dataframe\">\n",
       "  <thead>\n",
       "    <tr style=\"text-align: right;\">\n",
       "      <th></th>\n",
       "      <th>SEQN</th>\n",
       "      <th>ALQ101</th>\n",
       "      <th>ALQ110</th>\n",
       "      <th>ALQ130</th>\n",
       "      <th>SMQ020</th>\n",
       "      <th>RIAGENDR</th>\n",
       "      <th>RIDAGEYR</th>\n",
       "      <th>RIDRETH1</th>\n",
       "      <th>DMDCITZN</th>\n",
       "      <th>DMDEDUC2</th>\n",
       "      <th>...</th>\n",
       "      <th>BPXSY2</th>\n",
       "      <th>BPXDI2</th>\n",
       "      <th>BMXWT</th>\n",
       "      <th>BMXHT</th>\n",
       "      <th>BMXBMI</th>\n",
       "      <th>BMXLEG</th>\n",
       "      <th>BMXARML</th>\n",
       "      <th>BMXARMC</th>\n",
       "      <th>BMXWAIST</th>\n",
       "      <th>HIQ210</th>\n",
       "    </tr>\n",
       "  </thead>\n",
       "  <tbody>\n",
       "    <tr>\n",
       "      <th>0</th>\n",
       "      <td>83732</td>\n",
       "      <td>1.0</td>\n",
       "      <td>NaN</td>\n",
       "      <td>1.0</td>\n",
       "      <td>1</td>\n",
       "      <td>1</td>\n",
       "      <td>62</td>\n",
       "      <td>3</td>\n",
       "      <td>1.0</td>\n",
       "      <td>5.0</td>\n",
       "      <td>...</td>\n",
       "      <td>124.0</td>\n",
       "      <td>64.0</td>\n",
       "      <td>94.8</td>\n",
       "      <td>184.5</td>\n",
       "      <td>27.8</td>\n",
       "      <td>43.3</td>\n",
       "      <td>43.6</td>\n",
       "      <td>35.9</td>\n",
       "      <td>101.1</td>\n",
       "      <td>2.0</td>\n",
       "    </tr>\n",
       "    <tr>\n",
       "      <th>1</th>\n",
       "      <td>83733</td>\n",
       "      <td>1.0</td>\n",
       "      <td>NaN</td>\n",
       "      <td>6.0</td>\n",
       "      <td>1</td>\n",
       "      <td>1</td>\n",
       "      <td>53</td>\n",
       "      <td>3</td>\n",
       "      <td>2.0</td>\n",
       "      <td>3.0</td>\n",
       "      <td>...</td>\n",
       "      <td>140.0</td>\n",
       "      <td>88.0</td>\n",
       "      <td>90.4</td>\n",
       "      <td>171.4</td>\n",
       "      <td>30.8</td>\n",
       "      <td>38.0</td>\n",
       "      <td>40.0</td>\n",
       "      <td>33.2</td>\n",
       "      <td>107.9</td>\n",
       "      <td>NaN</td>\n",
       "    </tr>\n",
       "    <tr>\n",
       "      <th>2</th>\n",
       "      <td>83734</td>\n",
       "      <td>1.0</td>\n",
       "      <td>NaN</td>\n",
       "      <td>NaN</td>\n",
       "      <td>1</td>\n",
       "      <td>1</td>\n",
       "      <td>78</td>\n",
       "      <td>3</td>\n",
       "      <td>1.0</td>\n",
       "      <td>3.0</td>\n",
       "      <td>...</td>\n",
       "      <td>132.0</td>\n",
       "      <td>44.0</td>\n",
       "      <td>83.4</td>\n",
       "      <td>170.1</td>\n",
       "      <td>28.8</td>\n",
       "      <td>35.6</td>\n",
       "      <td>37.0</td>\n",
       "      <td>31.0</td>\n",
       "      <td>116.5</td>\n",
       "      <td>2.0</td>\n",
       "    </tr>\n",
       "    <tr>\n",
       "      <th>3</th>\n",
       "      <td>83735</td>\n",
       "      <td>2.0</td>\n",
       "      <td>1.0</td>\n",
       "      <td>1.0</td>\n",
       "      <td>2</td>\n",
       "      <td>2</td>\n",
       "      <td>56</td>\n",
       "      <td>3</td>\n",
       "      <td>1.0</td>\n",
       "      <td>5.0</td>\n",
       "      <td>...</td>\n",
       "      <td>134.0</td>\n",
       "      <td>68.0</td>\n",
       "      <td>109.8</td>\n",
       "      <td>160.9</td>\n",
       "      <td>42.4</td>\n",
       "      <td>38.5</td>\n",
       "      <td>37.7</td>\n",
       "      <td>38.3</td>\n",
       "      <td>110.1</td>\n",
       "      <td>2.0</td>\n",
       "    </tr>\n",
       "    <tr>\n",
       "      <th>4</th>\n",
       "      <td>83736</td>\n",
       "      <td>2.0</td>\n",
       "      <td>1.0</td>\n",
       "      <td>1.0</td>\n",
       "      <td>2</td>\n",
       "      <td>2</td>\n",
       "      <td>42</td>\n",
       "      <td>4</td>\n",
       "      <td>1.0</td>\n",
       "      <td>4.0</td>\n",
       "      <td>...</td>\n",
       "      <td>114.0</td>\n",
       "      <td>54.0</td>\n",
       "      <td>55.2</td>\n",
       "      <td>164.9</td>\n",
       "      <td>20.3</td>\n",
       "      <td>37.4</td>\n",
       "      <td>36.0</td>\n",
       "      <td>27.2</td>\n",
       "      <td>80.4</td>\n",
       "      <td>2.0</td>\n",
       "    </tr>\n",
       "  </tbody>\n",
       "</table>\n",
       "<p>5 rows × 28 columns</p>\n",
       "</div>"
      ],
      "text/plain": [
       "    SEQN  ALQ101  ALQ110  ALQ130  SMQ020  RIAGENDR  RIDAGEYR  RIDRETH1  \\\n",
       "0  83732     1.0     NaN     1.0       1         1        62         3   \n",
       "1  83733     1.0     NaN     6.0       1         1        53         3   \n",
       "2  83734     1.0     NaN     NaN       1         1        78         3   \n",
       "3  83735     2.0     1.0     1.0       2         2        56         3   \n",
       "4  83736     2.0     1.0     1.0       2         2        42         4   \n",
       "\n",
       "   DMDCITZN  DMDEDUC2  ...  BPXSY2  BPXDI2  BMXWT  BMXHT  BMXBMI  BMXLEG  \\\n",
       "0       1.0       5.0  ...   124.0    64.0   94.8  184.5    27.8    43.3   \n",
       "1       2.0       3.0  ...   140.0    88.0   90.4  171.4    30.8    38.0   \n",
       "2       1.0       3.0  ...   132.0    44.0   83.4  170.1    28.8    35.6   \n",
       "3       1.0       5.0  ...   134.0    68.0  109.8  160.9    42.4    38.5   \n",
       "4       1.0       4.0  ...   114.0    54.0   55.2  164.9    20.3    37.4   \n",
       "\n",
       "   BMXARML  BMXARMC  BMXWAIST  HIQ210  \n",
       "0     43.6     35.9     101.1     2.0  \n",
       "1     40.0     33.2     107.9     NaN  \n",
       "2     37.0     31.0     116.5     2.0  \n",
       "3     37.7     38.3     110.1     2.0  \n",
       "4     36.0     27.2      80.4     2.0  \n",
       "\n",
       "[5 rows x 28 columns]"
      ]
     },
     "execution_count": 125,
     "metadata": {},
     "output_type": "execute_result"
    }
   ],
   "source": [
    "url = \"nhanes_2015_2016.csv\"\n",
    "da = pd.read_csv(url)\n",
    "da.head()"
   ]
  },
  {
   "cell_type": "code",
   "execution_count": 126,
   "id": "37cba153-8981-4858-8d78-f8a5ab950e83",
   "metadata": {},
   "outputs": [],
   "source": [
    "females = da[da[\"RIAGENDR\"] == 2]\n",
    "male = da[da[\"RIAGENDR\"] == 1]"
   ]
  },
  {
   "cell_type": "code",
   "execution_count": 127,
   "id": "471ac510-51bb-425f-a083-3578c4644440",
   "metadata": {},
   "outputs": [
    {
     "data": {
      "text/plain": [
       "(2976, 29.939945652173996, 7.75331880954568)"
      ]
     },
     "execution_count": 127,
     "metadata": {},
     "output_type": "execute_result"
    }
   ],
   "source": [
    "n1 = len(females)\n",
    "mu1 = females[\"BMXBMI\"].mean()\n",
    "sd1 = females[\"BMXBMI\"].std()\n",
    "\n",
    "(n1, mu1, sd1)"
   ]
  },
  {
   "cell_type": "code",
   "execution_count": 128,
   "id": "4d6575de-2730-4bbf-9b48-1f3d85c57bce",
   "metadata": {},
   "outputs": [
    {
     "data": {
      "text/plain": [
       "(2759, 28.778072111846985, 6.252567616801485)"
      ]
     },
     "execution_count": 128,
     "metadata": {},
     "output_type": "execute_result"
    }
   ],
   "source": [
    "n2 = len(male)\n",
    "mu2 = male[\"BMXBMI\"].mean()\n",
    "sd2 = male[\"BMXBMI\"].std()\n",
    "\n",
    "(n2, mu2, sd2)"
   ]
  },
  {
   "cell_type": "markdown",
   "id": "d032e96b-70d5-4793-ad83-59cc11df565b",
   "metadata": {},
   "source": [
    "### Computation with Libraries: We Should Use the T-Distribution!"
   ]
  },
  {
   "cell_type": "code",
   "execution_count": 129,
   "id": "52532299-103d-40bd-a2e2-f70a33459532",
   "metadata": {},
   "outputs": [
    {
     "data": {
      "text/plain": [
       "(6.1755933531383205, 6.591544431126401e-10)"
      ]
     },
     "execution_count": 129,
     "metadata": {},
     "output_type": "execute_result"
    }
   ],
   "source": [
    "# Z-Test (originally shown in the notebook)\n",
    "sm.stats.ztest(females[\"BMXBMI\"].dropna(), male[\"BMXBMI\"].dropna())"
   ]
  },
  {
   "cell_type": "code",
   "execution_count": 130,
   "id": "c4d24f32-7944-414f-a455-91cbb3589230",
   "metadata": {},
   "outputs": [
    {
     "data": {
      "text/plain": [
       "(6.175593353138303, 7.050275578095374e-10, 5660.0)"
      ]
     },
     "execution_count": 130,
     "metadata": {},
     "output_type": "execute_result"
    }
   ],
   "source": [
    "# T-Test (what should be used according to the course)\n",
    "sm.stats.ttest_ind(females[\"BMXBMI\"].dropna(), male[\"BMXBMI\"].dropna())"
   ]
  },
  {
   "cell_type": "markdown",
   "id": "0ca88634-51ba-4b5a-9501-6570733abd5e",
   "metadata": {},
   "source": [
    "### Manual Computation"
   ]
  },
  {
   "cell_type": "markdown",
   "id": "4aaecd0d-3429-45ac-a4c9-66a8be9a50d2",
   "metadata": {},
   "source": [
    "We can use the pooled and unpooled appreaches to compute the standard error manually.\n",
    "\n",
    "**Pooled** approach (variance of each group assumed to be the same ~ similar):\n",
    "\n",
    "$$SE = \\sqrt{\\frac{s_1^2}{n_1}+\\frac{s_2^2}{n_2}}$$\n",
    "\n",
    "being $s_i$, $n_i$ the standard deviation and the sample size of group $i$.\n",
    "\n",
    "**Unpooled** approach (variance of each group is different):\n",
    "\n",
    "$$SE = \\sqrt{\\frac{(n_1-1)s_1^2 + (n_2-1)s_2^2}{n_1+n_2-2}} \\sqrt{\\frac{1}{n_1}+\\frac{1}{n_2}}$$\n"
   ]
  },
  {
   "cell_type": "code",
   "execution_count": 131,
   "id": "b388a505-8668-4632-858b-e9aa8f9e1e29",
   "metadata": {},
   "outputs": [],
   "source": [
    "se_pooled = np.sqrt(((sd1**2)/n1) + ((sd2**2)/n2))\n",
    "se_unpooled = np.sqrt(((n1-1)*sd1**2 + (n2-1)*sd2**2)/(n1+n2-2)) * np.sqrt((1/n1) + (1/n2))"
   ]
  },
  {
   "cell_type": "code",
   "execution_count": 132,
   "id": "7e7b53ff-ad9b-49aa-9f56-3e03514d5b63",
   "metadata": {},
   "outputs": [
    {
     "name": "stdout",
     "output_type": "stream",
     "text": [
      "T-Statistic =  6.217136917798761\n"
     ]
    }
   ],
   "source": [
    "#t = (mu1 - mu2)/se_pooled\n",
    "t = (mu1 - mu2)/se_unpooled\n",
    "print(\"T-Statistic = \", t)"
   ]
  },
  {
   "cell_type": "code",
   "execution_count": 133,
   "id": "ca480841-172f-4289-ac41-53b8474b0538",
   "metadata": {},
   "outputs": [
    {
     "name": "stdout",
     "output_type": "stream",
     "text": [
      "t = 6.217136917798761\n",
      "p-value = 5.420337512163087e-10\n"
     ]
    }
   ],
   "source": [
    "# With T and df, we can get the p-value from the T distribution\n",
    "df = n1 + n2 - 2\n",
    "# p-value is obtained form the cummulative density function (CDF) with the given df\n",
    "# since we want the remaining are under the PDF, we need to compute 1-CDF(t)\n",
    "# Since it is a 2-sided test (Ha !=), we need to x2 the p-value\n",
    "p = 2*(1 - dist.t.cdf(np.abs(t),df=df))\n",
    "# Display\n",
    "print(\"t = \" + str(t))\n",
    "print(\"p-value = \" + str(p))"
   ]
  },
  {
   "cell_type": "markdown",
   "id": "3255b9a8-4198-43be-8718-59c8db62e8c3",
   "metadata": {},
   "source": [
    "## 5. Difference in Population Means with Paired Data (Repeated Measures)"
   ]
  },
  {
   "cell_type": "markdown",
   "id": "27d6914d-1d8a-49a6-827b-e817329453fa",
   "metadata": {},
   "source": [
    "There was no example provided in the notebook, thus I created the example from the lecture examples.\n",
    "\n",
    "#### Research Question\n",
    "\n",
    "Home renovations offers from Supplier 1 & 2 are collected for 20 clients. Is the mean cost offered by each supplier different?\n",
    "\n",
    "- **Population**: Offer costs of Suppliers 1 & 2\n",
    "- **Parameter of Interest**: $\\mu(C_1 - C_2)$, Mean Cost Difference\n",
    "- **Null Hypothesis:** $\\mu(C_1 - C_2) = 0$  \n",
    "- **Alternative Hypthosis:** $\\mu(C_1 - C_2) \\neq 0$  \n",
    "\n",
    "Data: \n",
    "- $n = 20$\n",
    "- Cost difference mean: $\\mu(C_1 - C_2) = 17.30$\n",
    "- Standard ddeviation of cost difference: $\\sigma(C_1 - C_2) = 28.49$\n",
    "\n",
    "Note that **a paired t-test for means is equivalent to taking the difference between the first and second measurement, and using a one-sample test to compare the mean of these differences to zero.**"
   ]
  },
  {
   "cell_type": "markdown",
   "id": "1f65a71f-6f7f-4d96-98bd-e38f87daf6ae",
   "metadata": {},
   "source": [
    "### Manual Computation"
   ]
  },
  {
   "cell_type": "code",
   "execution_count": 134,
   "id": "88e37d75-8948-40bb-a404-cb363ee85985",
   "metadata": {},
   "outputs": [
    {
     "name": "stdout",
     "output_type": "stream",
     "text": [
      "T-Statistic =  2.7156178315722266\n"
     ]
    }
   ],
   "source": [
    "mu = 17.30\n",
    "sd = 28.49\n",
    "n = 20\n",
    "se = sd / np.sqrt(n)\n",
    "t = (mu - 0) / se\n",
    "print(\"T-Statistic = \", t)"
   ]
  },
  {
   "cell_type": "code",
   "execution_count": 135,
   "id": "81e8f821-30a5-4ee5-8463-e682ca86eb90",
   "metadata": {},
   "outputs": [
    {
     "name": "stdout",
     "output_type": "stream",
     "text": [
      "t = 2.7156178315722266\n",
      "p-value = 0.013718818836080393\n"
     ]
    }
   ],
   "source": [
    "# With T and df, we can get the p-value from the T distribution\n",
    "df = n - 1\n",
    "# p-value is obtained form the cummulative density function (CDF) with the given df\n",
    "# since we want the remaining are under the PDF, we need to compute 1-CDF(t)\n",
    "# Since it is a 2-sided test (Ha !=), we need to x2 the p-value\n",
    "p = 2*(1 - dist.t.cdf(np.abs(t),df=df))\n",
    "# Display\n",
    "print(\"t = \" + str(t))\n",
    "print(\"p-value = \" + str(p))"
   ]
  },
  {
   "cell_type": "markdown",
   "id": "1f44910f-62d4-4259-af09-a802d65b1d2c",
   "metadata": {},
   "source": [
    "## 6. Assumptions Checks: Normality with Histograms, Boxplots, and QQ-Plots"
   ]
  },
  {
   "cell_type": "markdown",
   "id": "87bbbdd1-525e-41bf-850d-bb333558bbad",
   "metadata": {},
   "source": [
    "The following assumptions are done to apply the parametric tests with the Z and T distirbution statistics:\n",
    "- Measurements done in a randomly chosen sample.\n",
    "- If the measurements belong to independent samples, they need to be independent; similarly, if the test assumes the data is paired (i.e., dependent), it needs to be paired\n",
    " Measured means need to be bell-shaped, tending to be normal. This assumption can be skipped if the sample size is large enough. Be can test the normality visually with the histogram, box-plots or QQ-Plots. If the assumption is not true, we need to use non-parametric tests (e.g., Wilcoxon for paired means)."
   ]
  },
  {
   "cell_type": "code",
   "execution_count": 136,
   "id": "01640477-8b40-42eb-ace6-af061d69cf01",
   "metadata": {},
   "outputs": [],
   "source": [
    "da = pd.read_csv(\"nhanes_2015_2016.csv\")"
   ]
  },
  {
   "cell_type": "code",
   "execution_count": 137,
   "id": "3527e79b-2744-43ba-8f3c-7d707b4eed30",
   "metadata": {},
   "outputs": [],
   "source": [
    "females = da[da[\"RIAGENDR\"] == 2]\n",
    "males = da[da[\"RIAGENDR\"] == 1]"
   ]
  },
  {
   "cell_type": "code",
   "execution_count": 138,
   "id": "8dc00434-61d6-4ade-a91b-ff63c335d123",
   "metadata": {},
   "outputs": [
    {
     "data": {
      "text/plain": [
       "<AxesSubplot:xlabel='BMXBMI', ylabel='Count'>"
      ]
     },
     "execution_count": 138,
     "metadata": {},
     "output_type": "execute_result"
    },
    {
     "data": {
      "image/png": "[encoded data removed]",
      "text/plain": [
       "<Figure size 720x432 with 1 Axes>"
      ]
     },
     "metadata": {
      "needs_background": "light"
     },
     "output_type": "display_data"
    }
   ],
   "source": [
    "plt.figure(figsize=(10,6))\n",
    "sns.histplot(data=females[\"BMXBMI\"],color='red',kde=True,bins=20)\n",
    "sns.histplot(data=males[\"BMXBMI\"],color='green',kde=True,bins=20)"
   ]
  },
  {
   "cell_type": "code",
   "execution_count": 139,
   "id": "f61ea175-0c4a-47c8-ac1a-cc55908ec48f",
   "metadata": {},
   "outputs": [
    {
     "data": {
      "image/png": "[encoded data removed]",
      "text/plain": [
       "<Figure size 504x360 with 1 Axes>"
      ]
     },
     "metadata": {
      "needs_background": "light"
     },
     "output_type": "display_data"
    }
   ],
   "source": [
    "plt.figure(figsize=(7,5))\n",
    "plt.boxplot((females[\"BMXBMI\"].dropna(),males[\"BMXBMI\"].dropna()),labels=['Females','Males'])\n",
    "plt.show()"
   ]
  },
  {
   "cell_type": "code",
   "execution_count": 140,
   "id": "43e87812-f185-48a7-a210-95a971f6558f",
   "metadata": {},
   "outputs": [
    {
     "data": {
      "image/png": "[encoded data removed]",
      "text/plain": [
       "<Figure size 432x288 with 1 Axes>"
      ]
     },
     "metadata": {
      "needs_background": "light"
     },
     "output_type": "display_data"
    }
   ],
   "source": [
    "stats.probplot(females[\"BMXBMI\"].dropna(), dist=\"norm\", fit= True, plot=plt, rvalue=True)\n",
    "plt.title('QQ plot of Female BMI mean a against normal distribution')\n",
    "plt.show()"
   ]
  },
  {
   "cell_type": "code",
   "execution_count": 141,
   "id": "5a9d6377-0894-45d5-b70a-975347dcca50",
   "metadata": {},
   "outputs": [
    {
     "data": {
      "image/png": "[encoded data removed]",
      "text/plain": [
       "<Figure size 432x288 with 1 Axes>"
      ]
     },
     "metadata": {
      "needs_background": "light"
     },
     "output_type": "display_data"
    }
   ],
   "source": [
    "stats.probplot(males[\"BMXBMI\"].dropna(), dist=\"norm\", fit= True, plot=plt, rvalue=True)\n",
    "plt.title('QQ plot of Male BMI mean a against normal distribution')\n",
    "plt.show()"
   ]
  },
  {
   "cell_type": "markdown",
   "id": "870ead50-8221-4e74-a505-965f5700e412",
   "metadata": {},
   "source": [
    "## 7. Visualization of the critical T statistic"
   ]
  },
  {
   "cell_type": "markdown",
   "id": "d6304cb2-6cdb-4ab4-bdb7-16a254383480",
   "metadata": {},
   "source": [
    "The critital T Statistic is the one that gives the `p-value` equal to the level of siginificance `alpha`."
   ]
  },
  {
   "cell_type": "code",
   "execution_count": 142,
   "id": "39c92527-ab79-495f-90fd-c89ee5792674",
   "metadata": {},
   "outputs": [],
   "source": [
    "from scipy.stats import t, norm\n",
    "import matplotlib.pyplot as plt\n",
    "%matplotlib inline"
   ]
  },
  {
   "cell_type": "code",
   "execution_count": 143,
   "id": "2165e050-b4e5-4de1-a1af-14f0e30a8526",
   "metadata": {},
   "outputs": [],
   "source": [
    "def plot_t_critical(df,alpha=0.05):\n",
    "    # Set figure \n",
    "    plt.figure(figsize=(8, 4))\n",
    "    # T distribution with df\n",
    "    dist = t(df)\n",
    "    # t range (x)\n",
    "    x = np.linspace(dist.ppf(0.0001), dist.ppf(0.9999), 100)\n",
    "    # Critical value; PPF is the inverse of CDF\n",
    "    t_crit = dist.ppf(1-alpha)\n",
    "    # Plot values\n",
    "    plt.plot(x, dist.pdf(x), alpha=0.6, label=' X ~ T({})'.format(df))\n",
    "    plt.vlines(t_crit, 0.0, 1.0, color='red', linestyles=\"dashdot\", label=\"Crit. Value: {:.2f}\\nalpha: {:.2f}\".format(t_crit,alpha))\n",
    "    plt.legend()\n",
    "    plt.title('T-Distribution df:{}'.format(df))\n",
    "    plt.xlabel('X=t')"
   ]
  },
  {
   "cell_type": "code",
   "execution_count": 144,
   "id": "6cd03003-d334-4f19-b668-93eba330743e",
   "metadata": {},
   "outputs": [
    {
     "data": {
      "image/png": "[encoded data removed]",
      "text/plain": [
       "<Figure size 576x288 with 1 Axes>"
      ]
     },
     "metadata": {
      "needs_background": "light"
     },
     "output_type": "display_data"
    }
   ],
   "source": [
    "# We select the df of the T distribution, as well as our alpha\n",
    "# If we have a 2-sided test (Ha !=), we need to divide alpha by 2\n",
    "plot_t_critical(df=20,alpha=0.05/2)"
   ]
  },
  {
   "cell_type": "markdown",
   "id": "5eb11f16-7c3a-4d8c-9a45-bf226ff21747",
   "metadata": {},
   "source": [
    "## 7. Power and Sample Size Relationship"
   ]
  },
  {
   "cell_type": "markdown",
   "id": "3cb221cf-cf67-4d43-9825-e988ebb7797b",
   "metadata": {},
   "source": [
    "The following four variables are related:\n",
    "- Effect size: Cohen's `d` between groups\n",
    "- Sample size (`n`)\n",
    "- Significance level (`alpha`)\n",
    "- Statistical power (`1-beta`)\n",
    "\n",
    "Thus, fixing 3 of them, the fourth can be obtained. That is called power analysis, and it often is used to:\n",
    "\n",
    "1. Estimate the sample size required for a given power\n",
    "2. Estimate the power our setup and test has (i.e., probability of false negatives)\n",
    "\n",
    "Note that Cohen's `d` is one possible measurement of the effect size; it is defined as\n",
    "\n",
    "$$d = \\frac{\\overline{x_1}-\\overline{x_2}}{s},\\,\\, s = \\sqrt{\\frac{(n_1-1)s_1^2 + (n_2-1)s_2^2}{n_1+n_2-2}}$$"
   ]
  },
  {
   "cell_type": "markdown",
   "id": "cf5b5f0e-1caa-4fa1-b5da-666dd8abe40c",
   "metadata": {},
   "source": [
    "### Estimate Sample Size Required"
   ]
  },
  {
   "cell_type": "code",
   "execution_count": 146,
   "id": "cfc1ec1d-106d-4c2d-95d0-4d7179325141",
   "metadata": {},
   "outputs": [
    {
     "name": "stdout",
     "output_type": "stream",
     "text": [
      "Sample Size: 25.525\n"
     ]
    }
   ],
   "source": [
    "# Estimate sample size via power analysis\n",
    "from statsmodels.stats.power import TTestIndPower\n",
    "# parameters for power analysis\n",
    "effect = 0.8 # Cohen's d\n",
    "alpha = 0.05\n",
    "power = 0.8 # 1 - beta\n",
    "# perform power analysis\n",
    "analysis = TTestIndPower()\n",
    "result = analysis.solve_power(effect, power=power, nobs1=None, ratio=1.0, alpha=alpha)\n",
    "print('Sample Size: %.3f' % result)"
   ]
  },
  {
   "cell_type": "markdown",
   "id": "cb9359a0-c91f-47c3-99b5-878752d6323a",
   "metadata": {},
   "source": [
    "### Visualization of the Effect of the Sample Size"
   ]
  },
  {
   "cell_type": "markdown",
   "id": "6b294032-6c09-4c69-a9d6-b844fdf58299",
   "metadata": {},
   "source": [
    "In general, the larger the sample size, the larger the power, hence less false negatives. In the following example, the `p-values` of different samples sizes are measured. For each sample size, 500 samples are drawn and computed. The number of `p < alpha` increases with the sample size: the probability of correctly rejecting `H0` is higher, thus having less false negatives."
   ]
  },
  {
   "cell_type": "code",
   "execution_count": 165,
   "id": "c5a93ae3-7e28-4253-8fd9-b2a2a091b37e",
   "metadata": {},
   "outputs": [],
   "source": [
    "da = pd.read_csv(\"nhanes_2015_2016.csv\")\n",
    "dx = da[[\"BPXSY1\", \"BPXSY2\", \"RIDAGEYR\"]].dropna()"
   ]
  },
  {
   "cell_type": "code",
   "execution_count": 166,
   "id": "bb24b196-0a83-440e-bff9-9b536a208c5f",
   "metadata": {},
   "outputs": [
    {
     "name": "stdout",
     "output_type": "stream",
     "text": [
      "0.22\n",
      "0.366\n",
      "0.694\n",
      "1.0\n"
     ]
    }
   ],
   "source": [
    "all_p = []\n",
    "dy = dx.loc[(dx.RIDAGEYR >= 50) & (dx.RIDAGEYR <= 60), :]\n",
    "for n in 100, 200, 400, 800:\n",
    "    pv = []\n",
    "    for i in range(500):\n",
    "        dz = dy.sample(n)\n",
    "        db = dz.BPXSY1 - dz.BPXSY2\n",
    "        _, p = sm.stats.ztest(db.values, value=0)\n",
    "        pv.append(p)\n",
    "    pv = np.asarray(pv)\n",
    "    all_p.append(pv)\n",
    "    print((pv <= 0.05).mean())"
   ]
  },
  {
   "cell_type": "code",
   "execution_count": 167,
   "id": "5bfc3b45-ee44-4e39-b174-3e8cd90c294e",
   "metadata": {},
   "outputs": [
    {
     "data": {
      "text/plain": [
       "<AxesSubplot:ylabel='Count'>"
      ]
     },
     "execution_count": 167,
     "metadata": {},
     "output_type": "execute_result"
    },
    {
     "data": {
      "image/png": "[encoded data removed]",
      "text/plain": [
       "<Figure size 432x288 with 1 Axes>"
      ]
     },
     "metadata": {
      "needs_background": "light"
     },
     "output_type": "display_data"
    }
   ],
   "source": [
    "# 0: n = 100\n",
    "sns.histplot(all_p[0],kde=True,bins=20)"
   ]
  },
  {
   "cell_type": "code",
   "execution_count": 168,
   "id": "5f9dff8f-7c45-474f-9b0a-c62c8be424fb",
   "metadata": {},
   "outputs": [
    {
     "data": {
      "text/plain": [
       "<AxesSubplot:ylabel='Count'>"
      ]
     },
     "execution_count": 168,
     "metadata": {},
     "output_type": "execute_result"
    },
    {
     "data": {
      "image/png": "[encoded data removed]",
      "text/plain": [
       "<Figure size 432x288 with 1 Axes>"
      ]
     },
     "metadata": {
      "needs_background": "light"
     },
     "output_type": "display_data"
    }
   ],
   "source": [
    "# 2: n = 400\n",
    "sns.histplot(all_p[2],kde=True)"
   ]
  },
  {
   "cell_type": "code",
   "execution_count": null,
   "id": "7f2ef46b-31b9-457e-8580-1fd981a789c2",
   "metadata": {},
   "outputs": [],
   "source": []
  }
 ],
 "metadata": {
  "kernelspec": {
   "display_name": "Python 3 (ipykernel)",
   "language": "python",
   "name": "python3"
  },
  "language_info": {
   "codemirror_mode": {
    "name": "ipython",
    "version": 3
   },
   "file_extension": ".py",
   "mimetype": "text/x-python",
   "name": "python",
   "nbconvert_exporter": "python",
   "pygments_lexer": "ipython3",
   "version": "3.7.11"
  }
 },
 "nbformat": 4,
 "nbformat_minor": 5
}
