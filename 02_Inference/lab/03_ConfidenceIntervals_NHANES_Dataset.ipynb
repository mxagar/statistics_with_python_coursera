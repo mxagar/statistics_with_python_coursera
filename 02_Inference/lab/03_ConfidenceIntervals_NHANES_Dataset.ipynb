{
 "cells": [
  {
   "cell_type": "markdown",
   "id": "216ed61a-d5a4-4de8-99cb-5b9245021f15",
   "metadata": {},
   "source": [
    "# Confidence Intervals: Sase Study Using the NHANES Dataset"
   ]
  },
  {
   "cell_type": "markdown",
   "id": "7c546166-a55d-4e80-bcb3-5a260f7fb8f7",
   "metadata": {},
   "source": [
    "This notebook shows examples of confidence interval computations using the [NHANES](https://www.cdc.gov/nchs/nhanes/index.htm) dataset. Note that the NHANES dataset is a \"complex survey\", but that is ignored and the data is considered independent and identically distributed.\n",
    "\n",
    "Overview of contents:\n",
    "1. A\n",
    "2. B"
   ]
  },
  {
   "cell_type": "code",
   "execution_count": 6,
   "id": "e086087c-80dd-41b3-991a-171601bb11b9",
   "metadata": {},
   "outputs": [],
   "source": [
    "import matplotlib.pyplot as plt\n",
    "import pandas as pd\n",
    "import numpy as np\n",
    "import seaborn as sns\n",
    "import statsmodels.api as sm\n",
    "%matplotlib inline"
   ]
  },
  {
   "cell_type": "code",
   "execution_count": 7,
   "id": "66a99936-369f-4e46-9ac5-1133f2d6f9eb",
   "metadata": {},
   "outputs": [],
   "source": [
    "da = pd.read_csv(\"nhanes_2015_2016.csv\")"
   ]
  },
  {
   "cell_type": "code",
   "execution_count": null,
   "id": "54c95d1a-a5f9-4657-9ab9-d965ddc7b1e2",
   "metadata": {},
   "outputs": [],
   "source": []
  }
 ],
 "metadata": {
  "kernelspec": {
   "display_name": "Python 3 (ipykernel)",
   "language": "python",
   "name": "python3"
  },
  "language_info": {
   "codemirror_mode": {
    "name": "ipython",
    "version": 3
   },
   "file_extension": ".py",
   "mimetype": "text/x-python",
   "name": "python",
   "nbconvert_exporter": "python",
   "pygments_lexer": "ipython3",
   "version": "3.7.11"
  }
 },
 "nbformat": 4,
 "nbformat_minor": 5
}
