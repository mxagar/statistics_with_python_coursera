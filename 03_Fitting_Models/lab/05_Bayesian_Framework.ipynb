{
 "cells": [
  {
   "cell_type": "markdown",
   "id": "436812e8-658e-4fdb-be1f-7f1e696153ca",
   "metadata": {},
   "source": [
    "# Bayesian Framework in Python"
   ]
  },
  {
   "cell_type": "markdown",
   "id": "7616069c-316a-4329-91d3-5b2c10de5c32",
   "metadata": {},
   "source": [
    "This notebook explains how to apply Bayesian statistics: a prior belief is updated with observations to better represent the reality.\n",
    "\n",
    "Overview of contents:\n",
    "\n",
    "0. Definitions\n",
    "1. Example 1: Coin Tosses\n",
    "2. Example 2: IQ Values at University"
   ]
  },
  {
   "cell_type": "markdown",
   "id": "18283078-461b-4140-b22a-62a1be893b14",
   "metadata": {},
   "source": [
    "## 0. Definitions"
   ]
  },
  {
   "cell_type": "markdown",
   "id": "7413584d-69bb-4a66-b732-158e37edef03",
   "metadata": {},
   "source": [
    "**Prior p(H)**: Our prior reflects what we know about the value of some parameter before seeing data.  This could refer to previous trials and distributions.\n",
    "\n",
    "**Likelihood p(D|H)**: what is the plausibility that our data is observed, given our prior?\n",
    "\n",
    "**Posterior p(H|D)**: This is result of the Bayesian analysis and reflects all that we know about a problem (given our data and model).\n",
    "\n",
    "**Evidence p(D)**: Evidence is the probability of observing the data averaged over all the possible values the parameters can take. Also known as the noramlzing factor. The normalizing constant makes sure that the resulting posterior distribution is a true probability distribution by ensuring that the sum of the distribution is equal to 1.\n",
    "\n",
    "Because p(D) is considered a normalizing constant we can say:\n",
    "\n",
    "$p(H|D) \\propto p(D|H)  p(H)$\n",
    "\n",
    "Posterior ~ Likelihood * Prior"
   ]
  },
  {
   "cell_type": "code",
   "execution_count": 2,
   "id": "d9629b73-d556-4f59-a16f-12859570cef0",
   "metadata": {},
   "outputs": [],
   "source": [
    "import numpy as np\n",
    "import matplotlib.pyplot as plt\n",
    "import seaborn as sns\n",
    "import scipy.stats as st\n",
    "%matplotlib inline\n",
    "sns.set(style='ticks', palette='Set2')"
   ]
  },
  {
   "cell_type": "markdown",
   "id": "6b2ffb54-14ca-4fd8-8ea4-0999644abfef",
   "metadata": {},
   "source": [
    "## 1. Example 1: Coin Tosses"
   ]
  },
  {
   "cell_type": "markdown",
   "id": "1948477a-37e5-4473-95c6-87ccaf510c15",
   "metadata": {},
   "source": [
    "We want to perform a bayesian estimation of the proportion of each side when tossing a coin. These are the steps:\n",
    "- Since we have no other information, we assume it's a fair coin and we compute the prior distirbution of each probability p in [0,1]. To that end, we simulate a fair coin (Bernoulli, 0.5) and compute its distribution: that is our prior (peak around 0.5)\n",
    "- Then, we simulate an unfair coin (80-20) and compute again its distribution of probabilities (peak around 0.8).\n",
    "- The posterior distribution is the normalized product of both; thus, we update our prior for the next observations."
   ]
  },
  {
   "cell_type": "code",
   "execution_count": 3,
   "id": "49179cd8-403d-4060-b40d-396e7d78b762",
   "metadata": {},
   "outputs": [
    {
     "data": {
      "text/plain": [
       "array([1, 0, 1, 0, 0])"
      ]
     },
     "execution_count": 3,
     "metadata": {},
     "output_type": "execute_result"
    }
   ],
   "source": [
    "# We create a simulation of 1000 fair coin tosses: Binomial with p = 0.5\n",
    "coin_flips_prior = np.random.binomial(n = 1, p = 0.5, size = 1000)\n",
    "coin_flips_prior[:5]"
   ]
  },
  {
   "cell_type": "code",
   "execution_count": 4,
   "id": "1156f3d4-4597-4eb9-ac4d-d8c8e6aae47c",
   "metadata": {},
   "outputs": [
    {
     "data": {
      "text/plain": [
       "array([0.        , 0.01010101, 0.02020202, 0.03030303, 0.04040404,\n",
       "       0.05050505, 0.06060606, 0.07070707, 0.08080808, 0.09090909,\n",
       "       0.1010101 , 0.11111111, 0.12121212, 0.13131313, 0.14141414,\n",
       "       0.15151515, 0.16161616, 0.17171717, 0.18181818, 0.19191919,\n",
       "       0.2020202 , 0.21212121, 0.22222222, 0.23232323, 0.24242424,\n",
       "       0.25252525, 0.26262626, 0.27272727, 0.28282828, 0.29292929,\n",
       "       0.3030303 , 0.31313131, 0.32323232, 0.33333333, 0.34343434,\n",
       "       0.35353535, 0.36363636, 0.37373737, 0.38383838, 0.39393939,\n",
       "       0.4040404 , 0.41414141, 0.42424242, 0.43434343, 0.44444444,\n",
       "       0.45454545, 0.46464646, 0.47474747, 0.48484848, 0.49494949,\n",
       "       0.50505051, 0.51515152, 0.52525253, 0.53535354, 0.54545455,\n",
       "       0.55555556, 0.56565657, 0.57575758, 0.58585859, 0.5959596 ,\n",
       "       0.60606061, 0.61616162, 0.62626263, 0.63636364, 0.64646465,\n",
       "       0.65656566, 0.66666667, 0.67676768, 0.68686869, 0.6969697 ,\n",
       "       0.70707071, 0.71717172, 0.72727273, 0.73737374, 0.74747475,\n",
       "       0.75757576, 0.76767677, 0.77777778, 0.78787879, 0.7979798 ,\n",
       "       0.80808081, 0.81818182, 0.82828283, 0.83838384, 0.84848485,\n",
       "       0.85858586, 0.86868687, 0.87878788, 0.88888889, 0.8989899 ,\n",
       "       0.90909091, 0.91919192, 0.92929293, 0.93939394, 0.94949495,\n",
       "       0.95959596, 0.96969697, 0.97979798, 0.98989899, 1.        ])"
      ]
     },
     "execution_count": 4,
     "metadata": {},
     "output_type": "execute_result"
    }
   ],
   "source": [
    "# We create an array of 100 probability values in [0,1]\n",
    "params = np.linspace(0,1,100)\n",
    "params"
   ]
  },
  {
   "cell_type": "code",
   "execution_count": 5,
   "id": "6f7aca97-015c-47f3-90c8-2a5d28ba6eda",
   "metadata": {},
   "outputs": [],
   "source": [
    "# Probability Mass Function (PMF)\n",
    "# probability that a discrete random variable is equal to some value: P(X = x)\n",
    "# Recall: p(H|D) \\propto p(D|H) * p(H)\n",
    "# We compute the PMF of each p ranging from 0 to 1\n",
    "# Since we have a simulation of 100 tosses, each toss has a p value\n",
    "# and all need to be multiplied\n",
    "# At the end, we get a prior for each parameter p\n",
    "p_prior = np.array([np.product(st.bernoulli.pmf(coin_flips_prior, p)) for p in params])"
   ]
  },
  {
   "cell_type": "code",
   "execution_count": 7,
   "id": "9344c5fc-e42e-42de-abd7-293710f46999",
   "metadata": {},
   "outputs": [
    {
     "data": {
      "image/png": "[encoded data removed]",
      "text/plain": [
       "<Figure size 432x288 with 1 Axes>"
      ]
     },
     "metadata": {},
     "output_type": "display_data"
    }
   ],
   "source": [
    "# We need to normalize it\n",
    "# And we plot it: as expected, it spikes around 0.5: the param/p of 0.5 is the most likely\n",
    "# This is going to be our prior\n",
    "p_prior = p_prior/np.sum(p_prior)\n",
    "plt.plot(params, p_prior)\n",
    "sns.despine()"
   ]
  },
  {
   "cell_type": "code",
   "execution_count": 8,
   "id": "2105acb6-0f4b-4199-988e-311be6218f8f",
   "metadata": {},
   "outputs": [
    {
     "data": {
      "image/png": "[encoded data removed]",
      "text/plain": [
       "<Figure size 432x288 with 1 Axes>"
      ]
     },
     "metadata": {},
     "output_type": "display_data"
    }
   ],
   "source": [
    "# Now, we create the simulation of our observation\n",
    "# It's 1000 tosses of an unfair coin: 80-20\n",
    "coin_flips_observed = np.random.binomial(n=1, p=0.8, size = 1000)\n",
    "p_observed = np.array([np.product(st.bernoulli.pmf(coin_flips_observed, p)) for p in params])\n",
    "p_observed = p_observed/np.sum(p_observed)\n",
    "plt.plot(params, p_observed)\n",
    "sns.despine()"
   ]
  },
  {
   "cell_type": "code",
   "execution_count": 9,
   "id": "1f1da7c6-1365-445a-958d-09830418f1b9",
   "metadata": {},
   "outputs": [
    {
     "data": {
      "image/png": "[encoded data removed]",
      "text/plain": [
       "<Figure size 432x288 with 1 Axes>"
      ]
     },
     "metadata": {},
     "output_type": "display_data"
    }
   ],
   "source": [
    "# Finally, we want to update our prior by obtaining the posterior:\n",
    "# p(H|D) \\propto p(D|H) * p(H) == Posterior \\propto Likelihood *  Prior\n",
    "p_posterior = [p_prior[i] * p_observed[i] for i in range(len(p_prior))]\n",
    "p_posterior = p_posterior/np.sum(p_posterior)\n",
    "plt.plot(params, p_posterior)\n",
    "sns.despine()"
   ]
  },
  {
   "cell_type": "markdown",
   "id": "25dc4a45-6cd8-4636-a477-62f3e7774641",
   "metadata": {},
   "source": [
    "## 2. Example 2: IQ Values at University"
   ]
  },
  {
   "cell_type": "markdown",
   "id": "b014f99c-ab39-467e-b0fd-aa24514da7c3",
   "metadata": {},
   "source": [
    "In this example something similar as before is done, but with the distributions of IQ values at the university. The distributions are considered normal; these are the followed steps:\n",
    "- A prior distribution is simulated: N(100,10).\n",
    "- A distribution of observations is simulated: N(115,7.5).\n",
    "- We start sampling from the observations and iteratively update our prior to get a posterior normal distribution.\n",
    "\n",
    "The more observations, the closer is our posterior to the observation distribution."
   ]
  },
  {
   "cell_type": "code",
   "execution_count": 12,
   "id": "d95ffe69-6f73-48a0-8573-99280e1d0761",
   "metadata": {},
   "outputs": [
    {
     "data": {
      "image/png": "[encoded data removed]",
      "text/plain": [
       "<Figure size 432x288 with 1 Axes>"
      ]
     },
     "metadata": {},
     "output_type": "display_data"
    }
   ],
   "source": [
    "# Prior distribution of IQ values: N(100,10)\n",
    "prior_distribution = np.random.normal(100, 10, 1000)\n",
    "plt.hist(prior_distribution)\n",
    "sns.despine()"
   ]
  },
  {
   "cell_type": "markdown",
   "id": "1cc3e3eb-6970-4c41-8883-529bb4ae432a",
   "metadata": {},
   "source": [
    "Now, let's say we are collecting some observations of student IQs which takes the shape of a normal distribution with mean 115 and standard deviation of 7.5 and want to construct our posterior distribution.\n",
    "In order to do this, we update our prior by calculating the mean and variance after each observation.\n",
    "The equations for our updated prior mean and variance are:\n",
    "\n",
    "$$Updated\\ Prior\\ Mean = \\frac{\\sigma^2_{observed}\\mu + \\sigma_{prior}^2x}{\\sigma_{observed}^2 + \\sigma_{prior}^2}$$\n",
    "\n",
    "$$Updated\\ Prior\\ Variance = \\frac{\\sigma_{observed}^2\\sigma_{prior}^2}{\\sigma_{observed}^2 + \\sigma_{prior}^2}$$"
   ]
  },
  {
   "cell_type": "code",
   "execution_count": 11,
   "id": "87633214-fce2-4754-a3a3-1dc9e89e23c9",
   "metadata": {},
   "outputs": [
    {
     "data": {
      "image/png": "[encoded data removed]",
      "text/plain": [
       "<Figure size 432x288 with 1 Axes>"
      ]
     },
     "metadata": {},
     "output_type": "display_data"
    }
   ],
   "source": [
    "# Create the observations\n",
    "np.random.seed(5)\n",
    "observed_distribution = np.random.normal(115, 10, 1000)\n",
    "# We initialize 1000 posterior parameters, to be computed later\n",
    "mu = [100] * 1000 # list with 1000 values of 100\n",
    "sigma = [10] * 1000\n",
    "\n",
    "# Update prior mean and variance: first observation\n",
    "mu[0] = (10**2*observed_distribution[0] + (10**2)*100)/(10**2+10**2)\n",
    "sigma[0] = (10**2*10**2)/(10**2+10**2)\n",
    "\n",
    "# Update prior mean and variance: next observations\n",
    "for i in range(1000):\n",
    "    if i == 999:\n",
    "        break\n",
    "    # The last posterior beecomes the next prior\n",
    "    # and we obtain with it the next posterior\n",
    "    mu[i + 1] = (sigma[i]*observed_distribution[i+1] + (10**2)*mu[i] )/(sigma[i]+10**2)\n",
    "    sigma[i + 1] = (sigma[i]*10**2)/(sigma[i]+10**2)\n",
    "    \n",
    "# Empty matrix/2-D array to store 20 posterior distirbutions\n",
    "posterior_distributions = [[]] * 20\n",
    "\n",
    "# We simulate (sample) the distirbutions associated with the first 20 observations\n",
    "for i in range(20):\n",
    "    posterior_distributions[i] = np.random.normal(mu[i], sigma[i], 1000)\n",
    "\n",
    "# We plot the prior, the observation, and the observation\n",
    "# The larger the observation index, the closer is our posterior to our observation\n",
    "plt.hist(prior_distribution)\n",
    "plt.hist(observed_distribution, alpha = 0.75)\n",
    "plt.hist(posterior_distributions[10], alpha = 0.5)\n",
    "sns.despine()"
   ]
  },
  {
   "cell_type": "code",
   "execution_count": null,
   "id": "ead1c0ff-d09d-4f5b-9f3d-4245740f4f02",
   "metadata": {},
   "outputs": [],
   "source": []
  }
 ],
 "metadata": {
  "kernelspec": {
   "display_name": "Python 3 (ipykernel)",
   "language": "python",
   "name": "python3"
  },
  "language_info": {
   "codemirror_mode": {
    "name": "ipython",
    "version": 3
   },
   "file_extension": ".py",
   "mimetype": "text/x-python",
   "name": "python",
   "nbconvert_exporter": "python",
   "pygments_lexer": "ipython3",
   "version": "3.7.11"
  }
 },
 "nbformat": 4,
 "nbformat_minor": 5
}
