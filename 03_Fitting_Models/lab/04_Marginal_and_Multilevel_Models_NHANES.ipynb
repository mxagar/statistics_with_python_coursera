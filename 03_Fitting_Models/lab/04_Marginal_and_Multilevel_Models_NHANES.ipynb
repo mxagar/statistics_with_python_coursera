{
 "cells": [
  {
   "cell_type": "markdown",
   "id": "07a689a5-ebac-4243-a33d-866948fe0069",
   "metadata": {},
   "source": [
    "# Multi-level and Marginal Models - Linear and Logistic Regression - NHANES Dataset"
   ]
  },
  {
   "cell_type": "markdown",
   "id": "44bea426-4c43-4a1e-91d5-b87de935adce",
   "metadata": {},
   "source": [
    "This notebook applies multi-level and marginal models for linear and logistic regression to the NHANES datset. In contrast to ordinary linear and logistic regression, these models make the assumption that the variables are somehow correlated; that can be due to:\n",
    "\n",
    "- Correlations within clusters; that happens when a clustered complex sample is done by dividing in neighborhoods, etc.\n",
    "- Repeated measures along the time, typical in longitudinal studies that measure variable evolution during time.\n",
    "\n",
    "Marginal and multi-level models differentiate from each other in these aspects:\n",
    "\n",
    "- Multi-level models use random coefficients, i.e., variances between clusters (subject, neighborhood, etc.) are captured as random variables or effects; in addition to them, we also have the regular fixed effects or constant coefficients. All in all, the variance of the random effects is estimated. Thus, as a result, each cluster has its own model.\n",
    "- Marginal models do not have random coefficients; instead, they have the regular linear/lohgistic regression parameters or coefficients. However, the variance between the variables is also computed to adjust the standard error of the coefficients. This allows for a more realistic inference (i.e., hypothesis testing or confidence interval computation). Additionally, that variance is computed overall, i.e., between-cluster variations are not computed, as it is done by multi-level models."
   ]
  },
  {
   "cell_type": "markdown",
   "id": "c211b04c-9a47-47b3-b6b8-5c9ff4676b22",
   "metadata": {},
   "source": [
    "Overview of contents:\n",
    "1. Data Analysis and Pre-Processing\n",
    "    - 1.1 Cluster Ids\n",
    "    - 1.2 Interclass Correlation (ICC)\n",
    "    - 1.3 Conditional Interclass Correlation\n",
    "2. Marginal Linear Models with Dependent Data\n",
    "    - 2.1 Marginal Model for Linear Regression and Comparison with OLS\n",
    "    - 2.2 Marginal Model for Logistic Regression and Comparison with GLM\n",
    "3. Multi-Level Models with Dependent Data (Linear Regression)\n",
    "    - 3.1 Random Effects in the Intercept\n",
    "        - 3.1.1 Predicted Random Effects\n",
    "    - 3.2 Random Slopes\n",
    "    - 3.3 Intercepts and Slopes Allowed to Be Correlated\n",
    "4. Week 3 Assessment"
   ]
  },
  {
   "cell_type": "markdown",
   "id": "855eef28-e9da-438d-8f4b-e70f912c4596",
   "metadata": {},
   "source": [
    "## 1. Data Analysis and Pre-Processing"
   ]
  },
  {
   "cell_type": "code",
   "execution_count": 47,
   "id": "ee3b8834-9b08-49bc-8077-ff34b2767071",
   "metadata": {},
   "outputs": [],
   "source": [
    "%matplotlib inline\n",
    "import matplotlib.pyplot as plt\n",
    "import seaborn as sns\n",
    "import pandas as pd\n",
    "import statsmodels.api as sm\n",
    "import numpy as np"
   ]
  },
  {
   "cell_type": "code",
   "execution_count": 48,
   "id": "6eb908f7-f824-4d10-b1f7-36d45ef17f13",
   "metadata": {},
   "outputs": [],
   "source": [
    "# Read the data file\n",
    "da = pd.read_csv(\"nhanes_2015_2016.csv\")"
   ]
  },
  {
   "cell_type": "code",
   "execution_count": 49,
   "id": "20f5b222-22b6-4d92-906a-bdb978a5cea0",
   "metadata": {},
   "outputs": [],
   "source": [
    "# Drop unused columns, keep variables for our model\n",
    "# Variables that account for clustering in the complex sample\n",
    "# [SDMVSTRA](https://wwwn.cdc.gov/Nchs/Nhanes/2015-2016/DEMO_I.htm#SDMVSTRA)\n",
    "# [SDMVPSU](https://wwwn.cdc.gov/Nchs/Nhanes/2015-2016/DEMO_I.htm#SDMVPSU)\n",
    "vars = [\"BPXSY1\",\n",
    "        \"RIDAGEYR\",\n",
    "        \"RIAGENDR\",\n",
    "        \"RIDRETH1\",\n",
    "        \"DMDEDUC2\",\n",
    "        \"BMXBMI\",\n",
    "        \"SMQ020\",\n",
    "        \"SDMVSTRA\",\n",
    "        \"SDMVPSU\"]\n",
    "# Drop rows with any missing values\n",
    "da = da[vars].dropna()"
   ]
  },
  {
   "cell_type": "markdown",
   "id": "02f230d8-8620-431b-9f8d-7472e2237095",
   "metadata": {},
   "source": [
    "### 1.1 Cluster Ids"
   ]
  },
  {
   "cell_type": "markdown",
   "id": "fd950819-ff48-451e-9bac-cc45049f0663",
   "metadata": {},
   "source": [
    "Roughly speaking, in NHANES the data\n",
    "are collected by selecting a limited number of counties in the US,\n",
    "then selecting subregions of these counties, then selecting people\n",
    "within these subregions.  Since counties are geographically\n",
    "constrained, it is expected that people within a county are more\n",
    "similar to each other than they are to people in other counties.\n",
    "\n",
    "For privacy reasons, county ids are encoded as \"masked variance units\" (MVUs), which can be retrieved with `SDMVSTRA` and `SDMVPSU`."
   ]
  },
  {
   "cell_type": "code",
   "execution_count": 50,
   "id": "09ca5e41-bf27-4c9b-9c63-63a19bce775a",
   "metadata": {},
   "outputs": [],
   "source": [
    "da[\"group\"] = 10*da.SDMVSTRA + da.SDMVPSU"
   ]
  },
  {
   "cell_type": "markdown",
   "id": "317ba1b2-db1e-4fbe-88f1-2065f74c0432",
   "metadata": {},
   "source": [
    "### 1.2 Interclass Correlation (ICC)"
   ]
  },
  {
   "cell_type": "markdown",
   "id": "adf6d308-b554-4033-9274-58fa5a66fc64",
   "metadata": {},
   "source": [
    "Interclass Correlation (ICC) can be used to measure the dependence of the variables within clusters or groups. `ICC = 1` means perfect dependence. Note that ICC is similar but not the same as the Pearson's correlation; small values like `0.03` are not that small in ICC."
   ]
  },
  {
   "cell_type": "code",
   "execution_count": 88,
   "id": "4ddefb1e-517c-42f3-868c-962240413e1c",
   "metadata": {},
   "outputs": [
    {
     "name": "stdout",
     "output_type": "stream",
     "text": [
      "The correlation between two observations in the same cluster is 0.030\n"
     ]
    }
   ],
   "source": [
    "# ICC of blood pressure\n",
    "# Small values like `0.03` are not that small in ICC.\n",
    "# Formula \"BPXSY1 ~ 1\" means only intercept for blood pressure\n",
    "model = sm.GEE.from_formula(\"BPXSY1 ~ 1\", groups=\"group\",\n",
    "           cov_struct=sm.cov_struct.Exchangeable(), data=da)\n",
    "result = model.fit()\n",
    "print(result.cov_struct.summary())"
   ]
  },
  {
   "cell_type": "code",
   "execution_count": 52,
   "id": "c03f3678-b0d8-4847-9c72-1ec9c81cb317",
   "metadata": {},
   "outputs": [],
   "source": [
    "# Recode smoking to a simple binary variable\n",
    "da[\"smq\"] = da.SMQ020.replace({2: 0, 7: np.nan, 9: np.nan})"
   ]
  },
  {
   "cell_type": "code",
   "execution_count": 89,
   "id": "b7be8fc1-d3b7-4ecd-bf84-11eb4fe7890c",
   "metadata": {},
   "outputs": [
    {
     "name": "stdout",
     "output_type": "stream",
     "text": [
      "BPXSY1 The correlation between two observations in the same cluster is 0.030\n",
      "RIDAGEYR The correlation between two observations in the same cluster is 0.035\n",
      "BMXBMI The correlation between two observations in the same cluster is 0.039\n",
      "smq The correlation between two observations in the same cluster is 0.026\n",
      "SDMVSTRA The correlation between two observations in the same cluster is 0.959\n"
     ]
    }
   ],
   "source": [
    "# ICC of all variables\n",
    "# Similar values to the blood pressure\n",
    "# except for SDMVSTRA - as expected, since it is part of the grop ID\n",
    "for v in [\"BPXSY1\", \"RIDAGEYR\", \"BMXBMI\", \"smq\", \"SDMVSTRA\"]:\n",
    "    model = sm.GEE.from_formula(v + \" ~ 1\", groups=\"group\",\n",
    "           cov_struct=sm.cov_struct.Exchangeable(), data=da)\n",
    "    result = model.fit()\n",
    "    print(v, result.cov_struct.summary())"
   ]
  },
  {
   "cell_type": "markdown",
   "id": "a4ed8b70-a102-496a-a1ae-c56854da2756",
   "metadata": {},
   "source": [
    "### 1.3 Conditional Interclass Correlation"
   ]
  },
  {
   "cell_type": "code",
   "execution_count": 54,
   "id": "c8f168da-d05a-416a-9a1b-a1e8eb9b074d",
   "metadata": {},
   "outputs": [
    {
     "name": "stdout",
     "output_type": "stream",
     "text": [
      "The correlation between two observations in the same cluster is 0.019\n"
     ]
    }
   ],
   "source": [
    "# The ICC model above is computed without taking into account other variables\n",
    "# Here we control the age variable\n",
    "# We know that at older ages the blood pressure increases; that is an explained variation\n",
    "# Thus, we update the model to compute more reliable ICCs\n",
    "# and indeed the ICC value decreases\n",
    "# Lesson: always introduce control variables in the model before computing the ICC\n",
    "model = sm.GEE.from_formula(\"BPXSY1 ~ RIDAGEYR\", groups=\"group\",\n",
    "           cov_struct=sm.cov_struct.Exchangeable(), data=da)\n",
    "result = model.fit()\n",
    "print(result.cov_struct.summary())"
   ]
  },
  {
   "cell_type": "code",
   "execution_count": 55,
   "id": "646477ec-2661-4ab1-9519-e93364f7cc46",
   "metadata": {},
   "outputs": [],
   "source": [
    "# Create a labeled version of the gender variable\n",
    "da[\"RIAGENDRx\"] = da.RIAGENDR.replace({1: \"Male\", 2: \"Female\"})"
   ]
  },
  {
   "cell_type": "code",
   "execution_count": 56,
   "id": "a4802b03-8e96-443f-91c5-8284fc21df1c",
   "metadata": {},
   "outputs": [
    {
     "name": "stdout",
     "output_type": "stream",
     "text": [
      "The correlation between two observations in the same cluster is 0.013\n"
     ]
    }
   ],
   "source": [
    "# Again, we refine the model and introduce other variables that might explain the outcome\n",
    "# That way, the ICC is more accurate\n",
    "# C(RIDRETH1): 5 levels of ethnicity; C() convertes integers to categorical levels\n",
    "model = sm.GEE.from_formula(\"BPXSY1 ~ RIDAGEYR + RIAGENDRx + BMXBMI + C(RIDRETH1)\",\n",
    "           groups=\"group\",\n",
    "           cov_struct=sm.cov_struct.Exchangeable(), data=da)\n",
    "result = model.fit()\n",
    "print(result.cov_struct.summary())"
   ]
  },
  {
   "cell_type": "markdown",
   "id": "7712bd6c-2266-4c8a-a6f7-b9f949ea38e7",
   "metadata": {},
   "source": [
    "## 2. Marginal Models with Dependent Data"
   ]
  },
  {
   "cell_type": "markdown",
   "id": "89fc6c7c-840f-4cc0-9c48-6c972cb0746e",
   "metadata": {},
   "source": [
    "### 2.1 Marginal Model for Linear Regression and Comparison with OLS"
   ]
  },
  {
   "cell_type": "markdown",
   "id": "827a81ef-5f4a-40d5-850e-1e898484a729",
   "metadata": {},
   "source": [
    "If we have dependent data and we use ordinary linear models (i.e., not multi-level or marginal models), the mean parameters or coefficients will be correct, but the standard errors won't be correct. Thus, the significances of the parameters will be wrong. Therefore, GEE should be used to fit dependent data with continuous outcomes instead of OLS."
   ]
  },
  {
   "cell_type": "code",
   "execution_count": 57,
   "id": "09beeb9e-c25e-4c21-906a-65307225dad3",
   "metadata": {},
   "outputs": [],
   "source": [
    "# Fit a linear model with OLS\n",
    "model1 = sm.OLS.from_formula(\"BPXSY1 ~ RIDAGEYR + RIAGENDRx + BMXBMI + C(RIDRETH1)\",\n",
    "           data=da)\n",
    "result1 = model1.fit()"
   ]
  },
  {
   "cell_type": "code",
   "execution_count": 58,
   "id": "ff73d347-d1b7-4c19-aace-5319bcd60423",
   "metadata": {},
   "outputs": [],
   "source": [
    "# Fit a marginal linear model using GEE to handle dependent data\n",
    "model2 = sm.GEE.from_formula(\"BPXSY1 ~ RIDAGEYR + RIAGENDRx + BMXBMI + C(RIDRETH1)\",\n",
    "           groups=\"group\",\n",
    "           cov_struct=sm.cov_struct.Exchangeable(), data=da)\n",
    "result2 = model2.fit()"
   ]
  },
  {
   "cell_type": "code",
   "execution_count": 59,
   "id": "804eea5a-92ae-49d6-a448-0587f9a57c48",
   "metadata": {},
   "outputs": [
    {
     "name": "stdout",
     "output_type": "stream",
     "text": [
      "                   OLS_params    OLS_SE  GEE_params    GEE_SE\n",
      "Intercept           91.736583  1.339378   92.168530  1.384309\n",
      "RIAGENDRx[T.Male]    3.671294  0.453763    3.650245  0.454498\n",
      "C(RIDRETH1)[T.2]     0.855488  0.819486    0.159296  0.767025\n",
      "C(RIDRETH1)[T.3]    -1.796132  0.671954   -2.233280  0.760228\n",
      "C(RIDRETH1)[T.4]     3.813314  0.732355    3.105654  0.881580\n",
      "C(RIDRETH1)[T.5]    -0.455347  0.808948   -0.439831  0.813675\n",
      "RIDAGEYR             0.478699  0.012901    0.474101  0.018493\n",
      "BMXBMI               0.278015  0.033285    0.280205  0.038553\n"
     ]
    }
   ],
   "source": [
    "# Create dataframe which contains model parameters and standard errors\n",
    "# Linear regression: OLS vs GEE (assuming dependent data)\n",
    "x = pd.DataFrame({\"OLS_params\": result1.params, \"OLS_SE\": result1.bse,\n",
    "                  \"GEE_params\": result2.params, \"GEE_SE\": result2.bse})\n",
    "x = x[[\"OLS_params\", \"OLS_SE\", \"GEE_params\", \"GEE_SE\"]]\n",
    "print(x)"
   ]
  },
  {
   "cell_type": "markdown",
   "id": "e68acc81-b70a-41dc-880e-dfabac70920d",
   "metadata": {},
   "source": [
    "### 2.2 Marginal Model for Logistic Regression and Comparison with GLM"
   ]
  },
  {
   "cell_type": "markdown",
   "id": "3a9a974b-f3d3-4b64-bddb-b5a572b3ddbe",
   "metadata": {},
   "source": [
    "Similarly as before, GEE should be used to fit dependent data with binary outcomes instead of GLM."
   ]
  },
  {
   "cell_type": "code",
   "execution_count": 60,
   "id": "e85c31ae-3e5c-4a4e-9900-a06aa3fdd38f",
   "metadata": {},
   "outputs": [],
   "source": [
    "# Relabel the levels, convert rare categories to missing.\n",
    "da[\"DMDEDUC2x\"] = da.DMDEDUC2.replace({1: \"lt9\", 2: \"x9_11\", 3: \"HS\", 4: \"SomeCollege\",\n",
    "                                       5: \"College\", 7: np.nan, 9: np.nan})"
   ]
  },
  {
   "cell_type": "code",
   "execution_count": 61,
   "id": "7f5f8502-0cd2-4f54-b772-dbcde398a2e6",
   "metadata": {},
   "outputs": [
    {
     "data": {
      "text/html": [
       "<table class=\"simpletable\">\n",
       "<caption>Generalized Linear Model Regression Results</caption>\n",
       "<tr>\n",
       "  <th>Dep. Variable:</th>          <td>smq</td>       <th>  No. Observations:  </th>  <td>  5093</td> \n",
       "</tr>\n",
       "<tr>\n",
       "  <th>Model:</th>                  <td>GLM</td>       <th>  Df Residuals:      </th>  <td>  5086</td> \n",
       "</tr>\n",
       "<tr>\n",
       "  <th>Model Family:</th>        <td>Binomial</td>     <th>  Df Model:          </th>  <td>     6</td> \n",
       "</tr>\n",
       "<tr>\n",
       "  <th>Link Function:</th>         <td>logit</td>      <th>  Scale:             </th> <td>  1.0000</td>\n",
       "</tr>\n",
       "<tr>\n",
       "  <th>Method:</th>                <td>IRLS</td>       <th>  Log-Likelihood:    </th> <td> -3201.2</td>\n",
       "</tr>\n",
       "<tr>\n",
       "  <th>Date:</th>            <td>Thu, 31 Mar 2022</td> <th>  Deviance:          </th> <td>  6402.4</td>\n",
       "</tr>\n",
       "<tr>\n",
       "  <th>Time:</th>                <td>09:05:51</td>     <th>  Pearson chi2:      </th> <td>5.10e+03</td>\n",
       "</tr>\n",
       "<tr>\n",
       "  <th>No. Iterations:</th>          <td>4</td>        <th>                     </th>     <td> </td>   \n",
       "</tr>\n",
       "<tr>\n",
       "  <th>Covariance Type:</th>     <td>nonrobust</td>    <th>                     </th>     <td> </td>   \n",
       "</tr>\n",
       "</table>\n",
       "<table class=\"simpletable\">\n",
       "<tr>\n",
       "               <td></td>                  <th>coef</th>     <th>std err</th>      <th>z</th>      <th>P>|z|</th>  <th>[0.025</th>    <th>0.975]</th>  \n",
       "</tr>\n",
       "<tr>\n",
       "  <th>Intercept</th>                   <td>   -2.3060</td> <td>    0.114</td> <td>  -20.174</td> <td> 0.000</td> <td>   -2.530</td> <td>   -2.082</td>\n",
       "</tr>\n",
       "<tr>\n",
       "  <th>RIAGENDRx[T.Male]</th>           <td>    0.9096</td> <td>    0.060</td> <td>   15.118</td> <td> 0.000</td> <td>    0.792</td> <td>    1.028</td>\n",
       "</tr>\n",
       "<tr>\n",
       "  <th>C(DMDEDUC2x)[T.HS]</th>          <td>    0.9434</td> <td>    0.090</td> <td>   10.521</td> <td> 0.000</td> <td>    0.768</td> <td>    1.119</td>\n",
       "</tr>\n",
       "<tr>\n",
       "  <th>C(DMDEDUC2x)[T.SomeCollege]</th> <td>    0.8322</td> <td>    0.084</td> <td>    9.865</td> <td> 0.000</td> <td>    0.667</td> <td>    0.998</td>\n",
       "</tr>\n",
       "<tr>\n",
       "  <th>C(DMDEDUC2x)[T.lt9]</th>         <td>    0.2662</td> <td>    0.109</td> <td>    2.438</td> <td> 0.015</td> <td>    0.052</td> <td>    0.480</td>\n",
       "</tr>\n",
       "<tr>\n",
       "  <th>C(DMDEDUC2x)[T.x9_11]</th>       <td>    1.0986</td> <td>    0.107</td> <td>   10.296</td> <td> 0.000</td> <td>    0.889</td> <td>    1.308</td>\n",
       "</tr>\n",
       "<tr>\n",
       "  <th>RIDAGEYR</th>                    <td>    0.0183</td> <td>    0.002</td> <td>   10.582</td> <td> 0.000</td> <td>    0.015</td> <td>    0.022</td>\n",
       "</tr>\n",
       "</table>"
      ],
      "text/plain": [
       "<class 'statsmodels.iolib.summary.Summary'>\n",
       "\"\"\"\n",
       "                 Generalized Linear Model Regression Results                  \n",
       "==============================================================================\n",
       "Dep. Variable:                    smq   No. Observations:                 5093\n",
       "Model:                            GLM   Df Residuals:                     5086\n",
       "Model Family:                Binomial   Df Model:                            6\n",
       "Link Function:                  logit   Scale:                          1.0000\n",
       "Method:                          IRLS   Log-Likelihood:                -3201.2\n",
       "Date:                Thu, 31 Mar 2022   Deviance:                       6402.4\n",
       "Time:                        09:05:51   Pearson chi2:                 5.10e+03\n",
       "No. Iterations:                     4                                         \n",
       "Covariance Type:            nonrobust                                         \n",
       "===============================================================================================\n",
       "                                  coef    std err          z      P>|z|      [0.025      0.975]\n",
       "-----------------------------------------------------------------------------------------------\n",
       "Intercept                      -2.3060      0.114    -20.174      0.000      -2.530      -2.082\n",
       "RIAGENDRx[T.Male]               0.9096      0.060     15.118      0.000       0.792       1.028\n",
       "C(DMDEDUC2x)[T.HS]              0.9434      0.090     10.521      0.000       0.768       1.119\n",
       "C(DMDEDUC2x)[T.SomeCollege]     0.8322      0.084      9.865      0.000       0.667       0.998\n",
       "C(DMDEDUC2x)[T.lt9]             0.2662      0.109      2.438      0.015       0.052       0.480\n",
       "C(DMDEDUC2x)[T.x9_11]           1.0986      0.107     10.296      0.000       0.889       1.308\n",
       "RIDAGEYR                        0.0183      0.002     10.582      0.000       0.015       0.022\n",
       "===============================================================================================\n",
       "\"\"\""
      ]
     },
     "execution_count": 61,
     "metadata": {},
     "output_type": "execute_result"
    }
   ],
   "source": [
    "# Fit a basic GLM\n",
    "model1 = sm.GLM.from_formula(\"smq ~ RIDAGEYR + RIAGENDRx + C(DMDEDUC2x)\",\n",
    "           family=sm.families.Binomial(), data=da)\n",
    "result1 = model1.fit()\n",
    "result1.summary()"
   ]
  },
  {
   "cell_type": "code",
   "execution_count": 62,
   "id": "eadd440b-9124-42eb-b649-8fd664d00a50",
   "metadata": {},
   "outputs": [],
   "source": [
    "# Fit a marginal GLM using GEE\n",
    "model2 = sm.GEE.from_formula(\"smq ~ RIDAGEYR + RIAGENDRx + C(DMDEDUC2x)\",\n",
    "           groups=\"group\", family=sm.families.Binomial(),\n",
    "           cov_struct=sm.cov_struct.Exchangeable(), data=da)\n",
    "result2 = model2.fit(start_params=result1.params)"
   ]
  },
  {
   "cell_type": "code",
   "execution_count": 63,
   "id": "dac907e9-0ff2-4b6f-a148-35b844fbc5fd",
   "metadata": {},
   "outputs": [
    {
     "name": "stdout",
     "output_type": "stream",
     "text": [
      "                             GLM_params    GLM_SE  GEE_params    GEE_SE\n",
      "Intercept                     -2.305999  0.114308   -2.249820  0.140567\n",
      "RIAGENDRx[T.Male]              0.909597  0.060167    0.908682  0.062342\n",
      "C(DMDEDUC2x)[T.HS]             0.943364  0.089663    0.887965  0.095397\n",
      "C(DMDEDUC2x)[T.SomeCollege]    0.832227  0.084361    0.771636  0.104449\n",
      "C(DMDEDUC2x)[T.lt9]            0.266228  0.109183    0.321784  0.141327\n",
      "C(DMDEDUC2x)[T.x9_11]          1.098561  0.106697    1.062149  0.138401\n",
      "RIDAGEYR                       0.018257  0.001725    0.017416  0.001803\n"
     ]
    }
   ],
   "source": [
    "# Create dataframe which contains model parameters and standard errors\n",
    "# Logistic regression: GLM vs GEE (assuming dependent data)\n",
    "x = pd.DataFrame({\"GLM_params\": result1.params, \"GLM_SE\": result1.bse,\n",
    "                  \"GEE_params\": result2.params, \"GEE_SE\": result2.bse})\n",
    "x = x[[\"GLM_params\", \"GLM_SE\", \"GEE_params\", \"GEE_SE\"]]\n",
    "print(x)"
   ]
  },
  {
   "cell_type": "markdown",
   "id": "e39ec983-1bc6-41a1-bba8-6759d35a1e6f",
   "metadata": {},
   "source": [
    "## 3. Multi-Level Models with Dependent Data (Linear Regression)"
   ]
  },
  {
   "cell_type": "markdown",
   "id": "7792ca7c-968e-4cc4-8efb-5429df514f79",
   "metadata": {},
   "source": [
    "Multi-level models are vast and complex topic; the course barely introduces it, without going much in detail.\n",
    "\n",
    "Recall that the model is split in 2 levels. For example, let's consider a longitudinal study performed across the time ($t$) and in different clusters ($i$). The equations with random intercepts and slopes can be defined as:\n",
    "\n",
    "**Level 1**: (usual fomula, but these are not constant coefficients anymore)\n",
    "\n",
    "$y_{t,i} = \\beta_{0,i} + \\beta_{1,i} x_{1,t,i} + e_{t,i}$\n",
    "\n",
    "**Level 2**: (values plugged into equation of level 1)\n",
    "\n",
    "$\\beta_{0,i} = \\beta_{0,0} + \\beta_{0,1} T_{i} + u_{0,i}$\n",
    "\n",
    "$\\beta_{1,i} = \\beta_{1,0} + \\beta_{1,1} T_{i} + u_{1,i}$\n",
    "\n",
    "Notes:\n",
    "- $y_{t,i}$: outcome of cluster $i$ at time point $t$\n",
    "- $e_{t,i}$: error associated to $y_{t,i}$\n",
    "- $\\beta_{0,i}$, $\\beta_{1,i}$: these are not constant coefficients anymore, but random coefficients, as defined in level 2\n",
    "- $x_{1,t,i}$: (independent) viariable 1, time $t$, cluster $i$\n",
    "- $u$: Gaussian centered around 0 but with specific variance, which is an estimated parameter. I understand that the random effect assigned to the intercepts and the slopes comes from here.\n",
    "- $\\beta_{0,0}$, $\\beta_{0,1}$: mean intercepts of the random effects.\n",
    "- $\\beta_{1,0}$, $\\beta_{1,1}$: mean slopes of the random effects.\n",
    "- $T_i$: time variable.\n",
    "\n"
   ]
  },
  {
   "cell_type": "markdown",
   "id": "b487b177-7af5-4bb3-83af-61330b868b4f",
   "metadata": {},
   "source": [
    "### 3.1 Random Effects in the Intercept"
   ]
  },
  {
   "cell_type": "code",
   "execution_count": 81,
   "id": "5a66e3ea-d28e-4155-a8d1-94fb1e11593a",
   "metadata": {},
   "outputs": [
    {
     "data": {
      "text/html": [
       "<table class=\"simpletable\">\n",
       "<tr>\n",
       "       <td>Model:</td>       <td>MixedLM</td> <td>Dependent Variable:</td>   <td>BPXSY1</td>   \n",
       "</tr>\n",
       "<tr>\n",
       "  <td>No. Observations:</td>  <td>5102</td>         <td>Method:</td>          <td>REML</td>    \n",
       "</tr>\n",
       "<tr>\n",
       "     <td>No. Groups:</td>      <td>30</td>          <td>Scale:</td>         <td>256.6952</td>  \n",
       "</tr>\n",
       "<tr>\n",
       "  <td>Min. group size:</td>    <td>106</td>     <td>Log-Likelihood:</td>   <td>-21409.8702</td>\n",
       "</tr>\n",
       "<tr>\n",
       "  <td>Max. group size:</td>    <td>226</td>       <td>Converged:</td>          <td>Yes</td>    \n",
       "</tr>\n",
       "<tr>\n",
       "  <td>Mean group size:</td>   <td>170.1</td>           <td></td>                <td></td>      \n",
       "</tr>\n",
       "</table>\n",
       "<table class=\"simpletable\">\n",
       "<tr>\n",
       "          <td></td>           <th>Coef.</th> <th>Std.Err.</th>    <th>z</th>   <th>P>|z|</th> <th>[0.025</th> <th>0.975]</th>\n",
       "</tr>\n",
       "<tr>\n",
       "  <th>Intercept</th>         <td>92.173</td>   <td>1.402</td>  <td>65.752</td> <td>0.000</td> <td>89.426</td> <td>94.921</td>\n",
       "</tr>\n",
       "<tr>\n",
       "  <th>RIAGENDRx[T.Male]</th>  <td>3.650</td>   <td>0.452</td>   <td>8.084</td> <td>0.000</td>  <td>2.765</td>  <td>4.535</td>\n",
       "</tr>\n",
       "<tr>\n",
       "  <th>C(RIDRETH1)[T.2]</th>   <td>0.153</td>   <td>0.887</td>   <td>0.172</td> <td>0.863</td> <td>-1.586</td>  <td>1.891</td>\n",
       "</tr>\n",
       "<tr>\n",
       "  <th>C(RIDRETH1)[T.3]</th>  <td>-2.238</td>   <td>0.758</td>  <td>-2.954</td> <td>0.003</td> <td>-3.723</td> <td>-0.753</td>\n",
       "</tr>\n",
       "<tr>\n",
       "  <th>C(RIDRETH1)[T.4]</th>   <td>3.098</td>   <td>0.836</td>   <td>3.707</td> <td>0.000</td>  <td>1.460</td>  <td>4.737</td>\n",
       "</tr>\n",
       "<tr>\n",
       "  <th>C(RIDRETH1)[T.5]</th>  <td>-0.439</td>   <td>0.878</td>  <td>-0.500</td> <td>0.617</td> <td>-2.161</td>  <td>1.282</td>\n",
       "</tr>\n",
       "<tr>\n",
       "  <th>RIDAGEYR</th>           <td>0.474</td>   <td>0.013</td>  <td>36.482</td> <td>0.000</td>  <td>0.449</td>  <td>0.500</td>\n",
       "</tr>\n",
       "<tr>\n",
       "  <th>BMXBMI</th>             <td>0.280</td>   <td>0.033</td>   <td>8.404</td> <td>0.000</td>  <td>0.215</td>  <td>0.346</td>\n",
       "</tr>\n",
       "<tr>\n",
       "  <th>group Var</th>          <td>3.615</td>   <td>0.085</td>     <td></td>      <td></td>       <td></td>       <td></td>   \n",
       "</tr>\n",
       "</table>"
      ],
      "text/plain": [
       "<class 'statsmodels.iolib.summary2.Summary'>\n",
       "\"\"\"\n",
       "           Mixed Linear Model Regression Results\n",
       "============================================================\n",
       "Model:             MixedLM  Dependent Variable:  BPXSY1     \n",
       "No. Observations:  5102     Method:              REML       \n",
       "No. Groups:        30       Scale:               256.6952   \n",
       "Min. group size:   106      Log-Likelihood:      -21409.8702\n",
       "Max. group size:   226      Converged:           Yes        \n",
       "Mean group size:   170.1                                    \n",
       "------------------------------------------------------------\n",
       "                  Coef.  Std.Err.   z    P>|z| [0.025 0.975]\n",
       "------------------------------------------------------------\n",
       "Intercept         92.173    1.402 65.752 0.000 89.426 94.921\n",
       "RIAGENDRx[T.Male]  3.650    0.452  8.084 0.000  2.765  4.535\n",
       "C(RIDRETH1)[T.2]   0.153    0.887  0.172 0.863 -1.586  1.891\n",
       "C(RIDRETH1)[T.3]  -2.238    0.758 -2.954 0.003 -3.723 -0.753\n",
       "C(RIDRETH1)[T.4]   3.098    0.836  3.707 0.000  1.460  4.737\n",
       "C(RIDRETH1)[T.5]  -0.439    0.878 -0.500 0.617 -2.161  1.282\n",
       "RIDAGEYR           0.474    0.013 36.482 0.000  0.449  0.500\n",
       "BMXBMI             0.280    0.033  8.404 0.000  0.215  0.346\n",
       "group Var          3.615    0.085                           \n",
       "============================================================\n",
       "\n",
       "\"\"\""
      ]
     },
     "execution_count": 81,
     "metadata": {},
     "output_type": "execute_result"
    }
   ],
   "source": [
    "# Fit a multilevel (mixed effects) model to handle dependent data\n",
    "# By default, only the intercept of the random effects is included in the level 2 formula\n",
    "# but here I explicitly define it: re_formula = \"1\"\n",
    "# I understand that would be equivalent to: \n",
    "# - beta_0i = beta_0 + u_0i; 1 refers to beta_0\n",
    "# - beta_1i = beta_1 + u_1i; 1 refers to beta_1\n",
    "model = sm.MixedLM.from_formula(\"BPXSY1 ~ RIDAGEYR + RIAGENDRx + BMXBMI + C(RIDRETH1)\",\n",
    "           groups=\"group\",\n",
    "           re_formula = \"1\",\n",
    "           data=da)\n",
    "result = model.fit()\n",
    "result.summary()"
   ]
  },
  {
   "cell_type": "code",
   "execution_count": 82,
   "id": "cc415720-f34c-461c-9376-267ffc88c222",
   "metadata": {},
   "outputs": [
    {
     "data": {
      "text/plain": [
       "2.6888659319497505"
      ]
     },
     "execution_count": 82,
     "metadata": {},
     "output_type": "execute_result"
    }
   ],
   "source": [
    "# Look at group Var: Variance of groups (clusters retreived from masking variables)\n",
    "# If we choose two groups at random, their random effects differ on average\n",
    "# by sqrt(2*'group Var') = 2.68\n",
    "# This is equivalent to: Female -> Male; 6 years of aging\n",
    "np.sqrt(2*3.615)"
   ]
  },
  {
   "cell_type": "markdown",
   "id": "eb4e6d95-6026-4adf-aaae-c4387f0e4728",
   "metadata": {},
   "source": [
    "#### 3.1.1 Predicted Random Effects"
   ]
  },
  {
   "cell_type": "code",
   "execution_count": 83,
   "id": "18623b4f-9dfd-447e-a519-cc83db52225a",
   "metadata": {},
   "outputs": [
    {
     "data": {
      "text/plain": [
       "{1191: group   -1.630976\n",
       " dtype: float64,\n",
       " 1192: group   -0.086162\n",
       " dtype: float64,\n",
       " 1201: group   -2.042661\n",
       " dtype: float64,\n",
       " 1202: group   -0.147472\n",
       " dtype: float64,\n",
       " 1211: group    0.280623\n",
       " dtype: float64,\n",
       " 1212: group    1.580732\n",
       " dtype: float64,\n",
       " 1221: group    0.283347\n",
       " dtype: float64,\n",
       " 1222: group    0.131512\n",
       " dtype: float64,\n",
       " 1231: group   -2.038171\n",
       " dtype: float64,\n",
       " 1232: group    0.617651\n",
       " dtype: float64,\n",
       " 1241: group    2.878488\n",
       " dtype: float64,\n",
       " 1242: group   -0.519364\n",
       " dtype: float64,\n",
       " 1251: group    2.064967\n",
       " dtype: float64,\n",
       " 1252: group    1.521281\n",
       " dtype: float64,\n",
       " 1261: group   -1.261975\n",
       " dtype: float64,\n",
       " 1262: group    0.980846\n",
       " dtype: float64,\n",
       " 1271: group    0.118031\n",
       " dtype: float64,\n",
       " 1272: group   -0.128397\n",
       " dtype: float64,\n",
       " 1281: group   -0.384862\n",
       " dtype: float64,\n",
       " 1282: group   -3.582111\n",
       " dtype: float64,\n",
       " 1291: group   -3.271017\n",
       " dtype: float64,\n",
       " 1292: group   -0.829538\n",
       " dtype: float64,\n",
       " 1301: group   -0.884171\n",
       " dtype: float64,\n",
       " 1302: group    2.790657\n",
       " dtype: float64,\n",
       " 1311: group   -0.585201\n",
       " dtype: float64,\n",
       " 1312: group    1.198291\n",
       " dtype: float64,\n",
       " 1321: group   -0.195692\n",
       " dtype: float64,\n",
       " 1322: group    1.955515\n",
       " dtype: float64,\n",
       " 1331: group   -0.305559\n",
       " dtype: float64,\n",
       " 1332: group    1.491389\n",
       " dtype: float64}"
      ]
     },
     "execution_count": 83,
     "metadata": {},
     "output_type": "execute_result"
    }
   ],
   "source": [
    "# Uniqueness of each county/cluster/group relative to the mean; difference wrt the mean;\n",
    "# aka BLUPs\n",
    "# Notice most extreme values differences:\n",
    "# - cluster 1241, blood pressure 2.87\n",
    "# - cluster 1282, blood pressure -3.58\n",
    "result.random_effects"
   ]
  },
  {
   "cell_type": "markdown",
   "id": "9629e41a-ed9f-4144-9b30-17a05e8d22e9",
   "metadata": {},
   "source": [
    "### 3.2 Random Slopes"
   ]
  },
  {
   "cell_type": "code",
   "execution_count": 84,
   "id": "a9350dde-37ea-496a-aa0e-c9d55282f997",
   "metadata": {},
   "outputs": [],
   "source": [
    "# Always center the time variable used to compute the slope\n",
    "da[\"age_cen\"] = da.groupby(\"group\").RIDAGEYR.transform(lambda x: x - x.mean())"
   ]
  },
  {
   "cell_type": "code",
   "execution_count": 86,
   "id": "d176ae8b-5cb6-4198-b331-876430c401cf",
   "metadata": {},
   "outputs": [
    {
     "name": "stderr",
     "output_type": "stream",
     "text": [
      "/Users/mxagar/opt/anaconda3/envs/ds/lib/python3.7/site-packages/statsmodels/regression/mixed_linear_model.py:2237: ConvergenceWarning: The MLE may be on the boundary of the parameter space.\n",
      "  warnings.warn(msg, ConvergenceWarning)\n"
     ]
    },
    {
     "data": {
      "text/html": [
       "<table class=\"simpletable\">\n",
       "<tr>\n",
       "       <td>Model:</td>       <td>MixedLM</td> <td>Dependent Variable:</td>   <td>BPXSY1</td>   \n",
       "</tr>\n",
       "<tr>\n",
       "  <td>No. Observations:</td>  <td>5102</td>         <td>Method:</td>          <td>REML</td>    \n",
       "</tr>\n",
       "<tr>\n",
       "     <td>No. Groups:</td>      <td>30</td>          <td>Scale:</td>         <td>263.7323</td>  \n",
       "</tr>\n",
       "<tr>\n",
       "  <td>Min. group size:</td>    <td>106</td>     <td>Log-Likelihood:</td>   <td>-21469.9240</td>\n",
       "</tr>\n",
       "<tr>\n",
       "  <td>Max. group size:</td>    <td>226</td>       <td>Converged:</td>          <td>Yes</td>    \n",
       "</tr>\n",
       "<tr>\n",
       "  <td>Mean group size:</td>   <td>170.1</td>           <td></td>                <td></td>      \n",
       "</tr>\n",
       "</table>\n",
       "<table class=\"simpletable\">\n",
       "<tr>\n",
       "          <td></td>           <th>Coef.</th>  <th>Std.Err.</th>    <th>z</th>   <th>P>|z|</th> <th>[0.025</th>  <th>0.975]</th> \n",
       "</tr>\n",
       "<tr>\n",
       "  <th>Intercept</th>         <td>115.207</td>   <td>1.209</td>  <td>95.265</td> <td>0.000</td> <td>112.836</td> <td>117.577</td>\n",
       "</tr>\n",
       "<tr>\n",
       "  <th>RIAGENDRx[T.Male]</th>  <td>3.643</td>    <td>0.457</td>   <td>7.962</td> <td>0.000</td>  <td>2.746</td>   <td>4.539</td> \n",
       "</tr>\n",
       "<tr>\n",
       "  <th>C(RIDRETH1)[T.2]</th>   <td>1.167</td>    <td>0.827</td>   <td>1.412</td> <td>0.158</td> <td>-0.453</td>   <td>2.787</td> \n",
       "</tr>\n",
       "<tr>\n",
       "  <th>C(RIDRETH1)[T.3]</th>  <td>-1.659</td>    <td>0.679</td>  <td>-2.444</td> <td>0.015</td> <td>-2.989</td>  <td>-0.328</td> \n",
       "</tr>\n",
       "<tr>\n",
       "  <th>C(RIDRETH1)[T.4]</th>   <td>3.610</td>    <td>0.739</td>   <td>4.884</td> <td>0.000</td>  <td>2.161</td>   <td>5.058</td> \n",
       "</tr>\n",
       "<tr>\n",
       "  <th>C(RIDRETH1)[T.5]</th>  <td>-1.208</td>    <td>0.816</td>  <td>-1.480</td> <td>0.139</td> <td>-2.807</td>   <td>0.392</td> \n",
       "</tr>\n",
       "<tr>\n",
       "  <th>age_cen</th>            <td>0.467</td>    <td>0.018</td>  <td>26.235</td> <td>0.000</td>  <td>0.432</td>   <td>0.502</td> \n",
       "</tr>\n",
       "<tr>\n",
       "  <th>BMXBMI</th>             <td>0.288</td>    <td>0.034</td>   <td>8.574</td> <td>0.000</td>  <td>0.222</td>   <td>0.353</td> \n",
       "</tr>\n",
       "<tr>\n",
       "  <th>age_cen Var</th>        <td>0.004</td>    <td>0.000</td>     <td></td>      <td></td>       <td></td>        <td></td>    \n",
       "</tr>\n",
       "</table>"
      ],
      "text/plain": [
       "<class 'statsmodels.iolib.summary2.Summary'>\n",
       "\"\"\"\n",
       "             Mixed Linear Model Regression Results\n",
       "===============================================================\n",
       "Model:              MixedLM   Dependent Variable:   BPXSY1     \n",
       "No. Observations:   5102      Method:               REML       \n",
       "No. Groups:         30        Scale:                263.7323   \n",
       "Min. group size:    106       Log-Likelihood:       -21469.9240\n",
       "Max. group size:    226       Converged:            Yes        \n",
       "Mean group size:    170.1                                      \n",
       "---------------------------------------------------------------\n",
       "                   Coef.  Std.Err.   z    P>|z|  [0.025  0.975]\n",
       "---------------------------------------------------------------\n",
       "Intercept         115.207    1.209 95.265 0.000 112.836 117.577\n",
       "RIAGENDRx[T.Male]   3.643    0.457  7.962 0.000   2.746   4.539\n",
       "C(RIDRETH1)[T.2]    1.167    0.827  1.412 0.158  -0.453   2.787\n",
       "C(RIDRETH1)[T.3]   -1.659    0.679 -2.444 0.015  -2.989  -0.328\n",
       "C(RIDRETH1)[T.4]    3.610    0.739  4.884 0.000   2.161   5.058\n",
       "C(RIDRETH1)[T.5]   -1.208    0.816 -1.480 0.139  -2.807   0.392\n",
       "age_cen             0.467    0.018 26.235 0.000   0.432   0.502\n",
       "BMXBMI              0.288    0.034  8.574 0.000   0.222   0.353\n",
       "age_cen Var         0.004    0.000                             \n",
       "===============================================================\n",
       "\n",
       "\"\"\""
      ]
     },
     "execution_count": 86,
     "metadata": {},
     "output_type": "execute_result"
    }
   ],
   "source": [
    "# Now, the random effects have no intercept, but they have a slope, i.e.:\n",
    "# 0+age_cen\n",
    "# Note that here the level 2 formula is passed as a dictionary\n",
    "model = sm.MixedLM.from_formula(\"BPXSY1 ~ age_cen + RIAGENDRx + BMXBMI + C(RIDRETH1)\",\n",
    "           groups=\"group\",\n",
    "           vc_formula={\"age_cen\": \"0+age_cen\"},\n",
    "           data=da)\n",
    "result = model.fit()\n",
    "result.summary()"
   ]
  },
  {
   "cell_type": "markdown",
   "id": "5675cf0f-0d60-4ef7-8d09-0e7eaad94a3a",
   "metadata": {},
   "source": [
    "### 3.3 Intercepts and Slopes Allowed to Be Correlated"
   ]
  },
  {
   "cell_type": "code",
   "execution_count": 87,
   "id": "09c81905-4699-487b-bcae-94e013376036",
   "metadata": {},
   "outputs": [
    {
     "name": "stderr",
     "output_type": "stream",
     "text": [
      "/Users/mxagar/opt/anaconda3/envs/ds/lib/python3.7/site-packages/statsmodels/regression/mixed_linear_model.py:2237: ConvergenceWarning: The MLE may be on the boundary of the parameter space.\n",
      "  warnings.warn(msg, ConvergenceWarning)\n"
     ]
    },
    {
     "data": {
      "text/html": [
       "<table class=\"simpletable\">\n",
       "<tr>\n",
       "       <td>Model:</td>       <td>MixedLM</td> <td>Dependent Variable:</td>   <td>BPXSY1</td>   \n",
       "</tr>\n",
       "<tr>\n",
       "  <td>No. Observations:</td>  <td>5102</td>         <td>Method:</td>          <td>REML</td>    \n",
       "</tr>\n",
       "<tr>\n",
       "     <td>No. Groups:</td>      <td>30</td>          <td>Scale:</td>         <td>255.4451</td>  \n",
       "</tr>\n",
       "<tr>\n",
       "  <td>Min. group size:</td>    <td>106</td>     <td>Log-Likelihood:</td>   <td>-21413.6193</td>\n",
       "</tr>\n",
       "<tr>\n",
       "  <td>Max. group size:</td>    <td>226</td>       <td>Converged:</td>          <td>Yes</td>    \n",
       "</tr>\n",
       "<tr>\n",
       "  <td>Mean group size:</td>   <td>170.1</td>           <td></td>                <td></td>      \n",
       "</tr>\n",
       "</table>\n",
       "<table class=\"simpletable\">\n",
       "<tr>\n",
       "           <td></td>            <th>Coef.</th>  <th>Std.Err.</th>    <th>z</th>   <th>P>|z|</th> <th>[0.025</th>  <th>0.975]</th> \n",
       "</tr>\n",
       "<tr>\n",
       "  <th>Intercept</th>           <td>115.467</td>   <td>1.340</td>  <td>86.173</td> <td>0.000</td> <td>112.840</td> <td>118.093</td>\n",
       "</tr>\n",
       "<tr>\n",
       "  <th>RIAGENDRx[T.Male]</th>    <td>3.662</td>    <td>0.451</td>   <td>8.121</td> <td>0.000</td>  <td>2.778</td>   <td>4.546</td> \n",
       "</tr>\n",
       "<tr>\n",
       "  <th>C(RIDRETH1)[T.2]</th>     <td>0.023</td>    <td>0.898</td>   <td>0.025</td> <td>0.980</td> <td>-1.738</td>   <td>1.783</td> \n",
       "</tr>\n",
       "<tr>\n",
       "  <th>C(RIDRETH1)[T.3]</th>    <td>-2.251</td>    <td>0.778</td>  <td>-2.893</td> <td>0.004</td> <td>-3.775</td>  <td>-0.726</td> \n",
       "</tr>\n",
       "<tr>\n",
       "  <th>C(RIDRETH1)[T.4]</th>     <td>3.011</td>    <td>0.854</td>   <td>3.524</td> <td>0.000</td>  <td>1.336</td>   <td>4.686</td> \n",
       "</tr>\n",
       "<tr>\n",
       "  <th>C(RIDRETH1)[T.5]</th>    <td>-0.585</td>    <td>0.893</td>  <td>-0.655</td> <td>0.512</td> <td>-2.336</td>   <td>1.165</td> \n",
       "</tr>\n",
       "<tr>\n",
       "  <th>age_cen</th>              <td>0.466</td>    <td>0.018</td>  <td>26.286</td> <td>0.000</td>  <td>0.431</td>   <td>0.501</td> \n",
       "</tr>\n",
       "<tr>\n",
       "  <th>BMXBMI</th>               <td>0.283</td>    <td>0.033</td>   <td>8.497</td> <td>0.000</td>  <td>0.218</td>   <td>0.349</td> \n",
       "</tr>\n",
       "<tr>\n",
       "  <th>group Var</th>            <td>8.655</td>    <td>0.169</td>     <td></td>      <td></td>       <td></td>        <td></td>    \n",
       "</tr>\n",
       "<tr>\n",
       "  <th>group x age_cen Cov</th>  <td>0.119</td>    <td>0.004</td>     <td></td>      <td></td>       <td></td>        <td></td>    \n",
       "</tr>\n",
       "<tr>\n",
       "  <th>age_cen Var</th>          <td>0.004</td>    <td>0.000</td>     <td></td>      <td></td>       <td></td>        <td></td>    \n",
       "</tr>\n",
       "</table>"
      ],
      "text/plain": [
       "<class 'statsmodels.iolib.summary2.Summary'>\n",
       "\"\"\"\n",
       "              Mixed Linear Model Regression Results\n",
       "=================================================================\n",
       "Model:                MixedLM   Dependent Variable:   BPXSY1     \n",
       "No. Observations:     5102      Method:               REML       \n",
       "No. Groups:           30        Scale:                255.4451   \n",
       "Min. group size:      106       Log-Likelihood:       -21413.6193\n",
       "Max. group size:      226       Converged:            Yes        \n",
       "Mean group size:      170.1                                      \n",
       "-----------------------------------------------------------------\n",
       "                     Coef.  Std.Err.   z    P>|z|  [0.025  0.975]\n",
       "-----------------------------------------------------------------\n",
       "Intercept           115.467    1.340 86.173 0.000 112.840 118.093\n",
       "RIAGENDRx[T.Male]     3.662    0.451  8.121 0.000   2.778   4.546\n",
       "C(RIDRETH1)[T.2]      0.023    0.898  0.025 0.980  -1.738   1.783\n",
       "C(RIDRETH1)[T.3]     -2.251    0.778 -2.893 0.004  -3.775  -0.726\n",
       "C(RIDRETH1)[T.4]      3.011    0.854  3.524 0.000   1.336   4.686\n",
       "C(RIDRETH1)[T.5]     -0.585    0.893 -0.655 0.512  -2.336   1.165\n",
       "age_cen               0.466    0.018 26.286 0.000   0.431   0.501\n",
       "BMXBMI                0.283    0.033  8.497 0.000   0.218   0.349\n",
       "group Var             8.655    0.169                             \n",
       "group x age_cen Cov   0.119    0.004                             \n",
       "age_cen Var           0.004    0.000                             \n",
       "=================================================================\n",
       "\n",
       "\"\"\""
      ]
     },
     "execution_count": 87,
     "metadata": {},
     "output_type": "execute_result"
    }
   ],
   "source": [
    "model = sm.MixedLM.from_formula(\"BPXSY1 ~ age_cen + RIAGENDRx + BMXBMI + C(RIDRETH1)\",\n",
    "           groups=\"group\", re_formula=\"1+age_cen\", data=da)\n",
    "result = model.fit()\n",
    "result.summary()"
   ]
  },
  {
   "cell_type": "markdown",
   "id": "8891734d-9f76-48ae-b3d9-bc5fea1d4bc5",
   "metadata": {},
   "source": [
    "## 4. Week 3 Assessment"
   ]
  },
  {
   "cell_type": "code",
   "execution_count": 90,
   "id": "0416b87d-ea3b-4191-b2b2-81b612f3db7e",
   "metadata": {},
   "outputs": [],
   "source": [
    "import warnings\n",
    "warnings.filterwarnings('ignore')\n",
    "\n",
    "import numpy as np\n",
    "import statsmodels.api as sm\n",
    "import pandas as pd  \n",
    "\n",
    "url = \"nhanes_2015_2016.csv\"\n",
    "da = pd.read_csv(url)\n",
    "\n",
    "# Drop unused columns, drop rows with any missing values.\n",
    "vars = [\"BPXSY1\", \"RIDAGEYR\", \"RIAGENDR\", \"RIDRETH1\", \"DMDEDUC2\", \"BMXBMI\",\n",
    "        \"SMQ020\", \"SDMVSTRA\", \"SDMVPSU\"]\n",
    "da = da[vars].dropna()\n",
    "\n",
    "da[\"group\"] = 10*da.SDMVSTRA + da.SDMVPSU\n",
    "\n",
    "da[\"smq\"] = da.SMQ020.replace({2: 0, 7: np.nan, 9: np.nan})\n",
    "\n",
    "np.random.seed(123)"
   ]
  },
  {
   "cell_type": "markdown",
   "id": "6fc0ac15-5d5d-4ae4-84f6-c02b26a7702e",
   "metadata": {},
   "source": [
    "#### Q1: What is clustered data?\n",
    "\n",
    "Data grouped according to some common property, such as geographical closeness, subject id, etc. Data within each cluster is often correlated, i.e., we have ependent data.\n",
    "\n",
    "Data is considered clustered when observations are correlated within groups, sometimes related to study designs."
   ]
  },
  {
   "cell_type": "markdown",
   "id": "6f6f20a2-5046-49e7-b5f3-feccb3f0f290",
   "metadata": {},
   "source": [
    "#### Q2: Which of the listed features has the highest correlation between two observations in the same cluster?\n",
    "\n",
    "SDMVSTRA; that is to be expected, since SDMVSTRA is an identifier variable used to define clusters or groups."
   ]
  },
  {
   "cell_type": "code",
   "execution_count": 91,
   "id": "ed23752c-d63b-457f-b5c7-170ca2703b44",
   "metadata": {},
   "outputs": [
    {
     "name": "stdout",
     "output_type": "stream",
     "text": [
      "BPXSY1 The correlation between two observations in the same cluster is 0.030\n",
      "SDMVSTRA The correlation between two observations in the same cluster is 0.959\n",
      "RIDAGEYR The correlation between two observations in the same cluster is 0.035\n",
      "BMXBMI The correlation between two observations in the same cluster is 0.039\n",
      "smq The correlation between two observations in the same cluster is 0.026\n"
     ]
    }
   ],
   "source": [
    "for v in [\"BPXSY1\", \"SDMVSTRA\", \"RIDAGEYR\", \"BMXBMI\", \"smq\"]:\n",
    "    model = sm.GEE.from_formula(v + \" ~ 1\", groups=\"group\",\n",
    "           cov_struct=sm.cov_struct.Exchangeable(), data=da)\n",
    "    result = model.fit()\n",
    "    print(v, result.cov_struct.summary())"
   ]
  },
  {
   "cell_type": "code",
   "execution_count": null,
   "id": "a1e92a96-7085-4b74-b2df-e1179d23a7b5",
   "metadata": {},
   "outputs": [],
   "source": []
  }
 ],
 "metadata": {
  "kernelspec": {
   "display_name": "Python 3 (ipykernel)",
   "language": "python",
   "name": "python3"
  },
  "language_info": {
   "codemirror_mode": {
    "name": "ipython",
    "version": 3
   },
   "file_extension": ".py",
   "mimetype": "text/x-python",
   "name": "python",
   "nbconvert_exporter": "python",
   "pygments_lexer": "ipython3",
   "version": "3.7.11"
  }
 },
 "nbformat": 4,
 "nbformat_minor": 5
}
