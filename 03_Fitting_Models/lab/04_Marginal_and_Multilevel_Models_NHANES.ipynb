{
 "cells": [
  {
   "cell_type": "markdown",
   "id": "07a689a5-ebac-4243-a33d-866948fe0069",
   "metadata": {},
   "source": [
    "# Multi-level and Marginal Models - Linear and Logistic Regression - NHANES Dataset"
   ]
  },
  {
   "cell_type": "markdown",
   "id": "44bea426-4c43-4a1e-91d5-b87de935adce",
   "metadata": {},
   "source": [
    "This notebook applies multi-level and marginal models for linear and logistic regression to the NHANES datset. In contrast to ordinary linear and logistic regression, these models make the assumption that the variables are somehow correlated; that can be due to:\n",
    "\n",
    "- Correlations within clusters; that happens when a clustered complex sample is done by dividing in neighborhoods, etc.\n",
    "- Repeated measures along the time, typical in longitudinal studies that measure variable evolution during time.\n",
    "\n",
    "Marginal and multi-level models differentiate from each other in these aspects:\n",
    "\n",
    "- Multi-level models use random coefficients, i.e., variances between clusters (subject, neighborhood, etc.) are captured as random variables or effects; in addition to them, we also have the regular fixed effects or constant coefficients. All in all, the variance of the random effects is estimated. Thus, as a result, each cluster has its own model.\n",
    "- Marginal models do not have random coefficients; instead, they have the regular linear/lohgistic regression parameters or coefficients. However, the variance between the variables is also computed to adjust the standard error of the coefficients. This allows for a more realistic inference (i.e., hypothesis testing or confidence interval computation). Additionally, that variance is computed overall, i.e., between-cluster variations are not computed, as it is done by multi-level models."
   ]
  },
  {
   "cell_type": "markdown",
   "id": "c211b04c-9a47-47b3-b6b8-5c9ff4676b22",
   "metadata": {},
   "source": [
    "Overview of contents:\n",
    "1. Data Analysis and Pre-Processing\n",
    "    - 1.1 Cluster Ids\n",
    "    - 1.2 Interclass Correlation (ICC)\n",
    "    - 1.3 Conditional Interclass Correlation\n",
    "2. Marginal Linear Models with Dependent Data"
   ]
  },
  {
   "cell_type": "markdown",
   "id": "855eef28-e9da-438d-8f4b-e70f912c4596",
   "metadata": {},
   "source": [
    "## 1. Data Analysis and Pre-Processing"
   ]
  },
  {
   "cell_type": "code",
   "execution_count": 1,
   "id": "ee3b8834-9b08-49bc-8077-ff34b2767071",
   "metadata": {},
   "outputs": [],
   "source": [
    "%matplotlib inline\n",
    "import matplotlib.pyplot as plt\n",
    "import seaborn as sns\n",
    "import pandas as pd\n",
    "import statsmodels.api as sm\n",
    "import numpy as np"
   ]
  },
  {
   "cell_type": "code",
   "execution_count": 2,
   "id": "6eb908f7-f824-4d10-b1f7-36d45ef17f13",
   "metadata": {},
   "outputs": [],
   "source": [
    "# Read the data file\n",
    "da = pd.read_csv(\"nhanes_2015_2016.csv\")"
   ]
  },
  {
   "cell_type": "code",
   "execution_count": 5,
   "id": "20f5b222-22b6-4d92-906a-bdb978a5cea0",
   "metadata": {},
   "outputs": [],
   "source": [
    "# Drop unused columns, keep variables for our model\n",
    "# Variables that account for clustering in the complex sample\n",
    "# [SDMVSTRA](https://wwwn.cdc.gov/Nchs/Nhanes/2015-2016/DEMO_I.htm#SDMVSTRA)\n",
    "# [SDMVPSU](https://wwwn.cdc.gov/Nchs/Nhanes/2015-2016/DEMO_I.htm#SDMVPSU)\n",
    "vars = [\"BPXSY1\",\n",
    "        \"RIDAGEYR\",\n",
    "        \"RIAGENDR\",\n",
    "        \"RIDRETH1\",\n",
    "        \"DMDEDUC2\",\n",
    "        \"BMXBMI\",\n",
    "        \"SMQ020\",\n",
    "        \"SDMVSTRA\",\n",
    "        \"SDMVPSU\"]\n",
    "# Drop rows with any missing values\n",
    "da = da[vars].dropna()"
   ]
  },
  {
   "cell_type": "markdown",
   "id": "02f230d8-8620-431b-9f8d-7472e2237095",
   "metadata": {},
   "source": [
    "### 1.1 Cluster Ids"
   ]
  },
  {
   "cell_type": "markdown",
   "id": "fd950819-ff48-451e-9bac-cc45049f0663",
   "metadata": {},
   "source": [
    "Roughly speaking, in NHANES the data\n",
    "are collected by selecting a limited number of counties in the US,\n",
    "then selecting subregions of these counties, then selecting people\n",
    "within these subregions.  Since counties are geographically\n",
    "constrained, it is expected that people within a county are more\n",
    "similar to each other than they are to people in other counties.\n",
    "\n",
    "For privacy reasons, county ids are encoded as \"masked variance units\" (MVUs), which can be retrieved with `SDMVSTRA` and `SDMVPSU`."
   ]
  },
  {
   "cell_type": "code",
   "execution_count": 7,
   "id": "09ca5e41-bf27-4c9b-9c63-63a19bce775a",
   "metadata": {},
   "outputs": [],
   "source": [
    "da[\"group\"] = 10*da.SDMVSTRA + da.SDMVPSU"
   ]
  },
  {
   "cell_type": "markdown",
   "id": "317ba1b2-db1e-4fbe-88f1-2065f74c0432",
   "metadata": {},
   "source": [
    "### 1.2 Interclass Correlation (ICC)"
   ]
  },
  {
   "cell_type": "markdown",
   "id": "adf6d308-b554-4033-9274-58fa5a66fc64",
   "metadata": {},
   "source": [
    "Interclass Correlation (ICC) can be used to measure the dependence of the variables within clusters or groups. `ICC = 1` means perfect dependence. Note that ICC is similar but not the same as the Pearson's correlation; small values like `0.03` are not that small in ICC."
   ]
  },
  {
   "cell_type": "code",
   "execution_count": 11,
   "id": "4ddefb1e-517c-42f3-868c-962240413e1c",
   "metadata": {},
   "outputs": [
    {
     "name": "stdout",
     "output_type": "stream",
     "text": [
      "The correlation between two observations in the same cluster is 0.030\n"
     ]
    }
   ],
   "source": [
    "# ICC of blood pressure\n",
    "# Small values like `0.03` are not that small in ICC.\n",
    "model = sm.GEE.from_formula(\"BPXSY1 ~ 1\", groups=\"group\",\n",
    "           cov_struct=sm.cov_struct.Exchangeable(), data=da)\n",
    "result = model.fit()\n",
    "print(result.cov_struct.summary())"
   ]
  },
  {
   "cell_type": "code",
   "execution_count": 12,
   "id": "c03f3678-b0d8-4847-9c72-1ec9c81cb317",
   "metadata": {},
   "outputs": [],
   "source": [
    "# Recode smoking to a simple binary variable\n",
    "da[\"smq\"] = da.SMQ020.replace({2: 0, 7: np.nan, 9: np.nan})"
   ]
  },
  {
   "cell_type": "code",
   "execution_count": 13,
   "id": "b7be8fc1-d3b7-4ecd-bf84-11eb4fe7890c",
   "metadata": {},
   "outputs": [
    {
     "name": "stdout",
     "output_type": "stream",
     "text": [
      "BPXSY1 The correlation between two observations in the same cluster is 0.030\n",
      "RIDAGEYR The correlation between two observations in the same cluster is 0.035\n",
      "BMXBMI The correlation between two observations in the same cluster is 0.039\n",
      "smq The correlation between two observations in the same cluster is 0.026\n",
      "SDMVSTRA The correlation between two observations in the same cluster is 0.959\n"
     ]
    }
   ],
   "source": [
    "# ICC of all variables\n",
    "# Similar values to the blood pressure\n",
    "# except for SDMVSTRA - \n",
    "for v in [\"BPXSY1\", \"RIDAGEYR\", \"BMXBMI\", \"smq\", \"SDMVSTRA\"]:\n",
    "    model = sm.GEE.from_formula(v + \" ~ 1\", groups=\"group\",\n",
    "           cov_struct=sm.cov_struct.Exchangeable(), data=da)\n",
    "    result = model.fit()\n",
    "    print(v, result.cov_struct.summary())"
   ]
  },
  {
   "cell_type": "markdown",
   "id": "a4ed8b70-a102-496a-a1ae-c56854da2756",
   "metadata": {},
   "source": [
    "### 1.3 Conditional Interclass Correlation"
   ]
  },
  {
   "cell_type": "code",
   "execution_count": 21,
   "id": "c8f168da-d05a-416a-9a1b-a1e8eb9b074d",
   "metadata": {},
   "outputs": [
    {
     "name": "stdout",
     "output_type": "stream",
     "text": [
      "The correlation between two observations in the same cluster is 0.019\n"
     ]
    }
   ],
   "source": [
    "# The ICC model above is computed without taking into account other variables\n",
    "# Here we control the age variable\n",
    "# We know that at older ages the blood pressure increases; that is an explained variation\n",
    "# Thus, we update the model to compute more reliable ICCs\n",
    "# and indeed the ICC value decreases\n",
    "# Lesson: always introduce control variables in the model before computing the ICC\n",
    "model = sm.GEE.from_formula(\"BPXSY1 ~ RIDAGEYR\", groups=\"group\",\n",
    "           cov_struct=sm.cov_struct.Exchangeable(), data=da)\n",
    "result = model.fit()\n",
    "print(result.cov_struct.summary())"
   ]
  },
  {
   "cell_type": "code",
   "execution_count": 22,
   "id": "646477ec-2661-4ab1-9519-e93364f7cc46",
   "metadata": {},
   "outputs": [],
   "source": [
    "# Create a labeled version of the gender variable\n",
    "da[\"RIAGENDRx\"] = da.RIAGENDR.replace({1: \"Male\", 2: \"Female\"})"
   ]
  },
  {
   "cell_type": "code",
   "execution_count": 23,
   "id": "a4802b03-8e96-443f-91c5-8284fc21df1c",
   "metadata": {},
   "outputs": [
    {
     "name": "stdout",
     "output_type": "stream",
     "text": [
      "The correlation between two observations in the same cluster is 0.013\n"
     ]
    }
   ],
   "source": [
    "# Again, we refine the model and introduce other variables that might explain the outcome\n",
    "# That way, the ICC is more accurate\n",
    "# C(RIDRETH1): 5 levels of ethnicity; C() convertes integers to categorical levels\n",
    "model = sm.GEE.from_formula(\"BPXSY1 ~ RIDAGEYR + RIAGENDRx + BMXBMI + C(RIDRETH1)\",\n",
    "           groups=\"group\",\n",
    "           cov_struct=sm.cov_struct.Exchangeable(), data=da)\n",
    "result = model.fit()\n",
    "print(result.cov_struct.summary())"
   ]
  },
  {
   "cell_type": "markdown",
   "id": "7712bd6c-2266-4c8a-a6f7-b9f949ea38e7",
   "metadata": {},
   "source": [
    "## 2. Marginal Models with Dependent Data"
   ]
  },
  {
   "cell_type": "markdown",
   "id": "89fc6c7c-840f-4cc0-9c48-6c972cb0746e",
   "metadata": {},
   "source": [
    "### 2.1 Marginal Model for Linear Regression and Comparison with OLS"
   ]
  },
  {
   "cell_type": "markdown",
   "id": "827a81ef-5f4a-40d5-850e-1e898484a729",
   "metadata": {},
   "source": [
    "If we have dependent data and we use ordinary linear models (i.e., not multi-level or marginal models), the mean parameters or coefficients will be correct, but the standard errors won't be correct. Thus, the significances of the parameters will be wrong. Therefore, GEE should be used to fit dependent data with continuous outcomes instead of OLS."
   ]
  },
  {
   "cell_type": "code",
   "execution_count": 39,
   "id": "09beeb9e-c25e-4c21-906a-65307225dad3",
   "metadata": {},
   "outputs": [],
   "source": [
    "# Fit a linear model with OLS\n",
    "model1 = sm.OLS.from_formula(\"BPXSY1 ~ RIDAGEYR + RIAGENDRx + BMXBMI + C(RIDRETH1)\",\n",
    "           data=da)\n",
    "result1 = model1.fit()"
   ]
  },
  {
   "cell_type": "code",
   "execution_count": 40,
   "id": "ff73d347-d1b7-4c19-aace-5319bcd60423",
   "metadata": {},
   "outputs": [],
   "source": [
    "# Fit a marginal linear model using GEE to handle dependent data\n",
    "model2 = sm.GEE.from_formula(\"BPXSY1 ~ RIDAGEYR + RIAGENDRx + BMXBMI + C(RIDRETH1)\",\n",
    "           groups=\"group\",\n",
    "           cov_struct=sm.cov_struct.Exchangeable(), data=da)\n",
    "result2 = model2.fit()"
   ]
  },
  {
   "cell_type": "code",
   "execution_count": 41,
   "id": "804eea5a-92ae-49d6-a448-0587f9a57c48",
   "metadata": {},
   "outputs": [
    {
     "name": "stdout",
     "output_type": "stream",
     "text": [
      "                   OLS_params    OLS_SE  GEE_params    GEE_SE\n",
      "Intercept           91.736583  1.339378   92.168530  1.384309\n",
      "RIAGENDRx[T.Male]    3.671294  0.453763    3.650245  0.454498\n",
      "C(RIDRETH1)[T.2]     0.855488  0.819486    0.159296  0.767025\n",
      "C(RIDRETH1)[T.3]    -1.796132  0.671954   -2.233280  0.760228\n",
      "C(RIDRETH1)[T.4]     3.813314  0.732355    3.105654  0.881580\n",
      "C(RIDRETH1)[T.5]    -0.455347  0.808948   -0.439831  0.813675\n",
      "RIDAGEYR             0.478699  0.012901    0.474101  0.018493\n",
      "BMXBMI               0.278015  0.033285    0.280205  0.038553\n"
     ]
    }
   ],
   "source": [
    "# Create dataframe which contains model parameters and standard errors\n",
    "# Linear regression: OLS vs GEE (assuming dependent data)\n",
    "x = pd.DataFrame({\"OLS_params\": result1.params, \"OLS_SE\": result1.bse,\n",
    "                  \"GEE_params\": result2.params, \"GEE_SE\": result2.bse})\n",
    "x = x[[\"OLS_params\", \"OLS_SE\", \"GEE_params\", \"GEE_SE\"]]\n",
    "print(x)"
   ]
  },
  {
   "cell_type": "markdown",
   "id": "e68acc81-b70a-41dc-880e-dfabac70920d",
   "metadata": {},
   "source": [
    "### 2.2 Marginal Model for Logistic Regression and Comparison with GLM"
   ]
  },
  {
   "cell_type": "markdown",
   "id": "3a9a974b-f3d3-4b64-bddb-b5a572b3ddbe",
   "metadata": {},
   "source": [
    "Similarly as before, GEE should be used to fit dependent data with binary outcomes instead of GLM."
   ]
  },
  {
   "cell_type": "code",
   "execution_count": 42,
   "id": "e85c31ae-3e5c-4a4e-9900-a06aa3fdd38f",
   "metadata": {},
   "outputs": [],
   "source": [
    "# Relabel the levels, convert rare categories to missing.\n",
    "da[\"DMDEDUC2x\"] = da.DMDEDUC2.replace({1: \"lt9\", 2: \"x9_11\", 3: \"HS\", 4: \"SomeCollege\",\n",
    "                                       5: \"College\", 7: np.nan, 9: np.nan})"
   ]
  },
  {
   "cell_type": "code",
   "execution_count": 43,
   "id": "7f5f8502-0cd2-4f54-b772-dbcde398a2e6",
   "metadata": {},
   "outputs": [
    {
     "data": {
      "text/html": [
       "<table class=\"simpletable\">\n",
       "<caption>Generalized Linear Model Regression Results</caption>\n",
       "<tr>\n",
       "  <th>Dep. Variable:</th>          <td>smq</td>       <th>  No. Observations:  </th>  <td>  5093</td> \n",
       "</tr>\n",
       "<tr>\n",
       "  <th>Model:</th>                  <td>GLM</td>       <th>  Df Residuals:      </th>  <td>  5086</td> \n",
       "</tr>\n",
       "<tr>\n",
       "  <th>Model Family:</th>        <td>Binomial</td>     <th>  Df Model:          </th>  <td>     6</td> \n",
       "</tr>\n",
       "<tr>\n",
       "  <th>Link Function:</th>         <td>logit</td>      <th>  Scale:             </th> <td>  1.0000</td>\n",
       "</tr>\n",
       "<tr>\n",
       "  <th>Method:</th>                <td>IRLS</td>       <th>  Log-Likelihood:    </th> <td> -3201.2</td>\n",
       "</tr>\n",
       "<tr>\n",
       "  <th>Date:</th>            <td>Wed, 30 Mar 2022</td> <th>  Deviance:          </th> <td>  6402.4</td>\n",
       "</tr>\n",
       "<tr>\n",
       "  <th>Time:</th>                <td>17:11:23</td>     <th>  Pearson chi2:      </th> <td>5.10e+03</td>\n",
       "</tr>\n",
       "<tr>\n",
       "  <th>No. Iterations:</th>          <td>4</td>        <th>                     </th>     <td> </td>   \n",
       "</tr>\n",
       "<tr>\n",
       "  <th>Covariance Type:</th>     <td>nonrobust</td>    <th>                     </th>     <td> </td>   \n",
       "</tr>\n",
       "</table>\n",
       "<table class=\"simpletable\">\n",
       "<tr>\n",
       "               <td></td>                  <th>coef</th>     <th>std err</th>      <th>z</th>      <th>P>|z|</th>  <th>[0.025</th>    <th>0.975]</th>  \n",
       "</tr>\n",
       "<tr>\n",
       "  <th>Intercept</th>                   <td>   -2.3060</td> <td>    0.114</td> <td>  -20.174</td> <td> 0.000</td> <td>   -2.530</td> <td>   -2.082</td>\n",
       "</tr>\n",
       "<tr>\n",
       "  <th>RIAGENDRx[T.Male]</th>           <td>    0.9096</td> <td>    0.060</td> <td>   15.118</td> <td> 0.000</td> <td>    0.792</td> <td>    1.028</td>\n",
       "</tr>\n",
       "<tr>\n",
       "  <th>C(DMDEDUC2x)[T.HS]</th>          <td>    0.9434</td> <td>    0.090</td> <td>   10.521</td> <td> 0.000</td> <td>    0.768</td> <td>    1.119</td>\n",
       "</tr>\n",
       "<tr>\n",
       "  <th>C(DMDEDUC2x)[T.SomeCollege]</th> <td>    0.8322</td> <td>    0.084</td> <td>    9.865</td> <td> 0.000</td> <td>    0.667</td> <td>    0.998</td>\n",
       "</tr>\n",
       "<tr>\n",
       "  <th>C(DMDEDUC2x)[T.lt9]</th>         <td>    0.2662</td> <td>    0.109</td> <td>    2.438</td> <td> 0.015</td> <td>    0.052</td> <td>    0.480</td>\n",
       "</tr>\n",
       "<tr>\n",
       "  <th>C(DMDEDUC2x)[T.x9_11]</th>       <td>    1.0986</td> <td>    0.107</td> <td>   10.296</td> <td> 0.000</td> <td>    0.889</td> <td>    1.308</td>\n",
       "</tr>\n",
       "<tr>\n",
       "  <th>RIDAGEYR</th>                    <td>    0.0183</td> <td>    0.002</td> <td>   10.582</td> <td> 0.000</td> <td>    0.015</td> <td>    0.022</td>\n",
       "</tr>\n",
       "</table>"
      ],
      "text/plain": [
       "<class 'statsmodels.iolib.summary.Summary'>\n",
       "\"\"\"\n",
       "                 Generalized Linear Model Regression Results                  \n",
       "==============================================================================\n",
       "Dep. Variable:                    smq   No. Observations:                 5093\n",
       "Model:                            GLM   Df Residuals:                     5086\n",
       "Model Family:                Binomial   Df Model:                            6\n",
       "Link Function:                  logit   Scale:                          1.0000\n",
       "Method:                          IRLS   Log-Likelihood:                -3201.2\n",
       "Date:                Wed, 30 Mar 2022   Deviance:                       6402.4\n",
       "Time:                        17:11:23   Pearson chi2:                 5.10e+03\n",
       "No. Iterations:                     4                                         \n",
       "Covariance Type:            nonrobust                                         \n",
       "===============================================================================================\n",
       "                                  coef    std err          z      P>|z|      [0.025      0.975]\n",
       "-----------------------------------------------------------------------------------------------\n",
       "Intercept                      -2.3060      0.114    -20.174      0.000      -2.530      -2.082\n",
       "RIAGENDRx[T.Male]               0.9096      0.060     15.118      0.000       0.792       1.028\n",
       "C(DMDEDUC2x)[T.HS]              0.9434      0.090     10.521      0.000       0.768       1.119\n",
       "C(DMDEDUC2x)[T.SomeCollege]     0.8322      0.084      9.865      0.000       0.667       0.998\n",
       "C(DMDEDUC2x)[T.lt9]             0.2662      0.109      2.438      0.015       0.052       0.480\n",
       "C(DMDEDUC2x)[T.x9_11]           1.0986      0.107     10.296      0.000       0.889       1.308\n",
       "RIDAGEYR                        0.0183      0.002     10.582      0.000       0.015       0.022\n",
       "===============================================================================================\n",
       "\"\"\""
      ]
     },
     "execution_count": 43,
     "metadata": {},
     "output_type": "execute_result"
    }
   ],
   "source": [
    "# Fit a basic GLM\n",
    "model1 = sm.GLM.from_formula(\"smq ~ RIDAGEYR + RIAGENDRx + C(DMDEDUC2x)\",\n",
    "           family=sm.families.Binomial(), data=da)\n",
    "result1 = model1.fit()\n",
    "result1.summary()"
   ]
  },
  {
   "cell_type": "code",
   "execution_count": 44,
   "id": "eadd440b-9124-42eb-b649-8fd664d00a50",
   "metadata": {},
   "outputs": [],
   "source": [
    "# Fit a marginal GLM using GEE\n",
    "model2 = sm.GEE.from_formula(\"smq ~ RIDAGEYR + RIAGENDRx + C(DMDEDUC2x)\",\n",
    "           groups=\"group\", family=sm.families.Binomial(),\n",
    "           cov_struct=sm.cov_struct.Exchangeable(), data=da)\n",
    "result2 = model2.fit(start_params=result1.params)"
   ]
  },
  {
   "cell_type": "code",
   "execution_count": 46,
   "id": "dac907e9-0ff2-4b6f-a148-35b844fbc5fd",
   "metadata": {},
   "outputs": [
    {
     "name": "stdout",
     "output_type": "stream",
     "text": [
      "                             GLM_params    GLM_SE  GEE_params    GEE_SE\n",
      "Intercept                     -2.305999  0.114308   -2.249820  0.140567\n",
      "RIAGENDRx[T.Male]              0.909597  0.060167    0.908682  0.062342\n",
      "C(DMDEDUC2x)[T.HS]             0.943364  0.089663    0.887965  0.095397\n",
      "C(DMDEDUC2x)[T.SomeCollege]    0.832227  0.084361    0.771636  0.104449\n",
      "C(DMDEDUC2x)[T.lt9]            0.266228  0.109183    0.321784  0.141327\n",
      "C(DMDEDUC2x)[T.x9_11]          1.098561  0.106697    1.062149  0.138401\n",
      "RIDAGEYR                       0.018257  0.001725    0.017416  0.001803\n"
     ]
    }
   ],
   "source": [
    "# Create dataframe which contains model parameters and standard errors\n",
    "# Logistic regression: GLM vs GEE (assuming dependent data)\n",
    "x = pd.DataFrame({\"GLM_params\": result1.params, \"GLM_SE\": result1.bse,\n",
    "                  \"GEE_params\": result2.params, \"GEE_SE\": result2.bse})\n",
    "x = x[[\"GLM_params\", \"GLM_SE\", \"GEE_params\", \"GEE_SE\"]]\n",
    "print(x)"
   ]
  },
  {
   "cell_type": "code",
   "execution_count": null,
   "id": "4c446890-a56e-4fda-85b4-71dff6be0a51",
   "metadata": {},
   "outputs": [],
   "source": []
  }
 ],
 "metadata": {
  "kernelspec": {
   "display_name": "Python 3 (ipykernel)",
   "language": "python",
   "name": "python3"
  },
  "language_info": {
   "codemirror_mode": {
    "name": "ipython",
    "version": 3
   },
   "file_extension": ".py",
   "mimetype": "text/x-python",
   "name": "python",
   "nbconvert_exporter": "python",
   "pygments_lexer": "ipython3",
   "version": "3.7.11"
  }
 },
 "nbformat": 4,
 "nbformat_minor": 5
}
