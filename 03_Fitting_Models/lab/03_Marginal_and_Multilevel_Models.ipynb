{
 "cells": [
  {
   "cell_type": "markdown",
   "id": "20054461-560b-4247-b8a8-72da9c025703",
   "metadata": {},
   "source": [
    "# Multi-level and Marginal Models - Linear and Logistic Regression"
   ]
  },
  {
   "cell_type": "code",
   "execution_count": null,
   "id": "f2c7efaa-e5c8-4a21-93fc-450bd326dca0",
   "metadata": {},
   "outputs": [],
   "source": []
  }
 ],
 "metadata": {
  "kernelspec": {
   "display_name": "Python 3 (ipykernel)",
   "language": "python",
   "name": "python3"
  },
  "language_info": {
   "codemirror_mode": {
    "name": "ipython",
    "version": 3
   },
   "file_extension": ".py",
   "mimetype": "text/x-python",
   "name": "python",
   "nbconvert_exporter": "python",
   "pygments_lexer": "ipython3",
   "version": "3.7.11"
  }
 },
 "nbformat": 4,
 "nbformat_minor": 5
}
